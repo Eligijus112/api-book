{
 "cells": [
  {
   "cell_type": "markdown",
   "metadata": {},
   "source": [
    "# Docker in production \n",
    "\n",
    "In this section, we will use Docker to create an image which can be used to spawn a container that serves the \"root calculating\" API. \n",
    "\n",
    "The main logic is the same as in the previous section, but we wrap everything up in a Docker container: \n",
    "\n",
    "![gunicorn-docker](media/docker-container.png)\n",
    "\n",
    "The main technology here is the docker engine, which builds images and runs containers. The API code inside the container is the same as in the previous section. What is needed from a developer is to create a `Dockerfile` that is used for image nad container creation. \n",
    "\n",
    "Having that, we can spawn our containers inside any machine that has Docker installed. \n",
    "\n",
    "# Dockerfile \n",
    "\n",
    "The Dockerfile that creates the image is located in the same directory as the API code. The steps of creating the image are:"
   ]
  },
  {
   "cell_type": "code",
   "execution_count": 2,
   "metadata": {},
   "outputs": [
    {
     "name": "stdout",
     "output_type": "stream",
     "text": [
      "# Base image. We will use the Ubuntu base image and populate it \n",
      "FROM ubuntu:20.04 \n",
      "\n",
      "# Updating all the base packages and installing python and pip \n",
      "RUN apt-get update && apt-get install -y python3-pip\n",
      "\n",
      "# Installing supervisor to manage the API processes\n",
      "RUN apt-get install -y supervisor\n",
      "\n",
      "# Creating the working directory **inside** the container. All the subsequent commands will be executed in this directory. \n",
      "WORKDIR /app\n",
      "\n",
      "# Copying the requirements.txt file to the container. The . means that copy everything to the current WORKDIR (which is /app) \n",
      "COPY requirements.txt .\n",
      "\n",
      "# Installing every package in the requirements.txt file\n",
      "RUN pip3 install -r requirements.txt\n",
      "\n",
      "# Copying over the code to the container\n",
      "COPY get_n_root.py .\n",
      "\n",
      "# Copying the configuration for the supervisor process \n",
      "COPY gunicorn_config.conf /etc/supervisor/conf.d/gunicorn_config.conf\n",
      "\n",
      "# Running the gunicorn process\n",
      "CMD [\"/usr/bin/supervisord\", \"-c\", \"/etc/supervisor/supervisord.conf\"]"
     ]
    }
   ],
   "source": [
    "!cat gunicorn-api-example/Dockerfile"
   ]
  },
  {
   "cell_type": "markdown",
   "metadata": {},
   "source": [
    "To build the image with the name `root_api` use the command (run in the directory with the Dockerfile):\n",
    "\n",
    "```\n",
    "docker build -t root_api .\n",
    "```\n",
    "\n",
    "To spin up the container, use the command: \n",
    "\n",
    "```\n",
    "docker run root_api\n",
    "```\n",
    "\n",
    "The output from the terminal should look like: \n",
    "\n",
    "```\n",
    "...\n",
    "2021-12-25 10:43:24,742 INFO supervisord started with pid 1\n",
    "2021-12-25 10:43:25,745 INFO spawned: 'gunicorn_api' with pid 8\n",
    "2021-12-25 10:43:27,089 INFO success: gunicorn_api entered RUNNING state, process has stayed up for > than 1 seconds (startsecs)\n",
    "```\n",
    "\n",
    "This means that inside the container, the API is running on localhost:8000 and is ready to accept requests. \n",
    "\n",
    "But querying the API via http://localhost:8900/root?number=25&n=0.86 will produce an error: \"The site cannot be reached\". "
   ]
  },
  {
   "cell_type": "markdown",
   "metadata": {},
   "source": [
    "# Setting up the ports \n",
    "\n",
    "By default, docker does not open up any ports so no request can come in. Previously, when we tried to access the localhost:8900 we got an error. This is because no program is listening on the port. What we need to do is to: \n",
    "\n",
    "* Say to to the container to listen to port 8900. \n",
    "* Reroute everything that comes through the port 8900 to the program running `inside` the container on port 8900.\n",
    "\n",
    "Keep note that we can choose any free port both on the local machine and inside the container. \n",
    "\n",
    "![gunicorn-docker](media/port-linking.png)\n",
    "\n",
    "To enable the above schema, we need to add the `-p` parameter to the `docker run` command: \n",
    "\n",
    "```\n",
    "docker run -p 8900:8900 root_api\n",
    "```\n",
    "\n",
    "Now, if we query the API via http://localhost:8900/root?number=25&n=0.86, we should get the correct results: \n",
    "\n",
    "```\n",
    "{\"root\":15.93046333819077}\n",
    "```\n",
    "\n",
    "The high level flow of the request: \n",
    "\n",
    "1.) The request comes in to the localhost's port 8900. \n",
    "\n",
    "2.) The docker container is instructed to listen to that port and redirect the request to the internal port 8900 of the container.\n",
    "\n",
    "3.) Internally, the gunicorn API is binded to port 8900 that handles the request logic. \n",
    "\n",
    "4.) The response is sent back to the original client.  "
   ]
  },
  {
   "cell_type": "markdown",
   "metadata": {},
   "source": [
    "# Whats next?\n",
    "\n",
    "The above API is very simple but the concept of using Docker, opening ports and using supervisor, Gunicorn and FastAPI can be generalized to very complex and big applications.\n",
    "\n",
    "Before creating our final machine learning API, we need to talk about a few more concepts. One of the most crucial subjects is the user authentification which can use our API. "
   ]
  }
 ],
 "metadata": {
  "interpreter": {
   "hash": "702d029752c7c667e866081f4be82ec9765259a2e8484bced05e549319c2e426"
  },
  "kernelspec": {
   "display_name": "Python 3.8.10 64-bit ('api_book': venv)",
   "language": "python",
   "name": "python3"
  },
  "language_info": {
   "codemirror_mode": {
    "name": "ipython",
    "version": 3
   },
   "file_extension": ".py",
   "mimetype": "text/x-python",
   "name": "python",
   "nbconvert_exporter": "python",
   "pygments_lexer": "ipython3",
   "version": "3.8.10"
  },
  "orig_nbformat": 4
 },
 "nbformat": 4,
 "nbformat_minor": 2
}
