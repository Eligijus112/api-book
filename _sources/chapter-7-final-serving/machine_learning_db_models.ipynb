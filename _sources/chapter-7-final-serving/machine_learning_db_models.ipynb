{
 "cells": [
  {
   "cell_type": "markdown",
   "metadata": {},
   "source": [
    "# ML database models \n",
    "\n",
    "Now that we have ways to handle users and a created machine learning model, we need a couple of more tables in our database to log the inputs to our model and the outputs that our model produces. \n",
    "\n",
    "For this, we will create two new database tables:\n",
    "\n",
    "`requests` - logs the requests to the ML API. \n",
    "\n",
    "`responses` - logs the responses from the ML API.\n",
    "\n",
    "The full Python code to generate them: "
   ]
  },
  {
   "cell_type": "code",
   "execution_count": 1,
   "metadata": {},
   "outputs": [
    {
     "name": "stdout",
     "output_type": "stream",
     "text": [
      "# ORM functions for the database \n",
      "from sqlalchemy.orm import declarative_base\n",
      "\n",
      "# Model creation \n",
      "from sqlalchemy import Column, Integer, DateTime, JSON, ForeignKey\n",
      "\n",
      "# Dates and times\n",
      "import datetime\n",
      "\n",
      "# Users\n",
      "from Users import User\n",
      "\n",
      "# Initiating the Base class\n",
      "Base = declarative_base()\n",
      "\n",
      "\n",
      "class Requests(Base):\n",
      "    # Table name in database\n",
      "    __tablename__ = 'requests'\n",
      "    \n",
      "    # If any changes are made to the columns, allow the database to know about it\n",
      "    __table_args__ = {'extend_existing': True} \n",
      "\n",
      "    # Database columns\n",
      "    id = Column(Integer, primary_key=True)\n",
      "    user_id = Column(Integer, ForeignKey(User.id))\n",
      "    input = Column(JSON)\n",
      "    created_datetime = Column(DateTime)\n",
      "    updated_datetime = Column(DateTime)\n",
      "\n",
      "    def __init__(\n",
      "        self,\n",
      "        user_id: int, \n",
      "        input: JSON\n",
      "        ):\n",
      "        # Infering the time of creation \n",
      "        _cur_time = datetime.datetime.now()\n",
      "\n",
      "        # Variables for the object\n",
      "        self.user_id = user_id\n",
      "        self.input = input\n",
      "        self.created_datetime = _cur_time\n",
      "        self.updated_datetime = _cur_time\n",
      "\n",
      "\n",
      "class Response(Base):\n",
      "    # Table name in database\n",
      "    __tablename__ = 'responses'\n",
      "    \n",
      "    # If any changes are made to the columns, allow the database to know about it\n",
      "    __table_args__ = {'extend_existing': True} \n",
      "\n",
      "    # Database columns\n",
      "    id = Column(Integer, primary_key=True)\n",
      "    request_id = Column(Integer, ForeignKey('requests.id'))\n",
      "    output = Column(JSON)\n",
      "    created_datetime = Column(DateTime)\n",
      "    updated_datetime = Column(DateTime)\n",
      "\n",
      "    def __init__(\n",
      "        self,\n",
      "        request_id: int, \n",
      "        output: JSON\n",
      "        ):\n",
      "        # Infering the time of creation \n",
      "        _cur_time = datetime.datetime.now()\n",
      "\n",
      "        # Variables for the object\n",
      "        self.request_id = request_id\n",
      "        self.output = output\n",
      "        self.created_datetime = _cur_time\n",
      "        self.updated_datetime = _cur_time\n"
     ]
    }
   ],
   "source": [
    "!cat ML_API/MLDB.py"
   ]
  },
  {
   "cell_type": "markdown",
   "metadata": {},
   "source": [
    "`PSQL` can hold a JSON data type in one of the collumns. We will save the what is necesary and used by the API in the `requests` table input `column`. Because we are saving a JSON file, we can be assured that if in the feature the feature inputs for the model changes, we will not have to create or delete any columns in the table. \n",
    "\n",
    "The same logic applies to the `reponses` table - the JSON which will be sent to the user is saved in the `response` column."
   ]
  }
 ],
 "metadata": {
  "interpreter": {
   "hash": "702d029752c7c667e866081f4be82ec9765259a2e8484bced05e549319c2e426"
  },
  "kernelspec": {
   "display_name": "Python 3.8.10 64-bit ('api_book': venv)",
   "language": "python",
   "name": "python3"
  },
  "language_info": {
   "codemirror_mode": {
    "name": "ipython",
    "version": 3
   },
   "file_extension": ".py",
   "mimetype": "text/x-python",
   "name": "python",
   "nbconvert_exporter": "python",
   "pygments_lexer": "ipython3",
   "version": "3.8.10"
  },
  "orig_nbformat": 4
 },
 "nbformat": 4,
 "nbformat_minor": 2
}
