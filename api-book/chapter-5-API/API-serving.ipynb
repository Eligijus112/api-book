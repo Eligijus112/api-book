{
 "cells": [
  {
   "cell_type": "markdown",
   "metadata": {},
   "source": [
    "# API serving using uvicorn\n",
    "\n",
    "In the past chapter, we have created a simple API that can be called from a browser with one endpoint. That one endpoint returned the root of a number.  \n",
    "\n",
    "When we call that endpoint (http://127.0.0.1:8000/root_of_number?number=2), all the transfering of data, waiting for Python calculations, and returning the result, is done by a program called `uvicorn`.\n",
    "\n",
    "As the writers of `uvicorn` say:\n",
    "\n",
    "\"`Uvicorn` is a lightning-fast ASGI server implementation, using **uvloop** and **httptools**\". \n",
    "\n",
    "To read the official documentation of the framework visit: https://www.uvicorn.org/ \n",
    "\n",
    "Programs like `uvicorn`, `gunicorn` and `gevent` are populary termed as API servers (they serve the API requests and response). Reading the definitions and the documentations for the first time, it may not be easy to understand what is an API or what is an ASGI. Before diving deeper and writing more complex programs, it is important to understand the basics of the API server side. \n",
    "\n",
    "# Terminologies of API serving \n",
    "\n",
    "## API server\n",
    "\n",
    "The term `server` is used to describe the server side of an API. The server is the program that is running on the computer that is serving the API requests. `Uvicorn` is an API server that is in runtime on the machine it is started in, receives requests, runs the data from the requests through the user written code and returns the response. Every API server has its own PID on the system. \n",
    "\n",
    "## SYNC vs ASYNC\n",
    "\n",
    "Synchronous (sync) API server is a type of server that sends out a request, waits for all the internal calculations to be completed, and returns the response. The underlying enpoint cannot be accessed while the initial calculations are being made. \n",
    "\n",
    "Asynchronous (async) API server is a type of server that sends out a request, and returns a response immediately. The underlying endpoint can be accessed while the initial calculations are being made. All the calls get queued and the server will process them in the order they were received.\n",
    "\n",
    "## Socket \n",
    "\n",
    "A socket in Linux is a two way communication link between two programs. In the API worlds, the socket is the communication link between the server and the client. \n",
    "\n",
    "Lets assume we are running the API server via the link http://127.0.0.1:8000. The `uvicorn` application automaticaly creates a socket between the **IP** address of 127.0.0.1 (which is the local machine) and port 8000 with any calls to the link. \n",
    "\n",
    "\n",
    "**ASGI** stands for Asynchronous Server Gateway Interface. "
   ]
  },
  {
   "cell_type": "markdown",
   "metadata": {},
   "source": []
  }
 ],
 "metadata": {
  "language_info": {
   "name": "python"
  },
  "orig_nbformat": 4
 },
 "nbformat": 4,
 "nbformat_minor": 2
}
