{
 "cells": [
  {
   "cell_type": "markdown",
   "metadata": {},
   "source": [
    "# API\n",
    "\n",
    "An API is short for Application Programming Interface. It is a set of methods that allows different software parts to interact with each other. The interaction can be done without any internet connection (Windows requests the GPU to render something) or it can be done via the internet (we access our bank account via the internet).\n",
    "\n",
    "The **application** part of the definition refers to various applications that are running on a computer. \n",
    "\n",
    "The **programming** part of the definition refers to the underlying code that is used to implement the interaction between the applications. \n",
    "\n",
    "The **Interface** part of the definition refers to the a set of rules by which computer program interacts. \n",
    "\n",
    "![api-flow-chart](media/api-flow.png)"
   ]
  },
  {
   "cell_type": "markdown",
   "metadata": {},
   "source": [
    "The initial batch of data that is sent from the client to the server/software is called the **request**. \n",
    "\n",
    "A **server** can be any piece of code that runs on a computer. Sometimes, a web server, a database server, a game server, a desktop application, a mobile application, a desktop or mobile game is also called a **server**.\n",
    "\n",
    "Then, an API waits for the data from the software to come in and sends the output of the software back to the user. The output from the piece of software is called the **response**. \n",
    "\n",
    "To put it more mathematically, an API is a function that maps the request to the response: \n",
    "\n",
    "$$API: request \\rightarrow response$$\n",
    "\n",
    "Or \n",
    "\n",
    "$$API(request) = response$$\n",
    "\n",
    "In a machine learning universe, the request is the data that is sent to the machine learning algorithm and the response is the output of the algorithm. Thus the API becomes a function that encompasses all the data preparation, the algorithm itself and returning of the results (in the CT winning case - a probability): \n",
    "\n",
    "$$API(\\mathbb{X}) = \\widehat{\\mathbb{Y}} \\in (0, 1)$$"
   ]
  },
  {
   "cell_type": "markdown",
   "metadata": {},
   "source": []
  }
 ],
 "metadata": {
  "language_info": {
   "name": "python"
  },
  "orig_nbformat": 4
 },
 "nbformat": 4,
 "nbformat_minor": 2
}
