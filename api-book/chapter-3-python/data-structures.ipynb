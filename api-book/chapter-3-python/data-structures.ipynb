{
 "cells": [
  {
   "cell_type": "markdown",
   "metadata": {},
   "source": [
    "# Data structures"
   ]
  },
  {
   "cell_type": "markdown",
   "metadata": {},
   "source": [
    "In programming, a data structure is the organization, management, and storage format of the data in the computer that enables efficient access and modification of it {cite}`wiki:data_structure`. Data structures lets a programmer write a more efficient and readable code. Knowing data structures may reduce the complexity of your program from **O(n)** to **O(1)**!\n",
    "\n",
    "There are popular data structures available accross multiple programming languages like **lists**, **stacks**, **queues**, **dictionaries** and etc. \n",
    "\n",
    "Python is no exception. In this chapter, I will go over the more popular ones used in practise. "
   ]
  },
  {
   "cell_type": "markdown",
   "metadata": {},
   "source": [
    "## List\n",
    "\n",
    "A list is sequence of several variables, grouped together and accesed via one name in the namespace. \n",
    "\n",
    "In Python, a list is defined with square brackets \"[\" and \"]\". Each element in the list is separated by a comma \",\".  \n",
    "\n",
    "To access specific elements in the list we use their index. "
   ]
  },
  {
   "cell_type": "code",
   "execution_count": 60,
   "metadata": {},
   "outputs": [
    {
     "name": "stdout",
     "output_type": "stream",
     "text": [
      "First element in the list 'a': 1; Second: 4; ...\n"
     ]
    }
   ],
   "source": [
    "# A list of all numerics \n",
    "a = [1, 4, 7]\n",
    "\n",
    "# A list of mixed datatypes \n",
    "b = [1, \"1\", True]\n",
    "\n",
    "# Accessing elements\n",
    "print(f\"First element in the list 'a': {a[0]}; Second: {a[1]}; ...\")"
   ]
  },
  {
   "cell_type": "markdown",
   "metadata": {},
   "source": [
    "In Python, lists have several built-in methods{cite}`python:data_structures`. One of the most popular used in practise: "
   ]
  },
  {
   "cell_type": "code",
   "execution_count": 73,
   "metadata": {},
   "outputs": [
    {
     "name": "stdout",
     "output_type": "stream",
     "text": [
      "Initial list:\n",
      "[1, 1, 2, 3]\n",
      "--- append() ---\n",
      "List after appending an element:\n",
      "[1, 1, 2, 3, 5]\n",
      "--- reverse() ---\n",
      "List after reversing it:\n",
      "[5, 3, 2, 1, 1]\n",
      "--- sort() ---\n",
      "Sorted list:\n",
      "[1, 1, 2, 3, 5]\n",
      "--- count() ---\n",
      "Times the number 1 occured in the list: 2\n",
      "Times the number 5 occured in the list: 1\n",
      "Times the number 60 occured in the list: 0\n",
      "--- index() ---\n",
      "The first occurance of element 1 in the list is at index 0\n",
      "The first occurance of element 5 in the list is at index 4\n",
      "There is no element 60 in the list\n"
     ]
    }
   ],
   "source": [
    "# Initializing an empty list\n",
    "a = [1, 1, 2, 3]\n",
    "print(f\"Initial list:\\n{a}\")\n",
    "\n",
    "# Adding an element to the \"back\" of the list (appending to the back)\n",
    "print(f\"--- append() ---\")\n",
    "a.append(5)\n",
    "print(f\"List after appending an element:\\n{a}\")\n",
    "\n",
    "# Reversing a list \n",
    "print(f\"--- reverse() ---\")\n",
    "a.reverse()\n",
    "print(f\"List after reversing it:\\n{a}\")\n",
    "\n",
    "# Sorting the elements; Works the best where all the data types of elements are the same\n",
    "print(f\"--- sort() ---\")\n",
    "a.sort()\n",
    "print(f\"Sorted list:\\n{a}\")\n",
    "\n",
    "# Counting the number of occurance of elements \n",
    "print(f\"--- count() ---\")\n",
    "elements = [1, 5, 60]\n",
    "for element in elements:\n",
    "    n = a.count(element)\n",
    "    print(f\"Times the number {element} occured in the list: {n}\")\n",
    "\n",
    "# Findining the index of certain elements \n",
    "print(f\"--- index() ---\")\n",
    "for element in elements:\n",
    "    try:\n",
    "        print(f\"The first occurance of element {element} in the list is at index {a.index(element)}\")\n",
    "    except ValueError:\n",
    "        print(f\"There is no element {element} in the list\")"
   ]
  },
  {
   "cell_type": "markdown",
   "metadata": {},
   "source": [
    "A list in Python can be created using a list comprehension. List comprehension offers a shorter syntax when you want to create a new list based on the values of an existing list."
   ]
  },
  {
   "cell_type": "code",
   "execution_count": 84,
   "metadata": {},
   "outputs": [
    {
     "name": "stdout",
     "output_type": "stream",
     "text": [
      "Original sequence: [-3, -2, -1, 0, 1, 2, 3]\n",
      "For loop list: [9, 4, 1, 0, 1, 4, 9]\n",
      "List comprehension list: [9, 4, 1, 0, 1, 4, 9]\n"
     ]
    }
   ],
   "source": [
    "# Creating a sequence of numbers and cubing them \n",
    "seq = list(range(-3, 4))\n",
    "print(f\"Original sequence: {seq}\")\n",
    "\n",
    "# Squering using the for loop\n",
    "# Initializing an empty list \n",
    "a = []\n",
    "for element in seq:\n",
    "    a.append(element ** 2)\n",
    "\n",
    "# Squering using list comprehension\n",
    "# Note that an empty list namespace link does not need to be created prior\n",
    "b = [x ** 2 for x in seq]\n",
    "\n",
    "# Printing out the results \n",
    "print(f\"For loop list: {a}\")\n",
    "print(f\"List comprehension list: {b}\")"
   ]
  },
  {
   "cell_type": "markdown",
   "metadata": {},
   "source": [
    "## Dictionary \n",
    "\n",
    "A dictionary is a data type that holds information in *key -> value* pairs. Dictionaries are sometimes found in other languages as **associative memories** or **associative arrays**. Unlike sequences, which are indexed by a range of numbers, dictionaries are indexed by keys, which can be any immutable type. \n",
    "\n",
    "Dictionaries in Python are defined between curly brackets { }.\n",
    "\n",
    "All the keys in the dictionary need be unique. To access a value in the dictionary we must use it's key. "
   ]
  },
  {
   "cell_type": "code",
   "execution_count": 92,
   "metadata": {},
   "outputs": [
    {
     "name": "stdout",
     "output_type": "stream",
     "text": [
      "Initial dictionary: {'person_1': 'Eligijus Bujokas', 'person_2': 'Bligijus Eujokas'}\n",
      "Keys in dictionary: ['person_1', 'person_2']\n",
      "Value of key person_1 is: Eligijus Bujokas\n",
      "Value of key person_2 is: Bligijus Eujokas\n",
      "--- update() ---\n",
      "Updated dictionary: {'person_1': 'Eligijus Bujokas', 'person_2': 'Bligijus Eujokas', 'person_3': 'Sakojub Sujigile'}\n"
     ]
    }
   ],
   "source": [
    "# Defining a dictionary with two keys \n",
    "a = {\n",
    "    \"person_1\": \"Eligijus Bujokas\",\n",
    "    \"person_2\": \"Bligijus Eujokas\"\n",
    "}\n",
    "\n",
    "# Printing out the dictionary \n",
    "print(f\"Initial dictionary: {a}\")\n",
    "\n",
    "# Getting the keys \n",
    "keys = list(a.keys())\n",
    "print(f\"Keys in dictionary: {keys}\")\n",
    "\n",
    "# Accessing the elements of the dictionary\n",
    "print(f\"Value of key {keys[0]} is: {a[keys[0]]}\")\n",
    "print(f\"Value of key {keys[1]} is: {a.get(keys[1])}\")\n",
    "\n",
    "# To update a dictionary, we use the built in update() method\n",
    "print(f\"--- update() ---\")\n",
    "a.update({'person_3': \"Sakojub Sujigile\"})\n",
    "print(f\"Updated dictionary: {a}\")"
   ]
  },
  {
   "cell_type": "markdown",
   "metadata": {},
   "source": [
    "## Set\n",
    "\n",
    "A set in Python is an unordered collection with no duplicate elements. Sets are defined between curly brackets just like dictionaries but do not have a key -> value logic. Each item in a set definition is separated by a comma. Python will only leave unique elements after the initialization. "
   ]
  },
  {
   "cell_type": "code",
   "execution_count": 94,
   "metadata": {},
   "outputs": [
    {
     "name": "stdout",
     "output_type": "stream",
     "text": [
      "Initial set: {'eligijus', 'bujokas'}\n"
     ]
    }
   ],
   "source": [
    "a = {\"eligijus\", \"bujokas\", \"bujokas\"}\n",
    "\n",
    "print(f\"Initial set: {a}\")"
   ]
  },
  {
   "cell_type": "markdown",
   "metadata": {},
   "source": [
    "A very useful functionality with sets in Python is the set operation functionality. We can obtain the intersection, difference and union of two sets. "
   ]
  },
  {
   "cell_type": "code",
   "execution_count": 99,
   "metadata": {},
   "outputs": [
    {
     "name": "stdout",
     "output_type": "stream",
     "text": [
      "Set a: {0, 1, 2, 3, -1, -5, -4, -3, -2}\n",
      "Set b: {0, 1, 2, 3, 4, 5, 6, -1}\n",
      "Intersection of a and b: {0, 1, 2, 3, -1}\n",
      "Difference a - b: {-5, -4, -3, -2}\n",
      "Difference b - a: {4, 5, 6}\n",
      "Union of both sets: {0, 1, 2, 3, 4, 5, 6, -1, -5, -4, -3, -2}\n"
     ]
    }
   ],
   "source": [
    "a = set([x for x in range(-5, 4)])\n",
    "b = set([x for x in range(-1, 7)])\n",
    "\n",
    "print(f\"Set a: {a}\")\n",
    "print(f\"Set b: {b}\")\n",
    "\n",
    "print(f\"Intersection of a and b: {a.intersection(b)}\")\n",
    "print(f\"Difference a - b: {a.difference(b)}\")\n",
    "print(f\"Difference b - a: {b.difference(a)}\")\n",
    "print(f\"Union of both sets: {a.union(b)}\")"
   ]
  },
  {
   "cell_type": "markdown",
   "metadata": {},
   "source": [
    "# Iterators\n",
    "\n",
    "Formaly, an iterator in object oriented programming is an object that has methods that allows to proccess a collection of items one at a time.\n",
    "\n",
    "Informaly, an iterator is an object that can be iterated upon. \n",
    "\n",
    "In Python, an iterator is an object that has two methods: \\_\\_iter_\\_() and \\_\\_next\\_\\_().\n",
    "\n",
    "When we iterate over the object, internaly, Python uses two built in methods - **iter()** and **next()** to traverse the iterator. \n",
    "\n",
    "For example, any list in Python has these methods: "
   ]
  },
  {
   "cell_type": "code",
   "execution_count": 49,
   "metadata": {},
   "outputs": [
    {
     "name": "stdout",
     "output_type": "stream",
     "text": [
      "1\n",
      "1\n",
      "2\n",
      "3\n",
      "5\n",
      "No more elements in the iterrator\n"
     ]
    }
   ],
   "source": [
    "# Defining a list \n",
    "a = [1, 1, 2, 3, 5]\n",
    "\n",
    "# 'Extracting' the iterrator\n",
    "a_iter = a.__iter__()\n",
    "\n",
    "# Listing out all the elements with next \n",
    "print(a_iter.__next__())\n",
    "print(a_iter.__next__())\n",
    "print(a_iter.__next__())\n",
    "print(a_iter.__next__())\n",
    "print(a_iter.__next__())\n",
    "\n",
    "# The bellow call to the function will rase a StopIteration error\n",
    "try:\n",
    "    a_iter.__next__()\n",
    "except StopIteration:\n",
    "    print(f\"No more elements in the iterrator\")"
   ]
  },
  {
   "cell_type": "markdown",
   "metadata": {},
   "source": [
    "Python has a built in solutions for going over objects which have \\_\\_iter_\\_() and \\_\\_next\\_\\_(): the **for** loop. The built in method will stop at StopIteration error but will throw an error and will strop gracefully."
   ]
  },
  {
   "cell_type": "code",
   "execution_count": 50,
   "metadata": {},
   "outputs": [
    {
     "name": "stdout",
     "output_type": "stream",
     "text": [
      "1\n",
      "1\n",
      "2\n",
      "3\n",
      "5\n"
     ]
    }
   ],
   "source": [
    "for item in a:\n",
    "    print(item)"
   ]
  },
  {
   "cell_type": "markdown",
   "metadata": {},
   "source": [
    "To build a custom object which can be iterated we just need to define the \\_\\_iter_\\_() and \\_\\_next\\_\\_() methods."
   ]
  },
  {
   "cell_type": "code",
   "execution_count": 51,
   "metadata": {},
   "outputs": [],
   "source": [
    "class Fibonnaci:\n",
    "    \"\"\"\n",
    "    Class that creates the Fibonaci sequence given of elements n, where n > 2\n",
    "    \"\"\"\n",
    "    def __init__(self, n):\n",
    "        # Initializing an empty list \n",
    "        fib_list = []\n",
    "\n",
    "        # Adding the first two elements to the list\n",
    "        fib_list.append(1)\n",
    "        fib_list.append(1)\n",
    "        if n > 2:\n",
    "            # Iterating over the list to add the next element\n",
    "            for i in range(2, n):\n",
    "                fib_list.append(fib_list[i-1] + fib_list[i-2])\n",
    "        \n",
    "        # Saving the list to memory\n",
    "        self.fib_list = fib_list\n",
    "\n",
    "        # Saving the max number of elements to memory\n",
    "        self.n = n\n",
    "\n",
    "    def __iter__(self):\n",
    "        \"\"\"\n",
    "        Every time this iter method is called, the counter of the current \n",
    "        index is reset to 0.\n",
    "        \"\"\"\n",
    "        self.index = 0\n",
    "        return self\n",
    "    \n",
    "    def __next__(self):\n",
    "        \"\"\"\n",
    "        Returning the element in the list if the index is less than the max number of elements\n",
    "        \"\"\"\n",
    "        if self.index < self.n:\n",
    "            self.index += 1\n",
    "            return self.fib_list[self.index-1]\n",
    "        else:\n",
    "            raise StopIteration        "
   ]
  },
  {
   "cell_type": "code",
   "execution_count": 52,
   "metadata": {},
   "outputs": [
    {
     "name": "stdout",
     "output_type": "stream",
     "text": [
      "[1, 1, 2, 3, 5, 8, 13]\n",
      "1\n",
      "1\n",
      "2\n",
      "3\n",
      "5\n",
      "8\n",
      "13\n"
     ]
    }
   ],
   "source": [
    "# Initiating the Fibonnaci sequence\n",
    "fib = Fibonnaci(7)\n",
    "\n",
    "# Printing out the whole sequence \n",
    "print(fib.fib_list)\n",
    "\n",
    "# Using the iterator to print out the sequence\n",
    "for fib_element in fib:\n",
    "    print(fib_element)"
   ]
  },
  {
   "cell_type": "markdown",
   "metadata": {},
   "source": [
    "# Data structure types "
   ]
  },
  {
   "cell_type": "markdown",
   "metadata": {},
   "source": [
    "## Mutable and non mutable\n",
    "\n",
    "It is popular to put data structures into two buckets: immutable and mutable. \n",
    "\n",
    "An immutable data strucuture is a data structure that, when defined and saved in memory, cannot be changed (**non mutatable**).\n",
    "\n",
    "A mutable data structure is a data structure that, when defined and saved in memory, can be changed (can be **mutated** or changed)"
   ]
  },
  {
   "cell_type": "code",
   "execution_count": 53,
   "metadata": {},
   "outputs": [
    {
     "name": "stdout",
     "output_type": "stream",
     "text": [
      "Initial list: [1, 1, 2, 3, 5, 8, 13, 21, 34, 55, 89]\n",
      "Initial tuple: (1, 1, 2, 3, 5, 8, 13, 21, 34, 55, 89)\n",
      "List after mutation: [1, 1, 2, 3, 5, 8, 13, 21, 34, 55, 89, 144]\n",
      "Tuples are immutable (cannot be changed)\n"
     ]
    }
   ],
   "source": [
    "# Defining a mutable data structure - list \n",
    "a = [1, 1, 2, 3, 5, 8, 13, 21, 34, 55, 89]\n",
    "\n",
    "# Defining an immutable data structure - tuple \n",
    "b = (1, 1, 2, 3, 5, 8, 13, 21, 34, 55, 89)\n",
    "\n",
    "print(f\"Initial list: {a}\")\n",
    "print(f\"Initial tuple: {b}\")\n",
    "\n",
    "# Appending an element to the list\n",
    "a.append(a[-1] + a[-2])\n",
    "\n",
    "# List after mutation\n",
    "print(f\"List after mutation: {a}\")\n",
    "\n",
    "# Appending an element to the tuple\n",
    "try:\n",
    "    b.append(b[-1] + b[-2])\n",
    "except:\n",
    "    print(\"Tuples are immutable (cannot be changed)\")"
   ]
  },
  {
   "cell_type": "markdown",
   "metadata": {},
   "source": [
    "In general, mutable objects are more flexible but more taxing on the computer memory and will decrease performance if the objects become larger and larger. For example, a big list of **n** elements holds **2n** pointers in memory (bits). \n",
    "\n",
    "In contrast, immutable objects are not flexible but are more memory efficient. "
   ]
  },
  {
   "cell_type": "markdown",
   "metadata": {},
   "source": [
    "## Linear and non-linear"
   ]
  },
  {
   "cell_type": "markdown",
   "metadata": {},
   "source": [
    "In linear data structures, the elements are arranged in sequence one after the other. Since elements are arranged in particular order, they can be iterated upon. Common examples maybe **lists** and **tuples**. "
   ]
  },
  {
   "cell_type": "code",
   "execution_count": 54,
   "metadata": {},
   "outputs": [
    {
     "name": "stdout",
     "output_type": "stream",
     "text": [
      "1\n",
      "2\n",
      "3\n",
      "4\n",
      "5\n"
     ]
    },
    {
     "data": {
      "text/plain": [
       "3"
      ]
     },
     "execution_count": 54,
     "metadata": {},
     "output_type": "execute_result"
    }
   ],
   "source": [
    "# Example of a linear data type - tuple\n",
    "a = (1, 2, 3, 4, 5)\n",
    "\n",
    "# Listing out all the items\n",
    "for item in a:\n",
    "    print(item)\n",
    "\n",
    "# Accesing an item by index \n",
    "a[2]"
   ]
  },
  {
   "cell_type": "markdown",
   "metadata": {},
   "source": [
    "In non-linear data structures, the elements in the data structure are not in any sequence. Instead they are arranged in a hierarchical manner where one element will be connected to one or more elements. Common examples are **binary search trees** {cite}`geeks:binary_tree`."
   ]
  },
  {
   "cell_type": "code",
   "execution_count": 55,
   "metadata": {},
   "outputs": [],
   "source": [
    "# A very simple binary tree implementation for storing numbers\n",
    "class Tree:\n",
    "    \"\"\"\n",
    "    Class that implements a binary tree; \n",
    "    Bigger than root elements go to the \"right\";\n",
    "    Smaller than root elements go to the \"left\"; \n",
    "    \"\"\"\n",
    "    def __init__(self, number, level=0):\n",
    "        self.left = None \n",
    "        self.right = None\n",
    "        self.level = level\n",
    "        self.number = number\n",
    "\n",
    "    def insert(self, number):\n",
    "        if number < self.number:\n",
    "            if self.left is None:\n",
    "                self.left = Tree(number, self.level + 1)\n",
    "            else:\n",
    "                self.left.insert(number)\n",
    "        else:\n",
    "            if self.right is None:\n",
    "                self.right = Tree(number, self.level + 1)\n",
    "            else: \n",
    "                self.right.insert(number)\n",
    "\n",
    "    def print_tree(self):\n",
    "        if self.left:\n",
    "            self.left.print_tree()\n",
    "        print(f\"Depth {self.level}|{'--' * self.level}({self.number})\")\n",
    "        if self.right:\n",
    "            self.right.print_tree()"
   ]
  },
  {
   "cell_type": "code",
   "execution_count": 56,
   "metadata": {},
   "outputs": [
    {
     "name": "stdout",
     "output_type": "stream",
     "text": [
      "List [5, 10, 1, 2, 36, -30, -2, 7] (8 elements) representation in a binary tree form:\n",
      "Depth 2|----(-30)\n",
      "Depth 3|------(-2)\n",
      "Depth 1|--(1)\n",
      "Depth 2|----(2)\n",
      "Depth 0|(5)\n",
      "Depth 2|----(7)\n",
      "Depth 1|--(10)\n",
      "Depth 2|----(36)\n"
     ]
    }
   ],
   "source": [
    "# Creating a list of numbers to create the binary tree from \n",
    "a = [5, 10, 1, 2, 36, -30, -2, 7]\n",
    "\n",
    "# Initiating the binary tree; The first element is the root\n",
    "tree = Tree(a[0], 0)\n",
    "\n",
    "# Populating the tree \n",
    "for number in a[1:]:\n",
    "    tree.insert(number)\n",
    "\n",
    "# Printing out the tree\n",
    "print(f\"List {a} ({len(a)} elements) representation in a binary tree form:\")\n",
    "tree.print_tree()"
   ]
  },
  {
   "cell_type": "markdown",
   "metadata": {},
   "source": [
    "The tree organizes its elements into nodes where each node has a reference to the \"right\" and the \"left\" nodes. Each node stores information about it's assigned number. This structure cannot be linearly listed. \n",
    "\n",
    "If we wanted to seach for the the number \"7\" in the above list, we would have to do 8 compare operations (is a[0] equal to 7? is a[1] equal to 7? ...) \n",
    "\n",
    "If we searched for 7 in the tree representation, we would do only 5 compare operations:\n",
    "\n",
    "1) Is 7 == 5? NO \n",
    "2) Is 7 < 5? NO => Go to right node from root.\n",
    "3) is 7 == 10? NO\n",
    "4) Is 7 < 10? YES => Go to left node.  \n",
    "5) Is 7 == 7? YES => Node with the element found.\n",
    "\n",
    "You can imagine that if we would had thousands of numbers, the difference between the comparisons would be even more apparent. "
   ]
  }
 ],
 "metadata": {
  "interpreter": {
   "hash": "702d029752c7c667e866081f4be82ec9765259a2e8484bced05e549319c2e426"
  },
  "kernelspec": {
   "display_name": "Python 3.8.10 64-bit ('api_book': venv)",
   "language": "python",
   "name": "python3"
  },
  "language_info": {
   "codemirror_mode": {
    "name": "ipython",
    "version": 3
   },
   "file_extension": ".py",
   "mimetype": "text/x-python",
   "name": "python",
   "nbconvert_exporter": "python",
   "pygments_lexer": "ipython3",
   "version": "3.8.10"
  },
  "orig_nbformat": 4
 },
 "nbformat": 4,
 "nbformat_minor": 2
}
