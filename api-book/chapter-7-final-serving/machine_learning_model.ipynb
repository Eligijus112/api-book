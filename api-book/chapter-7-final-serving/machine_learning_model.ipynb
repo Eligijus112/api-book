{
 "cells": [
  {
   "cell_type": "markdown",
   "metadata": {},
   "source": [
    "# ML model \n",
    "\n",
    "Now that we have set up user creation and authentification, we need our main selling point - the machine learning model. We will create an ML model that outputs how likely is a person surviving after a heart attack given a set of features {cite}`heart_disease`.\n",
    "\n",
    "The data source can be found here: https://www.kaggle.com/andrewmvd/heart-failure-clinical-data"
   ]
  },
  {
   "cell_type": "markdown",
   "metadata": {},
   "source": [
    "# Python packages "
   ]
  },
  {
   "cell_type": "code",
   "execution_count": 39,
   "metadata": {},
   "outputs": [],
   "source": [
    "# Data wrangling \n",
    "import pandas as pd \n",
    "\n",
    "# Xgboost model \n",
    "import xgboost as xgb\n",
    "\n",
    "# Directory traversal \n",
    "import os\n",
    "\n",
    "# Classifier accuracy\n",
    "from sklearn.metrics import roc_auc_score\n",
    "\n",
    "# Ploting \n",
    "import matplotlib.pyplot as plt\n",
    "\n",
    "# Train test split \n",
    "from sklearn.model_selection import train_test_split\n",
    "\n",
    "# Array math \n",
    "import numpy as np \n",
    "\n",
    "# Model saving \n",
    "import pickle\n",
    "import json\n",
    "\n",
    "# Cross validation split \n",
    "from sklearn.model_selection import KFold\n",
    "\n",
    "# Parameter grid creation \n",
    "from sklearn.model_selection import ParameterGrid"
   ]
  },
  {
   "cell_type": "markdown",
   "metadata": {},
   "source": [
    "# Data input "
   ]
  },
  {
   "cell_type": "code",
   "execution_count": 40,
   "metadata": {},
   "outputs": [
    {
     "name": "stdout",
     "output_type": "stream",
     "text": [
      "Shape of data: (299, 13)\n",
      "Columns:\n",
      "['age' 'anaemia' 'creatinine_phosphokinase' 'diabetes' 'ejection_fraction'\n",
      " 'high_blood_pressure' 'platelets' 'serum_creatinine' 'serum_sodium' 'sex'\n",
      " 'smoking' 'time' 'DEATH_EVENT']\n",
      "Head of data:\n",
      "    age  anaemia  creatinine_phosphokinase  diabetes  ejection_fraction  \\\n",
      "0  75.0        0                       582         0                 20   \n",
      "1  55.0        0                      7861         0                 38   \n",
      "2  65.0        0                       146         0                 20   \n",
      "3  50.0        1                       111         0                 20   \n",
      "4  65.0        1                       160         1                 20   \n",
      "\n",
      "   high_blood_pressure  platelets  serum_creatinine  serum_sodium  sex  \\\n",
      "0                    1  265000.00               1.9           130    1   \n",
      "1                    0  263358.03               1.1           136    1   \n",
      "2                    0  162000.00               1.3           129    1   \n",
      "3                    0  210000.00               1.9           137    1   \n",
      "4                    0  327000.00               2.7           116    0   \n",
      "\n",
      "   smoking  time  DEATH_EVENT  \n",
      "0        0     4            1  \n",
      "1        0     6            1  \n",
      "2        1     7            1  \n",
      "3        0     7            1  \n",
      "4        0     8            1  \n"
     ]
    }
   ],
   "source": [
    "# Input data \n",
    "d = pd.read_csv('ML_API/ml_input/heart_failure_clinical_records_dataset.csv')\n",
    "print(f\"Shape of data: {d.shape}\")\n",
    "\n",
    "# Listing out the columns\n",
    "print(f\"Columns:\\n{d.columns.values}\")\n",
    "\n",
    "# Printing out the head of data \n",
    "print(f\"Head of data:\\n{d.head()}\")"
   ]
  },
  {
   "cell_type": "markdown",
   "metadata": {},
   "source": [
    "## Collumn explanation"
   ]
  },
  {
   "cell_type": "markdown",
   "metadata": {},
   "source": [
    "We will be using the following columns in our model:\n",
    "\n",
    "**DEATH_EVENT** - `boolean` - whether the patient died or not after the heart attack.\n",
    "\n",
    "**age** - `float` - age durring heart attack.\n",
    "\n",
    "**anaemia** - `boolean` - decrease of red blood cells.\n",
    "\n",
    "**creatinine_phosphokinase** - float - level of the CPK enzyme in the blood (mcg/L).\n",
    "\n",
    "**diabetes** - `boolean` - whether the patient has diabetes or not.\n",
    "\n",
    "**ejection_fraction** - `float` - percentage of blood leaving the heart at each contraction (percentage).\n",
    "\n",
    "**high_blood_pressure** - `boolean` - whether the patient has high blood pressure or not.\n",
    "\n",
    "**platelets** - `float` - platelets in the blood (kiloplatelets/mL)\n",
    "\n",
    "**serum_creatinine** - `float` - serum creatinine level (mg/dL).\n",
    "\n",
    "**serum_sodium** - `float` - serum sodium level (mEq/L).\n",
    "\n",
    "**sex** - `boolean` - woman or man (binary).\n",
    "\n",
    "**smoking** - `boolean` - whether the person smoked or not. "
   ]
  },
  {
   "cell_type": "code",
   "execution_count": 41,
   "metadata": {},
   "outputs": [],
   "source": [
    "# Defining the columns and saving for later \n",
    "y_var = 'DEATH_EVENT'\n",
    "\n",
    "# Numerics \n",
    "numeric_columns = [\n",
    "    'age', \n",
    "    'creatinine_phosphokinase',\n",
    "    'ejection_fraction',\n",
    "    'platelets',\n",
    "    'serum_creatinine',\n",
    "    'serum_sodium'\n",
    "]\n",
    "\n",
    "# Categoricals \n",
    "categorical_columns = [\n",
    "    'anaemia',\n",
    "    'diabetes',\n",
    "    'high_blood_pressure',\n",
    "    'sex',\n",
    "    'smoking'\n",
    "]"
   ]
  },
  {
   "cell_type": "markdown",
   "metadata": {},
   "source": [
    "# EDA \n",
    "\n",
    "## Y variable distribution"
   ]
  },
  {
   "cell_type": "code",
   "execution_count": 42,
   "metadata": {},
   "outputs": [
    {
     "data": {
      "text/plain": [
       "Text(0.5, 1.0, 'Distribution of DEATH_EVENT')"
      ]
     },
     "execution_count": 42,
     "metadata": {},
     "output_type": "execute_result"
    },
    {
     "data": {
      "image/png": "[encoded data removed]",
      "text/plain": [
       "<Figure size 432x288 with 1 Axes>"
      ]
     },
     "metadata": {
      "needs_background": "light"
     },
     "output_type": "display_data"
    }
   ],
   "source": [
    "# Distribution of the binary variable\n",
    "counts = d.groupby(y_var, as_index=False).size()\n",
    "counts['distr'] = counts['size'] / counts['size'].sum()\n",
    "\n",
    "# Visualizing the distribution \n",
    "plt.bar(counts['DEATH_EVENT'].astype(str), counts['distr'])\n",
    "plt.xlabel(\"DEATH_EVENT\")\n",
    "plt.ylabel(\"Share of total observations\")\n",
    "plt.title(\"Distribution of DEATH_EVENT\")\n"
   ]
  },
  {
   "cell_type": "markdown",
   "metadata": {},
   "source": [
    "The Y variable classes are not perfectly balanced but we cannot say that they are extremely unbalanced as well (in some cases, one class observations comprise less than 1% of data). \n",
    "\n",
    "In our model, we will not be doing any artificial class balancing. \n",
    "\n",
    "## Numeric feature impact "
   ]
  },
  {
   "cell_type": "code",
   "execution_count": 43,
   "metadata": {},
   "outputs": [
    {
     "data": {
      "image/png": "[encoded data removed]",
      "text/plain": [
       "<Figure size 504x360 with 1 Axes>"
      ]
     },
     "metadata": {
      "needs_background": "light"
     },
     "output_type": "display_data"
    },
    {
     "data": {
      "image/png": "[encoded data removed]",
      "text/plain": [
       "<Figure size 504x360 with 1 Axes>"
      ]
     },
     "metadata": {
      "needs_background": "light"
     },
     "output_type": "display_data"
    },
    {
     "data": {
      "image/png": "[encoded data removed]",
      "text/plain": [
       "<Figure size 504x360 with 1 Axes>"
      ]
     },
     "metadata": {
      "needs_background": "light"
     },
     "output_type": "display_data"
    },
    {
     "data": {
      "image/png": "[encoded data removed]",
      "text/plain": [
       "<Figure size 504x360 with 1 Axes>"
      ]
     },
     "metadata": {
      "needs_background": "light"
     },
     "output_type": "display_data"
    },
    {
     "data": {
      "image/png": "[encoded data removed]",
      "text/plain": [
       "<Figure size 504x360 with 1 Axes>"
      ]
     },
     "metadata": {
      "needs_background": "light"
     },
     "output_type": "display_data"
    },
    {
     "data": {
      "image/png": "[encoded data removed]",
      "text/plain": [
       "<Figure size 504x360 with 1 Axes>"
      ]
     },
     "metadata": {
      "needs_background": "light"
     },
     "output_type": "display_data"
    }
   ],
   "source": [
    "## Numeric feature impact \n",
    "for column in numeric_columns:\n",
    "    plt.figure(figsize=(7, 5))\n",
    "    plt.hist(d.loc[d[y_var] == 0, column], bins=20, alpha=0.5, label='No', density=True)\n",
    "    plt.hist(d.loc[d[y_var] == 1, column], bins=20, alpha=0.5, label='Yes', density=True)\n",
    "\n",
    "    plt.legend()\n",
    "    plt.xlabel(column)\n",
    "    plt.ylabel(\"Distribution\")\n",
    "    plt.title(f\"Distribution of {column} by DEATH_EVENT\")"
   ]
  },
  {
   "cell_type": "markdown",
   "metadata": {},
   "source": [
    "There are no clear separation of classes in either of the numeric features. "
   ]
  },
  {
   "cell_type": "markdown",
   "metadata": {},
   "source": [
    "# Xgboost model \n",
    "\n",
    "We will do a 5 fold cross validation hyperparameter search in order to find the best XGB model. "
   ]
  },
  {
   "cell_type": "code",
   "execution_count": 55,
   "metadata": {},
   "outputs": [
    {
     "name": "stdout",
     "output_type": "stream",
     "text": [
      "Top 10 hyperparameters:\n",
      "  eval_metric  learning_rate  max_depth  min_child_weight  n_estimators  \\\n",
      "0     logloss            0.1          2               0.5            30   \n",
      "1     logloss            0.1          5               1.0            30   \n",
      "2     logloss            0.1          2               1.0            30   \n",
      "3     logloss            0.1          4               1.0            30   \n",
      "4     logloss            0.1          3               0.5            30   \n",
      "5     logloss            0.1          3               1.0            30   \n",
      "6     logloss            0.1          5               1.0            60   \n",
      "7     logloss            0.2          2               1.0            30   \n",
      "8     logloss            0.1          5               0.5            30   \n",
      "9     logloss            0.1          4               0.5            30   \n",
      "\n",
      "   use_label_encoder  mean_auc  \n",
      "0              False    0.7756  \n",
      "1              False    0.7739  \n",
      "2              False    0.7705  \n",
      "3              False    0.7679  \n",
      "4              False    0.7666  \n",
      "5              False    0.7604  \n",
      "6              False    0.7598  \n",
      "7              False    0.7589  \n",
      "8              False    0.7575  \n",
      "9              False    0.7549  \n"
     ]
    }
   ],
   "source": [
    "# Defining the final feature list \n",
    "final_features = numeric_columns + ['sex', 'high_blood_pressure']\n",
    "\n",
    "# Defining a list of hyperparameters \n",
    "hp_dict = {\n",
    "    'n_estimators': [30, 60, 120, 160], \n",
    "    'max_depth': [2, 3, 4, 5], \n",
    "    'learning_rate': [0.1, 0.2, 0.3],\n",
    "    'eval_metric': ['logloss'],\n",
    "    'use_label_encoder': [False],\n",
    "    'min_child_weight': [0.5, 1]\n",
    "}\n",
    "\n",
    "# Creating the parameter grid \n",
    "param_grid = ParameterGrid(hp_dict)\n",
    "\n",
    "# Initiating the empty placeholder for the AUC scores\n",
    "auc_scores = []\n",
    "\n",
    "# Iterating over the parameter grid\n",
    "for params in param_grid:\n",
    "    # Spliting the data into 5 folds \n",
    "    kf = KFold(n_splits=5, shuffle=True, random_state=3)\n",
    "\n",
    "    # Initiating the empty placeholder for the scores\n",
    "    auc_scores_folds = []\n",
    "\n",
    "    # Iterating over the folds\n",
    "    for train_index, test_index in kf.split(d):\n",
    "        # Splitting the data into training and test sets\n",
    "        train, test = d.iloc[train_index], d.iloc[test_index]\n",
    "        \n",
    "        train_X_fold, test_X_fold = train[final_features], test[final_features]\n",
    "        train_y_fold, test_y_fold = train[y_var], test[y_var]\n",
    "\n",
    "        # Creating the XGBoost model \n",
    "        model = xgb.XGBClassifier(**params)\n",
    "\n",
    "        # Fitting the model \n",
    "        model.fit(train_X_fold, train_y_fold)\n",
    "\n",
    "        # Predicting the test set \n",
    "        preds = model.predict_proba(test_X_fold)[:, 1]\n",
    "\n",
    "        # Calculating the AUC score \n",
    "        auc_scores_folds.append(roc_auc_score(test_y_fold, preds))\n",
    "    \n",
    "    # Averaging the scores and appending to the master list \n",
    "    auc_scores.append(np.mean(auc_scores_folds))\n",
    "\n",
    "# Creating the dataframe with the hyperparameters and AUC scores\n",
    "df_scores = pd.DataFrame(param_grid)\n",
    "df_scores['mean_auc'] = [round(x, 3) for x in auc_scores]\n",
    "\n",
    "# Sorting by mean AUC score\n",
    "df_scores = df_scores.sort_values('mean_auc', ascending=False)\n",
    "df_scores.reset_index(drop=True, inplace=True)\n",
    "\n",
    "# Printing the top 10 hyperparameters\n",
    "print(f\"Top 10 hyperparameters:\\n{df_scores.head(10)}\")\n",
    "\n",
    "# Saving the best hyper parameters\n",
    "best_hp = df_scores.iloc[0].to_dict()\n",
    "del best_hp['mean_auc']"
   ]
  },
  {
   "cell_type": "markdown",
   "metadata": {},
   "source": [
    "# Fitting the final model \n",
    "\n",
    "We will be using xgboost as our final model for this project. \n",
    "\n",
    "The final hyperparameters are the top ones from the K-FOLD analysis."
   ]
  },
  {
   "cell_type": "code",
   "execution_count": 51,
   "metadata": {},
   "outputs": [
    {
     "data": {
      "text/plain": [
       "XGBClassifier(base_score=0.5, booster='gbtree', colsample_bylevel=1,\n",
       "              colsample_bynode=1, colsample_bytree=1, enable_categorical=False,\n",
       "              eval_metric='logloss', gamma=0, gpu_id=-1, importance_type=None,\n",
       "              interaction_constraints='', learning_rate=0.1, max_delta_step=0,\n",
       "              max_depth=2, min_child_weight=0.5, missing=nan,\n",
       "              monotone_constraints='()', n_estimators=30, n_jobs=16,\n",
       "              num_parallel_tree=1, predictor='auto', random_state=0,\n",
       "              reg_alpha=0, reg_lambda=1, scale_pos_weight=1, subsample=1,\n",
       "              tree_method='exact', use_label_encoder=False,\n",
       "              validate_parameters=1, verbosity=None)"
      ]
     },
     "execution_count": 51,
     "metadata": {},
     "output_type": "execute_result"
    }
   ],
   "source": [
    "# X and Y for the model \n",
    "X, Y = d[final_features].copy(), d[y_var].values\n",
    "\n",
    "# Fitting the model \n",
    "clf = xgb.XGBClassifier(**best_hp)\n",
    "clf.fit(X, Y)"
   ]
  },
  {
   "cell_type": "code",
   "execution_count": 52,
   "metadata": {},
   "outputs": [
    {
     "data": {
      "image/png": "[encoded data removed]",
      "text/plain": [
       "<Figure size 504x360 with 1 Axes>"
      ]
     },
     "metadata": {
      "needs_background": "light"
     },
     "output_type": "display_data"
    }
   ],
   "source": [
    "# Creating the feature importance frame \n",
    "feature_importance = pd.DataFrame({\n",
    "    'feature': final_features,\n",
    "    'importance': clf.feature_importances_\n",
    "}).sort_values(\"importance\", ascending=True)\n",
    "\n",
    "# Ploting \n",
    "plt.figure(figsize=(7, 5))\n",
    "plt.barh(feature_importance['feature'], feature_importance['importance'])\n",
    "plt.ylabel(\"Feature\")\n",
    "plt.xlabel(\"Importance\")\n",
    "plt.title(\"Feature importance\")\n",
    "plt.show()"
   ]
  },
  {
   "cell_type": "markdown",
   "metadata": {},
   "source": [
    "## Saving all the necessary objects \n",
    "\n",
    "In order to successfuly serve the model, we need to save all the necessary objects. The objects are: \n",
    "\n",
    "* The model itself. \n",
    "* The input data schema. \n",
    "\n",
    "The input data schema will be saved as a dictionary in a JSON file with the following structure: \n",
    "\n",
    "```\n",
    "{\n",
    "    \"input_schema\": {\n",
    "        \"columns\": [\n",
    "            {\n",
    "                \"name\": \"column_name\",\n",
    "                \"type\": \"float\"\n",
    "            },\n",
    "            {\n",
    "                \"name\": \"column_name\",\n",
    "                \"type\": \"float\"\n",
    "            },\n",
    "            ...\n",
    "        ]\n",
    "    }\n",
    "}\n",
    "```\n",
    "\n",
    "The model will be saved as a pickle file as well. "
   ]
  },
  {
   "cell_type": "code",
   "execution_count": 53,
   "metadata": {},
   "outputs": [],
   "source": [
    "# Creating the input schema\n",
    "features = [] \n",
    "for col in X.columns:\n",
    "    if col in numeric_columns:\n",
    "        features.append({\n",
    "            \"name\": col,\n",
    "            \"type\": \"numeric\"\n",
    "        })\n",
    "    else:\n",
    "        features.append({\n",
    "            \"name\": col,\n",
    "            \"type\": \"boolean\"\n",
    "        })\n",
    "\n",
    "input_schema = {\n",
    "    \"input_schema\": {\n",
    "        \"columns\": features\n",
    "    }\n",
    "}\n",
    "\n",
    "# Creating the output dir \n",
    "output_dir = os.path.join(\"ML_API\", \"ml_model\")\n",
    "if not os.path.exists(output_dir):\n",
    "    os.makedirs(output_dir)\n",
    "\n",
    "# Saving the model to a pickle file \n",
    "with open(os.path.join(output_dir, \"model.pkl\"), \"wb\") as f:\n",
    "    pickle.dump(clf, f)\n",
    "\n",
    "# Saving the input schema \n",
    "with open(os.path.join(output_dir, \"input_schema.json\"), \"w\") as f:\n",
    "    json.dump(input_schema, f) "
   ]
  },
  {
   "cell_type": "markdown",
   "metadata": {},
   "source": [
    "Now that we have these files, we can use them in our ML API. When serving machine learning, it is always a good practice to save the input schema as well as the model. The schema will be used to preprocess the incoming data from users and make it ingestable by the model.\n",
    "\n",
    "In the next chapter, we will create more database models and endpoints to serve predictions from our model. "
   ]
  }
 ],
 "metadata": {
  "interpreter": {
   "hash": "702d029752c7c667e866081f4be82ec9765259a2e8484bced05e549319c2e426"
  },
  "kernelspec": {
   "display_name": "Python 3.8.10 64-bit ('api_book': venv)",
   "language": "python",
   "name": "python3"
  },
  "language_info": {
   "codemirror_mode": {
    "name": "ipython",
    "version": 3
   },
   "file_extension": ".py",
   "mimetype": "text/x-python",
   "name": "python",
   "nbconvert_exporter": "python",
   "pygments_lexer": "ipython3",
   "version": "3.8.10"
  },
  "orig_nbformat": 4
 },
 "nbformat": 4,
 "nbformat_minor": 2
}
