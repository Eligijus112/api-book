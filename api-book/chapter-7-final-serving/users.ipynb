{
 "cells": [
  {
   "cell_type": "markdown",
   "metadata": {},
   "source": [
    "# ML users \n",
    "\n",
    "In this chapter we will build the final production grade API to serve machine learning models. We will expand on all the concepts covered so far and augment them. By the end, we will have a fully working API that can be deployed to production.\n",
    "\n",
    "The whole API will be built from the `ML_API/` directory in the current chapter. \n",
    "\n",
    "The first step is to create the user registration, authentification and deletion endpoints. \n",
    "\n",
    "# User registration \n",
    "\n",
    "Just as in the previous chapter, we will create an endpoint that registers a user. This time, we will add a layer of security: we will hash the password before storing it in the database. This is done because we don't want to store plain text passwords in the database in case someone gets access to the database. To decrypt the password one needs to know the `secret key` which is only known to the server.  "
   ]
  }
 ],
 "metadata": {
  "language_info": {
   "name": "python"
  },
  "orig_nbformat": 4
 },
 "nbformat": 4,
 "nbformat_minor": 2
}
