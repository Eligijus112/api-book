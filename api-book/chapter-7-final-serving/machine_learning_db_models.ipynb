{
 "cells": [
  {
   "cell_type": "markdown",
   "metadata": {},
   "source": [
    "# ML database moodels \n",
    "\n",
    "Now that we have ways to handle users and a created machine learning model, we need a couple of more tables in our database to log the inputs to our model and the outputs that our model produces. \n",
    "\n",
    "For this, we will create two new database tables:\n",
    "\n",
    "`requests` - logs the requests to the ML API. \n",
    "\n",
    "`responses` - logs the responses from the ML API."
   ]
  }
 ],
 "metadata": {
  "language_info": {
   "name": "python"
  },
  "orig_nbformat": 4
 },
 "nbformat": 4,
 "nbformat_minor": 2
}
