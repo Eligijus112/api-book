{
 "cells": [
  {
   "cell_type": "markdown",
   "metadata": {},
   "source": [
    "# Python "
   ]
  },
  {
   "cell_type": "markdown",
   "metadata": {},
   "source": [
    "Anecdotally, Python is considered to be **\"the second best language in almost every field of computing.\"**. Due to its versitality, the growth and popularity of this programming language has grown immensly since its first version which was released in 20 February 1991 by Guido van Rossum. As per the PYPL index{cite}`pypl:index`: \n",
    "\n",
    "![popularity-index](media/popularity-index.png)\n",
    "\n",
    "Based on the searched tutorials for a given language, Python is the most popular programming language in the world as of 2021 November.\n",
    "\n",
    "The foundational piece of software to create and serve machine learning models is Python. Every other technology and programs which will be covered in this book acts as \"helpers\" for Python to ingest input from the user and give output."
   ]
  },
  {
   "cell_type": "markdown",
   "metadata": {},
   "source": [
    "## Zen of Python "
   ]
  },
  {
   "cell_type": "markdown",
   "metadata": {},
   "source": [
    "There are rules of programming which every developer should follow, especially when coding with Python. The rules (or the Zen of Python) are{cite}`python:zen`: \n",
    "\n",
    "* Beautiful is better than ugly.\n",
    "* Explicit is better than implicit.\n",
    "* Simple is better than complex.\n",
    "* Complex is better than complicated.\n",
    "* Flat is better than nested.\n",
    "* Sparse is better than dense.\n",
    "* Readability counts.\n",
    "* Special cases aren't special enough to break the rules.\n",
    "* Although practicality beats purity.\n",
    "* Errors should never pass silently.\n",
    "* Unless explicitly silenced.\n",
    "* In the face of ambiguity, refuse the temptation to guess.\n",
    "* There should be one-- and preferably only one --obvious way to do it.\n",
    "* Although that way may not be obvious at first unless you're Dutch.\n",
    "* Now is better than never.\n",
    "* Although never is often better than *right* now.\n",
    "* If the implementation is hard to explain, it's a bad idea.\n",
    "* If the implementation is easy to explain, it may be a good idea.\n",
    "* Namespaces are one honking great idea -- let's do more of those!\n",
    "\n",
    "If you understand all of these concepts and can explain them in simple terms to a non programming friend - congratulations, that is a sign of an experienced developer."
   ]
  },
  {
   "cell_type": "markdown",
   "metadata": {},
   "source": [
    "# What is Python?"
   ]
  },
  {
   "cell_type": "markdown",
   "metadata": {},
   "source": [
    "For a great tutorial about Python please visit the official documentation of Python https://docs.python.org/3/.\n",
    "\n",
    "Python is both a *programming language* and an *interpreter*, depending on the context.\n",
    "\n",
    "A programming language is a language that converts a set of strings into a machine code. A programming language has it's own unique syntax and the way that it converts human readable code to machine readable code. The most essential objective of any programming language is to give instructions to the computer. \n",
    "\n",
    "An example of code in Python syntax is the following: "
   ]
  },
  {
   "cell_type": "code",
   "execution_count": 1,
   "metadata": {},
   "outputs": [
    {
     "name": "stdout",
     "output_type": "stream",
     "text": [
      "The sum of 5.1 and 10.5 is 15.6\n"
     ]
    }
   ],
   "source": [
    "# Definining variables and assigning them values \n",
    "a = 5.1\n",
    "b = 10.5\n",
    "\n",
    "# Defining a function \n",
    "def add(a:float, b:float) -> float:\n",
    "    \"\"\"\n",
    "    Return the sum of a and b\n",
    "    \"\"\"\n",
    "    return a + b\n",
    "\n",
    "# Invoking the function with the two variables \n",
    "print(f\"The sum of {a} and {b} is {add(a, b)}\")"
   ]
  },
  {
   "cell_type": "markdown",
   "metadata": {},
   "source": [
    "In order for my machine to evaluate the code above, **the Python interpreter needs to be installed on my computer**, the code editor which I am working on needs to identify the block to be a Python code snippet and the resources on my computer need to be available. \n",
    "\n",
    "A computer interpreter is a piece of software that translates human readable code to machine code. The phrase **\"installing Python\"** ussualy means downloading, unpacking and registering the Python interpreter to a machine. On a Linux machine, Python ussualy can be found in: \n",
    "\n",
    "```\n",
    "/usr/local/bin\n",
    "```"
   ]
  },
  {
   "cell_type": "markdown",
   "metadata": {},
   "source": [
    "## Python installation "
   ]
  },
  {
   "cell_type": "markdown",
   "metadata": {},
   "source": [
    "In order to install Python on an Ubuntu OS use the command: \n",
    "\n",
    "```\n",
    "sudo apt install -y build-essential libssl-dev libffi-dev python3-dev python3-pip\n",
    "```\n",
    "\n",
    "The above command will install the latest version of Python and the Python package manager called **pip**."
   ]
  },
  {
   "cell_type": "code",
   "execution_count": 2,
   "metadata": {},
   "outputs": [
    {
     "name": "stdout",
     "output_type": "stream",
     "text": [
      "The Python version is 3.8.10 (default, Nov 26 2021, 20:14:08) \n",
      "[GCC 9.3.0]\n"
     ]
    }
   ],
   "source": [
    "# Printing out the Python version in code\n",
    "import sys\n",
    "print(f\"The Python version is {sys.version}\")"
   ]
  },
  {
   "cell_type": "markdown",
   "metadata": {},
   "source": [
    "The **GCC** version is the version of C++ compiler that Python has access to. It uses C++ when converting code to machine instructions."
   ]
  },
  {
   "cell_type": "code",
   "execution_count": 3,
   "metadata": {},
   "outputs": [
    {
     "name": "stdout",
     "output_type": "stream",
     "text": [
      "Python 3.8.10\r\n"
     ]
    }
   ],
   "source": [
    "# Printint out python version on Ubuntu command line \n",
    "!python3 -V"
   ]
  },
  {
   "cell_type": "markdown",
   "metadata": {},
   "source": [
    "## Python process example\n",
    "\n",
    "Let us say we have a piece of code in the file called **script.py**. The contents of the file are:"
   ]
  },
  {
   "cell_type": "code",
   "execution_count": 4,
   "metadata": {},
   "outputs": [
    {
     "name": "stdout",
     "output_type": "stream",
     "text": [
      "# Importing the system module\r\n",
      "from os import system\r\n",
      "\r\n",
      "# Making a ping to google \r\n",
      "system(\"ping -c 5 www.google.com\")"
     ]
    }
   ],
   "source": [
    "!cat scripts/script.py"
   ]
  },
  {
   "cell_type": "markdown",
   "metadata": {},
   "source": [
    "The code in the script sends a very small batch of data to the link \"www.google.com\" and waits for the response. This process is done 5 times. To invoke the process, we can use the command line: \n",
    "\n",
    "```\n",
    "python3 scripts/script.py \n",
    "```\n",
    "\n",
    "A somewhat high level flow of the code is presented in the chart: \n",
    "\n",
    "![python-flow](media/python-flowchart.png)\n",
    "\n",
    "* First, the whole process gets a number (PID) and the CPU procedes with the thread. \n",
    "* The python interpreter converts the human readable code to a machine code and transfers it to the compiler. \n",
    "* The output from the compiler is returned and then then Python converts the output from the machine to human readable code. \n",
    "* When the process is finished, the PID dissapears and nothing is stored in memory or other places in the computer. \n",
    "\n",
    "The process in action:"
   ]
  },
  {
   "cell_type": "code",
   "execution_count": 5,
   "metadata": {},
   "outputs": [
    {
     "name": "stdout",
     "output_type": "stream",
     "text": [
      "PING www.google.com (172.217.16.4) 56(84) bytes of data.\r\n"
     ]
    },
    {
     "name": "stdout",
     "output_type": "stream",
     "text": [
      "64 bytes from waw02s13-in-f4.1e100.net (172.217.16.4): icmp_seq=1 ttl=56 time=35.2 ms\r\n"
     ]
    },
    {
     "name": "stdout",
     "output_type": "stream",
     "text": [
      "64 bytes from waw02s13-in-f4.1e100.net (172.217.16.4): icmp_seq=2 ttl=56 time=35.3 ms\r\n"
     ]
    },
    {
     "name": "stdout",
     "output_type": "stream",
     "text": [
      "64 bytes from waw02s13-in-f4.1e100.net (172.217.16.4): icmp_seq=3 ttl=56 time=35.4 ms\r\n"
     ]
    },
    {
     "name": "stdout",
     "output_type": "stream",
     "text": [
      "64 bytes from waw02s13-in-f4.1e100.net (172.217.16.4): icmp_seq=4 ttl=56 time=35.2 ms\r\n"
     ]
    },
    {
     "name": "stdout",
     "output_type": "stream",
     "text": [
      "64 bytes from waw02s13-in-f4.1e100.net (172.217.16.4): icmp_seq=5 ttl=56 time=35.6 ms\r\n",
      "\r\n",
      "--- www.google.com ping statistics ---\r\n",
      "5 packets transmitted, 5 received, 0% packet loss, time 4005ms\r\n",
      "rtt min/avg/max/mdev = 35.154/35.327/35.564/0.139 ms\r\n"
     ]
    }
   ],
   "source": [
    "!python3 scripts/script.py "
   ]
  },
  {
   "cell_type": "markdown",
   "metadata": {},
   "source": [
    "No matter the complexity of the Python script and the objects it creates, the flow is very similar to all Python processes running on a given machine. \n",
    "\n",
    "This chapter is just a small taste of Python. There are huge frameworks and codes used by millions of users every day which are written in Python. All of the robust and popular packages of Python follow the same guiding programming priciples which will be covered in the next chapter of the book. "
   ]
  }
 ],
 "metadata": {
  "interpreter": {
   "hash": "702d029752c7c667e866081f4be82ec9765259a2e8484bced05e549319c2e426"
  },
  "kernelspec": {
   "display_name": "Python 3.8.10 64-bit ('api_book': venv)",
   "language": "python",
   "name": "python3"
  },
  "language_info": {
   "codemirror_mode": {
    "name": "ipython",
    "version": 3
   },
   "file_extension": ".py",
   "mimetype": "text/x-python",
   "name": "python",
   "nbconvert_exporter": "python",
   "pygments_lexer": "ipython3",
   "version": "3.8.10"
  }
 },
 "nbformat": 4,
 "nbformat_minor": 2
}