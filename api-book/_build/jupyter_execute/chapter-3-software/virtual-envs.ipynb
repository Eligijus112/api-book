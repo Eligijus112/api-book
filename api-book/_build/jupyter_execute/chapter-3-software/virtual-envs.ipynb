{
 "cells": [
  {
   "cell_type": "markdown",
   "metadata": {},
   "source": [
    "# Virtual environments"
   ]
  },
  {
   "cell_type": "markdown",
   "metadata": {},
   "source": [
    "## Introduction"
   ]
  },
  {
   "cell_type": "markdown",
   "metadata": {},
   "source": [
    "From the official documentation of Python{cite}`python:docs`: \n",
    "\n",
    "**\"Python applications will often use packages and modules that don’t come as part of the standard library. Applications will sometimes need a specific version of a library, because the application may require that a particular bug has been fixed or the application may be written using an obsolete version of the library’s interface.** \n",
    "\n",
    "**This means it may not be possible for one Python installation to meet the requirements of every application. If application A needs version 1.0 of a particular module but application B needs version 2.0, then the requirements are in conflict and installing either version 1.0 or 2.0 will leave one application unable to run.** \n",
    "\n",
    "**The solution for this problem is to create a virtual environment, a self-contained directory tree that contains a Python installation for a particular version of Python, plus a number of additional packages. Different applications can then use different virtual environments. To resolve the earlier example of conflicting requirements, application A can have its own virtual environment with version 1.0 installed while application B has another virtual environment with version 2.0. If application B requires a library be upgraded to version 3.0, this will not affect application A’s environment.\"**\n",
    "\n",
    "Throughout this book we will use a library called **virtualenv** to create the virtual environments. It is assummed that Python and pip are installed on a machine. To install virtual environment creation framework in Ubuntu use the command: \n",
    "\n",
    "```\n",
    "pip install virtualenv==20.10.0\n",
    "```\n",
    "\n",
    "Official page of the project: https://virtualenv.pypa.io/en/latest/. "
   ]
  },
  {
   "cell_type": "markdown",
   "metadata": {},
   "source": [
    "## Global Python Interpreter "
   ]
  },
  {
   "cell_type": "markdown",
   "metadata": {},
   "source": [
    "By default, Python interpreter (or just Python) is installed in the directory: \n",
    "\n",
    "```\n",
    "/usr/local/bin\n",
    "```\n",
    "\n",
    "or \n",
    "\n",
    "```\n",
    "/usr/bin\n",
    "```\n",
    "\n",
    "For example, on my machine the full path to the Python interpreter is: \n",
    "\n",
    "```\n",
    "/usr/bin/python3.8\n",
    "```\n",
    "\n",
    "Every time the machine I am working on tries to run a Python a script, it uses that interpreter. Note that the version of that interpreter is **3.8**. \n",
    "\n",
    "The default path for the libraries are via: \n",
    "\n",
    "```\n",
    "/usr/lib/python3.8\n",
    "```\n",
    "\n",
    "To get the full list of installed libraries use the command: \n",
    "\n",
    "```\n",
    "pip freeze\n",
    "```\n",
    "\n",
    "In the default library directory, the command outputs alot of installed packages:\n",
    "\n",
    "```\n",
    "...\n",
    "pyarrow==3.0.0\n",
    "pyasn1==0.4.8\n",
    "pyasn1-modules==0.2.8\n",
    "pycairo==1.16.2\n",
    "pycparser==2.20\n",
    "pycups==1.9.73\n",
    "pydata-google-auth==1.2.0\n",
    "pydot==1.4.1\n",
    "Pygments==2.9.0\n",
    "PyGObject==3.36.0\n",
    "PyJWT==1.7.1\n",
    "pymacaroons==0.13.0\n",
    "PyNaCl==1.3.0\n",
    "pyOpenSSL==19.1.0\n",
    "pyparsing==2.4.7\n",
    "pyRFC3339==1.1\n",
    "...\n",
    "```\n",
    "\n",
    "The numbers after **==** symbolize the version of the package.\n",
    "\n",
    "# Ramen ratings dataset\n",
    "\n",
    "The dataset is taken from https://www.kaggle.com/residentmario/ramen-ratings. The data is about various ramen shops around the world and their ratings. The head of the data: "
   ]
  },
  {
   "cell_type": "code",
   "execution_count": 1,
   "metadata": {},
   "outputs": [
    {
     "name": "stdout",
     "output_type": "stream",
     "text": [
      "Review #,Brand,Variety,Style,Country,Stars,Top Ten\r\n",
      "2580,New Touch,T's Restaurant Tantanmen ,Cup,Japan,3.75,\r\n",
      "2579,Just Way,Noodles Spicy Hot Sesame Spicy Hot Sesame Guan-miao Noodles,Pack,Taiwan,1,\r\n",
      "2578,Nissin,Cup Noodles Chicken Vegetable,Cup,USA,2.25,\r\n",
      "2577,Wei Lih,GGE Ramen Snack Tomato Flavor,Pack,Taiwan,2.75,\r\n",
      "2576,Ching's Secret,Singapore Curry,Pack,India,3.75,\r\n",
      "2575,Samyang Foods,Kimchi song Song Ramen,Pack,South Korea,4.75,\r\n",
      "2574,Acecook,Spice Deli Tantan Men With Cilantro,Cup,Japan,4,\r\n",
      "2573,Ikeda Shoku,Nabeyaki Kitsune Udon,Tray,Japan,3.75,\r\n",
      "2572,Ripe'n'Dry,Hokkaido Soy Sauce Ramen,Pack,Japan,0.25,\r\n"
     ]
    }
   ],
   "source": [
    "!head ramen-ratings/ramen-ratings.csv"
   ]
  },
  {
   "cell_type": "markdown",
   "metadata": {},
   "source": [
    "The objective of the **get_best_ramen.csv** script is to aggregate all the reviews around the world and create a ranking of the best ramen brands, regardless of Country, Style and Variety. \n",
    "\n",
    "The project ramen-ratings/ has two files: the data file and the python script. \n",
    "\n",
    "```\n",
    "├── get_best_ramen.py\n",
    "└── ramen-ratings.csv\n",
    "```\n",
    "The command \n",
    "\n",
    "## Using the Global Interpreter\n",
    "\n",
    "```\n",
    "python3 get_best_ramen.py \n",
    "```\n",
    "\n",
    "will:\n",
    "\n",
    "1) Search for the default Python interpreter, which is **/usr/bin/python3.8**\n",
    "2) When loading all the libraries for the script (*pandas*, *os* and *numpy*), the command will use the default libraries in **/usr/lib/python3.8/**\n",
    "3) Run the script (convert it to machine language, wait for the compiler to respond and print out the input in human readable form) "
   ]
  },
  {
   "cell_type": "code",
   "execution_count": 2,
   "metadata": {},
   "outputs": [
    {
     "name": "stdout",
     "output_type": "stream",
     "text": [
      "Pandas version: 1.2.3\r\n",
      "Numpy version: 1.21.3\r\n"
     ]
    },
    {
     "name": "stdout",
     "output_type": "stream",
     "text": [
      "\r\n",
      "Top 10 best ramen shops:\r\n",
      "       Country                 Brand  Rating\r\n",
      "0        Japan               Torishi     5.0\r\n",
      "1     Malaysia                 Daddy     5.0\r\n",
      "2        Japan              Takamori     5.0\r\n",
      "3          USA  Komforte Chockolates     5.0\r\n",
      "4        India             Patanjali     5.0\r\n",
      "5  South Korea               Foodmon     5.0\r\n",
      "6  South Korea            ChoripDong     5.0\r\n",
      "7    Singapore           Prima Taste     5.0\r\n",
      "8    Singapore                 Prima     5.0\r\n",
      "9    Singapore               MyKuali     5.0\r\n",
      "\r\n",
      "Top 10 worst ramen shops:\r\n",
      "     Country            Brand  Rating\r\n",
      "407   Taiwan        Nan Hsing    0.25\r\n",
      "408    Japan           Mitoku    0.25\r\n",
      "409      USA   Crystal Noodle    0.25\r\n",
      "410      USA           Roland    0.00\r\n",
      "411      USA       US Canning    0.00\r\n",
      "412  Vietnam    Uni-President    0.00\r\n",
      "413      USA  Dr. McDougall's    0.00\r\n",
      "414   Taiwan            Tiger    0.00\r\n",
      "415   Taiwan   Hsin Tung Yang    0.00\r\n",
      "416      USA    One Dish Asia    0.00\r\n"
     ]
    }
   ],
   "source": [
    "!python3 ramen-ratings/get_best_ramen.py"
   ]
  },
  {
   "cell_type": "markdown",
   "metadata": {},
   "source": [
    "As we can see, the script outputed 10 best and 10 worst ramen brands. "
   ]
  },
  {
   "cell_type": "markdown",
   "metadata": {},
   "source": [
    "## Using virtualenv"
   ]
  },
  {
   "cell_type": "markdown",
   "metadata": {},
   "source": [
    "Imagine that a someone else wants to use the script **get_best_ramen.py** on their machine. If any package is missing (mainly, pandas or numpy) or their python version is too old, the script will not work.\n",
    "\n",
    "This is a classic situation of **\"I don't know, worked on my machine\"**. In order to have a robust collaboration, we need to freeze both the Python interpreter and the packages it is using. That is the main usecase of virtualenv!\n",
    "\n",
    "To create an empty environment (with no packages) with a Python version of 3.8 and the environment name of \"ramen_env\", use the command: \n",
    "\n",
    "```\n",
    "virtualenv --python 3.8 ramen_env\n",
    "```\n",
    "\n",
    "The command will create a new directory in the ramen project: \n",
    "\n",
    "```\n",
    "├── get_best_ramen.py\n",
    "├── ramen_env\n",
    "│   ├── bin\n",
    "│   ├── lib\n",
    "│   └── pyvenv.cfg\n",
    "└── ramen-ratings.csv\n",
    "```\n",
    "\n",
    "The two most important directories are ramen_env/bin - interprete directory - and ramen_env/lib - the library path for the virtual environment. \n",
    "\n",
    "To activate the environment use the command: \n",
    "\n",
    "```\n",
    "source ramen_env/bin/activate\n",
    "```\n",
    "\n",
    "The *pip freeze* command will now show no installed packages. It is very encouraged to keep a file to track the package versions. A common file used is **requirements.txt**. To install all the libraries in the file, use the command (**be sure to activate the environment first!**):\n",
    "\n",
    "```\n",
    "pip install -r requirements.txt\n",
    "```\n",
    "\n",
    "Now the command **pip freeze** will output 5 packages (some of the packages are automatically included in pandas and numpy installation):\n",
    "\n",
    "```\n",
    "numpy==1.21.4\n",
    "pandas==1.3.0\n",
    "python-dateutil==2.8.2\n",
    "pytz==2021.3\n",
    "six==1.16.0\n",
    "```\n",
    "\n",
    "Now to use the Python interpreter created by virtualenv and the specific packages of that environment, we can use the command: \n",
    "\n",
    "```\n",
    "<path-to-ramen-project>/ramen_env/bin/python <path-to-ramen-project>/get_best_ramen.py\n",
    "```"
   ]
  },
  {
   "cell_type": "code",
   "execution_count": 3,
   "metadata": {},
   "outputs": [
    {
     "name": "stdout",
     "output_type": "stream",
     "text": [
      "Pandas version: 1.3.0\r\n",
      "Numpy version: 1.21.4\r\n"
     ]
    },
    {
     "name": "stdout",
     "output_type": "stream",
     "text": [
      "\r\n",
      "Top 10 best ramen shops:\r\n",
      "       Country                 Brand  Rating\r\n",
      "0        Japan               Torishi     5.0\r\n",
      "1     Malaysia                 Daddy     5.0\r\n",
      "2        Japan              Takamori     5.0\r\n",
      "3          USA  Komforte Chockolates     5.0\r\n",
      "4        India             Patanjali     5.0\r\n",
      "5  South Korea               Foodmon     5.0\r\n",
      "6  South Korea            ChoripDong     5.0\r\n",
      "7    Singapore           Prima Taste     5.0\r\n",
      "8    Singapore                 Prima     5.0\r\n",
      "9    Singapore               MyKuali     5.0\r\n",
      "\r\n",
      "Top 10 worst ramen shops:\r\n",
      "     Country            Brand  Rating\r\n",
      "407   Taiwan        Nan Hsing    0.25\r\n",
      "408    Japan           Mitoku    0.25\r\n",
      "409      USA   Crystal Noodle    0.25\r\n",
      "410      USA           Roland    0.00\r\n",
      "411      USA       US Canning    0.00\r\n",
      "412  Vietnam    Uni-President    0.00\r\n",
      "413      USA  Dr. McDougall's    0.00\r\n",
      "414   Taiwan            Tiger    0.00\r\n",
      "415   Taiwan   Hsin Tung Yang    0.00\r\n",
      "416      USA    One Dish Asia    0.00\r\n"
     ]
    }
   ],
   "source": [
    "!ramen-ratings/ramen_env/bin/python ramen-ratings/get_best_ramen.py"
   ]
  },
  {
   "cell_type": "markdown",
   "metadata": {},
   "source": [
    "As we can see, the main difference is the outputed package versions: the default python installation uses Pandas 1.2.3 (versus 1.3.0 in the virtual env) and Numpy 1.21.3 (versus 1.24.4)."
   ]
  },
  {
   "cell_type": "markdown",
   "metadata": {},
   "source": [
    "# Summary "
   ]
  },
  {
   "cell_type": "markdown",
   "metadata": {},
   "source": [
    "The term **virtual environment** sounds very fancy but in reality, it is just a location of Python interpreter, reference to its version and the path to the libraries. \n",
    "\n",
    "To create, activate and populate the virtual environment with packages use the bash template: \n",
    "\n",
    "```\n",
    "virtualenv python --version <python version> <name of environment>\n",
    "source <name of environment>/bin/activate\n",
    "pip install -r requirements.txt\n",
    "```\n",
    "\n",
    "To use the enviroment: \n",
    "\n",
    "```\n",
    "python <python script name>.py # If the environment is activated\n",
    "<name of environment>/bin/python <python script name>.py # If the environment is NOT activated\n",
    "```"
   ]
  },
  {
   "cell_type": "markdown",
   "metadata": {},
   "source": []
  }
 ],
 "metadata": {
  "interpreter": {
   "hash": "702d029752c7c667e866081f4be82ec9765259a2e8484bced05e549319c2e426"
  },
  "kernelspec": {
   "display_name": "Python 3.8.10 64-bit ('api_book': venv)",
   "language": "python",
   "name": "python3"
  },
  "language_info": {
   "codemirror_mode": {
    "name": "ipython",
    "version": 3
   },
   "file_extension": ".py",
   "mimetype": "text/x-python",
   "name": "python",
   "nbconvert_exporter": "python",
   "pygments_lexer": "ipython3",
   "version": "3.8.10"
  }
 },
 "nbformat": 4,
 "nbformat_minor": 2
}