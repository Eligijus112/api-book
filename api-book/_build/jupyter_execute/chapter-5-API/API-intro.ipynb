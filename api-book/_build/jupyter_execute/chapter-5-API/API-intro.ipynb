{
 "cells": [
  {
   "cell_type": "markdown",
   "metadata": {},
   "source": [
    "# Application Programming Interface basics\n",
    "\n",
    "An API is short for Application Programming Interface. It is a set of methods that allows different software parts to interact with each other. The interaction can be done without any internet connection (Windows requests the GPU to render something) or it can be done via the internet (we access our bank account via the internet).\n",
    "\n",
    "The **application** part of the definition refers to various applications that are running on a computer. \n",
    "\n",
    "The **programming** part of the definition refers to the underlying code that is used to implement the interaction between the applications. \n",
    "\n",
    "The **Interface** part of the definition refers to the a set of rules by which computer program interacts. \n",
    "\n",
    "![api-flow-chart](media/api-flow.png)"
   ]
  },
  {
   "cell_type": "markdown",
   "metadata": {},
   "source": [
    "The initial batch of data that is sent from the client to the server/software is called the **request**. \n",
    "\n",
    "A **server** can be any piece of code that runs on a computer. Sometimes, a web server, a database server, a game server, a desktop application, a mobile application, a desktop or mobile game is also called a **server**.\n",
    "\n",
    "Then, an API waits for the data from the software to come in and sends the output of the software back to the user. The output from the piece of software is called the **response**. \n",
    "\n",
    "To put it more mathematically, an API is a function that maps the request to the response: \n",
    "\n",
    "$$API: request \\rightarrow response$$\n",
    "\n",
    "Or \n",
    "\n",
    "$$API(request) = response$$\n",
    "\n",
    "In a machine learning universe, the request is the data that is sent to the machine learning algorithm and the response is the output of the algorithm. Thus the API becomes a function that encompasses all the data preparation, the algorithm itself and returning of the results (in the CT winning case - a probability): \n",
    "\n",
    "$$API(\\mathbb{X}) = \\widehat{\\mathbb{Y}} \\in (0, 1)$$"
   ]
  },
  {
   "cell_type": "markdown",
   "metadata": {},
   "source": [
    "# API definitions\n",
    "\n",
    "When developing APIs it is very important to know certain concepts and definitions. This helps immensly when trying to integrate the developed API in other systems. \n",
    "\n",
    "## HTTP methods \n",
    "\n",
    "HTTP stands for hyper text transfer protocol. It is a set of rules that defines how the data is sent from the client to the server. The standart and the most popular methods are:\n",
    "\n",
    "    - GET: request data from the server without altering the underlying resources in any way. \n",
    "    - POST: send data to the server and create a new resource on the server.\n",
    "    - PUT: update data on the server and replace the existing resource.\n",
    "    - DELETE: delete data from the server and remove the resource.\n",
    "\n",
    "The term **resource** is a loose term that refers to any piece of data that is stored on the server: it can be a row in a database, it can be hyper parameters or it can even be a file.\n",
    "\n",
    "To read more about HTTP methods, check out the [Wikipedia article](https://en.wikipedia.org/wiki/Hypertext_Transfer_Protocol#Request_methods).\n",
    "\n",
    "## URL \n",
    "\n",
    "A URL (uniform resource locator) is a string that contains the address of a resource. It is used to identify the resource on the internet. For example, \n",
    "\n",
    "```\n",
    "https://www.google.com\n",
    "```\n",
    "\n",
    "When we type in the above link into our browser, under the hood, a request is sent to the server and we are greeted by the well known homepage of google. \n",
    "\n",
    "## URL query parameters \n",
    "\n",
    "URL query parameters are a defined set of parameters attached to the end of a url. To append query parameters to the end of a URL, use the symbol `?` followed immediately by query parameters:\n",
    "\n",
    "```\n",
    "http://www.example.com?param1=value1\n",
    "```\n",
    "\n",
    "The parameters sent to server in this case is called `param1` and its value is `value1`.\n",
    "\n",
    "To send multiple query parameters, use the `&` symbol to separate them:\n",
    "\n",
    "```\n",
    "http://www.example.com?param1=value1&param2=value2\n",
    "```\n",
    "\n",
    "## RESTful API\n",
    "\n",
    "A RESTful API is an architectural style for an application program interface (API) that uses HTTP requests to access and use data. That data can be used to GET, PUT, POST and DELETE data types, which refers to the reading, updating, creating and deleting of operations concerning resources. \n",
    "\n",
    "As per RedHat documentation `cite`{redhat:rest}: \n",
    "\n",
    "* A client-server architecture made up of clients, servers, and resources, with requests managed through HTTP.\n",
    "* Stateless client-server communication, meaning no client information is stored between get requests and each request is separate and unconnected.\n",
    "* Cacheable data that streamlines client-server interactions.\n",
    "* A uniform interface between components so that information is transferred in a standard form. This requires that:\n",
    "\n",
    "    * resources requested are identifiable and separate from the representations sent to the client.\n",
    "\n",
    "    * resources can be manipulated by the client via the representation they receive because the representation contains enough information to do so.\n",
    "\n",
    "    * self-descriptive messages returned to the client have enough information to describe how the client should process it.\n",
    "\n",
    "    * hypertext/hypermedia is available, meaning that after accessing a resource the client should be able to use hyperlinks to find all other currently available actions they can take.\n",
    "\n",
    "* A layered system that organizes each type of server (those responsible for security, load-balancing, etc.) involved the retrieval of requested information into hierarchies, invisible to the client.\n",
    "\n",
    "## Endpoint\n",
    "\n",
    "An API endpoint is an URL that handles a certain functionality of the API. For example, if we have an API that allows us to get information about a person, we can have an endpoint that handles the GET request for a person:\n",
    "\n",
    "```\n",
    "http://www.example.com/person/1\n",
    "```\n",
    "\n",
    "## Status codes\n",
    "\n",
    "An API status code is a number that is used to indicate the status of the request. The most popular status codes are:\n",
    "\n",
    "    - 200: OK\n",
    "    - 201: Created\n",
    "    - 202: Accepted\n",
    "    - 204: No Content\n",
    "    - 400: Bad Request\n",
    "    - 401: Unauthorized\n",
    "    - 403: Forbidden\n",
    "    - 404: Not Found\n",
    "    - 405: Method Not Allowed\n",
    "    - 409: Conflict\n",
    "    - 415: Unsupported Media Type\n",
    "    - 500: Internal Server Error\n",
    "\n",
    "Any response after a request has, in some format, the field `status code` which indicates for the developer the status of the request.\n",
    "\n",
    "## JSON \n",
    "\n",
    "JSON stands for JavaScript Object Notation. It is a very popular data format that is used to transfer data between a client and a server. The structure of a JSON is a **dictionary**: it is comprised of key-value pairs. For example:\n",
    "\n",
    "```\n",
    "{'data': {'person': {'name': 'John Doe', 'age': '30'}}}\n",
    "```\n",
    "\n",
    "The key `data` stores a value of a dictionary with the key `person` and the value of the key `name` is `John Doe` and the value of the key `age` is `30`."
   ]
  },
  {
   "cell_type": "markdown",
   "metadata": {},
   "source": [
    "# API implementation in Python \n",
    "\n",
    "Right now, Python has 3 major frameworks for implementing APIs: \n",
    "\n",
    "* **Django** \n",
    "* **Flask**\n",
    "* **FastAPI**\n",
    "\n",
    "These frameworks lets you worry about the logic behind certain endpoints and not dealing with server side logic. \n",
    "\n",
    "Throughout this book, we will use FastAPI as the basis of API creation. To read the great documentation, visit https://fastapi.tiangolo.com/"
   ]
  },
  {
   "cell_type": "markdown",
   "metadata": {},
   "source": [
    "## A simple API "
   ]
  },
  {
   "cell_type": "markdown",
   "metadata": {},
   "source": [
    "Lets create an API which accepts a GET method with a float and returns the root of that float. The code is in the file \n",
    "\n",
    "```\n",
    "api-root/get_root.py\n",
    "```"
   ]
  },
  {
   "cell_type": "code",
   "execution_count": 1,
   "metadata": {},
   "outputs": [
    {
     "name": "stdout",
     "output_type": "stream",
     "text": [
      "# Importing the fastAPI library\r\n",
      "from fastapi import FastAPI\r\n",
      "\r\n",
      "# Creating an instance of the FastAPI class\r\n",
      "app = FastAPI()\r\n",
      "\r\n",
      "# Creating an endpoint with the GET method\r\n",
      "@app.get(\"/root_of_number\")\r\n",
      "def root_of_number(number: float):\r\n",
      "    \"\"\"\r\n",
      "    This function returns the square root of a number\r\n",
      "    \"\"\"\r\n",
      "    return {\"root\": number ** 0.5} "
     ]
    }
   ],
   "source": [
    "!cat api-root/get_root.py"
   ]
  },
  {
   "cell_type": "markdown",
   "metadata": {},
   "source": [
    "We can startup the API using the following command:\n",
    "\n",
    "```\n",
    "uvicorn api-root.get_root:app\n",
    "```\n",
    "\n",
    "The output displays the following message:\n",
    "\n",
    "```\n",
    "INFO:     Started server process [1457528]\n",
    "INFO:     Waiting for application startup.\n",
    "INFO:     Application startup complete.\n",
    "INFO:     Uvicorn running on http://127.0.0.1:8000 (Press CTRL+C to quit)\n",
    "```\n",
    "\n",
    "The first INFO message indicates that the server process has started and the assigned internatl PID on the system is 1457528. The second message indicates that the server is waiting for the application to start. The third message indicates that the application has started. The fourth message indicates that the server is running on the localhost on port 8000.\n",
    "\n",
    "FastAPI framework has now isolated a portion of RAM and other resources for the running API. The program is now in runtime and is ready to accept requests. "
   ]
  },
  {
   "cell_type": "markdown",
   "metadata": {},
   "source": [
    "By default, the application is waiting for any data via http://127.0.0.1:8000. \n",
    "\n",
    "To test out the application, in your browser, we can try querying the endpoint:\n",
    "\n",
    "```\n",
    "http://127.0.0.1:8000/root_of_number?number=2\n",
    "```\n",
    "\n",
    "The response is a JSON object: \n",
    "\n",
    "```\n",
    "{\"root\":1.4142135623730951}\n",
    "```"
   ]
  }
 ],
 "metadata": {
  "interpreter": {
   "hash": "702d029752c7c667e866081f4be82ec9765259a2e8484bced05e549319c2e426"
  },
  "kernelspec": {
   "display_name": "Python 3.8.10 64-bit ('api_book': venv)",
   "language": "python",
   "name": "python3"
  },
  "language_info": {
   "codemirror_mode": {
    "name": "ipython",
    "version": 3
   },
   "file_extension": ".py",
   "mimetype": "text/x-python",
   "name": "python",
   "nbconvert_exporter": "python",
   "pygments_lexer": "ipython3",
   "version": "3.8.10"
  }
 },
 "nbformat": 4,
 "nbformat_minor": 2
}