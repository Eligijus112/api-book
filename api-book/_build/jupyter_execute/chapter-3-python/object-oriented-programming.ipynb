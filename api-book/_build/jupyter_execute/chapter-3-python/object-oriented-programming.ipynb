{
 "cells": [
  {
   "cell_type": "markdown",
   "metadata": {},
   "source": [
    "# Classes and objects\n",
    "\n",
    "## Basic definitions\n",
    "\n",
    "To put it simply, in object oriented programming, the code is structured around **objects**. \n",
    "\n",
    "An **object** is an instance of a class.\n",
    "\n",
    "A **class** is a blueprint for creating objects, defined by its name in the namespace, its attributes and its methods.\n",
    "\n",
    "In computing, a namespace is a set of signs (names) that are used to identify and refer to objects of various kinds. The names are saved as pointers somewhere in computer memory. A namespace ensures that all of a given set of objects have unique names so that they can be easily identified. To put it simply, *a namespace is a mapping from names to objects*.\n",
    "\n",
    "A class in Python is defined with the keyword `class` following with the class name. Each class has a constructor, which is a method that is called when an object of the class is created. The constructor is called automatically when an object is created. The constructor is defined with an internal function \\_\\_init\\_\\_().\n",
    "\n",
    "For example, lets create a class that creates an object of class **Employee** (I will explain every detail after the class initialization):"
   ]
  },
  {
   "cell_type": "code",
   "execution_count": 1,
   "metadata": {},
   "outputs": [],
   "source": [
    "# Name of the class\n",
    "class Employee: \n",
    "    # The constructor \n",
    "    def __init__(self, name, surname, position):\n",
    "        \"\"\"\n",
    "        In order to create an object of the class Employee, we need to pass:\n",
    "        name - name of the employee\n",
    "        surname - surname of the employee\n",
    "        position - position of the employee\n",
    "        \"\"\"\n",
    "        self.name = name \n",
    "        self.surname = surname\n",
    "        self.position = position\n",
    "\n",
    "        # Calculating the name length of the employee in construction time \n",
    "        self.name_length = len(name)\n",
    "\n",
    "    # Defining a method for the object \n",
    "    def get_full_name(self):\n",
    "        \"\"\"\n",
    "        This method returns the full name of the employee\n",
    "        \"\"\"\n",
    "        return f\"{self.name} {self.surname}\""
   ]
  },
  {
   "cell_type": "markdown",
   "metadata": {},
   "source": [
    "One might be wandering, what is the \"**self**\" argument in the __init__() function? The argument \"self\" is a reference to the object being created. The \"self\" argument is used to access the attributes and methods of the object. \n",
    "\n",
    "When creating an object, we skip the argument \"self\" and pass the other arguments to the constructor. "
   ]
  },
  {
   "cell_type": "code",
   "execution_count": 2,
   "metadata": {},
   "outputs": [],
   "source": [
    "# Two employees\n",
    "Jane = Employee(\"Jane\", \"Doe\", \"Manager\") \n",
    "John = Employee(\"John\", \"Doe\", \"Sales\")"
   ]
  },
  {
   "cell_type": "markdown",
   "metadata": {},
   "source": [
    "As you can see above, one blueprint (Employee class) was used to create two objects (Jane and John). \n",
    "\n",
    "This is exactly as a recipe works: you can have a recipe (or blueprint) for a cake and with that recipe make hundreds of cakes. \n",
    "\n",
    "One fact that should always be kept in one's mind is that **EVERYTHING in Python is an object**. All the imported packages, all the defined variables even the functions are objects. This means that everything has a **class** with which the object was created, attributes and methods."
   ]
  },
  {
   "cell_type": "markdown",
   "metadata": {},
   "source": [
    "### Python \"magic\" methods\n",
    "\n",
    "*Magic* or *dunder* methods in Python are special methods that start and end with the double underscores `__<name>__`. Magic methods are not meant to be invoked directly by the user, but the invocation happens internally from the class on a certain action. For example, when you add two numbers using the *+* operator, internally, the __add__() method will be called:"
   ]
  },
  {
   "cell_type": "code",
   "execution_count": 3,
   "metadata": {},
   "outputs": [
    {
     "name": "stdout",
     "output_type": "stream",
     "text": [
      "Addition results: 9\n",
      "Addition using the magic method: 9\n"
     ]
    }
   ],
   "source": [
    "a = 5\n",
    "b = 4 \n",
    "\n",
    "print(f\"Addition results: {a + b}\")\n",
    "print(f\"Addition using the magic method: {a.__add__(b)}\")"
   ]
  },
  {
   "cell_type": "markdown",
   "metadata": {},
   "source": [
    "Every class has a lot of magic methods. To list them out, use the `dir()` function and search for the `__<name>__` pattern:"
   ]
  },
  {
   "cell_type": "code",
   "execution_count": 4,
   "metadata": {},
   "outputs": [
    {
     "name": "stdout",
     "output_type": "stream",
     "text": [
      "['__class__', '__delattr__', '__dict__', '__dir__', '__doc__', '__eq__', '__format__', '__ge__', '__getattribute__', '__gt__', '__hash__', '__init__', '__init_subclass__', '__le__', '__lt__', '__module__', '__ne__', '__new__', '__reduce__', '__reduce_ex__', '__repr__', '__setattr__', '__sizeof__', '__str__', '__subclasshook__', '__weakref__']\n"
     ]
    }
   ],
   "source": [
    "# All the magic methods of the class Employee\n",
    "magic_methods = [x for x in dir(Employee) if x.startswith(\"__\")]\n",
    "print(magic_methods)"
   ]
  },
  {
   "cell_type": "code",
   "execution_count": 5,
   "metadata": {},
   "outputs": [
    {
     "name": "stdout",
     "output_type": "stream",
     "text": [
      "['__abs__', '__add__', '__and__', '__bool__', '__ceil__', '__class__', '__delattr__', '__dir__', '__divmod__', '__doc__', '__eq__', '__float__', '__floor__', '__floordiv__', '__format__', '__ge__', '__getattribute__', '__getnewargs__', '__gt__', '__hash__', '__index__', '__init__', '__init_subclass__', '__int__', '__invert__', '__le__', '__lshift__', '__lt__', '__mod__', '__mul__', '__ne__', '__neg__', '__new__', '__or__', '__pos__', '__pow__', '__radd__', '__rand__', '__rdivmod__', '__reduce__', '__reduce_ex__', '__repr__', '__rfloordiv__', '__rlshift__', '__rmod__', '__rmul__', '__ror__', '__round__', '__rpow__', '__rrshift__', '__rshift__', '__rsub__', '__rtruediv__', '__rxor__', '__setattr__', '__sizeof__', '__str__', '__sub__', '__subclasshook__', '__truediv__', '__trunc__', '__xor__']\n"
     ]
    }
   ],
   "source": [
    "# All the methods of the int class in Python\n",
    "magic_methods = [x for x in dir(int) if x.startswith(\"__\")]\n",
    "print(magic_methods)"
   ]
  },
  {
   "cell_type": "markdown",
   "metadata": {},
   "source": [
    "### Constructors "
   ]
  },
  {
   "cell_type": "markdown",
   "metadata": {},
   "source": [
    "A constructor is a special type of function of a class which initializes objects of a class. In Python, the constructor is automatically called when an object is beeing created. \n",
    "\n",
    "The constructor is a magic function denoted as `__init__()`. "
   ]
  },
  {
   "cell_type": "code",
   "execution_count": 6,
   "metadata": {},
   "outputs": [],
   "source": [
    "# Equivalent statements\n",
    "Bob = Employee(\"Bob\", \"Smith\", \"Sales\")\n",
    "Rob = Employee.__init__(Employee, \"Rob\", \"Smith\", \"Sales\")"
   ]
  },
  {
   "cell_type": "markdown",
   "metadata": {},
   "source": [
    "### Object attributes \n",
    "\n",
    "An object attribute is a piece of data that is associated with an object. It cannot be called as a function. To access an object attribute, we use the dot operator (`.`)."
   ]
  },
  {
   "cell_type": "code",
   "execution_count": 7,
   "metadata": {},
   "outputs": [
    {
     "name": "stdout",
     "output_type": "stream",
     "text": [
      "Employee position of Jane: Manager\n",
      "Surname of John: Doe\n",
      "Name length of John: 4\n"
     ]
    }
   ],
   "source": [
    "print(f\"Employee position of Jane: {Jane.position}\")\n",
    "print(f\"Surname of John: {John.surname}\")\n",
    "print(f\"Name length of John: {John.name_length}\")"
   ]
  },
  {
   "cell_type": "markdown",
   "metadata": {},
   "source": [
    "We can explicitly set any attribute to an object using the (`.`) operator as well. "
   ]
  },
  {
   "cell_type": "code",
   "execution_count": 8,
   "metadata": {},
   "outputs": [
    {
     "name": "stdout",
     "output_type": "stream",
     "text": [
      "John's salary: 1000\n",
      "Jane does not have a salary yet!\n",
      "Error: 'Employee' object has no attribute 'salary'\n",
      "Jane's salary: 2000\n"
     ]
    }
   ],
   "source": [
    "John.salary = 1000 \n",
    "print(f\"John's salary: {John.salary}\")\n",
    "\n",
    "try:\n",
    "    print(f\"Jane's salary: {Jane.salary}\")\n",
    "except AttributeError as e:\n",
    "    print(f\"Jane does not have a salary yet!\\nError: {e}\")\n",
    "\n",
    "Jane.salary = 2000\n",
    "print(f\"Jane's salary: {Jane.salary}\")"
   ]
  },
  {
   "cell_type": "markdown",
   "metadata": {},
   "source": [
    "The objects are completely independent from each other. If we define a new attribute to Jane, it will not affect John and vice versa. "
   ]
  },
  {
   "cell_type": "markdown",
   "metadata": {},
   "source": [
    "### Object methods \n",
    "\n",
    "An object method is a callable function that is associated with an object. Each object method only uses the attributes of the object it is called on. For example, to get the full names of the employees, we can use the method `get_full_name()`:"
   ]
  },
  {
   "cell_type": "code",
   "execution_count": 9,
   "metadata": {},
   "outputs": [
    {
     "name": "stdout",
     "output_type": "stream",
     "text": [
      "Jane's full name: Jane Doe\n",
      "John's full name: John Doe\n"
     ]
    }
   ],
   "source": [
    "print(f\"Jane's full name: {Jane.get_full_name()}\")\n",
    "print(f\"John's full name: {John.get_full_name()}\")"
   ]
  },
  {
   "cell_type": "markdown",
   "metadata": {},
   "source": [
    "## Object state\n",
    "\n",
    "An object state is all the data that is stored in the object. The data includes attributes, methods and other data. The state of an object is dynamic because it can change over time. \n",
    "\n",
    "For example, let's create a new class **Human**:"
   ]
  },
  {
   "cell_type": "code",
   "execution_count": 10,
   "metadata": {},
   "outputs": [],
   "source": [
    "class Human: \n",
    "    def __init__(self, name, surname, age):\n",
    "        \"\"\"\n",
    "        Template for human object; Attributes:\n",
    "\n",
    "        name - name of the human\n",
    "        surname - surname of the human\n",
    "        age - age of the person\n",
    "        \"\"\"\n",
    "        self.name = name \n",
    "        self.surname = surname\n",
    "        self.age = age\n",
    "\n",
    "    def increase_age(self, amount):\n",
    "        \"\"\"\n",
    "        Method to increase the age of the human by the given amount\n",
    "        \"\"\"\n",
    "        self.age += amount\n",
    "    \n",
    "    def get_age(self):\n",
    "        \"\"\"\n",
    "        Method to get the age of the human\n",
    "        \"\"\"\n",
    "        return f\"My name is {self.name} and my age is: {self.age}\""
   ]
  },
  {
   "cell_type": "code",
   "execution_count": 11,
   "metadata": {},
   "outputs": [
    {
     "name": "stdout",
     "output_type": "stream",
     "text": [
      "My name is John and my age is: 25\n"
     ]
    }
   ],
   "source": [
    "# Creating a 25 year old John Doe\n",
    "John = Human(\"John\", \"Doe\", 25) \n",
    "\n",
    "# Initial age value \n",
    "print(f\"{John.get_age()}\")"
   ]
  },
  {
   "cell_type": "markdown",
   "metadata": {},
   "source": [
    "The initial state of the age of John Doe is 25. We can change that using the method `increase_age()`:"
   ]
  },
  {
   "cell_type": "code",
   "execution_count": 12,
   "metadata": {},
   "outputs": [
    {
     "name": "stdout",
     "output_type": "stream",
     "text": [
      "My name is John and my age is: 26\n"
     ]
    }
   ],
   "source": [
    "# Increasting the age \n",
    "John.increase_age(1)\n",
    "\n",
    "# What is the age now?\n",
    "print(f\"{John.get_age()}\")"
   ]
  },
  {
   "cell_type": "markdown",
   "metadata": {},
   "source": [
    "The internal state of the object has changed and it effected **only** John."
   ]
  },
  {
   "cell_type": "markdown",
   "metadata": {},
   "source": [
    "## Class inheritance \n",
    "\n",
    "Class inheritence in programming is a mechanism that allows one class to inherit the attributes and methods of another class. \n",
    "\n",
    "In Python, the syntax is very simple:\n",
    "\n",
    "```\n",
    "class DerivedClass(BaseClass):\n",
    "    ...\n",
    "    ...\n",
    "```\n",
    "\n",
    "All the methods in the `DerivedClass` are inherited from the `BaseClass`."
   ]
  },
  {
   "cell_type": "markdown",
   "metadata": {},
   "source": [
    "For example, lets a new class called `President` that inherits from the `Human` class:"
   ]
  },
  {
   "cell_type": "code",
   "execution_count": 13,
   "metadata": {},
   "outputs": [],
   "source": [
    "class President(Human):\n",
    "    def __init__(self, name, surname, age, country, years_in_service):\n",
    "        \"\"\"\n",
    "        Template for president object; Attributes:\n",
    "\n",
    "        name - name of the president\n",
    "        surname - surname of the president\n",
    "        age - age of the president\n",
    "        country - country of the president\n",
    "        years_in_service - years of service of the president\n",
    "        \"\"\"\n",
    "        super().__init__(name, surname, age)\n",
    "        self.country = country\n",
    "        self.years_in_service = years_in_service\n",
    "\n",
    "    def introduce(self):\n",
    "        \"\"\"\n",
    "        Method to introduce the president\n",
    "        \"\"\"\n",
    "        return f\"My name is {self.name} {self.surname} and I am a president of {self.country} serving for {self.years_in_service} years\""
   ]
  },
  {
   "cell_type": "markdown",
   "metadata": {},
   "source": [
    "The constructor of `President` has a function called `super()` that calls the constructor of the base class and provides it with all the necessary arguments."
   ]
  },
  {
   "cell_type": "code",
   "execution_count": 14,
   "metadata": {},
   "outputs": [
    {
     "name": "stdout",
     "output_type": "stream",
     "text": [
      "My name is Donald Trump and I am a president of USA serving for 8 years\n"
     ]
    }
   ],
   "source": [
    "# Lets create the past president of USA\n",
    "Donald = President(\"Donald\", \"Trump\", 62, \"USA\", 8)\n",
    "\n",
    "# Introduce yourself \n",
    "print(Donald.introduce())"
   ]
  },
  {
   "cell_type": "markdown",
   "metadata": {},
   "source": [
    "## Encapsulation \n",
    "\n",
    "Encapsulation is the packing of data and functions that work on that data within a single object. By doing so, you can hide the internal state of the object from the outside. This is done by defining the attributes of an object as either: \n",
    "\n",
    "* Public\n",
    "* Protected\n",
    "* Private\n",
    "\n",
    "All the public variables in a class are accessible from outside the class and do not have any underscores infront of them `<name>`. \n",
    "\n",
    "The members of a class that are declared protected are only accessible to a class derived from it and have 1 underscore in front of them `_<name>`.\n",
    "\n",
    "All the private variables are not accessible from outside the class and have a double underscore infront of them `__<name>`."
   ]
  },
  {
   "cell_type": "code",
   "execution_count": 15,
   "metadata": {},
   "outputs": [
    {
     "name": "stdout",
     "output_type": "stream",
     "text": [
      "Error: 'Animal' object has no attribute '__age'\n"
     ]
    }
   ],
   "source": [
    "# Lets create an example class of an animal \n",
    "class Animal:\n",
    "    def __init__(self, name, species, age):\n",
    "        \"\"\"\n",
    "        Template for animal object; Attributes:\n",
    "\n",
    "        name - name of the animal\n",
    "        species - species of the animal\n",
    "        \"\"\"\n",
    "        self.name = name \n",
    "        self._species = species\n",
    "        self.__age = age\n",
    "    \n",
    "    def increase_age(self, amount):\n",
    "        \"\"\"\n",
    "        Method to increase the age of the animal by the given amount\n",
    "        \"\"\"\n",
    "        self.__age += amount\n",
    "\n",
    "    def print_info(self):\n",
    "        \"\"\"\n",
    "        Get the animal information \n",
    "        \"\"\"\n",
    "        return f\"My name is {self.name}, I am a {self._species} and my age is: {self.__age}\"\n",
    "\n",
    "# Lets create penguin \n",
    "penguin = Animal(\"Happy Feet\", \"Penguin\", 1)\n",
    "\n",
    "# Trying to access the private variable will result in an error\n",
    "try:\n",
    "    print(penguin.__age)\n",
    "except AttributeError as e:\n",
    "    print(f\"Error: {e}\")"
   ]
  },
  {
   "cell_type": "markdown",
   "metadata": {},
   "source": [
    "The above error is a bit missleading, because the private variable is not accessible from outside the class but it DOES exist. Only methods of the same class can access it and modify it."
   ]
  },
  {
   "cell_type": "code",
   "execution_count": 16,
   "metadata": {},
   "outputs": [
    {
     "name": "stdout",
     "output_type": "stream",
     "text": [
      "My name is Happy Feet, I am a Penguin and my age is: 1\n",
      "My name is Happy Feet, I am a Penguin and my age is: 2\n"
     ]
    }
   ],
   "source": [
    "# Initial information\n",
    "print(penguin.print_info())\n",
    "\n",
    "# Adding one year to the age\n",
    "penguin.increase_age(1) \n",
    "\n",
    "# New information\n",
    "print(penguin.print_info())"
   ]
  },
  {
   "cell_type": "markdown",
   "metadata": {},
   "source": [
    "Secondly, in Python, there is no existence of **private** instance variables that cannot be accessed except inside an object. We can freely access the private variables of an object (`_species`).\n",
    "\n",
    "However, a convention is being followed by most Python coders that a name prefixed with an underscore should be treated as a non-public part of the API or any Python code, whether it is a function, a method, or a data member.\n",
    "\n",
    "What happens to the inherited public, private and protected members of the base class? Lets extend the above class: "
   ]
  },
  {
   "cell_type": "code",
   "execution_count": 17,
   "metadata": {},
   "outputs": [
    {
     "name": "stdout",
     "output_type": "stream",
     "text": [
      "Error: 'DomesticatedAnimal' object has no attribute '_DomesticatedAnimal__age'\n"
     ]
    }
   ],
   "source": [
    "# Lets create a domesticated animal class \n",
    "class DomesticatedAnimal(Animal):\n",
    "    def __init__(self, name, species, age, owner):\n",
    "        \"\"\"\n",
    "        Template for domesticated animal object; Attributes:\n",
    "\n",
    "        name - name of the animal\n",
    "        species - species of the animal\n",
    "        age - age of the animal\n",
    "        owner - owner of the animal\n",
    "        \"\"\"\n",
    "        super().__init__(name, species, age)\n",
    "        self.owner = owner\n",
    "    \n",
    "    def increase_age(self, amount):\n",
    "        return super().increase_age(amount)\n",
    "\n",
    "    def print_info(self):\n",
    "        \"\"\"\n",
    "        Prints all the information about the animal\n",
    "        \"\"\"\n",
    "        return f\"My name is {self.name}, I am a {self._species} and my age is: {self.__age} and I am owned by {self.owner}\"\n",
    "\n",
    "# Lets create an instancte of the class\n",
    "domesticated_penguin = DomesticatedAnimal(\"Happy Feet\", \"Penguin\", 1, \"Old McDonald\")\n",
    "\n",
    "# Lets try increasing the age \n",
    "domesticated_penguin.increase_age(1)\n",
    "\n",
    "# Lets try to access the private variable \n",
    "try:\n",
    "    print(domesticated_penguin.print_info())\n",
    "except AttributeError as e:\n",
    "    print(f\"Error: {e}\")"
   ]
  },
  {
   "cell_type": "markdown",
   "metadata": {},
   "source": [
    "Even though we inherited everything from the `Animal` class to the `DomesticatedAnimal` class, we still cannot access the private variable `__age` from the other class. \n",
    "\n",
    "Altough we can augment the internal variable `__age` with a new method `increase_age()` which calls the base class method. "
   ]
  },
  {
   "cell_type": "markdown",
   "metadata": {},
   "source": [
    "# Summary \n",
    "\n",
    "The most important thing from this chapter to remember is that **everything in Python is an object**. This means that:\n",
    "\n",
    "* The created object has a template class. \n",
    "* The template class has a constructor.\n",
    "* The object has attributes and methods which can be reached via the `(.)` operator.\n",
    "* You can chain multiple classes together using class inheritence. "
   ]
  }
 ],
 "metadata": {
  "interpreter": {
   "hash": "702d029752c7c667e866081f4be82ec9765259a2e8484bced05e549319c2e426"
  },
  "kernelspec": {
   "display_name": "Python 3.8.10 64-bit ('api_book': venv)",
   "language": "python",
   "name": "python3"
  },
  "language_info": {
   "codemirror_mode": {
    "name": "ipython",
    "version": 3
   },
   "file_extension": ".py",
   "mimetype": "text/x-python",
   "name": "python",
   "nbconvert_exporter": "python",
   "pygments_lexer": "ipython3",
   "version": "3.8.10"
  }
 },
 "nbformat": 4,
 "nbformat_minor": 2
}