{
 "cells": [
  {
   "cell_type": "markdown",
   "metadata": {},
   "source": [
    "# Data types \n",
    "\n",
    "## Strong and dynamic typing\n",
    "\n",
    "In programming, a **strong typed** language is one that guarantees that the types of all variables are known at compile time. This means that the compiler can check the types of all variables at compile time and will not allow the program to run if the types are incorrect.\n",
    "\n",
    "A **dynamic typed** language is one that allows the types of variables to be checked at run time. This means that the compiler can not check the types of all variables at compile time, but the program will run if the types are correct.\n",
    "\n",
    "Python is a dynamic typed language. For example Python allows one to add an integer and a floating point number, but adding an integer to a string produces an error. The gain in flexibility of compiling everything at runtime add big flexibility but hinders performance in some cases.\n",
    "\n",
    "In order to reduce the number of errors and make your code as bulletproof as possible, it is essential to understand data types and use them them correctly."
   ]
  },
  {
   "cell_type": "markdown",
   "metadata": {},
   "source": [
    "# Data types in Python\n",
    "\n",
    "A data type or simply type is an attribute of data which tells the compiler or interpreter how the programmer intends to use the data {cite}`wiki:data_type`. \n",
    "\n",
    "The most common data types in Python are: \n",
    "\n",
    "* Integer (int)\n",
    "* Floating-point number (float)\n",
    "* String (str)\n",
    "* Boolean (bool)\n",
    "* DateTime\n",
    "\n",
    "To check for a specific type of data in Python, one can use the built in function **type**."
   ]
  },
  {
   "cell_type": "code",
   "execution_count": 1,
   "metadata": {},
   "outputs": [
    {
     "name": "stdout",
     "output_type": "stream",
     "text": [
      "Type of 1.0 is: <class 'float'>\n",
      "Type of 1 is: <class 'str'>\n",
      "Type of 1 is: <class 'int'>\n",
      "Type of True is: <class 'bool'>\n",
      "Type of 2022-01-16 10:20:12.405450 is: <class 'datetime.datetime'>\n"
     ]
    }
   ],
   "source": [
    "# Importing the datetime library which holds the datetime type\n",
    "import datetime\n",
    "\n",
    "# Defining the variables\n",
    "a = 1.0 \n",
    "b = \"1\"\n",
    "c = 1\n",
    "d = True \n",
    "e = datetime.datetime.now()\n",
    "\n",
    "# Checking the types\n",
    "print(f\"Type of {a} is: {type(a)}\")\n",
    "print(f\"Type of {b} is: {type(b)}\")\n",
    "print(f\"Type of {c} is: {type(c)}\")\n",
    "print(f\"Type of {d} is: {type(d)}\")\n",
    "print(f\"Type of {e} is: {type(e)}\")"
   ]
  },
  {
   "cell_type": "markdown",
   "metadata": {},
   "source": [
    "Each data type takes up different space in computer memory. "
   ]
  },
  {
   "cell_type": "code",
   "execution_count": 2,
   "metadata": {},
   "outputs": [
    {
     "name": "stdout",
     "output_type": "stream",
     "text": [
      "Size of the float object: 24 bytes\n",
      "Size of the str object: 50 bytes\n",
      "Size of the int object: 28 bytes\n",
      "Size of the boolean object: 28 bytes\n",
      "Size of the boolean object: 48 bytes\n"
     ]
    }
   ],
   "source": [
    "# Importing the needed package\n",
    "import sys \n",
    "\n",
    "# Checking the size of objects \n",
    "print(f\"Size of the float object: {sys.getsizeof(a)} bytes\")\n",
    "print(f\"Size of the str object: {sys.getsizeof(b)} bytes\")\n",
    "print(f\"Size of the int object: {sys.getsizeof(c)} bytes\")\n",
    "print(f\"Size of the boolean object: {sys.getsizeof(d)} bytes\")\n",
    "print(f\"Size of the boolean object: {sys.getsizeof(e)} bytes\")"
   ]
  },
  {
   "cell_type": "markdown",
   "metadata": {},
   "source": [
    "# Functionalities of various data types "
   ]
  },
  {
   "cell_type": "markdown",
   "metadata": {},
   "source": [
    "Every Python data type has its own attributes and methods. You can read all of them following the official Python documentation: \n",
    "\n",
    "https://docs.python.org/3/library/datatypes.html\n",
    "\n",
    "## String data type \n",
    "\n",
    "String data type is probably the most popular data type in terms of methods used. To read the full list of string methods available: \n",
    "\n",
    "https://docs.python.org/3/library/stdtypes.html#str\n",
    "\n",
    "Some examples:"
   ]
  },
  {
   "cell_type": "code",
   "execution_count": 3,
   "metadata": {},
   "outputs": [
    {
     "name": "stdout",
     "output_type": "stream",
     "text": [
      "Original string: hello world\n",
      "Capitalized string: Hello world\n",
      "All caps string: HELLO WORLD\n",
      "Does the string end with 'rld'?: True\n",
      "Does the string starts with 'hell'?: True\n",
      "Spliting the string into a list: ['hello', 'world']\n"
     ]
    }
   ],
   "source": [
    "# Defining a string \n",
    "string = \"hello world\"\n",
    "print(f\"Original string: {string}\")\n",
    "\n",
    "# Capitalizing the string\n",
    "print(f\"Capitalized string: {string.capitalize()}\")\n",
    "\n",
    "# All calps \n",
    "print(f\"All caps string: {string.upper()}\")\n",
    "\n",
    "# Checking if the string ends with a specific character\n",
    "print(f\"Does the string end with 'rld'?: {string.endswith('rld')}\")\n",
    "\n",
    "# Checking if the string starts with a specific character\n",
    "print(f\"Does the string starts with 'hell'?: {string.startswith('hell')}\")\n",
    "\n",
    "# Spliting the string into substrings; If no splitting char is defined, it will split by whitespace\n",
    "print(f\"Spliting the string into a list: {string.split()}\")"
   ]
  },
  {
   "cell_type": "markdown",
   "metadata": {},
   "source": [
    "## Datetime data type \n",
    "\n",
    "To read the full list of available datetime methods and other documentation visit:\n",
    "\n",
    "https://docs.python.org/3/library/datetime.html\n",
    "\n",
    "\n",
    "A datetime object is a single object containing all the information from a date object and a time object.\n",
    "\n",
    "Like a date object, datetime assumes the current Gregorian calendar extended in both directions; like a time object, datetime assumes there are exactly 3600*24 seconds in every day.\n",
    "\n",
    "Some examples:\n"
   ]
  },
  {
   "cell_type": "code",
   "execution_count": 4,
   "metadata": {},
   "outputs": [
    {
     "name": "stdout",
     "output_type": "stream",
     "text": [
      "The created datetime object: 2022-01-16 10:20:12.417181\n",
      "The year from the datetime object: 2022\n",
      "The month from the datetime object: 1\n",
      "The day from the datetime object: 16\n",
      "The date part: 2022-01-16\n",
      "The datetime object as a string: 2022-01-16 10:20\n"
     ]
    }
   ],
   "source": [
    "# Creating a datetime object\n",
    "dt = datetime.datetime.now()\n",
    "print(f\"The created datetime object: {dt}\")\n",
    "\n",
    "# Getting the year from the datetime object\n",
    "print(f\"The year from the datetime object: {dt.year}\")\n",
    "\n",
    "# Getting the month from the datetime object\n",
    "print(f\"The month from the datetime object: {dt.month}\")\n",
    "\n",
    "# Getting the day from the datetime object\n",
    "print(f\"The day from the datetime object: {dt.day}\")\n",
    "\n",
    "# Extracting the date from the datetime object \n",
    "print(f\"The date part: {dt.date()}\")\n",
    "\n",
    "# Converting to string (year - month - day hour:minute)\n",
    "print(f\"The datetime object as a string: {dt.strftime('%Y-%m-%d %H:%M')}\")"
   ]
  },
  {
   "cell_type": "markdown",
   "metadata": {},
   "source": [
    "## Float data type\n",
    "\n",
    "To read the full list of available float methods and other documentation visit: \n",
    "\n",
    "https://www.geeksforgeeks.org/python-float-type-and-its-methods/\n",
    "\n",
    "Some examples:"
   ]
  },
  {
   "cell_type": "code",
   "execution_count": 5,
   "metadata": {},
   "outputs": [
    {
     "name": "stdout",
     "output_type": "stream",
     "text": [
      "The float number: 67.5\n",
      "Is the float number an integer? (no decimal part): False\n",
      "Two integers whose ratio produces the original float number: (135, 2)\n",
      "Hexadecimal representation of the float number: 0x1.0e00000000000p+6\n"
     ]
    }
   ],
   "source": [
    "# Defining the float data type \n",
    "float_number = 67.5\n",
    "print(f\"The float number: {float_number}\")\n",
    "\n",
    "# Is it an integer? \n",
    "print(f\"Is the float number an integer? (no decimal part): {float_number.is_integer()}\")\n",
    "\n",
    "# Spliting the float into a ratio of two numbers\n",
    "print(f\"Two integers whose ratio produces the original float number: {float_number.as_integer_ratio()}\")\n",
    "\n",
    "# Hexadeciaml representation of the float number\n",
    "print(f\"Hexadecimal representation of the float number: {float_number.hex()}\")"
   ]
  }
 ],
 "metadata": {
  "interpreter": {
   "hash": "96a5d51ad1bd9727fee1e0e248137efe91c09a80705e008a6a398a2e8b79b299"
  },
  "kernelspec": {
   "display_name": "Python 3.10.0 64-bit ('api_book': venv)",
   "language": "python",
   "name": "python3"
  },
  "language_info": {
   "codemirror_mode": {
    "name": "ipython",
    "version": 3
   },
   "file_extension": ".py",
   "mimetype": "text/x-python",
   "name": "python",
   "nbconvert_exporter": "python",
   "pygments_lexer": "ipython3",
   "version": "3.8.10"
  }
 },
 "nbformat": 4,
 "nbformat_minor": 2
}