{
 "cells": [
  {
   "cell_type": "markdown",
   "metadata": {},
   "source": [
    "# Gunicorn\n",
    "\n",
    "The last piece of software which we need to build a production ready API is Gunicorn. Gunicorn is a Python web server that is used to run the API. To be more technical, Gunicorn is a `Python Web Server Gateway Interface (WSGI) HTTP server`. To read the official documentation of Gunicorn, visit: https://docs.gunicorn.org/en/stable/.\n",
    "\n",
    "In a previous chapter we have explained what is an asynchronous web server interface. The main difference between ASGI and WSGI servers is that WSGI servers must wait for the workers that it is managing to complete their work before giving them another task (this is sometimes called blocking).  \n",
    "\n",
    "# Gunicorn and Uvicorn\n",
    "\n",
    "In the previous chapter, we have used the Uvicorn server with the FastAPI framework. Gunicorn will be used on top of that and will spawn multiple small uvicorn servers (workers) to handle the requests. \n",
    "\n",
    "Using that combination, Gunicorn would act as a process manager, listening on the port and the IP. And it would transmit the communication to the worker processes running the Uvicorn class.\n",
    "And then the Gunicorn-compatible Uvicorn worker class would be in charge of converting the data sent by Gunicorn to the ASGI standard for FastAPI to use it.\n",
    "\n",
    "![gunicorn-uvicorn](media/gunicorn-uvicorn.png)"
   ]
  },
  {
   "cell_type": "markdown",
   "metadata": {},
   "source": [
    "Each request is first handled by the Gunicorn server. Then, the server reroutes it to the least busy uvicorn worker. Because uvicorn is an ASGI server, each worker can process requests asyncronously thus even a small number of worker uvicorn processes can handle a large number of requests."
   ]
  },
  {
   "cell_type": "markdown",
   "metadata": {},
   "source": [
    "# API example with Gunicorn and Uvicorn\n",
    "\n",
    "Lets use the same API code as in the previous chapter. The API accepts a number in a request and responds with the n-th root of it."
   ]
  },
  {
   "cell_type": "code",
   "execution_count": 1,
   "metadata": {},
   "outputs": [
    {
     "name": "stdout",
     "output_type": "stream",
     "text": [
      "# Importing the fastAPI library\r\n",
      "from fastapi import FastAPI\r\n",
      "\r\n",
      "# Creating an instance of the FastAPI class\r\n",
      "app = FastAPI()\r\n",
      "\r\n",
      "# Creating an endpoint with the GET method\r\n",
      "@app.get(\"/root\")\r\n",
      "def root_of_number(number: float, n: float):\r\n",
      "    \"\"\"\r\n",
      "    The function returns the n-th root of the number.\r\n",
      "    Parameters\r\n",
      "    ----------\r\n",
      "    number : float\r\n",
      "        The number to find the n-th root of.\r\n",
      "    n : float\r\n",
      "        The n-th root to find.\r\n",
      "    Returns\r\n",
      "    -------\r\n",
      "    float\r\n",
      "        The n-th root of the number.\r\n",
      "    \"\"\"\r\n",
      "    return {\"root\": number ** n} "
     ]
    }
   ],
   "source": [
    "!cat gunicorn-api-example/get_n_root.py"
   ]
  },
  {
   "cell_type": "markdown",
   "metadata": {},
   "source": [
    "Previously, to serve the above API code, we would run the command: \n",
    "\n",
    "```\n",
    "uvicorn gunicorn-api-example.get_n_root:app\n",
    "```\n",
    "\n",
    "Which would result in the terminal message like: \n",
    "\n",
    "```\n",
    "INFO:     Started server process [13880]\n",
    "INFO:     Waiting for application startup.\n",
    "INFO:     Application startup complete.\n",
    "INFO:     Uvicorn running on http://127.0.0.1:8000 (Press CTRL+C to quit)\n",
    "```"
   ]
  },
  {
   "cell_type": "markdown",
   "metadata": {},
   "source": [
    "To spawn multiple uvicorn workers that are managed with Gunicorn we use: \n",
    "\n",
    "```\n",
    "gunicorn gunicorn-api-example.get_n_root:app --workers 4 --worker-class uvicorn.workers.UvicornWorker --bind 0.0.0.0:8000\n",
    "```\n",
    "\n",
    "Which would result in the terminal message like:\n",
    "\n",
    "```\n",
    "[2021-12-24 14:58:31 +0200] [14017] [INFO] Starting gunicorn 20.1.0\n",
    "[2021-12-24 14:58:31 +0200] [14017] [INFO] Listening at: http://0.0.0.0:8000 (14017)\n",
    "[2021-12-24 14:58:31 +0200] [14017] [INFO] Using worker: uvicorn.workers.UvicornWorker\n",
    "[2021-12-24 14:58:31 +0200] [14019] [INFO] Booting worker with pid: 14019\n",
    "[2021-12-24 14:58:31 +0200] [14020] [INFO] Booting worker with pid: 14020\n",
    "[2021-12-24 14:58:31 +0200] [14019] [INFO] Started server process [14019]\n",
    "[2021-12-24 14:58:31 +0200] [14019] [INFO] Waiting for application startup.\n",
    "[2021-12-24 14:58:31 +0200] [14019] [INFO] Application startup complete.\n",
    "[2021-12-24 14:58:31 +0200] [14020] [INFO] Started server process [14020]\n",
    "[2021-12-24 14:58:31 +0200] [14020] [INFO] Waiting for application startup.\n",
    "[2021-12-24 14:58:31 +0200] [14020] [INFO] Application startup complete.\n",
    "[2021-12-24 14:58:31 +0200] [14021] [INFO] Booting worker with pid: 14021\n",
    "[2021-12-24 14:58:31 +0200] [14022] [INFO] Booting worker with pid: 14022\n",
    "[2021-12-24 14:58:31 +0200] [14021] [INFO] Started server process [14021]\n",
    "[2021-12-24 14:58:31 +0200] [14021] [INFO] Waiting for application startup.\n",
    "[2021-12-24 14:58:31 +0200] [14021] [INFO] Application startup complete.\n",
    "[2021-12-24 14:58:31 +0200] [14022] [INFO] Started server process [14022]\n",
    "[2021-12-24 14:58:31 +0200] [14022] [INFO] Waiting for application startup.\n",
    "[2021-12-24 14:58:31 +0200] [14022] [INFO] Application startup complete.\n",
    "```\n",
    "\n",
    "Now to access the API, visit: http://localhost:8000/root?number=25&n=0.86. The resulting JSON is: \n",
    "\n",
    "```\n",
    "{\"root\":15.93046333819077}\n",
    "```\n",
    "\n",
    "## Detailed explanation of what happened \n",
    "\n",
    "After running the gunicorn command, the first thing that the underlying OS system did was spawn a process with a PID of 14017 which is the Gunicorn server. This is the main server that reroutes everything to the workers. \n",
    "\n",
    "Then, the Gunicorn server spawned 4 workers, each with a PID of 14019, 14020, 14021 and 14022. These workers are the uvicorn workers that are spawned by Gunicorn using the `uvicorn.workers.UvicornWorker` class. All we need to know about this is that the creators of uvicorn have integrated their API handling with Gunicorn and we can seemlessly use it with Gunicorn. \n",
    "\n",
    "Lastly, we commanded Gunicorn to listed to the port 8000 and bind to the IP of localhost (or 0.0.0.0, or 127.0.0.1). \n",
    "\n",
    "Thus, every time some packet of data comes to localhost:8000, Gunicorn will try to handle that data. \n",
    "\n",
    "What is very helpful is that if a worker gets shutdown (too much data, worker crashes, the system runs out of RAM), Gunicorn will automatically spawn a new worker with a new PID. \n",
    "\n",
    "# Managing Gunicorn in Ubuntu with supervisor\n",
    "\n",
    "Gunicorn is a very powerfull tool to manage it's workers. But what happens if Gunicorn server itself crashes? To solve this problem, we can use the `supervisor` tool in Ubuntu (many other Linux distributions have this tool as well). To read more about super visor, visit: http://supervisord.org/. \n",
    "\n",
    "To install it in Ubuntu, run the following command:\n",
    "\n",
    "```\n",
    "sudo apt-get install supervisor\n",
    "```\n",
    "\n",
    "As the authors put it: \n",
    "`Supervisor is a client/server system that allows its users to monitor and control a number of processes on UNIX-like operating systems.` \n",
    "\n",
    "The main benefit of supervisor is that we can restart and monitor the Gunicorn process. Thus, even if the whole Gunicorn server is down, we can easily restart it. \n",
    "\n",
    "## Supervisor configuration\n",
    "\n",
    "All the different processes that are monitored by supervisor are stored in the `/etc/supervisor/conf.d` directory. \n",
    "\n",
    "Each process needs to have a configuration file in this directory. The file name is the same as the process name. For example, if we want to monitor the Gunicorn server, we would create a file called `gunicorn.conf` in the `/etc/supervisor/conf.d` directory. The contents of the file: "
   ]
  },
  {
   "cell_type": "code",
   "execution_count": 2,
   "metadata": {},
   "outputs": [
    {
     "name": "stdout",
     "output_type": "stream",
     "text": [
      "[program:gunicorn_api]\r\n",
      "user=root\r\n",
      "directory=/home/eligijus/api-book/api-book/chapter-6-production-tools/gunicorn-api-example/\r\n",
      "command=/home/eligijus/api-book/api_book/bin/gunicorn get_n_root:app --workers 4 --worker-class uvicorn.workers.UvicornWorker --bind 0.0.0.0:8000\r\n",
      " \r\n",
      "autostart=true\r\n",
      "autorestart=true\r\n",
      "stdout_logfile=/var/log/root-api/gunicorn.log\r\n",
      "stderr_logfile=/var/log/root-api/gunicorn.err.log"
     ]
    }
   ],
   "source": [
    "!cat gunicorn-api-example/gunicorn.conf"
   ]
  },
  {
   "cell_type": "markdown",
   "metadata": {},
   "source": [
    "The first line defines the program name which we will use to start/restart/shutdown the process. The name for our API is `gunicorn_api`\n",
    "\n",
    "The second line defines the user that the process will run as. In this case, we will run the Gunicorn server as the user `root`. \n",
    "\n",
    "The `directory` variable defines where all the code for the Gunicorn server is located. \n",
    "\n",
    "The `command` variable defines the command that will be executed when the process is started. We need to explicitly tell the supervisor where is the Gunicorn code. In our case, it is in the virtual environment directory `api_book/bin/gunicorn`. Everything to the right of the /bin/gunicorn command are the parameters for how the Gunicorn should start the server. \n",
    "\n",
    "`autostart`=true means that uppon Ubuntu system startup, the process will be started.\n",
    "\n",
    "`autorestart`=true means that the process will be restarted if it crashes.\n",
    "\n",
    "`stdout_logfile` defines the file where the standart ouptut of our process will go. These are all the user created print() statements and other messages. \n",
    "\n",
    "`stderr_logfile` defines the file where the standart error of our process will go. If anything goes wrong, it will go here.\n",
    "\n",
    "To start the Gunicorn server, we run the following command:\n",
    "\n",
    "```\n",
    "sudo supervisorctl reread \n",
    "sudo supervisorctl update\n",
    "sudo supervisorctl start gunicorn_api\n",
    "```\n",
    "\n",
    "To check the status of our API, we run the following command:\n",
    "\n",
    "```\n",
    "sudo supervisorctl status gunicorn_api\n",
    "```\n",
    "\n",
    "The output should look similar to the following:\n",
    "\n",
    "```\n",
    "gunicorn_api                     RUNNING   pid 9352, uptime 0:18:47\n",
    "```\n",
    "\n",
    "If the process is running, we can query our API by visiting: http://localhost:8000/root?number=25&n=0.86. "
   ]
  },
  {
   "cell_type": "markdown",
   "metadata": {},
   "source": [
    "# Putting it all inside a container \n",
    "\n",
    "By now, we have all the tools needed to run an API using Gunicorn, Uvicorn and FastAPI. To be able to scale and transfer our API code to multiple servers we need to use Docker and containerize the API. \n",
    "\n",
    "This is what we will do in the next section."
   ]
  }
 ],
 "metadata": {
  "interpreter": {
   "hash": "702d029752c7c667e866081f4be82ec9765259a2e8484bced05e549319c2e426"
  },
  "kernelspec": {
   "display_name": "Python 3.8.10 64-bit ('api_book': venv)",
   "language": "python",
   "name": "python3"
  },
  "language_info": {
   "codemirror_mode": {
    "name": "ipython",
    "version": 3
   },
   "file_extension": ".py",
   "mimetype": "text/x-python",
   "name": "python",
   "nbconvert_exporter": "python",
   "pygments_lexer": "ipython3",
   "version": "3.8.10"
  }
 },
 "nbformat": 4,
 "nbformat_minor": 2
}