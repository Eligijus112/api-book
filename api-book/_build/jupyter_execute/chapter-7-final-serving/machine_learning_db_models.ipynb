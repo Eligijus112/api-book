{
 "cells": [
  {
   "cell_type": "markdown",
   "metadata": {},
   "source": [
    "# ML database models \n",
    "\n",
    "Now that we have ways to handle users and a created machine learning model, we need a couple of more tables in our database to log the inputs to our model and the outputs that our model produces. \n",
    "\n",
    "For this, we will create two new database tables:\n",
    "\n",
    "`requests` - logs the requests to the ML API. \n",
    "\n",
    "`responses` - logs the responses from the ML API.\n",
    "\n",
    "The full Python code to generate them: "
   ]
  },
  {
   "cell_type": "code",
   "execution_count": 1,
   "metadata": {},
   "outputs": [
    {
     "name": "stdout",
     "output_type": "stream",
     "text": [
      "# ORM functions for the database \r\n",
      "from sqlalchemy.orm import declarative_base\r\n",
      "\r\n",
      "# Model creation \r\n",
      "from sqlalchemy import Column, Integer, DateTime, JSON, ForeignKey\r\n",
      "\r\n",
      "# Dates and times\r\n",
      "import datetime\r\n",
      "\r\n",
      "# Users\r\n",
      "from Users import User\r\n",
      "\r\n",
      "# Initiating the Base class\r\n",
      "Base = declarative_base()\r\n",
      "\r\n",
      "\r\n",
      "class MLRequests(Base):\r\n",
      "    # Table name in database\r\n",
      "    __tablename__ = 'requests'\r\n",
      "    \r\n",
      "    # If any changes are made to the columns, allow the database to know about it\r\n",
      "    __table_args__ = {'extend_existing': True} \r\n",
      "\r\n",
      "    # Database columns\r\n",
      "    id = Column(Integer, primary_key=True)\r\n",
      "    user_id = Column(Integer, ForeignKey(User.id))\r\n",
      "    input = Column(JSON)\r\n",
      "    created_datetime = Column(DateTime)\r\n",
      "    updated_datetime = Column(DateTime)\r\n",
      "\r\n",
      "    def __init__(\r\n",
      "        self,\r\n",
      "        user_id: int, \r\n",
      "        input: JSON\r\n",
      "        ):\r\n",
      "        # Infering the time of creation \r\n",
      "        _cur_time = datetime.datetime.now()\r\n",
      "\r\n",
      "        # Variables for the object\r\n",
      "        self.user_id = user_id\r\n",
      "        self.input = input\r\n",
      "        self.created_datetime = _cur_time\r\n",
      "        self.updated_datetime = _cur_time\r\n",
      "\r\n",
      "\r\n",
      "class MLResponses(Base):\r\n",
      "    # Table name in database\r\n",
      "    __tablename__ = 'responses'\r\n",
      "    \r\n",
      "    # If any changes are made to the columns, allow the database to know about it\r\n",
      "    __table_args__ = {'extend_existing': True} \r\n",
      "\r\n",
      "    # Database columns\r\n",
      "    id = Column(Integer, primary_key=True)\r\n",
      "    request_id = Column(Integer, ForeignKey('requests.id'))\r\n",
      "    output = Column(JSON)\r\n",
      "    created_datetime = Column(DateTime)\r\n",
      "    updated_datetime = Column(DateTime)\r\n",
      "\r\n",
      "    def __init__(\r\n",
      "        self,\r\n",
      "        request_id: int, \r\n",
      "        output: JSON\r\n",
      "        ):\r\n",
      "        # Infering the time of creation \r\n",
      "        _cur_time = datetime.datetime.now()\r\n",
      "\r\n",
      "        # Variables for the object\r\n",
      "        self.request_id = request_id\r\n",
      "        self.output = output\r\n",
      "        self.created_datetime = _cur_time\r\n",
      "        self.updated_datetime = _cur_time\r\n"
     ]
    }
   ],
   "source": [
    "!cat ML_API/MLDB.py"
   ]
  },
  {
   "cell_type": "markdown",
   "metadata": {},
   "source": [
    "`PSQL` can hold a JSON data type in one of the collumns. We will save the what is necesary and used by the API in the `requests` table input `column`. Because we are saving a JSON file, we can be assured that if in the feature the feature inputs for the model changes, we will not have to create or delete any columns in the table. \n",
    "\n",
    "The same logic applies to the `reponses` table - the JSON which will be sent to the user is saved in the `response` column."
   ]
  }
 ],
 "metadata": {
  "interpreter": {
   "hash": "702d029752c7c667e866081f4be82ec9765259a2e8484bced05e549319c2e426"
  },
  "kernelspec": {
   "display_name": "Python 3.8.10 64-bit ('api_book': venv)",
   "language": "python",
   "name": "python3"
  },
  "language_info": {
   "codemirror_mode": {
    "name": "ipython",
    "version": 3
   },
   "file_extension": ".py",
   "mimetype": "text/x-python",
   "name": "python",
   "nbconvert_exporter": "python",
   "pygments_lexer": "ipython3",
   "version": "3.8.10"
  }
 },
 "nbformat": 4,
 "nbformat_minor": 2
}