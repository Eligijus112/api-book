{
 "cells": [
  {
   "cell_type": "markdown",
   "metadata": {},
   "source": [
    "# ML users \n",
    "\n",
    "In this chapter we will build the final production grade API to serve machine learning models. We will expand on all the concepts covered so far and augment them. By the end, we will have a fully working API that can be deployed to production.\n",
    "\n",
    "The whole API will be built from the `ML_API/` directory in the current chapter. \n",
    "\n",
    "The first step is to create the user registration, authentification and deletion endpoints. \n",
    "\n",
    "Be sure to start up the api with the command: \n",
    "\n",
    "```\n",
    "uvicorn app:app --port 8001\n",
    "```\n",
    "\n",
    "# User registration \n",
    "\n",
    "Just as in the previous chapter, we will create an endpoint that registers a user. This time, we will add a layer of security: we will hash the password before storing it in the database. This is done because we don't want to store plain text passwords in the database in case someone gets access to the database. To decrypt the password one needs to know the `secret key` which is only known to the server.  \n",
    "\n",
    "The full script for the `Users` model: "
   ]
  },
  {
   "cell_type": "code",
   "execution_count": 1,
   "metadata": {},
   "outputs": [
    {
     "name": "stdout",
     "output_type": "stream",
     "text": [
      "# ORM functions for the database \r\n",
      "from sqlalchemy.orm import declarative_base\r\n",
      "\r\n",
      "# Model creation \r\n",
      "from sqlalchemy import Column, Integer, String, DateTime, Boolean\r\n",
      "\r\n",
      "# Farnet package for password encription \r\n",
      "from cryptography.fernet import Fernet\r\n",
      "\r\n",
      "# Configuration reading \r\n",
      "import yaml \r\n",
      "\r\n",
      "# Dates and times\r\n",
      "import datetime\r\n",
      "\r\n",
      "# OS traversal \r\n",
      "import os \r\n",
      "\r\n",
      "# Initiating the Base class\r\n",
      "Base = declarative_base()\r\n",
      "\r\n",
      "# Defining the path of the file \r\n",
      "_path = os.path.dirname(os.path.abspath(__file__))\r\n",
      "\r\n",
      "# Reading the secrets \r\n",
      "with open(os.path.join(_path, \"config.yml\"), 'r') as f:\r\n",
      "    secrets = yaml.safe_load(f.read()).get(\"secrets\")\r\n",
      "    secret_key = secrets.get(\"key\").encode()\r\n",
      "    secret_salt = secrets.get(\"salt\")\r\n",
      "\r\n",
      "\r\n",
      "class User(Base):\r\n",
      "    # Table name in database\r\n",
      "    __tablename__ = 'users'\r\n",
      "    \r\n",
      "    # If any changes are made to the columns, allow the database to know about it\r\n",
      "    __table_args__ = {'extend_existing': True} \r\n",
      "\r\n",
      "    # Database columns\r\n",
      "    id = Column(Integer, primary_key=True)\r\n",
      "    username = Column(String)\r\n",
      "    password = Column(String)\r\n",
      "    email = Column(String)\r\n",
      "    enabled = Column(Boolean)\r\n",
      "    created_datetime = Column(DateTime)\r\n",
      "    updated_datetime = Column(DateTime)\r\n",
      "\r\n",
      "    @staticmethod\r\n",
      "    def encrypt_string(string: str) -> str:\r\n",
      "        \"\"\"\r\n",
      "        Method for encrypting a given string\r\n",
      "        \"\"\"\r\n",
      "        # Initiating the encriptor \r\n",
      "        _fernet = Fernet(secret_key)\r\n",
      "\r\n",
      "        # Encrupting the string with the added salt \r\n",
      "        _encrypted_password = _fernet.encrypt(f\"{string}{secret_salt}\".encode())\r\n",
      "        \r\n",
      "        # Returning the encrypted string\r\n",
      "        return _encrypted_password.decode()\r\n",
      "\r\n",
      "    def __init__(\r\n",
      "        self,\r\n",
      "        username: str, \r\n",
      "        password: str,\r\n",
      "        email: str,\r\n",
      "        enabled: bool = True,\r\n",
      "        ):\r\n",
      "        # Infering the time of creation \r\n",
      "        _cur_time = datetime.datetime.now()\r\n",
      "\r\n",
      "        # Encripting the password at the time of creation\r\n",
      "        # This will prevent the password from being stored in plain text and be extracted even by developers\r\n",
      "        _encrypted_password = self.encrypt_string(password)\r\n",
      "\r\n",
      "        # Variables for the object\r\n",
      "        self.username = username \r\n",
      "        self.password = _encrypted_password\r\n",
      "        self.email = email \r\n",
      "        self.enabled = enabled\r\n",
      "        self.created_datetime = _cur_time\r\n",
      "        self.updated_datetime = _cur_time\r\n",
      "\r\n",
      "    def __str__(self):\r\n",
      "        \"\"\"\r\n",
      "        Method for developers to see the object in a readable format \r\n",
      "        \"\"\"\r\n",
      "        return f\"User(username='{self.username}', password='{self.password}', email='{self.email}')\"\r\n",
      "\r\n",
      "    def check_password_match(self, password: str) -> bool:\r\n",
      "        \"\"\"\r\n",
      "        Method to check if the given password matches up with the one stored in object\r\n",
      "        \"\"\"\r\n",
      "        # Decrypting the password of the current user object in the database\r\n",
      "        _fernet = Fernet(secret_key)\r\n",
      "        _decrypted_password = _fernet.decrypt(self.password.encode())\r\n",
      "        _decrypted_password = _decrypted_password.decode()\r\n",
      "\r\n",
      "        # Adding the salt to the sent password\r\n",
      "        _password_sent = f\"{password}{secret_salt}\"\r\n",
      "\r\n",
      "        # Checking if the password matches\r\n",
      "        if _decrypted_password == _password_sent:\r\n",
      "            return True\r\n",
      "        else:\r\n",
      "            return False\r\n"
     ]
    }
   ],
   "source": [
    "!cat ML_API/Users.py"
   ]
  },
  {
   "cell_type": "markdown",
   "metadata": {},
   "source": [
    "In the `users` data model there are the following collumns:\n",
    "\n",
    "    * `id`: the primary key\n",
    "    * `username`: the username\n",
    "    * `password`: the hashed password\n",
    "    * `email`: the email address of the user\n",
    "    * `enabled`: whether the user is enabled or not. If the user is not enabled, he/she will not be able to query the ML API.\n",
    "    * `created_at`: the date of registration \n",
    "    * `updated_at`: the date of last update\n",
    "\n",
    "The above collumns allows to fully control the users when they are using our API. The collumn `enabled` should be changed to True if a certain business rule is met (a monthly subscription, for example). \n",
    "\n",
    "## Password obfuscation\n",
    "\n",
    "One of the main concerns when putting user information on a database is how to store their passwords. If we store them in plain text in the database, anyone who has access to the database can see the passwords. Additionally, if the database is compromised, the passwords can be used to login to the database. To combat this, we will `encrypt` the passwords before storing them in the database.\n",
    "\n",
    "`Encription` is a process of converting a piece of information into random data which can be deciphered with a key. \n",
    "\n",
    "In our case, the key is stored in the file `config.yml` which is stored in the server. Additionaly, we add `salt` - a random string that is added to the password before hashing. This is done to make the password more secure, because even if the password is compromised, the salt will be different on different servers.\n",
    "\n",
    "Thus, the full flow of obfuscating the user defined passwords:\n",
    "\n",
    "1) Salt is added to the original password. \n",
    "2) The `Fernet` object is created with the secret key. \n",
    "3) The salt and the password are passed to the `encrypt` method of the `Fernet` object. \n",
    "4) The encrypted password is stored in the database. \n",
    "\n",
    "The `Fernet` class implement the symetric encryption algorithm. The basis of the symetric encryption is the **key** - the random string which we must save and not share with anyone. Only having the key can we decrypt the data. "
   ]
  },
  {
   "cell_type": "markdown",
   "metadata": {},
   "source": [
    "## User registration endpoints \n",
    "\n",
    "The endpoints are: \n",
    "\n",
    "**/register-user** - registers a user. The endpoint accepts a POST request with the following data: \n",
    "\n",
    "```\n",
    "{\n",
    "    \"username\": <username>,\n",
    "    \"password\": <password>,\n",
    "    \"email\": <email>\n",
    "}\n",
    "```\n",
    "\n",
    "**/toggle-user-permission/<user_id>/<0 to disable or 1 to enable>** - PUT type endpoint. Toggles the `enabled` collumn of a user.\n",
    "\n",
    "**/remove-user/<user_id>** - a DELETE request that removes a user via the user_id. "
   ]
  },
  {
   "cell_type": "code",
   "execution_count": 2,
   "metadata": {},
   "outputs": [
    {
     "name": "stdout",
     "output_type": "stream",
     "text": [
      "Response code: 409; Response: {'message': 'User already exists', 'user_id': 8}\n"
     ]
    }
   ],
   "source": [
    "# Importing the request lib  \n",
    "import requests\n",
    "\n",
    "# Defining the base URL\n",
    "url = \"http://localhost:8001\"\n",
    "\n",
    "# Defining the user dict \n",
    "user_dict = {\n",
    "    \"username\": \"test\",\n",
    "    \"password\": \"test\",\n",
    "    \"email\": \"test@testmail.com\"\n",
    "}\n",
    "\n",
    "# Sending the post request to the running API \n",
    "response = requests.post(f\"{url}/register-user\", json=user_dict)\n",
    "\n",
    "# Getting the user id \n",
    "user_id = response.json().get(\"user_id\")\n",
    "\n",
    "# Printing the response \n",
    "print(f\"Response code: {response.status_code}; Response: {response.json()}\")"
   ]
  },
  {
   "cell_type": "code",
   "execution_count": 3,
   "metadata": {},
   "outputs": [
    {
     "name": "stdout",
     "output_type": "stream",
     "text": [
      "   id          username                                           password  \\\n",
      "0   4          eligijus  gAAAAABh0ZTKq-0Es9-BzQd-KJ2R8dNY70vFlj3OY_hsC2...   \n",
      "1   5  eligijus_bujokas  gAAAAABh3uroEwCl80d480inMXMCE1TuHjaBYMgmJI3eKL...   \n",
      "2   8              test  gAAAAABh4yQd52YTd1kNu3sGosyT9A5A3oozklA4kpopoM...   \n",
      "\n",
      "                   email           created_datetime  \\\n",
      "0  eligijus@testmail.com 2022-01-02 14:04:26.751085   \n",
      "1  eligijus@testmail.com 2022-01-12 16:51:20.534979   \n",
      "2      test@testmail.com 2022-01-15 21:44:29.771075   \n",
      "\n",
      "            updated_datetime  enabled  \n",
      "0 2022-01-02 14:04:26.751085     True  \n",
      "1 2022-01-12 16:51:20.534979     True  \n",
      "2 2022-01-15 21:44:29.778059    False  \n",
      "\n",
      "Obfuscated password:\n",
      "gAAAAABh0ZTKq-0Es9-BzQd-KJ2R8dNY70vFlj3OY_hsC2kdduIQ4HtnFrSPugX4CnsiThmjBNqWmtHT9oJueUWD8N-mDy8UWP0nmCBlGUnikJzOQzj8tq0=\n"
     ]
    }
   ],
   "source": [
    "# Querying the whole user database\n",
    "from ML_API.database import engine \n",
    "import pandas as pd \n",
    "\n",
    "users = pd.read_sql_table(\"users\", engine)\n",
    "\n",
    "print(users)\n",
    "print(f\"\\nObfuscated password:\\n{users['password'].values[0]}\")"
   ]
  },
  {
   "cell_type": "code",
   "execution_count": 4,
   "metadata": {},
   "outputs": [
    {
     "name": "stdout",
     "output_type": "stream",
     "text": [
      "Response code: 200; Response: {'message': 'User deleted successfully'}\n"
     ]
    }
   ],
   "source": [
    "# Deleting the test user \n",
    "response = requests.delete(f\"{url}/remove-user/{user_id}\")\n",
    "\n",
    "print(f\"Response code: {response.status_code}; Response: {response.json()}\")"
   ]
  },
  {
   "cell_type": "code",
   "execution_count": 5,
   "metadata": {},
   "outputs": [
    {
     "name": "stdout",
     "output_type": "stream",
     "text": [
      "Response code: 201; Response: {'message': 'User created successfully', 'user_id': 9}\n",
      "Response code: 200; Response: {'message': 'User permission updated successfully', 'user_id': 9}\n"
     ]
    }
   ],
   "source": [
    "# Adding the test user once again and disabling it \n",
    "response = requests.post(f\"{url}/register-user\", json=user_dict)\n",
    "print(f\"Response code: {response.status_code}; Response: {response.json()}\")\n",
    "\n",
    "# Saving the user id \n",
    "user_id = response.json().get(\"user_id\")\n",
    "\n",
    "response = requests.put(f\"{url}/toggle-user-permission/{user_id}/0\")\n",
    "print(f\"Response code: {response.status_code}; Response: {response.json()}\")"
   ]
  },
  {
   "cell_type": "markdown",
   "metadata": {},
   "source": [
    "# Summary \n",
    "\n",
    "To summarize, we have created a table called `users` in the database and the only way to interact with it is through 3 endpoints: \n",
    "\n",
    "    * (POST) `/register-user` \n",
    "    * (PUT) `/toggle-user-permission/<user_id>/<0 to disable or 1 to enable>`\n",
    "    * (DELETE) `/remove-user/<user_id>` \n",
    "\n",
    "The passwords in the `users` table are encrypted and safe. "
   ]
  }
 ],
 "metadata": {
  "interpreter": {
   "hash": "702d029752c7c667e866081f4be82ec9765259a2e8484bced05e549319c2e426"
  },
  "kernelspec": {
   "display_name": "Python 3.8.10 64-bit ('api_book': venv)",
   "language": "python",
   "name": "python3"
  },
  "language_info": {
   "codemirror_mode": {
    "name": "ipython",
    "version": 3
   },
   "file_extension": ".py",
   "mimetype": "text/x-python",
   "name": "python",
   "nbconvert_exporter": "python",
   "pygments_lexer": "ipython3",
   "version": "3.8.10"
  }
 },
 "nbformat": 4,
 "nbformat_minor": 2
}