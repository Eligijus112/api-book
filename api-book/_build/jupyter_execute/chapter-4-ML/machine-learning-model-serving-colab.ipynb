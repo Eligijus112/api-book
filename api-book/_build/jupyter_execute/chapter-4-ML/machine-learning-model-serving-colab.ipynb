{
 "cells": [
  {
   "cell_type": "markdown",
   "metadata": {},
   "source": [
    "# Simulating the ML model serving "
   ]
  },
  {
   "cell_type": "markdown",
   "metadata": {},
   "source": [
    "This notebook is used to simulate the serving of the ML model with an interactive input. This is a suplementary notebook of the **Machine Learning serving** interactive book by Eligijus Bujokas. The whole project can be viewed via: https://github.com/Eligijus112/api-book"
   ]
  },
  {
   "cell_type": "markdown",
   "metadata": {},
   "source": [
    "# Loading Python packages "
   ]
  },
  {
   "cell_type": "markdown",
   "metadata": {},
   "source": [
    "All the bellow packages are needed to make the interactive simulation possible. "
   ]
  },
  {
   "cell_type": "code",
   "execution_count": 1,
   "metadata": {},
   "outputs": [],
   "source": [
    "# Json reading \n",
    "import json \n",
    "\n",
    "# Pickle reading \n",
    "import pickle\n",
    "\n",
    "# Operating system functionality \n",
    "import os \n",
    "\n",
    "# Input simulation \n",
    "from ipywidgets import interactive, widgets, interact\n",
    "from IPython.display import display\n",
    "\n",
    "# Data wrangling \n",
    "import pandas as pd\n",
    "\n",
    "# Making requests\n",
    "import requests"
   ]
  },
  {
   "cell_type": "markdown",
   "metadata": {},
   "source": [
    "# Checking the xgboost version "
   ]
  },
  {
   "cell_type": "markdown",
   "metadata": {},
   "source": [
    "We need to make sure that the xboost version in the Google Colab server is on par with the version which was used to create model. "
   ]
  },
  {
   "cell_type": "code",
   "execution_count": 2,
   "metadata": {},
   "outputs": [],
   "source": [
    "# Checking the version \n",
    "import xgboost\n",
    "if xgboost.__version__ != \"1.5.0\":\n",
    "    os.system(\"pip install xgboost==1.5.0\")"
   ]
  },
  {
   "cell_type": "markdown",
   "metadata": {},
   "source": [
    "# Reading the necesary objects from Github "
   ]
  },
  {
   "cell_type": "markdown",
   "metadata": {},
   "source": [
    "Both of the files can be accesed in the public GitHub repository: https://github.com/Eligijus112/api-book/tree/main/api-book/ml_models. \n",
    "\n",
    "The **JSON** dictionary can be accesed with a simple GET request. \n",
    "\n",
    "The pickled machine learning model can be downloaded with the **wget** command from the terminal. Because the backend on which Google Colab notebooks are running is Linux with the installed wget functionality, we can access it in the notebooks with the **!** prefix. "
   ]
  },
  {
   "cell_type": "code",
   "execution_count": 3,
   "metadata": {},
   "outputs": [
    {
     "name": "stdout",
     "output_type": "stream",
     "text": [
      "{'bomb_planted': 'int64', 'ct_health_share': 'float64', 'ct_players_alive': 'float64', 't_players_alive': 'float64', 'ct_defuse_kit_present': 'int64', 'ct_helmets': 'float64', 't_helmets': 'float64'}\n"
     ]
    }
   ],
   "source": [
    "# Loading the features in the master branch \n",
    "url = 'https://raw.githubusercontent.com/Eligijus112/api-book/main/api-book/ml_models/ml-features.json'\n",
    "resp = requests.get(url)\n",
    "features = json.loads(resp.text)\n",
    "print(features)"
   ]
  },
  {
   "cell_type": "code",
   "execution_count": 4,
   "metadata": {},
   "outputs": [
    {
     "name": "stdout",
     "output_type": "stream",
     "text": [
      "--2022-01-05 06:44:30--  https://github.com/Eligijus112/api-book/raw/main/api-book/ml_models/ml-model-lr.pkl\r\n",
      "Resolving github.com (github.com)... 140.82.121.4\r\n",
      "Connecting to github.com (github.com)|140.82.121.4|:443... "
     ]
    },
    {
     "name": "stdout",
     "output_type": "stream",
     "text": [
      "connected.\r\n",
      "HTTP request sent, awaiting response... "
     ]
    },
    {
     "name": "stdout",
     "output_type": "stream",
     "text": [
      "302 Found\r\n",
      "Location: https://raw.githubusercontent.com/Eligijus112/api-book/main/api-book/ml_models/ml-model-lr.pkl [following]\r\n",
      "--2022-01-05 06:44:30--  https://raw.githubusercontent.com/Eligijus112/api-book/main/api-book/ml_models/ml-model-lr.pkl\r\n",
      "Resolving raw.githubusercontent.com (raw.githubusercontent.com)... 185.199.108.133, 185.199.111.133, 185.199.109.133, ...\r\n",
      "Connecting to raw.githubusercontent.com (raw.githubusercontent.com)|185.199.108.133|:443... "
     ]
    },
    {
     "name": "stdout",
     "output_type": "stream",
     "text": [
      "connected.\r\n"
     ]
    },
    {
     "name": "stdout",
     "output_type": "stream",
     "text": [
      "HTTP request sent, awaiting response... "
     ]
    },
    {
     "name": "stdout",
     "output_type": "stream",
     "text": [
      "200 OK\r\n",
      "Length: 975 [application/octet-stream]\r\n",
      "Saving to: ‘ml-model-lr.pkl’\r\n",
      "\r\n",
      "\r",
      "ml-model-lr.pkl       0%[                    ]       0  --.-KB/s               \r",
      "ml-model-lr.pkl     100%[===================>]     975  --.-KB/s    in 0s      \r\n",
      "\r\n",
      "2022-01-05 06:44:30 (25,9 MB/s) - ‘ml-model-lr.pkl’ saved [975/975]\r\n",
      "\r\n"
     ]
    },
    {
     "name": "stdout",
     "output_type": "stream",
     "text": [
      "--2022-01-05 06:44:31--  https://github.com/Eligijus112/api-book/raw/main/api-book/ml_models/ml-model-xgb.pkl\r\n",
      "Resolving github.com (github.com)... 140.82.121.4\r\n",
      "Connecting to github.com (github.com)|140.82.121.4|:443... connected.\r\n"
     ]
    },
    {
     "name": "stdout",
     "output_type": "stream",
     "text": [
      "HTTP request sent, awaiting response... "
     ]
    },
    {
     "name": "stdout",
     "output_type": "stream",
     "text": [
      "302 Found\r\n",
      "Location: https://raw.githubusercontent.com/Eligijus112/api-book/main/api-book/ml_models/ml-model-xgb.pkl [following]\r\n",
      "--2022-01-05 06:44:31--  https://raw.githubusercontent.com/Eligijus112/api-book/main/api-book/ml_models/ml-model-xgb.pkl\r\n",
      "Resolving raw.githubusercontent.com (raw.githubusercontent.com)... 185.199.108.133, 185.199.111.133, 185.199.109.133, ...\r\n",
      "Connecting to raw.githubusercontent.com (raw.githubusercontent.com)|185.199.108.133|:443... connected.\r\n"
     ]
    },
    {
     "name": "stdout",
     "output_type": "stream",
     "text": [
      "HTTP request sent, awaiting response... "
     ]
    },
    {
     "name": "stdout",
     "output_type": "stream",
     "text": [
      "200 OK\r\n",
      "Length: 1226438 (1,2M) [application/octet-stream]\r\n",
      "Saving to: ‘ml-model-xgb.pkl’\r\n",
      "\r\n",
      "\r",
      "ml-model-xgb.pkl      0%[                    ]       0  --.-KB/s               "
     ]
    },
    {
     "name": "stdout",
     "output_type": "stream",
     "text": [
      "\r",
      "ml-model-xgb.pkl    100%[===================>]   1,17M  6,92MB/s    in 0,2s    \r\n",
      "\r\n",
      "2022-01-05 06:44:32 (6,92 MB/s) - ‘ml-model-xgb.pkl’ saved [1226438/1226438]\r\n",
      "\r\n"
     ]
    }
   ],
   "source": [
    "# Downloading the models\n",
    "!wget https://github.com/Eligijus112/api-book/raw/main/api-book/ml_models/ml-model-lr.pkl\n",
    "!wget https://github.com/Eligijus112/api-book/raw/main/api-book/ml_models/ml-model-xgb.pkl\n",
    "\n",
    "# Reading the pickled model \n",
    "model_lr = pickle.load(open(\"ml-model-lr.pkl\", 'rb'))\n",
    "model_xgb = pickle.load(open(\"ml-model-xgb.pkl\", 'rb'))\n",
    "\n",
    "# Deleting the downloaded file \n",
    "!rm ml-model-lr.pkl \n",
    "!rm ml-model-xgb.pkl "
   ]
  },
  {
   "cell_type": "code",
   "execution_count": 5,
   "metadata": {},
   "outputs": [],
   "source": [
    "# Defining the input preparation function \n",
    "def prepare_input(raw_input_dict: dict, features: dict) -> pd.DataFrame:\n",
    "    \"\"\"\n",
    "    Function that accepts the raw input dictionary and the features dictionary and returns a pandas dataframe with the input prepared for the model.\n",
    "    \"\"\"\n",
    "    # Extracting the key names \n",
    "    feature_names = list(raw_input_dict.keys())\n",
    "    original_feature_names = list(features.keys())\n",
    "\n",
    "    # Ensuring that all the keys present in **features** are in **raw_input_dict**\n",
    "    missing_features = set(original_feature_names) - set(feature_names)\n",
    "    if len(missing_features): \n",
    "        return print(f\"Missing features in input: {missing_features}\")\n",
    "\n",
    "    # Iterating and preprocesing \n",
    "    prepared_features = {}\n",
    "    for feature in feature_names:\n",
    "        # Extracting the type of the feature \n",
    "        feature_type = features.get(feature) \n",
    "\n",
    "        # Converting to that type \n",
    "        feature_value = raw_input_dict.get(feature)\n",
    "        \n",
    "        if feature_type == \"float64\":\n",
    "            feature_value = float(feature_value) \n",
    "        \n",
    "        if feature_type == \"int64\":\n",
    "            feature_value = int(feature_value)\n",
    "\n",
    "        # Saving to the prepared features dictionary\n",
    "        prepared_features[feature] = feature_value \n",
    "    \n",
    "    # Creating a dataframe from the prepared features \n",
    "    df = pd.DataFrame(prepared_features, index=[0])\n",
    "\n",
    "    # Ensuring that the names are in the exact order \n",
    "    df = df[original_feature_names]\n",
    "\n",
    "    # Returning the dataframe \n",
    "    return df \n"
   ]
  },
  {
   "cell_type": "markdown",
   "metadata": {},
   "source": [
    "# Interactive serving "
   ]
  },
  {
   "cell_type": "markdown",
   "metadata": {},
   "source": [
    "The interactive model serving is done using Python and the ipywidgets framework: https://ipywidgets.readthedocs.io/en/latest/index.html"
   ]
  },
  {
   "cell_type": "markdown",
   "metadata": {},
   "source": [
    "## Defining the input widgets"
   ]
  },
  {
   "cell_type": "code",
   "execution_count": 6,
   "metadata": {},
   "outputs": [],
   "source": [
    "# Model selection widget \n",
    "model_type_widget = widgets.Dropdown(\n",
    "    options=['Logistic Regression', 'Xgboost'],\n",
    "    value='Logistic Regression', \n",
    "    description=\"ML model type\",\n",
    "    disable=False\n",
    ")\n",
    "\n",
    "# Boolean for bomb planting event \n",
    "bomb_planted_widget = widgets.Checkbox(\n",
    "    value=False,\n",
    "    description='Has the bomb been planted?',\n",
    "    disabled=False\n",
    ")\n",
    "\n",
    "# Boolean for the presence of the difusal kit\n",
    "ct_defuse_kit_present_widget = widgets.Checkbox(\n",
    "    value=False,\n",
    "    description='Is there a difusal kit present in CT team?',\n",
    "    disabled=False\n",
    ")\n",
    "\n",
    "# CT health share of total; the range is (0, 1.0)\n",
    "ct_health_share_widget = widgets.FloatSlider(value=0.5, min=0.0, max=1.0, step=0.05, description='CT health share of total')\n",
    "\n",
    "# Count of CT and T players which are alive\n",
    "ct_players_alive_widget = widgets.Dropdown(\n",
    "    options=list(range(0, 6, 1)),\n",
    "    value=3,\n",
    "    description='The number of alive CT players',\n",
    "    disabled=False,\n",
    ")\n",
    "\n",
    "t_players_alive_widget = widgets.Dropdown(\n",
    "    options=list(range(0, 6, 1)),\n",
    "    value=3,\n",
    "    description='The number of alive T players',\n",
    "    disabled=False,\n",
    ")\n",
    "\n",
    "# Number of helmets in a team \n",
    "ct_helmets_widget = widgets.Dropdown(\n",
    "    options=list(range(0, 6, 1)),\n",
    "    value=3,\n",
    "    description='CT helmets',\n",
    "    disabled=False,\n",
    ")\n",
    "\n",
    "t_helmets_widget = widgets.Dropdown(\n",
    "    options=list(range(0, 6, 1)),\n",
    "    value=3,\n",
    "    description='T helmets',\n",
    "    disabled=False,\n",
    ")\n"
   ]
  },
  {
   "cell_type": "markdown",
   "metadata": {},
   "source": [
    "## Simulation function"
   ]
  },
  {
   "cell_type": "code",
   "execution_count": 7,
   "metadata": {},
   "outputs": [],
   "source": [
    "def get_prob(\n",
    "    model_type,\n",
    "    bomb_planted, \n",
    "    ct_defuse_kit_present,\n",
    "    ct_health_share,\n",
    "    ct_players_alive,\n",
    "    t_players_alive,\n",
    "    ct_helmets, \n",
    "    t_helmets\n",
    "    ):\n",
    "    \"\"\"\n",
    "    Interactive session to experiment with the created ML model \n",
    "    \"\"\"\n",
    "    # Creating the raw input dictionary \n",
    "    raw_input = {\n",
    "        \"bomb_planted\": bomb_planted,\n",
    "        \"ct_defuse_kit_present\": ct_defuse_kit_present,\n",
    "        \"ct_health_share\": ct_health_share, \n",
    "        \"ct_players_alive\": ct_players_alive,\n",
    "        \"t_players_alive\": t_players_alive,\n",
    "        \"ct_helmets\": ct_helmets,\n",
    "        \"t_helmets\": t_helmets\n",
    "    }\n",
    "\n",
    "    # Preparing the input for the model feature importance plot xgboost\n",
    "    raw_input_df = prepare_input(raw_input, features)\n",
    "\n",
    "    # Getting the probabilities \n",
    "    p = [0.5, 0.5]\n",
    "    if model_type == \"Logistic Regression\":\n",
    "        p = model_lr.predict_proba(raw_input_df)[0]\n",
    "    elif model_type == \"Xgboost\":\n",
    "        p = model_xgb.predict_proba(raw_input_df)[0]\n",
    "    \n",
    "    # Extracting the winning probability\n",
    "    p_win = round(p[1], 3)\n",
    "\n",
    "    # Returning the probabilities \n",
    "    print(f\"Probability of CT winning: {p_win}\")"
   ]
  },
  {
   "cell_type": "markdown",
   "metadata": {},
   "source": [
    "## Simulation application "
   ]
  },
  {
   "cell_type": "code",
   "execution_count": 8,
   "metadata": {},
   "outputs": [
    {
     "data": {
      "application/vnd.jupyter.widget-view+json": {
       "model_id": "e542a91fe14d4c8ea7979cc0b73a55b0",
       "version_major": 2,
       "version_minor": 0
      },
      "text/plain": [
       "interactive(children=(Dropdown(description='ML model type', options=('Logistic Regression', 'Xgboost'), value=…"
      ]
     },
     "metadata": {},
     "output_type": "display_data"
    }
   ],
   "source": [
    "# Making the interactive session \n",
    "prob_widget = interactive(\n",
    "    get_prob, \n",
    "    model_type=model_type_widget,\n",
    "    bomb_planted=bomb_planted_widget, \n",
    "    ct_defuse_kit_present=ct_defuse_kit_present_widget,\n",
    "    ct_health_share=ct_health_share_widget,\n",
    "    ct_players_alive=ct_players_alive_widget,\n",
    "    t_players_alive=t_players_alive_widget,\n",
    "    ct_helmets=ct_helmets_widget,\n",
    "    t_helmets=t_helmets_widget,\n",
    ")\n",
    "\n",
    "# Displaying the widget \n",
    "prob_widget"
   ]
  }
 ],
 "metadata": {
  "interpreter": {
   "hash": "702d029752c7c667e866081f4be82ec9765259a2e8484bced05e549319c2e426"
  },
  "kernelspec": {
   "display_name": "Python 3.8.10 64-bit ('api_book': venv)",
   "name": "python3"
  },
  "language_info": {
   "codemirror_mode": {
    "name": "ipython",
    "version": 3
   },
   "file_extension": ".py",
   "mimetype": "text/x-python",
   "name": "python",
   "nbconvert_exporter": "python",
   "pygments_lexer": "ipython3",
   "version": "3.8.10"
  },
  "widgets": {
   "application/vnd.jupyter.widget-state+json": {
    "state": {
     "08042d9531154dacb83c0779324a0bf5": {
      "model_module": "@jupyter-widgets/controls",
      "model_module_version": "1.5.0",
      "model_name": "CheckboxModel",
      "state": {
       "_dom_classes": [],
       "_model_module": "@jupyter-widgets/controls",
       "_model_module_version": "1.5.0",
       "_model_name": "CheckboxModel",
       "_view_count": null,
       "_view_module": "@jupyter-widgets/controls",
       "_view_module_version": "1.5.0",
       "_view_name": "CheckboxView",
       "description": "Is there a difusal kit present in CT team?",
       "description_tooltip": null,
       "disabled": false,
       "indent": true,
       "layout": "IPY_MODEL_b26e188b846e4c3fa0222a4d13d18c8b",
       "style": "IPY_MODEL_4a2cbc49bdf4457e8e5d0292c66c0b07",
       "value": false
      }
     },
     "08cc31d5a7bf43678e679b8efc0e0a3e": {
      "model_module": "@jupyter-widgets/controls",
      "model_module_version": "1.5.0",
      "model_name": "DescriptionStyleModel",
      "state": {
       "_model_module": "@jupyter-widgets/controls",
       "_model_module_version": "1.5.0",
       "_model_name": "DescriptionStyleModel",
       "_view_count": null,
       "_view_module": "@jupyter-widgets/base",
       "_view_module_version": "1.2.0",
       "_view_name": "StyleView",
       "description_width": ""
      }
     },
     "1a50b917d9144ec89bae6429c81d8d10": {
      "model_module": "@jupyter-widgets/controls",
      "model_module_version": "1.5.0",
      "model_name": "DropdownModel",
      "state": {
       "_dom_classes": [],
       "_model_module": "@jupyter-widgets/controls",
       "_model_module_version": "1.5.0",
       "_model_name": "DropdownModel",
       "_options_labels": [
        "0",
        "1",
        "2",
        "3",
        "4",
        "5"
       ],
       "_view_count": null,
       "_view_module": "@jupyter-widgets/controls",
       "_view_module_version": "1.5.0",
       "_view_name": "DropdownView",
       "description": "The number of alive T players",
       "description_tooltip": null,
       "disabled": false,
       "index": 3,
       "layout": "IPY_MODEL_daa68820dc4c45b182cec9f79995d7c1",
       "style": "IPY_MODEL_27a75100b49549c496c00f91a1c85bce"
      }
     },
     "27a75100b49549c496c00f91a1c85bce": {
      "model_module": "@jupyter-widgets/controls",
      "model_module_version": "1.5.0",
      "model_name": "DescriptionStyleModel",
      "state": {
       "_model_module": "@jupyter-widgets/controls",
       "_model_module_version": "1.5.0",
       "_model_name": "DescriptionStyleModel",
       "_view_count": null,
       "_view_module": "@jupyter-widgets/base",
       "_view_module_version": "1.2.0",
       "_view_name": "StyleView",
       "description_width": ""
      }
     },
     "2def51a1d58a4fad813c55c68be5142c": {
      "model_module": "@jupyter-widgets/controls",
      "model_module_version": "1.5.0",
      "model_name": "FloatSliderModel",
      "state": {
       "_dom_classes": [],
       "_model_module": "@jupyter-widgets/controls",
       "_model_module_version": "1.5.0",
       "_model_name": "FloatSliderModel",
       "_view_count": null,
       "_view_module": "@jupyter-widgets/controls",
       "_view_module_version": "1.5.0",
       "_view_name": "FloatSliderView",
       "continuous_update": true,
       "description": "CT health share of total",
       "description_tooltip": null,
       "disabled": false,
       "layout": "IPY_MODEL_d5b32951a126496db4c5bc68d6eb3d40",
       "max": 1.0,
       "min": 0.0,
       "orientation": "horizontal",
       "readout": true,
       "readout_format": ".2f",
       "step": 0.05,
       "style": "IPY_MODEL_65aefc0a632a4a2a822b815d5cae53e4",
       "value": 0.5
      }
     },
     "37369925fb5546b79337e1f780a67d17": {
      "model_module": "@jupyter-widgets/controls",
      "model_module_version": "1.5.0",
      "model_name": "CheckboxModel",
      "state": {
       "_dom_classes": [],
       "_model_module": "@jupyter-widgets/controls",
       "_model_module_version": "1.5.0",
       "_model_name": "CheckboxModel",
       "_view_count": null,
       "_view_module": "@jupyter-widgets/controls",
       "_view_module_version": "1.5.0",
       "_view_name": "CheckboxView",
       "description": "Has the bomb been planted?",
       "description_tooltip": null,
       "disabled": false,
       "indent": true,
       "layout": "IPY_MODEL_ec1b453d24bb4bcbb4175035fb14bf3b",
       "style": "IPY_MODEL_ecb575f3953440949c3d80c74945eca7",
       "value": false
      }
     },
     "48d7fad618b5462d88cc7e44badc0274": {
      "model_module": "@jupyter-widgets/base",
      "model_module_version": "1.2.0",
      "model_name": "LayoutModel",
      "state": {
       "_model_module": "@jupyter-widgets/base",
       "_model_module_version": "1.2.0",
       "_model_name": "LayoutModel",
       "_view_count": null,
       "_view_module": "@jupyter-widgets/base",
       "_view_module_version": "1.2.0",
       "_view_name": "LayoutView",
       "align_content": null,
       "align_items": null,
       "align_self": null,
       "border": null,
       "bottom": null,
       "display": null,
       "flex": null,
       "flex_flow": null,
       "grid_area": null,
       "grid_auto_columns": null,
       "grid_auto_flow": null,
       "grid_auto_rows": null,
       "grid_column": null,
       "grid_gap": null,
       "grid_row": null,
       "grid_template_areas": null,
       "grid_template_columns": null,
       "grid_template_rows": null,
       "height": null,
       "justify_content": null,
       "justify_items": null,
       "left": null,
       "margin": null,
       "max_height": null,
       "max_width": null,
       "min_height": null,
       "min_width": null,
       "object_fit": null,
       "object_position": null,
       "order": null,
       "overflow": null,
       "overflow_x": null,
       "overflow_y": null,
       "padding": null,
       "right": null,
       "top": null,
       "visibility": null,
       "width": null
      }
     },
     "4a2cbc49bdf4457e8e5d0292c66c0b07": {
      "model_module": "@jupyter-widgets/controls",
      "model_module_version": "1.5.0",
      "model_name": "DescriptionStyleModel",
      "state": {
       "_model_module": "@jupyter-widgets/controls",
       "_model_module_version": "1.5.0",
       "_model_name": "DescriptionStyleModel",
       "_view_count": null,
       "_view_module": "@jupyter-widgets/base",
       "_view_module_version": "1.2.0",
       "_view_name": "StyleView",
       "description_width": ""
      }
     },
     "55bfea27430b4686b39e97ab58c9405e": {
      "model_module": "@jupyter-widgets/controls",
      "model_module_version": "1.5.0",
      "model_name": "DropdownModel",
      "state": {
       "_dom_classes": [],
       "_model_module": "@jupyter-widgets/controls",
       "_model_module_version": "1.5.0",
       "_model_name": "DropdownModel",
       "_options_labels": [
        "Logistic Regression",
        "Xgboost"
       ],
       "_view_count": null,
       "_view_module": "@jupyter-widgets/controls",
       "_view_module_version": "1.5.0",
       "_view_name": "DropdownView",
       "description": "ML model type",
       "description_tooltip": null,
       "disabled": false,
       "index": 0,
       "layout": "IPY_MODEL_739f775fe8d048589d06deb6adcff7cd",
       "style": "IPY_MODEL_d7fa55ac05034c2f8ee4707920b55b8a"
      }
     },
     "5b065f74d07b4d33a717f030d52fc97f": {
      "model_module": "@jupyter-widgets/controls",
      "model_module_version": "1.5.0",
      "model_name": "DropdownModel",
      "state": {
       "_dom_classes": [],
       "_model_module": "@jupyter-widgets/controls",
       "_model_module_version": "1.5.0",
       "_model_name": "DropdownModel",
       "_options_labels": [
        "0",
        "1",
        "2",
        "3",
        "4",
        "5"
       ],
       "_view_count": null,
       "_view_module": "@jupyter-widgets/controls",
       "_view_module_version": "1.5.0",
       "_view_name": "DropdownView",
       "description": "CT helmets",
       "description_tooltip": null,
       "disabled": false,
       "index": 3,
       "layout": "IPY_MODEL_68eab3a1982042eebf450ebae6a9a71a",
       "style": "IPY_MODEL_08cc31d5a7bf43678e679b8efc0e0a3e"
      }
     },
     "65aefc0a632a4a2a822b815d5cae53e4": {
      "model_module": "@jupyter-widgets/controls",
      "model_module_version": "1.5.0",
      "model_name": "SliderStyleModel",
      "state": {
       "_model_module": "@jupyter-widgets/controls",
       "_model_module_version": "1.5.0",
       "_model_name": "SliderStyleModel",
       "_view_count": null,
       "_view_module": "@jupyter-widgets/base",
       "_view_module_version": "1.2.0",
       "_view_name": "StyleView",
       "description_width": "",
       "handle_color": null
      }
     },
     "68eab3a1982042eebf450ebae6a9a71a": {
      "model_module": "@jupyter-widgets/base",
      "model_module_version": "1.2.0",
      "model_name": "LayoutModel",
      "state": {
       "_model_module": "@jupyter-widgets/base",
       "_model_module_version": "1.2.0",
       "_model_name": "LayoutModel",
       "_view_count": null,
       "_view_module": "@jupyter-widgets/base",
       "_view_module_version": "1.2.0",
       "_view_name": "LayoutView",
       "align_content": null,
       "align_items": null,
       "align_self": null,
       "border": null,
       "bottom": null,
       "display": null,
       "flex": null,
       "flex_flow": null,
       "grid_area": null,
       "grid_auto_columns": null,
       "grid_auto_flow": null,
       "grid_auto_rows": null,
       "grid_column": null,
       "grid_gap": null,
       "grid_row": null,
       "grid_template_areas": null,
       "grid_template_columns": null,
       "grid_template_rows": null,
       "height": null,
       "justify_content": null,
       "justify_items": null,
       "left": null,
       "margin": null,
       "max_height": null,
       "max_width": null,
       "min_height": null,
       "min_width": null,
       "object_fit": null,
       "object_position": null,
       "order": null,
       "overflow": null,
       "overflow_x": null,
       "overflow_y": null,
       "padding": null,
       "right": null,
       "top": null,
       "visibility": null,
       "width": null
      }
     },
     "697b8461ed224e558be57cbeeb62188c": {
      "model_module": "@jupyter-widgets/controls",
      "model_module_version": "1.5.0",
      "model_name": "DescriptionStyleModel",
      "state": {
       "_model_module": "@jupyter-widgets/controls",
       "_model_module_version": "1.5.0",
       "_model_name": "DescriptionStyleModel",
       "_view_count": null,
       "_view_module": "@jupyter-widgets/base",
       "_view_module_version": "1.2.0",
       "_view_name": "StyleView",
       "description_width": ""
      }
     },
     "739f775fe8d048589d06deb6adcff7cd": {
      "model_module": "@jupyter-widgets/base",
      "model_module_version": "1.2.0",
      "model_name": "LayoutModel",
      "state": {
       "_model_module": "@jupyter-widgets/base",
       "_model_module_version": "1.2.0",
       "_model_name": "LayoutModel",
       "_view_count": null,
       "_view_module": "@jupyter-widgets/base",
       "_view_module_version": "1.2.0",
       "_view_name": "LayoutView",
       "align_content": null,
       "align_items": null,
       "align_self": null,
       "border": null,
       "bottom": null,
       "display": null,
       "flex": null,
       "flex_flow": null,
       "grid_area": null,
       "grid_auto_columns": null,
       "grid_auto_flow": null,
       "grid_auto_rows": null,
       "grid_column": null,
       "grid_gap": null,
       "grid_row": null,
       "grid_template_areas": null,
       "grid_template_columns": null,
       "grid_template_rows": null,
       "height": null,
       "justify_content": null,
       "justify_items": null,
       "left": null,
       "margin": null,
       "max_height": null,
       "max_width": null,
       "min_height": null,
       "min_width": null,
       "object_fit": null,
       "object_position": null,
       "order": null,
       "overflow": null,
       "overflow_x": null,
       "overflow_y": null,
       "padding": null,
       "right": null,
       "top": null,
       "visibility": null,
       "width": null
      }
     },
     "a109bc648c6146e0b2cd3583380c7ce7": {
      "model_module": "@jupyter-widgets/base",
      "model_module_version": "1.2.0",
      "model_name": "LayoutModel",
      "state": {
       "_model_module": "@jupyter-widgets/base",
       "_model_module_version": "1.2.0",
       "_model_name": "LayoutModel",
       "_view_count": null,
       "_view_module": "@jupyter-widgets/base",
       "_view_module_version": "1.2.0",
       "_view_name": "LayoutView",
       "align_content": null,
       "align_items": null,
       "align_self": null,
       "border": null,
       "bottom": null,
       "display": null,
       "flex": null,
       "flex_flow": null,
       "grid_area": null,
       "grid_auto_columns": null,
       "grid_auto_flow": null,
       "grid_auto_rows": null,
       "grid_column": null,
       "grid_gap": null,
       "grid_row": null,
       "grid_template_areas": null,
       "grid_template_columns": null,
       "grid_template_rows": null,
       "height": null,
       "justify_content": null,
       "justify_items": null,
       "left": null,
       "margin": null,
       "max_height": null,
       "max_width": null,
       "min_height": null,
       "min_width": null,
       "object_fit": null,
       "object_position": null,
       "order": null,
       "overflow": null,
       "overflow_x": null,
       "overflow_y": null,
       "padding": null,
       "right": null,
       "top": null,
       "visibility": null,
       "width": null
      }
     },
     "b26e188b846e4c3fa0222a4d13d18c8b": {
      "model_module": "@jupyter-widgets/base",
      "model_module_version": "1.2.0",
      "model_name": "LayoutModel",
      "state": {
       "_model_module": "@jupyter-widgets/base",
       "_model_module_version": "1.2.0",
       "_model_name": "LayoutModel",
       "_view_count": null,
       "_view_module": "@jupyter-widgets/base",
       "_view_module_version": "1.2.0",
       "_view_name": "LayoutView",
       "align_content": null,
       "align_items": null,
       "align_self": null,
       "border": null,
       "bottom": null,
       "display": null,
       "flex": null,
       "flex_flow": null,
       "grid_area": null,
       "grid_auto_columns": null,
       "grid_auto_flow": null,
       "grid_auto_rows": null,
       "grid_column": null,
       "grid_gap": null,
       "grid_row": null,
       "grid_template_areas": null,
       "grid_template_columns": null,
       "grid_template_rows": null,
       "height": null,
       "justify_content": null,
       "justify_items": null,
       "left": null,
       "margin": null,
       "max_height": null,
       "max_width": null,
       "min_height": null,
       "min_width": null,
       "object_fit": null,
       "object_position": null,
       "order": null,
       "overflow": null,
       "overflow_x": null,
       "overflow_y": null,
       "padding": null,
       "right": null,
       "top": null,
       "visibility": null,
       "width": null
      }
     },
     "b4b358e41ba64c1b868b597812449af6": {
      "model_module": "@jupyter-widgets/base",
      "model_module_version": "1.2.0",
      "model_name": "LayoutModel",
      "state": {
       "_model_module": "@jupyter-widgets/base",
       "_model_module_version": "1.2.0",
       "_model_name": "LayoutModel",
       "_view_count": null,
       "_view_module": "@jupyter-widgets/base",
       "_view_module_version": "1.2.0",
       "_view_name": "LayoutView",
       "align_content": null,
       "align_items": null,
       "align_self": null,
       "border": null,
       "bottom": null,
       "display": null,
       "flex": null,
       "flex_flow": null,
       "grid_area": null,
       "grid_auto_columns": null,
       "grid_auto_flow": null,
       "grid_auto_rows": null,
       "grid_column": null,
       "grid_gap": null,
       "grid_row": null,
       "grid_template_areas": null,
       "grid_template_columns": null,
       "grid_template_rows": null,
       "height": null,
       "justify_content": null,
       "justify_items": null,
       "left": null,
       "margin": null,
       "max_height": null,
       "max_width": null,
       "min_height": null,
       "min_width": null,
       "object_fit": null,
       "object_position": null,
       "order": null,
       "overflow": null,
       "overflow_x": null,
       "overflow_y": null,
       "padding": null,
       "right": null,
       "top": null,
       "visibility": null,
       "width": null
      }
     },
     "bcc71fda35224d64a360b066f7ef6c12": {
      "model_module": "@jupyter-widgets/output",
      "model_module_version": "1.0.0",
      "model_name": "OutputModel",
      "state": {
       "_dom_classes": [],
       "_model_module": "@jupyter-widgets/output",
       "_model_module_version": "1.0.0",
       "_model_name": "OutputModel",
       "_view_count": null,
       "_view_module": "@jupyter-widgets/output",
       "_view_module_version": "1.0.0",
       "_view_name": "OutputView",
       "layout": "IPY_MODEL_48d7fad618b5462d88cc7e44badc0274",
       "msg_id": "",
       "outputs": [
        {
         "name": "stdout",
         "output_type": "stream",
         "text": "Probability of CT winning: 0.403\n"
        }
       ]
      }
     },
     "c60a852d09324738aec1c919934688f5": {
      "model_module": "@jupyter-widgets/base",
      "model_module_version": "1.2.0",
      "model_name": "LayoutModel",
      "state": {
       "_model_module": "@jupyter-widgets/base",
       "_model_module_version": "1.2.0",
       "_model_name": "LayoutModel",
       "_view_count": null,
       "_view_module": "@jupyter-widgets/base",
       "_view_module_version": "1.2.0",
       "_view_name": "LayoutView",
       "align_content": null,
       "align_items": null,
       "align_self": null,
       "border": null,
       "bottom": null,
       "display": null,
       "flex": null,
       "flex_flow": null,
       "grid_area": null,
       "grid_auto_columns": null,
       "grid_auto_flow": null,
       "grid_auto_rows": null,
       "grid_column": null,
       "grid_gap": null,
       "grid_row": null,
       "grid_template_areas": null,
       "grid_template_columns": null,
       "grid_template_rows": null,
       "height": null,
       "justify_content": null,
       "justify_items": null,
       "left": null,
       "margin": null,
       "max_height": null,
       "max_width": null,
       "min_height": null,
       "min_width": null,
       "object_fit": null,
       "object_position": null,
       "order": null,
       "overflow": null,
       "overflow_x": null,
       "overflow_y": null,
       "padding": null,
       "right": null,
       "top": null,
       "visibility": null,
       "width": null
      }
     },
     "cc224c6b5e9441a38422baff56762fe5": {
      "model_module": "@jupyter-widgets/controls",
      "model_module_version": "1.5.0",
      "model_name": "DropdownModel",
      "state": {
       "_dom_classes": [],
       "_model_module": "@jupyter-widgets/controls",
       "_model_module_version": "1.5.0",
       "_model_name": "DropdownModel",
       "_options_labels": [
        "0",
        "1",
        "2",
        "3",
        "4",
        "5"
       ],
       "_view_count": null,
       "_view_module": "@jupyter-widgets/controls",
       "_view_module_version": "1.5.0",
       "_view_name": "DropdownView",
       "description": "T helmets",
       "description_tooltip": null,
       "disabled": false,
       "index": 3,
       "layout": "IPY_MODEL_a109bc648c6146e0b2cd3583380c7ce7",
       "style": "IPY_MODEL_697b8461ed224e558be57cbeeb62188c"
      }
     },
     "d5b32951a126496db4c5bc68d6eb3d40": {
      "model_module": "@jupyter-widgets/base",
      "model_module_version": "1.2.0",
      "model_name": "LayoutModel",
      "state": {
       "_model_module": "@jupyter-widgets/base",
       "_model_module_version": "1.2.0",
       "_model_name": "LayoutModel",
       "_view_count": null,
       "_view_module": "@jupyter-widgets/base",
       "_view_module_version": "1.2.0",
       "_view_name": "LayoutView",
       "align_content": null,
       "align_items": null,
       "align_self": null,
       "border": null,
       "bottom": null,
       "display": null,
       "flex": null,
       "flex_flow": null,
       "grid_area": null,
       "grid_auto_columns": null,
       "grid_auto_flow": null,
       "grid_auto_rows": null,
       "grid_column": null,
       "grid_gap": null,
       "grid_row": null,
       "grid_template_areas": null,
       "grid_template_columns": null,
       "grid_template_rows": null,
       "height": null,
       "justify_content": null,
       "justify_items": null,
       "left": null,
       "margin": null,
       "max_height": null,
       "max_width": null,
       "min_height": null,
       "min_width": null,
       "object_fit": null,
       "object_position": null,
       "order": null,
       "overflow": null,
       "overflow_x": null,
       "overflow_y": null,
       "padding": null,
       "right": null,
       "top": null,
       "visibility": null,
       "width": null
      }
     },
     "d7fa55ac05034c2f8ee4707920b55b8a": {
      "model_module": "@jupyter-widgets/controls",
      "model_module_version": "1.5.0",
      "model_name": "DescriptionStyleModel",
      "state": {
       "_model_module": "@jupyter-widgets/controls",
       "_model_module_version": "1.5.0",
       "_model_name": "DescriptionStyleModel",
       "_view_count": null,
       "_view_module": "@jupyter-widgets/base",
       "_view_module_version": "1.2.0",
       "_view_name": "StyleView",
       "description_width": ""
      }
     },
     "daa68820dc4c45b182cec9f79995d7c1": {
      "model_module": "@jupyter-widgets/base",
      "model_module_version": "1.2.0",
      "model_name": "LayoutModel",
      "state": {
       "_model_module": "@jupyter-widgets/base",
       "_model_module_version": "1.2.0",
       "_model_name": "LayoutModel",
       "_view_count": null,
       "_view_module": "@jupyter-widgets/base",
       "_view_module_version": "1.2.0",
       "_view_name": "LayoutView",
       "align_content": null,
       "align_items": null,
       "align_self": null,
       "border": null,
       "bottom": null,
       "display": null,
       "flex": null,
       "flex_flow": null,
       "grid_area": null,
       "grid_auto_columns": null,
       "grid_auto_flow": null,
       "grid_auto_rows": null,
       "grid_column": null,
       "grid_gap": null,
       "grid_row": null,
       "grid_template_areas": null,
       "grid_template_columns": null,
       "grid_template_rows": null,
       "height": null,
       "justify_content": null,
       "justify_items": null,
       "left": null,
       "margin": null,
       "max_height": null,
       "max_width": null,
       "min_height": null,
       "min_width": null,
       "object_fit": null,
       "object_position": null,
       "order": null,
       "overflow": null,
       "overflow_x": null,
       "overflow_y": null,
       "padding": null,
       "right": null,
       "top": null,
       "visibility": null,
       "width": null
      }
     },
     "e346693058af4c4bb97de674c5fa46e2": {
      "model_module": "@jupyter-widgets/controls",
      "model_module_version": "1.5.0",
      "model_name": "DescriptionStyleModel",
      "state": {
       "_model_module": "@jupyter-widgets/controls",
       "_model_module_version": "1.5.0",
       "_model_name": "DescriptionStyleModel",
       "_view_count": null,
       "_view_module": "@jupyter-widgets/base",
       "_view_module_version": "1.2.0",
       "_view_name": "StyleView",
       "description_width": ""
      }
     },
     "e542a91fe14d4c8ea7979cc0b73a55b0": {
      "model_module": "@jupyter-widgets/controls",
      "model_module_version": "1.5.0",
      "model_name": "VBoxModel",
      "state": {
       "_dom_classes": [
        "widget-interact"
       ],
       "_model_module": "@jupyter-widgets/controls",
       "_model_module_version": "1.5.0",
       "_model_name": "VBoxModel",
       "_view_count": null,
       "_view_module": "@jupyter-widgets/controls",
       "_view_module_version": "1.5.0",
       "_view_name": "VBoxView",
       "box_style": "",
       "children": [
        "IPY_MODEL_55bfea27430b4686b39e97ab58c9405e",
        "IPY_MODEL_37369925fb5546b79337e1f780a67d17",
        "IPY_MODEL_08042d9531154dacb83c0779324a0bf5",
        "IPY_MODEL_2def51a1d58a4fad813c55c68be5142c",
        "IPY_MODEL_fc963521661c494fbe06413912e510bf",
        "IPY_MODEL_1a50b917d9144ec89bae6429c81d8d10",
        "IPY_MODEL_5b065f74d07b4d33a717f030d52fc97f",
        "IPY_MODEL_cc224c6b5e9441a38422baff56762fe5",
        "IPY_MODEL_bcc71fda35224d64a360b066f7ef6c12"
       ],
       "layout": "IPY_MODEL_c60a852d09324738aec1c919934688f5"
      }
     },
     "ec1b453d24bb4bcbb4175035fb14bf3b": {
      "model_module": "@jupyter-widgets/base",
      "model_module_version": "1.2.0",
      "model_name": "LayoutModel",
      "state": {
       "_model_module": "@jupyter-widgets/base",
       "_model_module_version": "1.2.0",
       "_model_name": "LayoutModel",
       "_view_count": null,
       "_view_module": "@jupyter-widgets/base",
       "_view_module_version": "1.2.0",
       "_view_name": "LayoutView",
       "align_content": null,
       "align_items": null,
       "align_self": null,
       "border": null,
       "bottom": null,
       "display": null,
       "flex": null,
       "flex_flow": null,
       "grid_area": null,
       "grid_auto_columns": null,
       "grid_auto_flow": null,
       "grid_auto_rows": null,
       "grid_column": null,
       "grid_gap": null,
       "grid_row": null,
       "grid_template_areas": null,
       "grid_template_columns": null,
       "grid_template_rows": null,
       "height": null,
       "justify_content": null,
       "justify_items": null,
       "left": null,
       "margin": null,
       "max_height": null,
       "max_width": null,
       "min_height": null,
       "min_width": null,
       "object_fit": null,
       "object_position": null,
       "order": null,
       "overflow": null,
       "overflow_x": null,
       "overflow_y": null,
       "padding": null,
       "right": null,
       "top": null,
       "visibility": null,
       "width": null
      }
     },
     "ecb575f3953440949c3d80c74945eca7": {
      "model_module": "@jupyter-widgets/controls",
      "model_module_version": "1.5.0",
      "model_name": "DescriptionStyleModel",
      "state": {
       "_model_module": "@jupyter-widgets/controls",
       "_model_module_version": "1.5.0",
       "_model_name": "DescriptionStyleModel",
       "_view_count": null,
       "_view_module": "@jupyter-widgets/base",
       "_view_module_version": "1.2.0",
       "_view_name": "StyleView",
       "description_width": ""
      }
     },
     "fc963521661c494fbe06413912e510bf": {
      "model_module": "@jupyter-widgets/controls",
      "model_module_version": "1.5.0",
      "model_name": "DropdownModel",
      "state": {
       "_dom_classes": [],
       "_model_module": "@jupyter-widgets/controls",
       "_model_module_version": "1.5.0",
       "_model_name": "DropdownModel",
       "_options_labels": [
        "0",
        "1",
        "2",
        "3",
        "4",
        "5"
       ],
       "_view_count": null,
       "_view_module": "@jupyter-widgets/controls",
       "_view_module_version": "1.5.0",
       "_view_name": "DropdownView",
       "description": "The number of alive CT players",
       "description_tooltip": null,
       "disabled": false,
       "index": 3,
       "layout": "IPY_MODEL_b4b358e41ba64c1b868b597812449af6",
       "style": "IPY_MODEL_e346693058af4c4bb97de674c5fa46e2"
      }
     }
    },
    "version_major": 2,
    "version_minor": 0
   }
  }
 },
 "nbformat": 4,
 "nbformat_minor": 2
}