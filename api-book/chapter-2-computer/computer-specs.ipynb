{
 "cells": [
  {
   "cell_type": "markdown",
   "metadata": {},
   "source": [
    "# Building blocks of a computer"
   ]
  },
  {
   "cell_type": "markdown",
   "metadata": {},
   "source": [
    "All the creation of the ML models and model serving could not be possible without a computer. Ussualy, when a project starts and the initial meetings take place, a large part of the conversation is about what hardware to use and how much will it cost. In order to estimate the potential costs and having in mind the scope of the project, it is imperative to know at least on the high level what are the main components of the computer from the standpoint of an Machine Learning engineer. The main parts, along with the popular acronyms, are: \n",
    "\n",
    "* Disk space - SSD and HDD \n",
    "* Processors - CPU units \n",
    "* Random access memory - RAM \n",
    "* Graphical units - GPU  \n",
    "* Operating systems"
   ]
  },
  {
   "cell_type": "markdown",
   "metadata": {},
   "source": [
    "# What is a computer? "
   ]
  },
  {
   "cell_type": "markdown",
   "metadata": {},
   "source": [
    "As per wiki {cite}`wiki:computers`: \n",
    "\n",
    "***\"A computer is a machine that can be programmed to carry out sequences of arithmetic or logical operations automatically.\"***\n",
    "\n",
    "The author Jonathan E. Steinhart augments this definition with some of this thoughts: \n",
    "\n",
    "***\"Sending email and playing games are made possible by programs running on computers. The computer itself is like a newborn baby. It doesn’t really know how to do much. We hardly ever think about the basic machinery of human beings, because we mostly interact with the personalities that are running on that basic machinery, just like programs running on computers. For example, when you’re on a web page, you’re not reading it using just the computer itself; you’re reading it using programs someone else wrote that are running on your computer, the computer hosting the web page, and all of the computers in between that make the internet function.\"***\n",
    "\n",
    "Putting these definitions and thoughts in simpler terms, a computer is a machine with various hardware parts working together in order to run software programs. \n",
    "\n",
    "From a machine learning practitioner point of view, **a computer is a machine which uses disk space, processors, computer memory, graphical units and operating systems in order to serve machine learning models to the client**.  "
   ]
  },
  {
   "cell_type": "markdown",
   "metadata": {},
   "source": [
    "# Main component of modern computers"
   ]
  },
  {
   "cell_type": "markdown",
   "metadata": {},
   "source": [
    "Computers would not be that usefull if we could not store some data into it and the access it later. The building blocks of computer memory are **bits**. The bit represents a logical state with one of two possible values most commonly denoted as **1 or 0**, **True or False**. How does a computer know when a bit has a value of 1 or 0? This is where transistors{cite}`transistors` come into play. A transistor is one of the most influential inventions in the modern history, enabling anyone to have a powerfull and cheap computers in their households, communications between computers and overall transistors enable the internal calculation logic inside the computers. \n",
    "\n",
    "**\"You don’t need to know everything about the guts of transistors. The important thing to know is that a transistor is made on a substrate, or slab, of some semiconducting material, usually silicon. Unlike other technologies such as gears, valves, relays, and vacuum tubes, transistors aren’t individually manufactured objects. They’re made through a process called photolithography, which involves projecting a picture of a transistor onto a silicon wafer and developing it. This process is suitable for mass production because large numbers of transistors can be projected onto a single silicon wafer substrate, developed, and then sliced up into individual components.\"**{cite}`secret_life_computers`\n",
    "\n",
    "![transistor](media/transistor.jpeg)"
   ]
  },
  {
   "cell_type": "markdown",
   "metadata": {},
   "source": [
    "One of the main uses of a transistor is that it can \"hold\" voltage. To simplify things and to build intuition, we can say that a transistor is \"on\" or has a state of \"1\" when there is voltage in it, and the transistor is \"off\" or it's state is \"0\" if there is no voltage in it.\n",
    "\n",
    "A single transistor would not be much usefull, because we could only store 1 bit of information in it. Modern computers have integrated circuits that have millions and more transistors inside of them. \n",
    "\n",
    "![transistor](media/circuit.png)\n",
    "\n",
    "This means that a single circuit can hold millions, billions and even more bits. These bits can be accessed by a computer in a billionths of a second. If you open up your desktop computer you would see alot of integrated circuits bunched up together which forms a certain architecture. But no matter how many circuits and transistors there are in a computer, no matter the marketing messages, all the modern computer computation and data storage logic depends on a very simple fact that a single transistor can be either \"1\" or \"0\"."
   ]
  },
  {
   "cell_type": "markdown",
   "metadata": {},
   "source": [
    "# Disk space "
   ]
  },
  {
   "cell_type": "markdown",
   "metadata": {},
   "source": [
    "In order to store files, data, models and to execute **scripts.py** files we need storage space inside a computer to put them in. Nowadays, there are two main types of hardware used for storage: **hard disk drives (HDD)** and **solid state drives (SSD)**."
   ]
  },
  {
   "cell_type": "markdown",
   "metadata": {},
   "source": [
    "## HDDs "
   ]
  },
  {
   "cell_type": "markdown",
   "metadata": {},
   "source": [
    "A typical hard disk drive looks like this: \n",
    "\n",
    "![HDD-example](media/hdd.jpg)\n",
    "\n",
    "The most important parts are the disk where the data is stored and the \"needle\" on top of the round disk which is used to extract the data. That needle is refered to as the **head**.\n",
    "\n",
    "**\"It takes time to talk to memory. Imagine you had to go to the store every time you needed a cup of flour. It’s much more practical to go to the store once and bring home a whole sack of flour. Larger memory devices use this principle. Think warehouse shopping for bits. Disk drives, also known as mass storage, are great for storing immense amounts of data. \\<...>\\. They’re often referred to as mass storage. Some religious institutions use mass storage for their ceremonies in between use. Disk drives store bits on rotating magnetic platters, sort of like a lazy Susan. Bits periodically come around to where you’re sitting, and you use your hand to pluck them off or put them on.** \n",
    "\n",
    "**In a disk drive, your hand is replaced by the disk head. Disk drives are relatively slow compared to other types of memory. If you want something that just passed by the head, you have to wait almost an entire rotation for it to come around again. Modern disks spin at 7,200 rotations per minute (RPM), which means a rotation takes slightly longer than 8 milliseconds. The big problem with disk drives is that they’re mechanical and wear out. Bearing wear is one of the big causes of disk failure The difference between commercial and consumer-grade devices is primarily the amount of grease in the bearing—manufacturers are able to charge hundreds of dollars for something that costs less than a penny Disk drives store data by magnetizing areas on the disk, which makes them nonvolatile just like core memory. Disk drives are a trade-off between speed and density. They’re slow because of the time it takes for the bits you want to show up under the head, but because the data is being brought to the head, no space is required for address and data connections, unlike, for example, in a DRAM. They’re built in sealed containers because dust and dirt would cause them to fail.\"**{cite}`secret_life_computers`"
   ]
  },
  {
   "cell_type": "markdown",
   "metadata": {},
   "source": [
    "## SSDs"
   ]
  },
  {
   "cell_type": "markdown",
   "metadata": {},
   "source": [
    "A solid state drive is a type of memory storing hardware that uses transistors and bites to store information. A typical SSD drive looks like this: \n",
    "\n",
    "![SSD-example](media/ssd.jpg)\n",
    "\n",
    "As one can see, an SSD has electronic circuits in it which are used to store data. Because there are no spinning parts and the memory can be accessed almost instantly, the SSD is becoming the more dominant technology in storing data. \n",
    "\n",
    "**\"It works like RAM for reading and also for writing a blank device filled with 0s. But although 0s can be turned into 1s, they can’t be turned back without being erased first. Flash memory is internally divided into blocks, and only blocks can be erased, not individual locations. Flash memory devices are random-access for reads, and block-access for writes. Disk drives are slowly being replaced by solid-state disk drives, which are pretty much just flash memory packaged up to look like a disk drive. Right now their price per bit is much higher than spinning disks, but that’s expected to change. Because flash memory wears out, solid-state drives include a processor that keeps track of the usages in different blocks and tries to even it out so that all blocks wear out at the same rate.\"**{cite}`secret_life_computers`\n",
    "\n",
    "Acording to a research by David Floyer{cite}`wikibon` the SSDs will become more cheap in terms of cost per gigabyte by 2026: \n",
    "\n",
    "![SSD-vs-HDD](media/SSD-vs-HDD.jpg)"
   ]
  },
  {
   "cell_type": "markdown",
   "metadata": {},
   "source": [
    "# CPU "
   ]
  },
  {
   "cell_type": "markdown",
   "metadata": {},
   "source": [
    "A **Central Procesing Unit** in a computer gives out commands to all the other hardware inside of the computer. It also serves as an interaction point between a program (piece of software code) and the internal hardware. A typical CPU: \n",
    "\n",
    "![CPU-example](media/cpu.jpg)\n",
    "\n",
    "A CPU is made of billions of transistors which are bundled together into electronic circuits. Circuits bundled up with a processor form a **core**. \n",
    "\n",
    "A processor is a circuit that executes instructions from the programs to the hardware components and back. \n",
    "\n",
    "In the past, all the CPUs were single core units. Nowadays, the most common form of a CPU is a multi-core CPU: \n",
    "\n",
    "![CPU-multi-example](media/multi-core-cpu.png)\n",
    "\n",
    "All individual cores have an environment dedicated to them (memory, instructions, objects, etc.) and there is a shared memory space.\n",
    "\n",
    "To list the information about a CPU in an Ubuntu machine use the command: \n",
    "\n",
    "```\n",
    "lscpu\n",
    "```\n",
    "\n",
    "It should print out something similar: \n",
    "\n",
    "```\n",
    "Architecture:                    x86_64\n",
    "CPU op-mode(s):                  32-bit, 64-bit\n",
    "Byte Order:                      Little Endian\n",
    "Address sizes:                   48 bits physical, 48 bits virtual\n",
    "CPU(s):                          16\n",
    "On-line CPU(s) list:             0-15\n",
    "Thread(s) per core:              2\n",
    "Core(s) per socket:              8\n",
    "Socket(s):                       1\n",
    "NUMA node(s):                    1\n",
    "Vendor ID:                       AuthenticAMD\n",
    "CPU family:                      25\n",
    "Model:                           33\n",
    "Model name:                      AMD Ryzen 7 5800X 8-Core Processor\n",
    "...\n",
    "```\n",
    "\n",
    "The CPU with the above information has 16 cores and 32 **threads** in total (**2 Thread(s) per core** * **CPU(s)** = 16 * 2 = 32). "
   ]
  },
  {
   "cell_type": "markdown",
   "metadata": {},
   "source": [
    "## Threads"
   ]
  },
  {
   "cell_type": "markdown",
   "metadata": {},
   "source": [
    "There are two types of threads in regards to a CPU: **hardware threads** and **software threads**.\n",
    "\n",
    "A hardware thred refers to the highest level of code (set of instructions) executed by a processor. Each CPU core has at least one thread, but nowadays, in terms of hardware, there are two threads per CPU. So, in the case of the example above, while having 16 physical cores on a chip, there are 16 additional \"virtual\" cores who can be used to give out instructions to programs. In practise, from a program point of view, a computer with 16 cores and 2 threads per core has 32 cores. \n",
    "\n",
    "Software threads are the smallest sequence of instructons that can be managed independently. Even if you have 32 hardware threads, you can have thousands of software threads. Software threads form units of **processes**. Each process can have many threads. For example, a command in Linux to show the CPU usage is **htop**: \n",
    "\n",
    "```\n",
    "# Install first if not present with \n",
    "# apt-get install htop\n",
    "\n",
    "# Run the command\n",
    "htop\n",
    "```\n",
    "\n",
    "A snapshot of a typical output: \n",
    "\n",
    "![htop](media/htop.png)\n",
    "\n",
    "The above output shows the physical cores available (16) and, along other things, it shows that the total number of active processes running (tasks) are **281** and those proceses have **1561** threads running. All the individual processes are listed in real time as well. Each process has a PID (process identification number) assigned to it. "
   ]
  },
  {
   "cell_type": "markdown",
   "metadata": {},
   "source": [
    "# RAM"
   ]
  },
  {
   "cell_type": "markdown",
   "metadata": {},
   "source": [
    "RAM is short for random access memory. A typical hardware piece of RAM looks like this: \n",
    "\n",
    "![RAM](media/RAM.jpg)\n",
    "\n",
    "A RAM piece has transistors and circuits on it and the main usage for RAM is to almost instantaneously transfer information from CPU back and forth (hence the term access memory)."
   ]
  }
 ],
 "metadata": {
  "interpreter": {
   "hash": "702d029752c7c667e866081f4be82ec9765259a2e8484bced05e549319c2e426"
  },
  "kernelspec": {
   "display_name": "Python 3.8.10 64-bit ('api_book': venv)",
   "name": "python3"
  },
  "language_info": {
   "codemirror_mode": {
    "name": "ipython",
    "version": 3
   },
   "file_extension": ".py",
   "mimetype": "text/x-python",
   "name": "python",
   "nbconvert_exporter": "python",
   "pygments_lexer": "ipython3",
   "version": "3.8.10"
  },
  "orig_nbformat": 4
 },
 "nbformat": 4,
 "nbformat_minor": 2
}
