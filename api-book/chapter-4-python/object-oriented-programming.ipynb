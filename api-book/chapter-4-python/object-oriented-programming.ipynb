{
 "cells": [
  {
   "cell_type": "markdown",
   "metadata": {},
   "source": [
    "# Object oriented programming in Python\n",
    "\n",
    "To put it simply, in object oriented programming, the code is structured around **objects**. \n",
    "\n",
    "An **object** is an instance of a class.\n",
    "\n",
    "A **class** is a blueprint for creating objects, defined by its name in the namespace, its attributes and its methods.\n",
    "\n",
    "In computing, a namespace is a set of signs (names) that are used to identify and refer to objects of various kinds. The names are saved as pointers somewhere in computer memory. A namespace ensures that all of a given set of objects have unique names so that they can be easily identified. To put it simply, *a namespace is a mapping from names to objects*.\n",
    "\n",
    "A class in Python is defined with the keyword `class` following with the class name. Each class has a constructor, which is a method that is called when an object of the class is created. The constructor is called automatically when an object is created. The constructor is defined with an internal function __init__().\n",
    "\n",
    "For example, lets create a class that creates an object of class **Employee**:"
   ]
  },
  {
   "cell_type": "code",
   "execution_count": 24,
   "metadata": {},
   "outputs": [],
   "source": [
    "# Name of the class\n",
    "class Employee: \n",
    "    # The constructor \n",
    "    def __init__(self, name, surname, position):\n",
    "        \"\"\"\n",
    "        In order to create an object of the class Employee, we need to pass:\n",
    "        name - name of the employee\n",
    "        surname - surname of the employee\n",
    "        position - position of the employee\n",
    "        \"\"\"\n",
    "        self.name = name \n",
    "        self.surname = surname\n",
    "        self.position = position\n",
    "\n",
    "        # Calculating the name length of the employee in construction time \n",
    "        self.name_length = len(name)\n",
    "\n",
    "    # Defining a method for the object \n",
    "    def get_full_name(self):\n",
    "        \"\"\"\n",
    "        This method returns the full name of the employee\n",
    "        \"\"\"\n",
    "        return f\"{self.name} {self.surname}\""
   ]
  },
  {
   "cell_type": "markdown",
   "metadata": {},
   "source": [
    "One might be wandering, what is the \"**self**\" argument in the __init__() function? The argument \"self\" is a reference to the object being created. The \"self\" argument is used to access the attributes and methods of the object. \n",
    "\n",
    "When creating an object, we skip the argument \"self\" and pass the other arguments to the constructor. "
   ]
  },
  {
   "cell_type": "code",
   "execution_count": 20,
   "metadata": {},
   "outputs": [],
   "source": [
    "# Two employees\n",
    "Jane = Employee(\"Jane\", \"Doe\", \"Manager\") \n",
    "John = Employee(\"John\", \"Doe\", \"Sales\")"
   ]
  },
  {
   "cell_type": "markdown",
   "metadata": {},
   "source": [
    "As you can see above, one blueprint (Employee class) was used to create two objects (Jane and John). \n",
    "\n",
    "This is exactly as a recipe works: you can have a recipe (or blueprint) for a cake and with that recipe make hundreds of cakes. \n",
    "\n",
    "One fact that should always be kept in one's mind is that **EVERYTHING in Python is an object**. All the imported packages, all the defined variables even the functions are objects. This means that everything has a **class** with which the object was created, attributes and methods."
   ]
  },
  {
   "cell_type": "markdown",
   "metadata": {},
   "source": [
    "# Object attributes \n",
    "\n",
    "An object attribute is a piece of data that is associated with an object. It cannot be called as a function. To access an object attribute, we use the dot operator (`.`)."
   ]
  },
  {
   "cell_type": "code",
   "execution_count": 21,
   "metadata": {},
   "outputs": [
    {
     "name": "stdout",
     "output_type": "stream",
     "text": [
      "Employee position of Jane: Manager\n",
      "Surname of John: Doe\n",
      "Name length of John: 4\n"
     ]
    }
   ],
   "source": [
    "print(f\"Employee position of Jane: {Jane.position}\")\n",
    "print(f\"Surname of John: {John.surname}\")\n",
    "print(f\"Name length of John: {John.name_length}\")"
   ]
  },
  {
   "cell_type": "markdown",
   "metadata": {},
   "source": [
    "We can explicitly set any attribute to an object using the (`.`) operator as well. "
   ]
  },
  {
   "cell_type": "code",
   "execution_count": 22,
   "metadata": {},
   "outputs": [
    {
     "name": "stdout",
     "output_type": "stream",
     "text": [
      "John's salary: 1000\n",
      "Jane does not have a salary yet!\n",
      "Error: 'Employee' object has no attribute 'salary'\n",
      "Jane's salary: 2000\n"
     ]
    }
   ],
   "source": [
    "John.salary = 1000 \n",
    "print(f\"John's salary: {John.salary}\")\n",
    "\n",
    "try:\n",
    "    print(f\"Jane's salary: {Jane.salary}\")\n",
    "except AttributeError as e:\n",
    "    print(f\"Jane does not have a salary yet!\\nError: {e}\")\n",
    "\n",
    "Jane.salary = 2000\n",
    "print(f\"Jane's salary: {Jane.salary}\")"
   ]
  },
  {
   "cell_type": "markdown",
   "metadata": {},
   "source": [
    "The objects are completely independent from each other. If we define a new attribute to Jane, it will not affect John and vice versa. "
   ]
  },
  {
   "cell_type": "markdown",
   "metadata": {},
   "source": [
    "# Object methods \n",
    "\n",
    "An object method is a callable function that is associated with an object. Each object method only uses the attributes of the object it is called on. For example, to get the full names of the employees, we can use the method `get_full_name()`:"
   ]
  },
  {
   "cell_type": "code",
   "execution_count": 23,
   "metadata": {},
   "outputs": [
    {
     "name": "stdout",
     "output_type": "stream",
     "text": [
      "Jane's full name: Jane Doe\n",
      "John's full name: John Doe\n"
     ]
    }
   ],
   "source": [
    "print(f\"Jane's full name: {Jane.get_full_name()}\")\n",
    "print(f\"John's full name: {John.get_full_name()}\")"
   ]
  },
  {
   "cell_type": "code",
   "execution_count": null,
   "metadata": {},
   "outputs": [],
   "source": []
  }
 ],
 "metadata": {
  "interpreter": {
   "hash": "702d029752c7c667e866081f4be82ec9765259a2e8484bced05e549319c2e426"
  },
  "kernelspec": {
   "display_name": "Python 3.8.10 64-bit ('api_book': venv)",
   "language": "python",
   "name": "python3"
  },
  "language_info": {
   "codemirror_mode": {
    "name": "ipython",
    "version": 3
   },
   "file_extension": ".py",
   "mimetype": "text/x-python",
   "name": "python",
   "nbconvert_exporter": "python",
   "pygments_lexer": "ipython3",
   "version": "3.8.10"
  },
  "orig_nbformat": 4
 },
 "nbformat": 4,
 "nbformat_minor": 2
}
