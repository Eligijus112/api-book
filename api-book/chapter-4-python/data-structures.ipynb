{
 "cells": [
  {
   "cell_type": "markdown",
   "metadata": {},
   "source": [
    "# Python data structures"
   ]
  },
  {
   "cell_type": "markdown",
   "metadata": {},
   "source": [
    "In programming, a data structure is the organization, management, and storage format of the data in the computer that enables efficient access and modification of it {cite}`wiki:data_structure`. \n",
    "\n",
    "There are popular data structures available accross multiple programming languages like **lists**, **stacks**, **queues**, **dictionaries** and etc. \n",
    "\n",
    "Python is no exception with some data structures beeing more popular in practise than others. "
   ]
  },
  {
   "cell_type": "markdown",
   "metadata": {},
   "source": [
    "# Iterators\n",
    "\n",
    "Formaly, an iterator in object oriented programming is an object that has methods that allows to proccess a collection of items one at a time.\n",
    "\n",
    "Informaly, an iterator is an object that can be iterated upon. \n",
    "\n",
    "In Python, an iterator is an object that has two methods: \\_\\_iter_\\_() and \\_\\_next\\_\\_().\n",
    "\n",
    "When we iterate over the object, internaly, Python uses two built in methods - **iter()** and **next()** to traverse the iterator. \n",
    "\n",
    "For example, any list in Python has these methods: "
   ]
  },
  {
   "cell_type": "code",
   "execution_count": 19,
   "metadata": {},
   "outputs": [
    {
     "name": "stdout",
     "output_type": "stream",
     "text": [
      "1\n",
      "1\n",
      "2\n",
      "3\n",
      "5\n",
      "No more elements in the iterrator\n"
     ]
    }
   ],
   "source": [
    "# Defining a list \n",
    "a = [1, 1, 2, 3, 5]\n",
    "\n",
    "# 'Extracting' the iterrator\n",
    "a_iter = a.__iter__()\n",
    "\n",
    "# Listing out all the elements with next \n",
    "print(a_iter.__next__())\n",
    "print(a_iter.__next__())\n",
    "print(a_iter.__next__())\n",
    "print(a_iter.__next__())\n",
    "print(a_iter.__next__())\n",
    "\n",
    "# The bellow call to the function will rase a StopIteration error\n",
    "try:\n",
    "    a_iter.__next__()\n",
    "except StopIteration:\n",
    "    print(f\"No more elements in the iterrator\")"
   ]
  },
  {
   "cell_type": "markdown",
   "metadata": {},
   "source": [
    "Python has a built in solutions for going over objects which have \\_\\_iter_\\_() and \\_\\_next\\_\\_(): the **for** loop. The built in method will stop at StopIteration error but will throw an error and will strop gracefully."
   ]
  },
  {
   "cell_type": "code",
   "execution_count": 21,
   "metadata": {},
   "outputs": [
    {
     "name": "stdout",
     "output_type": "stream",
     "text": [
      "1\n",
      "1\n",
      "2\n",
      "3\n",
      "5\n"
     ]
    }
   ],
   "source": [
    "for item in a:\n",
    "    print(item)"
   ]
  },
  {
   "cell_type": "markdown",
   "metadata": {},
   "source": [
    "To build a custom object which can be iterated we just need to define the \\_\\_iter_\\_() and \\_\\_next\\_\\_() methods."
   ]
  },
  {
   "cell_type": "code",
   "execution_count": 1,
   "metadata": {},
   "outputs": [],
   "source": [
    "class Fibonnaci:\n",
    "    \"\"\"\n",
    "    Class that creates the Fibonaci sequence given of elements n, where n > 2\n",
    "    \"\"\"\n",
    "    def __init__(self, n):\n",
    "        # Initializing an empty list \n",
    "        fib_list = []\n",
    "\n",
    "        # Adding the first two elements to the list\n",
    "        fib_list.append(1)\n",
    "        fib_list.append(1)\n",
    "        if n > 2:\n",
    "            # Iterating over the list to add the next element\n",
    "            for i in range(2, n):\n",
    "                fib_list.append(fib_list[i-1] + fib_list[i-2])\n",
    "        \n",
    "        # Saving the list to memory\n",
    "        self.fib_list = fib_list\n",
    "\n",
    "        # Saving the max number of elements to memory\n",
    "        self.n = n\n",
    "\n",
    "    def __iter__(self):\n",
    "        \"\"\"\n",
    "        Every time this iter method is called, the counter of the current \n",
    "        index is reset to 0.\n",
    "        \"\"\"\n",
    "        self.index = 0\n",
    "        return self\n",
    "    \n",
    "    def __next__(self):\n",
    "        \"\"\"\n",
    "        Returning the element in the list if the index is less than the max number of elements\n",
    "        \"\"\"\n",
    "        if self.index < self.n:\n",
    "            self.index += 1\n",
    "            return self.fib_list[self.index-1]\n",
    "        else:\n",
    "            raise StopIteration        "
   ]
  },
  {
   "cell_type": "code",
   "execution_count": 5,
   "metadata": {},
   "outputs": [
    {
     "name": "stdout",
     "output_type": "stream",
     "text": [
      "[1, 1, 2, 3, 5, 8, 13]\n",
      "1\n",
      "1\n",
      "2\n",
      "3\n",
      "5\n",
      "8\n",
      "13\n"
     ]
    }
   ],
   "source": [
    "# Initiating the Fibonnaci sequence\n",
    "fib = Fibonnaci(7)\n",
    "\n",
    "# Printing out the whole sequence \n",
    "print(fib.fib_list)\n",
    "\n",
    "# Using the iterator to print out the sequence\n",
    "for fib_element in fib:\n",
    "    print(fib_element)"
   ]
  },
  {
   "cell_type": "markdown",
   "metadata": {},
   "source": [
    "# Data structure types "
   ]
  },
  {
   "cell_type": "markdown",
   "metadata": {},
   "source": [
    "## Mutable and non mutable\n",
    "\n",
    "It is popular to put data structures into two buckets: immutable and mutable. \n",
    "\n",
    "An immutable data strucuture is a data structure that, when defined and saved in memory, cannot be changed (**non mutatable**).\n",
    "\n",
    "A mutable data structure is a data structure that, when defined and saved in memory, can be changed (can be **mutated** or changed)"
   ]
  },
  {
   "cell_type": "code",
   "execution_count": 8,
   "metadata": {},
   "outputs": [
    {
     "name": "stdout",
     "output_type": "stream",
     "text": [
      "Initial list: [1, 1, 2, 3, 5, 8, 13, 21, 34, 55, 89]\n",
      "Initial tuple: (1, 1, 2, 3, 5, 8, 13, 21, 34, 55, 89)\n",
      "List after mutation: [1, 1, 2, 3, 5, 8, 13, 21, 34, 55, 89, 144]\n",
      "Tuples are immutable (cannot be changed)\n"
     ]
    }
   ],
   "source": [
    "# Defining a mutable data structure - list \n",
    "a = [1, 1, 2, 3, 5, 8, 13, 21, 34, 55, 89]\n",
    "\n",
    "# Defining an immutable data structure - tuple \n",
    "b = (1, 1, 2, 3, 5, 8, 13, 21, 34, 55, 89)\n",
    "\n",
    "print(f\"Initial list: {a}\")\n",
    "print(f\"Initial tuple: {b}\")\n",
    "\n",
    "# Appending an element to the list\n",
    "a.append(a[-1] + a[-2])\n",
    "\n",
    "# List after mutation\n",
    "print(f\"List after mutation: {a}\")\n",
    "\n",
    "# Appending an element to the tuple\n",
    "try:\n",
    "    b.append(b[-1] + b[-2])\n",
    "except:\n",
    "    print(\"Tuples are immutable (cannot be changed)\")"
   ]
  },
  {
   "cell_type": "markdown",
   "metadata": {},
   "source": [
    "In general, mutable objects are more flexible but more taxing on the computer memory and will decrease performance if the objects become larger and larger. For example, a big list of **n** elements holds **2n** pointers in memory (bits). \n",
    "\n",
    "In contrast, immutable objects are not flexible but are more memory efficient. "
   ]
  },
  {
   "cell_type": "markdown",
   "metadata": {},
   "source": [
    "## Linear and non-linear"
   ]
  },
  {
   "cell_type": "markdown",
   "metadata": {},
   "source": [
    "In linear data structures, the elements are arranged in sequence one after the other. Since elements are arranged in particular order, they can be iterated upon. Common examples maybe **lists** and **tuples**. \n",
    "\n",
    "In non-linear data structures, the elements in the data structure are not in any sequence. Instead they are arranged in a hierarchical manner where one element will be connected to one or more elements. Common examples are **dictionaries** and **node based trees**."
   ]
  },
  {
   "cell_type": "code",
   "execution_count": 7,
   "metadata": {},
   "outputs": [
    {
     "name": "stdout",
     "output_type": "stream",
     "text": [
      "1\n",
      "2\n",
      "3\n",
      "4\n",
      "5\n"
     ]
    },
    {
     "data": {
      "text/plain": [
       "3"
      ]
     },
     "execution_count": 7,
     "metadata": {},
     "output_type": "execute_result"
    }
   ],
   "source": [
    "# Example of a linear data type - tuple\n",
    "a = (1, 2, 3, 4, 5)\n",
    "\n",
    "# Listing out all the items\n",
    "for item in a:\n",
    "    print(item)\n",
    "\n",
    "# Accesing an item by index \n",
    "a[2]"
   ]
  },
  {
   "cell_type": "code",
   "execution_count": 17,
   "metadata": {},
   "outputs": [],
   "source": [
    "# A very simple binary tree implementation for storing numbers\n",
    "class Tree:\n",
    "    \"\"\"\n",
    "    Class that implements a binary tree; \n",
    "    Bigger than root elements go to the \"right\";\n",
    "    Smaller than root elements go to the \"left\"; \n",
    "    \"\"\"\n",
    "    def __init__(self, number, level):\n",
    "        self.left = None \n",
    "        self.right = None\n",
    "        self.level = level if level is not None else 0\n",
    "        self.number = number\n",
    "\n",
    "    def insert(self, number):\n",
    "        if number < self.number:\n",
    "            if self.left is None:\n",
    "                self.left = Tree(number, self.level + 1)\n",
    "            else:\n",
    "                self.left.insert(number, self.level + 1)\n",
    "        else:\n",
    "            if self.right is None:\n",
    "                self.right = Tree(number, self.level + 1)\n",
    "            else: \n",
    "                self.right.insert(number, self.level + 1)\n",
    "\n",
    "    def print_tree(self):\n",
    "        if self.left:\n",
    "            self.left.print_tree()\n",
    "        print(f\"{' '*self.level} {self.number}\")\n",
    "        if self.right:\n",
    "            self.right.print_tree()"
   ]
  },
  {
   "cell_type": "code",
   "execution_count": 18,
   "metadata": {},
   "outputs": [
    {
     "ename": "TypeError",
     "evalue": "insert() takes 2 positional arguments but 3 were given",
     "output_type": "error",
     "traceback": [
      "\u001b[0;31m---------------------------------------------------------------------------\u001b[0m",
      "\u001b[0;31mTypeError\u001b[0m                                 Traceback (most recent call last)",
      "\u001b[0;32m/tmp/ipykernel_93205/4256289893.py\u001b[0m in \u001b[0;36m<module>\u001b[0;34m\u001b[0m\n\u001b[1;32m      7\u001b[0m \u001b[0;31m# Populating the tree\u001b[0m\u001b[0;34m\u001b[0m\u001b[0;34m\u001b[0m\u001b[0;34m\u001b[0m\u001b[0m\n\u001b[1;32m      8\u001b[0m \u001b[0;32mfor\u001b[0m \u001b[0mnumber\u001b[0m \u001b[0;32min\u001b[0m \u001b[0ma\u001b[0m\u001b[0;34m[\u001b[0m\u001b[0;36m1\u001b[0m\u001b[0;34m:\u001b[0m\u001b[0;34m]\u001b[0m\u001b[0;34m:\u001b[0m\u001b[0;34m\u001b[0m\u001b[0;34m\u001b[0m\u001b[0m\n\u001b[0;32m----> 9\u001b[0;31m     \u001b[0mtree\u001b[0m\u001b[0;34m.\u001b[0m\u001b[0minsert\u001b[0m\u001b[0;34m(\u001b[0m\u001b[0mnumber\u001b[0m\u001b[0;34m)\u001b[0m\u001b[0;34m\u001b[0m\u001b[0;34m\u001b[0m\u001b[0m\n\u001b[0m\u001b[1;32m     10\u001b[0m \u001b[0;34m\u001b[0m\u001b[0m\n\u001b[1;32m     11\u001b[0m \u001b[0;31m# Printing out the tree\u001b[0m\u001b[0;34m\u001b[0m\u001b[0;34m\u001b[0m\u001b[0;34m\u001b[0m\u001b[0m\n",
      "\u001b[0;32m/tmp/ipykernel_93205/2465465600.py\u001b[0m in \u001b[0;36minsert\u001b[0;34m(self, number)\u001b[0m\n\u001b[1;32m     17\u001b[0m                 \u001b[0mself\u001b[0m\u001b[0;34m.\u001b[0m\u001b[0mleft\u001b[0m \u001b[0;34m=\u001b[0m \u001b[0mTree\u001b[0m\u001b[0;34m(\u001b[0m\u001b[0mnumber\u001b[0m\u001b[0;34m,\u001b[0m \u001b[0mself\u001b[0m\u001b[0;34m.\u001b[0m\u001b[0mlevel\u001b[0m \u001b[0;34m+\u001b[0m \u001b[0;36m1\u001b[0m\u001b[0;34m)\u001b[0m\u001b[0;34m\u001b[0m\u001b[0;34m\u001b[0m\u001b[0m\n\u001b[1;32m     18\u001b[0m             \u001b[0;32melse\u001b[0m\u001b[0;34m:\u001b[0m\u001b[0;34m\u001b[0m\u001b[0;34m\u001b[0m\u001b[0m\n\u001b[0;32m---> 19\u001b[0;31m                 \u001b[0mself\u001b[0m\u001b[0;34m.\u001b[0m\u001b[0mleft\u001b[0m\u001b[0;34m.\u001b[0m\u001b[0minsert\u001b[0m\u001b[0;34m(\u001b[0m\u001b[0mnumber\u001b[0m\u001b[0;34m,\u001b[0m \u001b[0mself\u001b[0m\u001b[0;34m.\u001b[0m\u001b[0mlevel\u001b[0m \u001b[0;34m+\u001b[0m \u001b[0;36m1\u001b[0m\u001b[0;34m)\u001b[0m\u001b[0;34m\u001b[0m\u001b[0;34m\u001b[0m\u001b[0m\n\u001b[0m\u001b[1;32m     20\u001b[0m         \u001b[0;32melse\u001b[0m\u001b[0;34m:\u001b[0m\u001b[0;34m\u001b[0m\u001b[0;34m\u001b[0m\u001b[0m\n\u001b[1;32m     21\u001b[0m             \u001b[0;32mif\u001b[0m \u001b[0mself\u001b[0m\u001b[0;34m.\u001b[0m\u001b[0mright\u001b[0m \u001b[0;32mis\u001b[0m \u001b[0;32mNone\u001b[0m\u001b[0;34m:\u001b[0m\u001b[0;34m\u001b[0m\u001b[0;34m\u001b[0m\u001b[0m\n",
      "\u001b[0;31mTypeError\u001b[0m: insert() takes 2 positional arguments but 3 were given"
     ]
    }
   ],
   "source": [
    "# Creating a list of numbers to create the binary tree from \n",
    "a = [5, 10, 1, -2, 36]\n",
    "\n",
    "# Initiating the binary tree; The first element is the root\n",
    "tree = Tree(a[0], 0)\n",
    "\n",
    "# Populating the tree \n",
    "for number in a[1:]:\n",
    "    tree.insert(number)\n",
    "\n",
    "# Printing out the tree\n",
    "tree.print_tree()"
   ]
  },
  {
   "cell_type": "code",
   "execution_count": null,
   "metadata": {},
   "outputs": [],
   "source": []
  }
 ],
 "metadata": {
  "interpreter": {
   "hash": "702d029752c7c667e866081f4be82ec9765259a2e8484bced05e549319c2e426"
  },
  "kernelspec": {
   "display_name": "Python 3.8.10 64-bit ('api_book': venv)",
   "language": "python",
   "name": "python3"
  },
  "language_info": {
   "codemirror_mode": {
    "name": "ipython",
    "version": 3
   },
   "file_extension": ".py",
   "mimetype": "text/x-python",
   "name": "python",
   "nbconvert_exporter": "python",
   "pygments_lexer": "ipython3",
   "version": "3.8.10"
  },
  "orig_nbformat": 4
 },
 "nbformat": 4,
 "nbformat_minor": 2
}
