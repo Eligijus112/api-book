{
 "cells": [
  {
   "cell_type": "markdown",
   "metadata": {},
   "source": [
    "# Data types \n",
    "\n",
    "A data type or simply type is an attribute of data which tells the compiler or interpreter how the programmer intends to use the data {cite}`wiki:data_type`. \n",
    "\n",
    "The most common data types in Python are: \n",
    "\n",
    "* Integer (int)\n",
    "* Floating-point number (float)\n",
    "* String (str)\n",
    "* Boolean (bool)\n",
    "\n",
    "To check for a specific type of data in Python, one can use the built in function **type**."
   ]
  },
  {
   "cell_type": "code",
   "execution_count": 7,
   "metadata": {},
   "outputs": [
    {
     "name": "stdout",
     "output_type": "stream",
     "text": [
      "Type of 1.0 is: <class 'float'>\n",
      "Type of 1 is: <class 'str'>\n",
      "Type of 1 is: <class 'int'>\n",
      "Type of True is: <class 'bool'>\n"
     ]
    }
   ],
   "source": [
    "# Defining the variables\n",
    "a = 1.0 \n",
    "b = \"1\"\n",
    "c = 1\n",
    "d = True \n",
    "\n",
    "# Checking the types\n",
    "print(f\"Type of {a} is: {type(a)}\")\n",
    "print(f\"Type of {b} is: {type(b)}\")\n",
    "print(f\"Type of {c} is: {type(c)}\")\n",
    "print(f\"Type of {d} is: {type(d)}\")"
   ]
  },
  {
   "cell_type": "markdown",
   "metadata": {},
   "source": [
    "Each data type takes up different space in computer memory. "
   ]
  },
  {
   "cell_type": "code",
   "execution_count": 14,
   "metadata": {},
   "outputs": [
    {
     "name": "stdout",
     "output_type": "stream",
     "text": [
      "Size of the float object: 24 bytes\n",
      "Size of the str object: 50 bytes\n",
      "Size of the int object: 28 bytes\n",
      "Size of the boolean object: 28 bytes\n"
     ]
    }
   ],
   "source": [
    "# Importing the needed package\n",
    "import sys \n",
    "\n",
    "# Checking the size of objects \n",
    "print(f\"Size of the float object: {sys.getsizeof(a)} bytes\")\n",
    "print(f\"Size of the str object: {sys.getsizeof(b)} bytes\")\n",
    "print(f\"Size of the int object: {sys.getsizeof(c)} bytes\")\n",
    "print(f\"Size of the boolean object: {sys.getsizeof(d)} bytes\")"
   ]
  }
 ],
 "metadata": {
  "interpreter": {
   "hash": "96a5d51ad1bd9727fee1e0e248137efe91c09a80705e008a6a398a2e8b79b299"
  },
  "kernelspec": {
   "display_name": "Python 3.10.0 64-bit ('api_book': venv)",
   "language": "python",
   "name": "python3"
  },
  "language_info": {
   "codemirror_mode": {
    "name": "ipython",
    "version": 3
   },
   "file_extension": ".py",
   "mimetype": "text/x-python",
   "name": "python",
   "nbconvert_exporter": "python",
   "pygments_lexer": "ipython3",
   "version": "3.10.0"
  },
  "orig_nbformat": 4
 },
 "nbformat": 4,
 "nbformat_minor": 2
}
