{
 "cells": [
  {
   "cell_type": "markdown",
   "metadata": {},
   "source": [
    "# Virtual environments"
   ]
  },
  {
   "cell_type": "markdown",
   "metadata": {},
   "source": [
    "## Introduction"
   ]
  },
  {
   "cell_type": "markdown",
   "metadata": {},
   "source": [
    "From the official documentation of Python{cite}`python:docs`: \n",
    "\n",
    "**\"Python applications will often use packages and modules that don’t come as part of the standard library. Applications will sometimes need a specific version of a library, because the application may require that a particular bug has been fixed or the application may be written using an obsolete version of the library’s interface.** \n",
    "\n",
    "**This means it may not be possible for one Python installation to meet the requirements of every application. If application A needs version 1.0 of a particular module but application B needs version 2.0, then the requirements are in conflict and installing either version 1.0 or 2.0 will leave one application unable to run.** \n",
    "\n",
    "**The solution for this problem is to create a virtual environment, a self-contained directory tree that contains a Python installation for a particular version of Python, plus a number of additional packages. Different applications can then use different virtual environments. To resolve the earlier example of conflicting requirements, application A can have its own virtual environment with version 1.0 installed while application B has another virtual environment with version 2.0. If application B requires a library be upgraded to version 3.0, this will not affect application A’s environment.\"**\n",
    "\n",
    "Throughout this book we will use a library called **virtualenv** to create the virtual environments. It is assummed that Python and pip are installed on a machine. To install virtual environment creation framework in Ubuntu use the command: \n",
    "\n",
    "```\n",
    "pip install virtualenv==20.10.0\n",
    "```\n",
    "\n",
    "Official page of the project: https://virtualenv.pypa.io/en/latest/. "
   ]
  },
  {
   "cell_type": "markdown",
   "metadata": {},
   "source": [
    "## Global Python Interpreter "
   ]
  },
  {
   "cell_type": "markdown",
   "metadata": {},
   "source": [
    "By default, Python is installed in the directory: \n",
    "\n",
    "```\n",
    "/usr/local/bin\n",
    "```\n",
    "\n",
    "or \n",
    "\n",
    "```\n",
    "/usr/bin\n",
    "```\n",
    "\n",
    "For example, on my machine the full path to the Python interpreter is: \n",
    "\n",
    "```\n",
    "/usr/bin/python3.8\n",
    "```\n",
    "\n",
    "Every time the machine I am working on tries to run a Python a script, it uses that interpreter. Note that the version of that interpreter is **3.8**. The default path for the libraries are via: \n",
    "\n",
    "```\n",
    "/usr/lib/python3.8\n",
    "```"
   ]
  }
 ],
 "metadata": {
  "interpreter": {
   "hash": "702d029752c7c667e866081f4be82ec9765259a2e8484bced05e549319c2e426"
  },
  "kernelspec": {
   "display_name": "Python 3.8.10 64-bit ('api_book': venv)",
   "language": "python",
   "name": "python3"
  },
  "language_info": {
   "name": "python",
   "version": "3.8.10"
  },
  "orig_nbformat": 4
 },
 "nbformat": 4,
 "nbformat_minor": 2
}
