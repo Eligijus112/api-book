{
 "cells": [
  {
   "cell_type": "markdown",
   "metadata": {},
   "source": [
    "# Basic ML serving"
   ]
  },
  {
   "cell_type": "markdown",
   "metadata": {},
   "source": [
    "In the previous chapter we have created two very important objects and stored them in files: \n",
    "\n",
    "**ml-model.pkl** - the fitted on data and ready to be used machine learning model. \n",
    "\n",
    "**ml-features.json** - a dictionary containing the features that the model was trained with. **NOTE**: it is very important to preserve the exact **key** sequence in all the future use of the model. \n",
    "\n",
    "The file structure is as follows: \n",
    "\n",
    "```\n",
    "├── ml_models\n",
    "│   ├── ml-features.json\n",
    "│   └── ml-model.pkl\n",
    "```\n",
    "\n",
    "No matter what type of serving - simple or complex - we are doing, these two objects is a minimum requirement if we want anyone to use our ML solution.  \n",
    "\n",
    "A basic chart for ML model serving is the following: \n",
    "\n",
    "![ml-serving-basic](media/basic-ml-serving.png)\n",
    "\n",
    "The steps are the following: \n",
    "\n",
    "* Preparate the raw data for the model \n",
    "* Use the model with the prepared data\n",
    "* Store/use the predictions"
   ]
  },
  {
   "cell_type": "markdown",
   "metadata": {},
   "source": [
    "# Importing Python packages"
   ]
  },
  {
   "cell_type": "code",
   "execution_count": 1,
   "metadata": {},
   "outputs": [],
   "source": [
    "# Json reading \n",
    "import json \n",
    "\n",
    "# Pickle reading \n",
    "import pickle\n",
    "\n",
    "# Operating system functionality \n",
    "import os \n",
    "\n",
    "# Input simulation \n",
    "from ipywidgets import interactive, widgets, interact\n",
    "from IPython.display import display\n",
    "\n",
    "# Data wrangling \n",
    "import pandas as pd "
   ]
  },
  {
   "cell_type": "markdown",
   "metadata": {},
   "source": [
    "# Reading the model objects "
   ]
  },
  {
   "cell_type": "markdown",
   "metadata": {},
   "source": [
    "Before any serving can be done, the necessary objects need to be loaded into the host computer memory. This simple fact is true even for the most complex real time ML model serving systems: somewhere, between all the clouds and servers, all the objects are loaded to computer memory and is used in runtime. "
   ]
  },
  {
   "cell_type": "code",
   "execution_count": 2,
   "metadata": {},
   "outputs": [
    {
     "name": "stdout",
     "output_type": "stream",
     "text": [
      "{'bomb_planted': 'int64', 'ct_health_share': 'float64', 'ct_armor_per_player': 'float64', 'ct_money_share': 'float64', 'ct_players_alive_diff': 'float64', 'ct_defuse_kit_present': 'int64'}\n"
     ]
    }
   ],
   "source": [
    "# Saving the path to the ML folder \n",
    "_ml_folder = os.path.join(\"..\", 'ml_models')\n",
    "_ml_model_path = os.path.join(_ml_folder, \"ml-model.pkl\")\n",
    "_ml_features_path = os.path.join(_ml_folder, \"ml-features.json\")\n",
    "\n",
    "# Reading the model object \n",
    "model = pickle.load(open(_ml_model_path, 'rb'))\n",
    "features = json.load(open(_ml_features_path, 'rb'))\n",
    "\n",
    "# Printing out the features \n",
    "print(features)"
   ]
  },
  {
   "cell_type": "markdown",
   "metadata": {},
   "source": [
    "# Model serving "
   ]
  },
  {
   "cell_type": "markdown",
   "metadata": {},
   "source": [
    "## Simulating input "
   ]
  },
  {
   "cell_type": "markdown",
   "metadata": {},
   "source": [
    "To test out our ML model, we will simulate an input for it. "
   ]
  },
  {
   "cell_type": "code",
   "execution_count": 3,
   "metadata": {},
   "outputs": [],
   "source": [
    "# Has the bomb been planted? \n",
    "bomb_planted = True \n",
    "\n",
    "# CT health share of total; the range is (0, 1.0)\n",
    "ct_health_share = 0.75\n",
    "\n",
    "# CT armor per player; the range is (0, 100.0)\n",
    "ct_armor_per_player = 60.0\n",
    "\n",
    "# CT money share of total money in economy; the range is (0, 1.0)\n",
    "ct_money_share = 0.68\n",
    "\n",
    "# The difference between the alive CT and T players; the values are [-4, -3, ..., 3, 4] \n",
    "ct_players_alive_diff = 1\n",
    "\n",
    "# Boolean for the presence of the difusal kit\n",
    "ct_defuse_kit_present = False"
   ]
  },
  {
   "cell_type": "code",
   "execution_count": 4,
   "metadata": {},
   "outputs": [
    {
     "name": "stdout",
     "output_type": "stream",
     "text": [
      "{'bomb_planted': True, 'ct_health_share': 0.75, 'ct_armor_per_player': 60.0, 'ct_money_share': 0.68, 'ct_players_alive_diff': 1, 'ct_defuse_kit_present': False}\n"
     ]
    }
   ],
   "source": [
    "# Creating a dataframe which will be used as raw input \n",
    "raw_input = {\n",
    "    \"bomb_planted\": bomb_planted,\n",
    "    \"ct_health_share\": ct_health_share, \n",
    "    \"ct_armor_per_player\": ct_armor_per_player,\n",
    "    \"ct_money_share\": ct_money_share,\n",
    "    \"ct_players_alive_diff\": ct_players_alive_diff,\n",
    "    \"ct_defuse_kit_present\": ct_defuse_kit_present\n",
    "}\n",
    "\n",
    "# Displaying the raw input \n",
    "print(raw_input)"
   ]
  },
  {
   "cell_type": "markdown",
   "metadata": {},
   "source": [
    "### Input preprocesing function "
   ]
  },
  {
   "cell_type": "markdown",
   "metadata": {},
   "source": [
    "Lets define a function that prepares the input for the model given the raw input dictionary and the saved features JSON object. "
   ]
  },
  {
   "cell_type": "code",
   "execution_count": 5,
   "metadata": {},
   "outputs": [],
   "source": [
    "def prepare_input(raw_input_dict: dict, features: dict) -> pd.DataFrame:\n",
    "    \"\"\"\n",
    "    Function that accepts the raw input dictionary and the features dictionary and returns a pandas dataframe with the input prepared for the model.\n",
    "    \"\"\"\n",
    "    # Extracting the key names \n",
    "    feature_names = list(raw_input_dict.keys())\n",
    "    original_feature_names = list(features.keys())\n",
    "\n",
    "    # Ensuring that all the keys present in **features** are in **raw_input_dict**\n",
    "    missing_features = set(original_feature_names) - set(feature_names)\n",
    "    if len(missing_features): \n",
    "        return print(f\"Missing features in input: {missing_features}\")\n",
    "\n",
    "    # Iterating and preprocesing \n",
    "    prepared_features = {}\n",
    "    for feature in feature_names:\n",
    "        # Extracting the type of the feature \n",
    "        feature_type = features.get(feature) \n",
    "\n",
    "        # Converting to that type \n",
    "        feature_value = raw_input_dict.get(feature)\n",
    "        \n",
    "        if feature_type == \"float64\":\n",
    "            feature_value = float(feature_value) \n",
    "        \n",
    "        if feature_type == \"int64\":\n",
    "            feature_value = int(feature_value)\n",
    "\n",
    "        # Saving to the prepared features dictionary\n",
    "        prepared_features[feature] = feature_value \n",
    "    \n",
    "    # Creating a dataframe from the prepared features \n",
    "    df = pd.DataFrame(prepared_features, index=[0])\n",
    "\n",
    "    # Ensuring that the names are in the exact order \n",
    "    df = df[original_feature_names]\n",
    "\n",
    "    # Returning the dataframe \n",
    "    return df \n"
   ]
  },
  {
   "cell_type": "code",
   "execution_count": 6,
   "metadata": {},
   "outputs": [
    {
     "name": "stdout",
     "output_type": "stream",
     "text": [
      "Preprocesed input for ML model:\n",
      "   bomb_planted  ct_health_share  ct_armor_per_player  ct_money_share  \\\n",
      "0             1             0.75                 60.0            0.68   \n",
      "\n",
      "   ct_players_alive_diff  ct_defuse_kit_present  \n",
      "0                    1.0                      0  \n"
     ]
    }
   ],
   "source": [
    "# Testing out the function \n",
    "input_df = prepare_input(raw_input, features)\n",
    "print(f\"Preprocesed input for ML model:\\n{input_df}\")\n"
   ]
  },
  {
   "cell_type": "markdown",
   "metadata": {},
   "source": [
    "## Using the model "
   ]
  },
  {
   "cell_type": "markdown",
   "metadata": {},
   "source": [
    "Now that we have the input with the exact same structure with which the model was built, we can use that input for extracting predictions. "
   ]
  },
  {
   "cell_type": "code",
   "execution_count": 7,
   "metadata": {},
   "outputs": [
    {
     "name": "stdout",
     "output_type": "stream",
     "text": [
      "[0.26723242 0.7327676 ]\n"
     ]
    }
   ],
   "source": [
    "# Getting the probabilities \n",
    "p = model.predict_proba(input_df)[0]\n",
    "\n",
    "# Initial results \n",
    "print(p)"
   ]
  },
  {
   "cell_type": "markdown",
   "metadata": {},
   "source": [
    "The extracted probabilities is vector of two and defines the following probabilities: \n",
    "\n",
    "$$ \\mathbb{P(Y = 0|X)} $$\n",
    "\n",
    "And\n",
    "\n",
    "$$ \\mathbb{P(Y = 1|X)}$$\n",
    "\n",
    "Note that: \n",
    "\n",
    "$$ \\mathbb{P(Y = 1|X)} = 1 - \\mathbb{P(Y = 0|X)}  $$\n",
    "\n",
    "In other words, the first coordinate is the probability that CT team will lose with the given inputs and the second coordinate is the probability that CT will win with the given inputs. \n",
    "\n",
    "These two probabilities is the final output of the machine learning model. How we use these results is a matter of our fantasy. "
   ]
  },
  {
   "cell_type": "markdown",
   "metadata": {},
   "source": [
    "# Simulating the whole serving "
   ]
  },
  {
   "cell_type": "markdown",
   "metadata": {},
   "source": [
    "To play around with the model you can use the interactive session bellow. We will use the **ipywidgets** framework: https://ipywidgets.readthedocs.io/."
   ]
  },
  {
   "cell_type": "markdown",
   "metadata": {},
   "source": [
    "## Creating the input selections"
   ]
  },
  {
   "cell_type": "code",
   "execution_count": 8,
   "metadata": {},
   "outputs": [],
   "source": [
    "# Boolean for bomb planting event \n",
    "bomb_planted_widget = widgets.Checkbox(\n",
    "    value=False,\n",
    "    description='Has the bomb been planted?',\n",
    "    disabled=False\n",
    ")\n",
    "\n",
    "# CT health share of total; the range is (0, 1.0)\n",
    "ct_health_share_widget = widgets.FloatSlider(value=0.5, min=0.0, max=1.0, step=0.05, description='CT health share of total')\n",
    "\n",
    "# CT armor per player; the range is (0, 100.0)\n",
    "ct_armor_per_player_widget = widgets.FloatSlider(value=50.0, min=0.0, max=100.0, step=1.0, description='CT armor per player')\n",
    "\n",
    "# CT money share of total money in economy; the range is (0, 1.0)\n",
    "ct_money_share_widget = widgets.FloatSlider(value=0.5, min=0.0, max=1.0, step=0.05, description='CT share of money compared to total money in economy')\n",
    "\n",
    "# The difference between the alive CT and T players; the values are [-4, -3, ..., 3, 4] \n",
    "ct_players_alive_diff_widget = widgets.Dropdown(\n",
    "    options=list(range(-4, 5, 1)),\n",
    "    value=0,\n",
    "    description='The difference between the alive CT and T players',\n",
    "    disabled=False,\n",
    ")\n",
    "\n",
    "# Boolean for the presence of the difusal kit\n",
    "ct_defuse_kit_present_widget = widgets.Checkbox(\n",
    "    value=False,\n",
    "    description='Is there a difusal kit present in CT team?',\n",
    "    disabled=False\n",
    ")"
   ]
  },
  {
   "cell_type": "markdown",
   "metadata": {},
   "source": [
    "## Interactive simulation"
   ]
  },
  {
   "cell_type": "markdown",
   "metadata": {},
   "source": [
    "<script type=\"text/x-thebe-config\">\n",
    "    {\n",
    "        requestKernel: true,\n",
    "        kernelOptions: {\n",
    "        kernelName: \"python3\",\n",
    "        path: \"../../api_book/bin/python3\"\n",
    "        }\n",
    "    }\n",
    "</script>"
   ]
  },
  {
   "cell_type": "code",
   "execution_count": 9,
   "metadata": {},
   "outputs": [],
   "source": [
    "def get_prob(\n",
    "    bomb_planted, \n",
    "    ct_defuse_kit_present,\n",
    "    ct_health_share,\n",
    "    ct_armor_per_player,\n",
    "    ct_money_share,\n",
    "    ct_players_alive_diff,\n",
    "    ):\n",
    "    \"\"\"\n",
    "    Interactive session to experiment with the created ML model \n",
    "    \"\"\"\n",
    "    # Creating the raw input dictionary \n",
    "    raw_input = {\n",
    "        \"bomb_planted\": bomb_planted,\n",
    "        \"ct_defuse_kit_present\": ct_defuse_kit_present,\n",
    "        \"ct_health_share\": ct_health_share, \n",
    "        \"ct_armor_per_player\": ct_armor_per_player,\n",
    "        \"ct_money_share\": ct_money_share,\n",
    "        \"ct_players_alive_diff\": ct_players_alive_diff\n",
    "    }\n",
    "\n",
    "    # Preparing the input for the model \n",
    "    raw_input_df = prepare_input(raw_input, features)\n",
    "\n",
    "    # Getting the probabilities \n",
    "    p = model.predict_proba(raw_input_df)[0]\n",
    "    p_win = round(p[1], 3)\n",
    "\n",
    "    # Returning the probabilities \n",
    "    print(f\"Probability of CT winning: {p_win}\")"
   ]
  },
  {
   "cell_type": "code",
   "execution_count": 10,
   "metadata": {},
   "outputs": [
    {
     "data": {
      "application/vnd.jupyter.widget-view+json": {
       "model_id": "2381226e08d04bf89b9b10dd25c1728a",
       "version_major": 2,
       "version_minor": 0
      },
      "text/plain": [
       "interactive(children=(Checkbox(value=False, description='Has the bomb been planted?'), Checkbox(value=False, d…"
      ]
     },
     "metadata": {},
     "output_type": "display_data"
    }
   ],
   "source": [
    "# Making the interactive session \n",
    "prob_widget = interactive(\n",
    "    get_prob, \n",
    "    bomb_planted=bomb_planted_widget, \n",
    "    ct_defuse_kit_present=ct_defuse_kit_present_widget,\n",
    "    ct_players_alive_diff=ct_players_alive_diff_widget,\n",
    "    ct_health_share=ct_health_share_widget,\n",
    "    ct_armor_per_player=ct_armor_per_player_widget,\n",
    "    ct_money_share=ct_money_share_widget,\n",
    ")\n",
    "\n",
    "# Displaying the widget \n",
    "prob_widget"
   ]
  },
  {
   "cell_type": "markdown",
   "metadata": {},
   "source": [
    "# Limitations of this approach"
   ]
  },
  {
   "cell_type": "markdown",
   "metadata": {},
   "source": [
    "This notebook is perfect to play around with the model and to see how certain feature values influence the model. This interactive notebook could be called as a sufficient serving API for a data scientist for debugging reasons or for presentation of the results.  \n",
    "\n",
    "But we cannot call this type of serving **production** grade serving for several reasons: \n",
    "\n",
    "* The enduser would have to download the notebook, the model and the feature list every time there is an update. \n",
    "* Different machines may produce different results of the notebook (or would produce an error)\n",
    "* It is hard to integrate a jupyter notebook to any working systems that the enduser may have. \n",
    "* The code in the notebook would not deal well with a batch of inputs (>1 row in the dataset)\n",
    "\n",
    "In the next chapter of this book we will finaly begin building production grade serving. "
   ]
  }
 ],
 "metadata": {
  "interpreter": {
   "hash": "702d029752c7c667e866081f4be82ec9765259a2e8484bced05e549319c2e426"
  },
  "kernelspec": {
   "display_name": "Python 3.8.10 64-bit ('api_book': venv)",
   "name": "python3"
  },
  "language_info": {
   "codemirror_mode": {
    "name": "ipython",
    "version": 3
   },
   "file_extension": ".py",
   "mimetype": "text/x-python",
   "name": "python",
   "nbconvert_exporter": "python",
   "pygments_lexer": "ipython3",
   "version": "3.8.10"
  }
 },
 "nbformat": 4,
 "nbformat_minor": 2
}
