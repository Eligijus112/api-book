{
 "cells": [
  {
   "cell_type": "markdown",
   "id": "7cbe7cd6",
   "metadata": {},
   "source": [
    "# Hello mister data scientist "
   ]
  },
  {
   "cell_type": "markdown",
   "id": "6dd2b932",
   "metadata": {},
   "source": [
    "Imagine that we are working in a huge analytics company and our new task is to model the probability of Counter Terrorist (**CT** for short) team winning a Counter Strike: Global Offensive (**CSGO** for short) game.\n",
    "\n",
    "The rules of the game are simple: there are two teams, named terrorists and counter-terrorists, each consisting of 5 players. At the start of the round each player buys weapons, armor and other equipment and the objective is to eliminate every single member of the opposite team. \n",
    "\n",
    "To read more about the game visit the official website: https://blog.counter-strike.net/index.php/about/\n",
    "\n",
    "This esport is very popular and our analytics company is trying to break into the gaming market with a very accurate model which will be shown on TV, on gaming streams and other places. \n",
    "\n",
    "If we define: \n",
    "\n",
    "$$ \\mathbb{Y_{i}} = \\{0, 1\\}$$ \n",
    "\n",
    "$$ \\mathbb{X_{i}} \\in R^{p}$$\n",
    "\n",
    "Where\n",
    "\n",
    "$\\mathbb{i}$ - observation i. \n",
    "\n",
    "$n$ - total number of observations.\n",
    "\n",
    "Then we are trying to create a model for the probability:\n",
    "\n",
    "$$P(\\mathbb{Y}|\\mathbb{X}) \\in (0, 1)$$\n",
    "\n",
    "The function $f$ that links $\\mathbb{X}$ to $\\mathbb{Y}$ is the machine learning model which are trying to build:\n",
    "\n",
    "$$ f: \\mathbb{X} \\rightarrow \\mathbb{Y} $$"
   ]
  },
  {
   "cell_type": "markdown",
   "id": "151fe321",
   "metadata": {},
   "source": [
    "Because we are trying to predict an observation falling into one of two categories the machine learning model $f$ can be called a *classifier*. "
   ]
  },
  {
   "cell_type": "markdown",
   "id": "77f2ecc1",
   "metadata": {},
   "source": [
    "We roll up our sleeves and start working on each of the steps: EDA, data spliting, model creation and validation. "
   ]
  },
  {
   "cell_type": "markdown",
   "id": "5ac1f913",
   "metadata": {},
   "source": [
    "# Python package imports "
   ]
  },
  {
   "cell_type": "code",
   "execution_count": 1,
   "id": "7e6349cd",
   "metadata": {},
   "outputs": [
    {
     "ename": "ModuleNotFoundError",
     "evalue": "No module named 'xgboost'",
     "output_type": "error",
     "traceback": [
      "\u001b[0;31m---------------------------------------------------------------------------\u001b[0m",
      "\u001b[0;31mModuleNotFoundError\u001b[0m                       Traceback (most recent call last)",
      "\u001b[0;32m/tmp/ipykernel_17224/428778212.py\u001b[0m in \u001b[0;36m<module>\u001b[0;34m\u001b[0m\n\u001b[1;32m      3\u001b[0m \u001b[0;34m\u001b[0m\u001b[0m\n\u001b[1;32m      4\u001b[0m \u001b[0;31m# Main modeling class\u001b[0m\u001b[0;34m\u001b[0m\u001b[0;34m\u001b[0m\u001b[0;34m\u001b[0m\u001b[0m\n\u001b[0;32m----> 5\u001b[0;31m \u001b[0;32mimport\u001b[0m \u001b[0mxgboost\u001b[0m \u001b[0;32mas\u001b[0m \u001b[0mxgb\u001b[0m\u001b[0;34m\u001b[0m\u001b[0;34m\u001b[0m\u001b[0m\n\u001b[0m",
      "\u001b[0;31mModuleNotFoundError\u001b[0m: No module named 'xgboost'"
     ]
    }
   ],
   "source": [
    "# Data reading \n",
    "import pandas as pd \n",
    "\n",
    "# Main modeling class w\n",
    "import xgboost as xgb "
   ]
  },
  {
   "cell_type": "markdown",
   "id": "e57cd9e0",
   "metadata": {},
   "source": [
    "# Reading data "
   ]
  },
  {
   "cell_type": "markdown",
   "id": "3ac59d72",
   "metadata": {},
   "source": [
    "Finding, cleaning and labelling data is ussually a long and painfull process. This is not the main emphasis of this book so lets image that we have already spent months in creating the beautifull dataset which we will read.  "
   ]
  },
  {
   "cell_type": "markdown",
   "id": "ff40ad80",
   "metadata": {},
   "source": [
    "# Explanatory Data Analysis "
   ]
  },
  {
   "cell_type": "code",
   "execution_count": null,
   "id": "2e48c392",
   "metadata": {},
   "outputs": [],
   "source": []
  }
 ],
 "metadata": {
  "kernelspec": {
   "display_name": "api_book",
   "language": "python",
   "name": "api_book"
  },
  "language_info": {
   "codemirror_mode": {
    "name": "ipython",
    "version": 3
   },
   "file_extension": ".py",
   "mimetype": "text/x-python",
   "name": "python",
   "nbconvert_exporter": "python",
   "pygments_lexer": "ipython3",
   "version": "3.8.10"
  }
 },
 "nbformat": 4,
 "nbformat_minor": 5
}
