{
 "cells": [
  {
   "cell_type": "markdown",
   "id": "7cbe7cd6",
   "metadata": {},
   "source": [
    "# Creating the machine learning model "
   ]
  },
  {
   "cell_type": "markdown",
   "metadata": {},
   "source": [
    "## Business problem "
   ]
  },
  {
   "cell_type": "markdown",
   "id": "3e98a35d",
   "metadata": {},
   "source": [
    "![CSGO-logo](media/csgo-logo.jpeg)"
   ]
  },
  {
   "cell_type": "markdown",
   "id": "cc5c4b82",
   "metadata": {},
   "source": [
    "Imagine that we are working in a huge analytics company and our new task is to model the probability of Counter Terrorist (**CT** for short) team winning a Counter Strike: Global Offensive (**CSGO** for short) game.\n",
    "\n",
    "The rules of the game are simple: there are two teams, named terrorists and counter-terrorists, each consisting of 5 players. At the start of the round each player buys weapons, armor and other equipment and the objective is to eliminate every single member of the opposite team. \n",
    "\n",
    "To read more about the game visit the official website: https://blog.counter-strike.net/index.php/about/\n",
    "\n",
    "This esport is very popular and our analytics company is trying to break into the gaming market with a very accurate model which will be shown on TV, on gaming streams and other places. "
   ]
  },
  {
   "cell_type": "markdown",
   "id": "284b0fc9",
   "metadata": {},
   "source": [
    "## Rules of the game "
   ]
  },
  {
   "cell_type": "markdown",
   "id": "9909d3dc",
   "metadata": {},
   "source": [
    "The ultimate victory of a CSGO match is when a team, either CT or T, earn **16 points**. A point is earn when a match is won. \n",
    "\n",
    "The maximum number of seconds in a match is **175.00**.\n",
    "\n",
    "There are 5 CT and 5 T players on match start. Each of them have **100 hit points (HP)** and can buy up to **100 armor**.\n",
    "\n",
    "Players earn in game dollars during a match which can be spent on weapons, grenades, armor and other accesories. \n",
    "\n",
    "If the terrorists plant a bomb and counter-terrorists fail to defuse it, then the game lost for CTs. "
   ]
  },
  {
   "cell_type": "markdown",
   "id": "3fa8ab92",
   "metadata": {},
   "source": [
    "## Machine learning problem "
   ]
  },
  {
   "cell_type": "markdown",
   "id": "2d832de0",
   "metadata": {},
   "source": [
    "After the business problem is defined and the rules of the game is clear, we now need to convert the business problem into a machine learning problem. "
   ]
  },
  {
   "cell_type": "markdown",
   "id": "6dd2b932",
   "metadata": {},
   "source": [
    "If we define: \n",
    "\n",
    "$$ \\mathbb{Y}_{i} = \\{0, 1\\}, \\forall i = 1, ..., n$$ \n",
    "\n",
    "$$ \\mathbb{X}_{i} \\in R^{p}, \\forall i = 1, ..., n$$\n",
    "\n",
    "Where\n",
    "\n",
    "$i$ - observation i. \n",
    "\n",
    "$n$ - total number of observations.\n",
    "\n",
    "$p$ - number of features.\n",
    "\n",
    "Then we are trying to create a model for the probability:\n",
    "\n",
    "$$P(\\mathbb{Y}|\\mathbb{X}) \\in (0, 1)$$\n",
    "\n",
    "The function $f$ that links $\\mathbb{X}$ to $\\mathbb{Y}$ is the machine learning model which are trying to build:\n",
    "\n",
    "$$ f: \\mathbb{X} \\rightarrow \\mathbb{Y} $$"
   ]
  },
  {
   "cell_type": "markdown",
   "id": "151fe321",
   "metadata": {},
   "source": [
    "Because we are trying to predict an observation falling into one of two categories the machine learning model $f$ can be called a *classifier*. "
   ]
  },
  {
   "cell_type": "markdown",
   "id": "77f2ecc1",
   "metadata": {},
   "source": [
    "We roll up our sleeves and start working on each of the steps: EDA, data spliting, model creation and validation. "
   ]
  },
  {
   "cell_type": "markdown",
   "id": "5ac1f913",
   "metadata": {},
   "source": [
    "# Python package imports "
   ]
  },
  {
   "cell_type": "markdown",
   "id": "0c33b92f",
   "metadata": {},
   "source": [
    "The first thing that any developer or a ML practioner does is load up packages which are installed into his/hers machine. "
   ]
  },
  {
   "cell_type": "code",
   "execution_count": 1,
   "id": "7e6349cd",
   "metadata": {},
   "outputs": [],
   "source": [
    "# Data reading \n",
    "import pandas as pd \n",
    "\n",
    "# Main modeling class\n",
    "import xgboost as xgb \n",
    "\n",
    "# Data spliting \n",
    "from sklearn.model_selection import train_test_split\n",
    "\n",
    "# Plotting library\n",
    "import matplotlib.pyplot as plt\n",
    "\n",
    "# Array math \n",
    "import numpy as np"
   ]
  },
  {
   "cell_type": "markdown",
   "id": "e57cd9e0",
   "metadata": {},
   "source": [
    "# Reading data "
   ]
  },
  {
   "cell_type": "markdown",
   "id": "3ac59d72",
   "metadata": {},
   "source": [
    "Finding, cleaning and labelling data is ussually a long and painfull process. This is not the main emphasis of this book so lets imagine that we have already spent months in creating the beautifull dataset which we will read.\n",
    "\n",
    "The original dataset can be found here: https://www.kaggle.com/christianlillelund/csgo-round-winner-classification"
   ]
  },
  {
   "cell_type": "code",
   "execution_count": 2,
   "id": "9edef211",
   "metadata": {},
   "outputs": [
    {
     "name": "stdout",
     "output_type": "stream",
     "text": [
      "Number of observations: 122410\n",
      "Number of features: 97\n"
     ]
    }
   ],
   "source": [
    "# Using pandas to read a csv file \n",
    "d = pd.read_csv(\"data/data.csv\")\n",
    "\n",
    "# Printing the shape of data \n",
    "print(f\"Number of observations: {d.shape[0]}\")\n",
    "print(f\"Number of features: {d.shape[1]}\")"
   ]
  },
  {
   "cell_type": "code",
   "execution_count": 3,
   "id": "1ea75f6e",
   "metadata": {},
   "outputs": [
    {
     "data": {
      "text/plain": [
       "array(['time_left', 'ct_score', 't_score', 'map', 'bomb_planted',\n",
       "       'ct_health', 't_health', 'ct_armor', 't_armor', 'ct_money',\n",
       "       't_money', 'ct_helmets', 't_helmets', 'ct_defuse_kits',\n",
       "       'ct_players_alive', 't_players_alive', 'ct_weapon_ak47',\n",
       "       't_weapon_ak47', 'ct_weapon_aug', 't_weapon_aug', 'ct_weapon_awp',\n",
       "       't_weapon_awp', 'ct_weapon_bizon', 't_weapon_bizon',\n",
       "       'ct_weapon_cz75auto', 't_weapon_cz75auto', 'ct_weapon_elite',\n",
       "       't_weapon_elite', 'ct_weapon_famas', 't_weapon_famas',\n",
       "       'ct_weapon_g3sg1', 't_weapon_g3sg1', 'ct_weapon_galilar',\n",
       "       't_weapon_galilar', 'ct_weapon_glock', 't_weapon_glock',\n",
       "       'ct_weapon_m249', 't_weapon_m249', 'ct_weapon_m4a1s',\n",
       "       't_weapon_m4a1s', 'ct_weapon_m4a4', 't_weapon_m4a4',\n",
       "       'ct_weapon_mac10', 't_weapon_mac10', 'ct_weapon_mag7',\n",
       "       't_weapon_mag7', 'ct_weapon_mp5sd', 't_weapon_mp5sd',\n",
       "       'ct_weapon_mp7', 't_weapon_mp7', 'ct_weapon_mp9', 't_weapon_mp9',\n",
       "       'ct_weapon_negev', 't_weapon_negev', 'ct_weapon_nova',\n",
       "       't_weapon_nova', 'ct_weapon_p90', 't_weapon_p90',\n",
       "       'ct_weapon_r8revolver', 't_weapon_r8revolver',\n",
       "       'ct_weapon_sawedoff', 't_weapon_sawedoff', 'ct_weapon_scar20',\n",
       "       't_weapon_scar20', 'ct_weapon_sg553', 't_weapon_sg553',\n",
       "       'ct_weapon_ssg08', 't_weapon_ssg08', 'ct_weapon_ump45',\n",
       "       't_weapon_ump45', 'ct_weapon_xm1014', 't_weapon_xm1014',\n",
       "       'ct_weapon_deagle', 't_weapon_deagle', 'ct_weapon_fiveseven',\n",
       "       't_weapon_fiveseven', 'ct_weapon_usps', 't_weapon_usps',\n",
       "       'ct_weapon_p250', 't_weapon_p250', 'ct_weapon_p2000',\n",
       "       't_weapon_p2000', 'ct_weapon_tec9', 't_weapon_tec9',\n",
       "       'ct_grenade_hegrenade', 't_grenade_hegrenade',\n",
       "       'ct_grenade_flashbang', 't_grenade_flashbang',\n",
       "       'ct_grenade_smokegrenade', 't_grenade_smokegrenade',\n",
       "       'ct_grenade_incendiarygrenade', 't_grenade_incendiarygrenade',\n",
       "       'ct_grenade_molotovgrenade', 't_grenade_molotovgrenade',\n",
       "       'ct_grenade_decoygrenade', 't_grenade_decoygrenade',\n",
       "       'round_winner'], dtype=object)"
      ]
     },
     "execution_count": 3,
     "metadata": {},
     "output_type": "execute_result"
    }
   ],
   "source": [
    "# Getting the feature names \n",
    "d.columns.values"
   ]
  },
  {
   "cell_type": "code",
   "execution_count": 4,
   "id": "236244fe",
   "metadata": {},
   "outputs": [
    {
     "name": "stdout",
     "output_type": "stream",
     "text": [
      "   time_left  ct_score  t_score       map  bomb_planted  ct_health  t_health  \\\n",
      "0     175.00       0.0      0.0  de_dust2         False      500.0     500.0   \n",
      "1     156.03       0.0      0.0  de_dust2         False      500.0     500.0   \n",
      "2      96.03       0.0      0.0  de_dust2         False      391.0     400.0   \n",
      "3      76.03       0.0      0.0  de_dust2         False      391.0     400.0   \n",
      "4     174.97       1.0      0.0  de_dust2         False      500.0     500.0   \n",
      "\n",
      "   ct_armor  t_armor  ct_money  ...  t_grenade_flashbang  \\\n",
      "0       0.0      0.0    4000.0  ...                  0.0   \n",
      "1     400.0    300.0     600.0  ...                  0.0   \n",
      "2     294.0    200.0     750.0  ...                  0.0   \n",
      "3     294.0    200.0     750.0  ...                  0.0   \n",
      "4     192.0      0.0   18350.0  ...                  0.0   \n",
      "\n",
      "   ct_grenade_smokegrenade  t_grenade_smokegrenade  \\\n",
      "0                      0.0                     0.0   \n",
      "1                      0.0                     2.0   \n",
      "2                      0.0                     2.0   \n",
      "3                      0.0                     0.0   \n",
      "4                      0.0                     0.0   \n",
      "\n",
      "   ct_grenade_incendiarygrenade  t_grenade_incendiarygrenade  \\\n",
      "0                           0.0                          0.0   \n",
      "1                           0.0                          0.0   \n",
      "2                           0.0                          0.0   \n",
      "3                           0.0                          0.0   \n",
      "4                           0.0                          0.0   \n",
      "\n",
      "   ct_grenade_molotovgrenade  t_grenade_molotovgrenade  \\\n",
      "0                        0.0                       0.0   \n",
      "1                        0.0                       0.0   \n",
      "2                        0.0                       0.0   \n",
      "3                        0.0                       0.0   \n",
      "4                        0.0                       0.0   \n",
      "\n",
      "   ct_grenade_decoygrenade  t_grenade_decoygrenade  round_winner  \n",
      "0                      0.0                     0.0            CT  \n",
      "1                      0.0                     0.0            CT  \n",
      "2                      0.0                     0.0            CT  \n",
      "3                      0.0                     0.0            CT  \n",
      "4                      0.0                     0.0            CT  \n",
      "\n",
      "[5 rows x 97 columns]\n"
     ]
    }
   ],
   "source": [
    "# Displaying a snippet of data\n",
    "print(d.head())"
   ]
  },
  {
   "cell_type": "markdown",
   "id": "24b67385",
   "metadata": {},
   "source": [
    "A short description about the data from the kaggle source: \n",
    "    \n",
    "*The dataset consists of round snapshots from about 700 demos from high level tournament play in 2019 and 2020. Warmup rounds and restarts have been filtered, and for the remaining live rounds a round snapshot has been recorded every 20 seconds until the round is decided. Following its initial publication, It has been pre-processed and flattened to improve readability and make it easier for algorithms to process. The total number of snapshots is 122411. **Snapshots are i.i.d and should be treated as individual data points**, not as part of a match.*"
   ]
  },
  {
   "cell_type": "markdown",
   "id": "8e5b5203",
   "metadata": {},
   "source": [
    "The feature that will be used for the creation of $\\mathbb{Y}$ variable is **round_winner**. If CT have won, then the value of $\\mathbb{Y}$ will be 1 and 0 othervise."
   ]
  },
  {
   "cell_type": "code",
   "execution_count": 5,
   "id": "9e81786c",
   "metadata": {},
   "outputs": [],
   "source": [
    "# Creating the Y variable \n",
    "d['Y'] = [1 if x == 'CT' else 0 for x in d['round_winner']]"
   ]
  },
  {
   "cell_type": "markdown",
   "id": "c4ff5d31",
   "metadata": {},
   "source": [
    "# Feature engineering "
   ]
  },
  {
   "cell_type": "markdown",
   "id": "f911d052",
   "metadata": {},
   "source": [
    "Now lets create features which will be used in modeling. "
   ]
  },
  {
   "cell_type": "code",
   "execution_count": 26,
   "id": "3d9f03c4",
   "metadata": {},
   "outputs": [],
   "source": [
    "# Boolean for the planting of the bomb event \n",
    "d['bomb_planted'] = [1 if x else 0 for x in d['bomb_planted']]\n",
    "\n",
    "# The differences between the team scores \n",
    "d['team_score_diff'] = d['ct_score'] - d['t_score']\n",
    "\n",
    "# Putting the team_score_diff into buckets \n",
    "cut_bins = [-15, -5, 0, 5, 15]\n",
    "d['team_score_diff'] = pd.cut(d['team_score_diff'], bins=cut_bins)"
   ]
  },
  {
   "cell_type": "markdown",
   "id": "ff40ad80",
   "metadata": {},
   "source": [
    "# Explanatory Data Analysis "
   ]
  },
  {
   "cell_type": "markdown",
   "id": "7db5301b",
   "metadata": {},
   "source": [
    "## Bomb planting event "
   ]
  },
  {
   "cell_type": "code",
   "execution_count": 7,
   "id": "a90afa4a",
   "metadata": {},
   "outputs": [
    {
     "data": {
      "image/png": "[encoded data removed]",
      "text/plain": [
       "<Figure size 432x288 with 1 Axes>"
      ]
     },
     "metadata": {
      "needs_background": "light"
     },
     "output_type": "display_data"
    }
   ],
   "source": [
    "# Calculating the probability of winning when a bomb is planted\n",
    "prob_w = d.groupby(['bomb_planted'])['Y'].agg(['sum', 'size'])\n",
    "prob_w['prob_of_win_CT'] = prob_w['sum'] / prob_w['size']\n",
    "\n",
    "# Adding a custom index \n",
    "prob_w.index = ['bomb not planted', 'bomb planted']\n",
    "\n",
    "# Ploting the results \n",
    "plt.bar(\n",
    "    prob_w.index, \n",
    "    prob_w['prob_of_win_CT'],\n",
    "    edgecolor='black'\n",
    ")\n",
    "plt.title(\"Probability of CT winning\")\n",
    "plt.ylabel(\"Probability\")\n",
    "plt.show()"
   ]
  },
  {
   "cell_type": "code",
   "execution_count": 8,
   "id": "5faf4b2f",
   "metadata": {},
   "outputs": [
    {
     "name": "stdout",
     "output_type": "stream",
     "text": [
      "                    sum    size  prob_of_win_CT\n",
      "bomb not planted  56904  108726        0.523371\n",
      "bomb planted       3100   13684        0.226542\n"
     ]
    }
   ],
   "source": [
    "print(prob_w)"
   ]
  },
  {
   "cell_type": "markdown",
   "id": "d20f990f",
   "metadata": {},
   "source": [
    "As we can see, if a bomb is planted, the odds of winning for a CT squad is more than two times lower than if the bomb is not planted: **0.52** and **0.22** respectively. "
   ]
  },
  {
   "cell_type": "markdown",
   "id": "c9eab249",
   "metadata": {},
   "source": [
    "## Maps "
   ]
  },
  {
   "cell_type": "code",
   "execution_count": 9,
   "id": "6fa82038",
   "metadata": {},
   "outputs": [
    {
     "data": {
      "image/png": "[encoded data removed]",
      "text/plain": [
       "<Figure size 864x504 with 1 Axes>"
      ]
     },
     "metadata": {
      "needs_background": "light"
     },
     "output_type": "display_data"
    }
   ],
   "source": [
    "# Calculating the probability of winning when a bomb is planted\n",
    "prob_w = d.groupby(['map'])['Y'].agg(['sum', 'size'])\n",
    "prob_w['prob_of_win_CT'] = prob_w['sum'] / prob_w['size']\n",
    "\n",
    "# Adding a custom index \n",
    "#prob_w.index = ['bomb not planted', 'bomb planted']\n",
    "\n",
    "# Ploting the results \n",
    "plt.figure(figsize=(12, 7))\n",
    "plt.bar(\n",
    "    prob_w.index, \n",
    "    prob_w['prob_of_win_CT'],\n",
    "    edgecolor='black'\n",
    ")\n",
    "plt.title(\"Probability of CT winning\")\n",
    "plt.ylabel(\"Probability\")\n",
    "plt.axhline(y=0.5, color='r', linestyle='--')\n",
    "plt.show()"
   ]
  },
  {
   "cell_type": "code",
   "execution_count": 10,
   "id": "3319c35c",
   "metadata": {},
   "outputs": [
    {
     "name": "stdout",
     "output_type": "stream",
     "text": [
      "               sum   size  prob_of_win_CT\n",
      "map                                      \n",
      "de_cache       103    145        0.710345\n",
      "de_dust2     10158  22144        0.458725\n",
      "de_inferno   10810  23811        0.453992\n",
      "de_mirage     9144  18576        0.492248\n",
      "de_nuke      10214  19025        0.536873\n",
      "de_overpass   7026  14081        0.498970\n",
      "de_train      7310  13491        0.541843\n",
      "de_vertigo    5239  11137        0.470414\n"
     ]
    }
   ],
   "source": [
    "print(prob_w)"
   ]
  },
  {
   "cell_type": "markdown",
   "id": "98cc62d0",
   "metadata": {},
   "source": [
    "The map **de_cache** seems to be a clear outlier in the dataset: the CTs are winning in this map more than 70% of the maches. "
   ]
  },
  {
   "cell_type": "markdown",
   "id": "43dbd30f",
   "metadata": {},
   "source": [
    "## Tilting "
   ]
  },
  {
   "cell_type": "markdown",
   "metadata": {},
   "source": [
    "The definition of tilting in esports is ***state of mental or emotional confusion or frustration***. We can measure that by the influence of the current score of matches to the probablity of winning. "
   ]
  },
  {
   "cell_type": "code",
   "execution_count": 27,
   "metadata": {},
   "outputs": [
    {
     "data": {
      "image/png": "[encoded data removed]",
      "text/plain": [
       "<Figure size 864x504 with 1 Axes>"
      ]
     },
     "metadata": {
      "needs_background": "light"
     },
     "output_type": "display_data"
    }
   ],
   "source": [
    "# Calculating the probability of winning when a bomb is planted\n",
    "prob_w = d.groupby(['team_score_diff'])['Y'].agg(['sum', 'size'])\n",
    "prob_w['prob_of_win_CT'] = prob_w['sum'] / prob_w['size']\n",
    "\n",
    "# Adjusting the index\n",
    "prob_w.index = [str(x) for x in prob_w.index] \n",
    "\n",
    "# Ploting the results \n",
    "plt.figure(figsize=(12, 7))\n",
    "plt.bar(\n",
    "    prob_w.index, \n",
    "    prob_w['prob_of_win_CT'],\n",
    "    edgecolor='black'\n",
    ")\n",
    "plt.title(\"Probability of CT winning\")\n",
    "plt.ylabel(\"Probability\")\n",
    "plt.xlabel(\"Difference between scores in favor of CT\")\n",
    "plt.axhline(y=0.5, color='r', linestyle='--')\n",
    "plt.show()"
   ]
  },
  {
   "cell_type": "markdown",
   "metadata": {},
   "source": [
    "There is a relationship between the matches won by CT and the probability of winning the current match: the bigger the difference between the match score in favor of CT, the higher the chances of winning. "
   ]
  },
  {
   "cell_type": "markdown",
   "metadata": {},
   "source": []
  }
 ],
 "metadata": {
  "interpreter": {
   "hash": "702d029752c7c667e866081f4be82ec9765259a2e8484bced05e549319c2e426"
  },
  "kernelspec": {
   "display_name": "Python 3.8.10 64-bit ('api_book': venv)",
   "name": "python3"
  },
  "language_info": {
   "codemirror_mode": {
    "name": "ipython",
    "version": 3
   },
   "file_extension": ".py",
   "mimetype": "text/x-python",
   "name": "python",
   "nbconvert_exporter": "python",
   "pygments_lexer": "ipython3",
   "version": "3.8.10"
  }
 },
 "nbformat": 4,
 "nbformat_minor": 5
}
