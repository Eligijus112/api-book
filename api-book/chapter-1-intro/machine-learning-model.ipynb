{
 "cells": [
  {
   "cell_type": "markdown",
   "id": "7cbe7cd6",
   "metadata": {},
   "source": [
    "# Creating the machine learning model "
   ]
  },
  {
   "cell_type": "markdown",
   "metadata": {},
   "source": [
    "## Business problem "
   ]
  },
  {
   "cell_type": "markdown",
   "id": "3e98a35d",
   "metadata": {},
   "source": [
    "![CSGO-logo](media/csgo-logo.jpeg)"
   ]
  },
  {
   "cell_type": "markdown",
   "id": "cc5c4b82",
   "metadata": {},
   "source": [
    "Imagine that we are working in a huge analytics company and our new task is to model the probability of Counter Terrorist (**CT** for short) team winning a Counter Strike: Global Offensive (**CSGO** for short) game.\n",
    "\n",
    "The rules of the game are simple: there are two teams, named terrorists and counter-terrorists, each consisting of 5 players. At the start of the round each player buys weapons, armor and other equipment and the objective is to eliminate every single member of the opposite team. \n",
    "\n",
    "To read more about the game visit the official website: https://blog.counter-strike.net/index.php/about/\n",
    "\n",
    "This esport is very popular and our analytics company is trying to break into the gaming market with a very accurate model which will be shown on TV, on gaming streams and other places. "
   ]
  },
  {
   "cell_type": "markdown",
   "id": "284b0fc9",
   "metadata": {},
   "source": [
    "## Rules of the game "
   ]
  },
  {
   "cell_type": "markdown",
   "id": "9909d3dc",
   "metadata": {},
   "source": [
    "The ultimate victory of a CSGO match is when a team, either CT or T, earn **16 points**. A point is earn when a match is won. \n",
    "\n",
    "The maximum number of seconds in a match is **175.00**.\n",
    "\n",
    "There are 5 CT and 5 T players on match start. Each of them have **100 hit points (HP)** and can buy up to **100 armor**.\n",
    "\n",
    "Players earn in game dollars during a match which can be spent on weapons, grenades, armor and other accesories. \n",
    "\n",
    "If the terrorists plant a bomb and counter-terrorists fail to defuse it, then the game lost for CTs. "
   ]
  },
  {
   "cell_type": "markdown",
   "id": "3fa8ab92",
   "metadata": {},
   "source": [
    "## Machine learning problem "
   ]
  },
  {
   "cell_type": "markdown",
   "id": "2d832de0",
   "metadata": {},
   "source": [
    "After the business problem is defined and the rules of the game is clear, we now need to convert the business problem into a machine learning problem. "
   ]
  },
  {
   "cell_type": "markdown",
   "id": "6dd2b932",
   "metadata": {},
   "source": [
    "If we define: \n",
    "\n",
    "$$ \\mathbb{Y}_{i} = \\{0, 1\\}, \\forall i = 1, ..., n$$ \n",
    "\n",
    "$$ \\mathbb{X}_{i} \\in R^{p}, \\forall i = 1, ..., n$$\n",
    "\n",
    "Where\n",
    "\n",
    "$i$ - observation i. \n",
    "\n",
    "$n$ - total number of observations.\n",
    "\n",
    "$p$ - number of features.\n",
    "\n",
    "Then we are trying to create a model for the probability:\n",
    "\n",
    "$$P(\\mathbb{Y}|\\mathbb{X}) \\in (0, 1)$$\n",
    "\n",
    "The function $f$ that links $\\mathbb{X}$ to $\\mathbb{Y}$ is the machine learning model which are trying to build:\n",
    "\n",
    "$$ f: \\mathbb{X} \\rightarrow \\mathbb{Y} $$"
   ]
  },
  {
   "cell_type": "markdown",
   "id": "151fe321",
   "metadata": {},
   "source": [
    "Because we are trying to predict an observation falling into one of two categories the machine learning model $f$ can be called a *classifier*. "
   ]
  },
  {
   "cell_type": "markdown",
   "id": "77f2ecc1",
   "metadata": {},
   "source": [
    "We roll up our sleeves and start working on each of the steps: EDA, data spliting, model creation and validation. "
   ]
  },
  {
   "cell_type": "markdown",
   "id": "5ac1f913",
   "metadata": {},
   "source": [
    "# Python package imports "
   ]
  },
  {
   "cell_type": "markdown",
   "id": "0c33b92f",
   "metadata": {},
   "source": [
    "The first thing that any developer or a ML practioner does is load up packages which are installed into his/hers machine. "
   ]
  },
  {
   "cell_type": "code",
<<<<<<< HEAD
   "execution_count": 45,
=======
   "execution_count": 346,
>>>>>>> main
   "id": "7e6349cd",
   "metadata": {},
   "outputs": [],
   "source": [
    "# Data reading \n",
    "import pandas as pd \n",
    "\n",
    "# Main modeling class\n",
    "import xgboost as xgb \n",
    "\n",
    "# Data spliting \n",
    "from sklearn.model_selection import train_test_split\n",
    "\n",
    "# Plotting library\n",
    "import matplotlib.pyplot as plt\n",
    "import seaborn as sns \n",
    "\n",
    "# Array math \n",
    "import numpy as np\n",
    "\n",
    "# Modeling frameworks \n",
    "from sklearn.linear_model import LogisticRegression \n",
    "import xgboost as xgb \n",
    "\n",
    "# Accuracy metrics \n",
    "from sklearn.metrics import roc_auc_score, precision_score, recall_score\n",
    "\n",
    "# Hp parameter search \n",
    "from sklearn.model_selection import ParameterGrid\n",
    "\n",
    "# Model saving \n",
<<<<<<< HEAD
    "import pickle\n",
    "\n",
    "# Operating system functionalities\n",
    "import os \n",
    "\n",
    "# JSON saving and loading \n",
    "import json"
=======
    "import pickle"
>>>>>>> main
   ]
  },
  {
   "cell_type": "markdown",
   "id": "e57cd9e0",
   "metadata": {},
   "source": [
    "# Reading data "
   ]
  },
  {
   "cell_type": "markdown",
   "id": "3ac59d72",
   "metadata": {},
   "source": [
    "Finding, cleaning and labelling data is ussually a long and painfull process. This is not the main emphasis of this book so lets imagine that we have already spent months in creating the beautifull dataset which we will read.\n",
    "\n",
    "The original dataset can be found here: https://www.kaggle.com/christianlillelund/csgo-round-winner-classification"
   ]
  },
  {
   "cell_type": "code",
<<<<<<< HEAD
   "execution_count": 3,
=======
   "execution_count": 305,
>>>>>>> main
   "id": "9edef211",
   "metadata": {},
   "outputs": [
    {
     "name": "stdout",
     "output_type": "stream",
     "text": [
      "Number of observations: 122410\n",
      "Number of features: 97\n"
     ]
    }
   ],
   "source": [
    "# Using pandas to read a csv file \n",
    "d = pd.read_csv(\"data/data.csv\")\n",
    "\n",
    "# Printing the shape of data \n",
    "print(f\"Number of observations: {d.shape[0]}\")\n",
    "print(f\"Number of features: {d.shape[1]}\")"
   ]
  },
  {
   "cell_type": "code",
<<<<<<< HEAD
   "execution_count": 4,
=======
   "execution_count": 306,
>>>>>>> main
   "id": "1ea75f6e",
   "metadata": {},
   "outputs": [
    {
     "data": {
      "text/plain": [
       "array(['time_left', 'ct_score', 't_score', 'map', 'bomb_planted',\n",
       "       'ct_health', 't_health', 'ct_armor', 't_armor', 'ct_money',\n",
       "       't_money', 'ct_helmets', 't_helmets', 'ct_defuse_kits',\n",
       "       'ct_players_alive', 't_players_alive', 'ct_weapon_ak47',\n",
       "       't_weapon_ak47', 'ct_weapon_aug', 't_weapon_aug', 'ct_weapon_awp',\n",
       "       't_weapon_awp', 'ct_weapon_bizon', 't_weapon_bizon',\n",
       "       'ct_weapon_cz75auto', 't_weapon_cz75auto', 'ct_weapon_elite',\n",
       "       't_weapon_elite', 'ct_weapon_famas', 't_weapon_famas',\n",
       "       'ct_weapon_g3sg1', 't_weapon_g3sg1', 'ct_weapon_galilar',\n",
       "       't_weapon_galilar', 'ct_weapon_glock', 't_weapon_glock',\n",
       "       'ct_weapon_m249', 't_weapon_m249', 'ct_weapon_m4a1s',\n",
       "       't_weapon_m4a1s', 'ct_weapon_m4a4', 't_weapon_m4a4',\n",
       "       'ct_weapon_mac10', 't_weapon_mac10', 'ct_weapon_mag7',\n",
       "       't_weapon_mag7', 'ct_weapon_mp5sd', 't_weapon_mp5sd',\n",
       "       'ct_weapon_mp7', 't_weapon_mp7', 'ct_weapon_mp9', 't_weapon_mp9',\n",
       "       'ct_weapon_negev', 't_weapon_negev', 'ct_weapon_nova',\n",
       "       't_weapon_nova', 'ct_weapon_p90', 't_weapon_p90',\n",
       "       'ct_weapon_r8revolver', 't_weapon_r8revolver',\n",
       "       'ct_weapon_sawedoff', 't_weapon_sawedoff', 'ct_weapon_scar20',\n",
       "       't_weapon_scar20', 'ct_weapon_sg553', 't_weapon_sg553',\n",
       "       'ct_weapon_ssg08', 't_weapon_ssg08', 'ct_weapon_ump45',\n",
       "       't_weapon_ump45', 'ct_weapon_xm1014', 't_weapon_xm1014',\n",
       "       'ct_weapon_deagle', 't_weapon_deagle', 'ct_weapon_fiveseven',\n",
       "       't_weapon_fiveseven', 'ct_weapon_usps', 't_weapon_usps',\n",
       "       'ct_weapon_p250', 't_weapon_p250', 'ct_weapon_p2000',\n",
       "       't_weapon_p2000', 'ct_weapon_tec9', 't_weapon_tec9',\n",
       "       'ct_grenade_hegrenade', 't_grenade_hegrenade',\n",
       "       'ct_grenade_flashbang', 't_grenade_flashbang',\n",
       "       'ct_grenade_smokegrenade', 't_grenade_smokegrenade',\n",
       "       'ct_grenade_incendiarygrenade', 't_grenade_incendiarygrenade',\n",
       "       'ct_grenade_molotovgrenade', 't_grenade_molotovgrenade',\n",
       "       'ct_grenade_decoygrenade', 't_grenade_decoygrenade',\n",
       "       'round_winner'], dtype=object)"
      ]
     },
<<<<<<< HEAD
     "execution_count": 4,
=======
     "execution_count": 306,
>>>>>>> main
     "metadata": {},
     "output_type": "execute_result"
    }
   ],
   "source": [
    "# Getting the feature names \n",
    "d.columns.values"
   ]
  },
  {
   "cell_type": "code",
<<<<<<< HEAD
   "execution_count": 5,
=======
   "execution_count": 307,
>>>>>>> main
   "id": "236244fe",
   "metadata": {},
   "outputs": [
    {
     "name": "stdout",
     "output_type": "stream",
     "text": [
      "   time_left  ct_score  t_score       map  bomb_planted  ct_health  t_health  \\\n",
      "0     175.00       0.0      0.0  de_dust2         False      500.0     500.0   \n",
      "1     156.03       0.0      0.0  de_dust2         False      500.0     500.0   \n",
      "2      96.03       0.0      0.0  de_dust2         False      391.0     400.0   \n",
      "3      76.03       0.0      0.0  de_dust2         False      391.0     400.0   \n",
      "4     174.97       1.0      0.0  de_dust2         False      500.0     500.0   \n",
      "\n",
      "   ct_armor  t_armor  ct_money  ...  t_grenade_flashbang  \\\n",
      "0       0.0      0.0    4000.0  ...                  0.0   \n",
      "1     400.0    300.0     600.0  ...                  0.0   \n",
      "2     294.0    200.0     750.0  ...                  0.0   \n",
      "3     294.0    200.0     750.0  ...                  0.0   \n",
      "4     192.0      0.0   18350.0  ...                  0.0   \n",
      "\n",
      "   ct_grenade_smokegrenade  t_grenade_smokegrenade  \\\n",
      "0                      0.0                     0.0   \n",
      "1                      0.0                     2.0   \n",
      "2                      0.0                     2.0   \n",
      "3                      0.0                     0.0   \n",
      "4                      0.0                     0.0   \n",
      "\n",
      "   ct_grenade_incendiarygrenade  t_grenade_incendiarygrenade  \\\n",
      "0                           0.0                          0.0   \n",
      "1                           0.0                          0.0   \n",
      "2                           0.0                          0.0   \n",
      "3                           0.0                          0.0   \n",
      "4                           0.0                          0.0   \n",
      "\n",
      "   ct_grenade_molotovgrenade  t_grenade_molotovgrenade  \\\n",
      "0                        0.0                       0.0   \n",
      "1                        0.0                       0.0   \n",
      "2                        0.0                       0.0   \n",
      "3                        0.0                       0.0   \n",
      "4                        0.0                       0.0   \n",
      "\n",
      "   ct_grenade_decoygrenade  t_grenade_decoygrenade  round_winner  \n",
      "0                      0.0                     0.0            CT  \n",
      "1                      0.0                     0.0            CT  \n",
      "2                      0.0                     0.0            CT  \n",
      "3                      0.0                     0.0            CT  \n",
      "4                      0.0                     0.0            CT  \n",
      "\n",
      "[5 rows x 97 columns]\n"
     ]
    }
   ],
   "source": [
    "# Displaying a snippet of data\n",
    "print(d.head())"
   ]
  },
  {
   "cell_type": "markdown",
   "id": "24b67385",
   "metadata": {},
   "source": [
    "A short description about the data from the kaggle source: \n",
    "    \n",
    "*The dataset consists of round snapshots from about 700 demos from high level tournament play in 2019 and 2020. Warmup rounds and restarts have been filtered, and for the remaining live rounds a round snapshot has been recorded every 20 seconds until the round is decided. Following its initial publication, It has been pre-processed and flattened to improve readability and make it easier for algorithms to process. The total number of snapshots is 122411. **Snapshots are i.i.d and should be treated as individual data points**, not as part of a match.*"
   ]
  },
  {
   "cell_type": "markdown",
   "id": "8e5b5203",
   "metadata": {},
   "source": [
    "The feature that will be used for the creation of $\\mathbb{Y}$ variable is **round_winner**. If CT have won, then the value of $\\mathbb{Y}$ will be 1 and 0 othervise."
   ]
  },
  {
   "cell_type": "code",
<<<<<<< HEAD
   "execution_count": 6,
=======
   "execution_count": 308,
>>>>>>> main
   "id": "9e81786c",
   "metadata": {},
   "outputs": [],
   "source": [
    "# Creating the Y variable \n",
    "d['Y'] = [1 if x == 'CT' else 0 for x in d['round_winner']]"
   ]
  },
  {
   "cell_type": "markdown",
   "id": "c4ff5d31",
   "metadata": {},
   "source": [
    "# Feature engineering "
   ]
  },
  {
   "cell_type": "markdown",
   "id": "f911d052",
   "metadata": {},
   "source": [
    "Now lets create features which will be used in modeling. "
   ]
  },
  {
   "cell_type": "code",
<<<<<<< HEAD
   "execution_count": 7,
=======
   "execution_count": 309,
>>>>>>> main
   "id": "3d9f03c4",
   "metadata": {},
   "outputs": [],
   "source": [
    "# Boolean for the planting of the bomb event \n",
    "d['bomb_planted'] = [1 if x else 0 for x in d['bomb_planted']]\n",
    "\n",
    "# The differences between the team scores \n",
    "d['team_score_diff'] = d['ct_score'] - d['t_score']\n",
    "\n",
    "# Putting the team_score_diff into buckets \n",
    "cut_bins_score = [-15, -5, 0, 5, 15]\n",
    "d['team_score_diff'] = pd.cut(d['team_score_diff'], bins=cut_bins_score)\n",
    "\n",
    "# Calculating the share of remaining health of CT\n",
    "d['ct_health_share'] = d['ct_health'] / (d['t_health'] + d['ct_health'])\n",
    "\n",
    "# Calculating the armor share \n",
    "d['ct_armor_per_player'] = d['ct_armor'] / d['ct_players_alive']\n",
    "\n",
    "# Total money share owned by CT\n",
    "d['ct_money_share'] = d['ct_money'] / (d['t_money'] + d['ct_money'])\n",
    "\n",
    "# Difference between alive CT players and T players \n",
    "d['ct_players_alive_diff'] = d['ct_players_alive'] - d['t_players_alive']\n",
    "\n",
    "# Is there a defuse kit in CT team?\n",
    "d['ct_defuse_kit_present'] = [1 if x > 0 else 0 for x in d['ct_defuse_kits']]"
   ]
  },
  {
   "cell_type": "markdown",
   "id": "ff40ad80",
   "metadata": {},
   "source": [
    "# Explanatory Data Analysis "
   ]
  },
  {
   "cell_type": "markdown",
   "id": "7db5301b",
   "metadata": {},
   "source": [
    "## Bomb planting event "
   ]
  },
  {
   "cell_type": "code",
<<<<<<< HEAD
   "execution_count": 8,
=======
   "execution_count": 310,
>>>>>>> main
   "id": "a90afa4a",
   "metadata": {},
   "outputs": [
    {
     "data": {
      "image/png": "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",
      "text/plain": [
       "<Figure size 432x288 with 1 Axes>"
      ]
     },
     "metadata": {
      "needs_background": "light"
     },
     "output_type": "display_data"
    }
   ],
   "source": [
    "# Calculating the probability of winning when a bomb is planted\n",
    "prob_w = d.groupby(['bomb_planted'])['Y'].agg(['sum', 'size'])\n",
    "prob_w['prob_of_win_CT'] = prob_w['sum'] / prob_w['size']\n",
    "\n",
    "# Adding a custom index \n",
    "prob_w.index = ['bomb not planted', 'bomb planted']\n",
    "\n",
    "# Ploting the results \n",
    "plt.bar(\n",
    "    prob_w.index, \n",
    "    prob_w['prob_of_win_CT'],\n",
    "    edgecolor='black'\n",
    ")\n",
    "plt.title(\"Probability of CT winning\")\n",
    "plt.ylabel(\"Probability\")\n",
    "plt.show()"
   ]
  },
  {
   "cell_type": "code",
<<<<<<< HEAD
   "execution_count": 9,
=======
   "execution_count": 311,
>>>>>>> main
   "id": "5faf4b2f",
   "metadata": {},
   "outputs": [
    {
     "name": "stdout",
     "output_type": "stream",
     "text": [
      "                    sum    size  prob_of_win_CT\n",
      "bomb not planted  56904  108726        0.523371\n",
      "bomb planted       3100   13684        0.226542\n"
     ]
    }
   ],
   "source": [
    "print(prob_w)"
   ]
  },
  {
   "cell_type": "markdown",
   "id": "d20f990f",
   "metadata": {},
   "source": [
    "As we can see, if a bomb is planted, the odds of winning for a CT squad is more than two times lower than if the bomb is not planted: **0.52** and **0.22** respectively. "
   ]
  },
  {
   "cell_type": "markdown",
   "id": "c9eab249",
   "metadata": {},
   "source": [
    "## Maps "
   ]
  },
  {
   "cell_type": "code",
<<<<<<< HEAD
   "execution_count": 10,
=======
   "execution_count": 312,
>>>>>>> main
   "id": "6fa82038",
   "metadata": {},
   "outputs": [
    {
     "data": {
      "image/png": "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",
      "text/plain": [
       "<Figure size 864x504 with 1 Axes>"
      ]
     },
     "metadata": {
      "needs_background": "light"
     },
     "output_type": "display_data"
    }
   ],
   "source": [
    "# Calculating the probability of winning when a bomb is planted\n",
    "prob_w = d.groupby(['map'])['Y'].agg(['sum', 'size'])\n",
    "prob_w['prob_of_win_CT'] = prob_w['sum'] / prob_w['size']\n",
    "\n",
    "# Ploting the results \n",
    "plt.figure(figsize=(12, 7))\n",
    "plt.bar(\n",
    "    prob_w.index, \n",
    "    prob_w['prob_of_win_CT'],\n",
    "    edgecolor='black'\n",
    ")\n",
    "plt.title(\"Probability of CT winning\")\n",
    "plt.ylabel(\"Probability\")\n",
    "plt.axhline(y=0.5, color='r', linestyle='--')\n",
    "plt.show()"
   ]
  },
  {
   "cell_type": "code",
<<<<<<< HEAD
   "execution_count": 11,
=======
   "execution_count": 313,
>>>>>>> main
   "id": "3319c35c",
   "metadata": {},
   "outputs": [
    {
     "name": "stdout",
     "output_type": "stream",
     "text": [
      "               sum   size  prob_of_win_CT\n",
      "map                                      \n",
      "de_cache       103    145        0.710345\n",
      "de_dust2     10158  22144        0.458725\n",
      "de_inferno   10810  23811        0.453992\n",
      "de_mirage     9144  18576        0.492248\n",
      "de_nuke      10214  19025        0.536873\n",
      "de_overpass   7026  14081        0.498970\n",
      "de_train      7310  13491        0.541843\n",
      "de_vertigo    5239  11137        0.470414\n"
     ]
    }
   ],
   "source": [
    "print(prob_w)"
   ]
  },
  {
   "cell_type": "markdown",
   "id": "98cc62d0",
   "metadata": {},
   "source": [
    "The map **de_cache** seems to be a clear outlier in the dataset: the CTs are winning in this map more than 70% of the maches. "
   ]
  },
  {
   "cell_type": "markdown",
   "id": "43dbd30f",
   "metadata": {},
   "source": [
    "## Tilting "
   ]
  },
  {
   "cell_type": "markdown",
   "metadata": {},
   "source": [
    "The definition of tilting in esports is ***state of mental or emotional confusion or frustration***. We can measure that by the influence of the current score of matches in favor of CTs to the probablity of winning. "
   ]
  },
  {
   "cell_type": "code",
<<<<<<< HEAD
   "execution_count": 12,
=======
   "execution_count": 314,
>>>>>>> main
   "metadata": {},
   "outputs": [
    {
     "data": {
      "image/png": "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",
      "text/plain": [
       "<Figure size 720x432 with 1 Axes>"
      ]
     },
     "metadata": {
      "needs_background": "light"
     },
     "output_type": "display_data"
    }
   ],
   "source": [
    "# Calculating the probability of winning when a bomb is planted\n",
    "prob_w = d.groupby(['team_score_diff'])['Y'].agg(['sum', 'size'])\n",
    "prob_w['prob_of_win_CT'] = prob_w['sum'] / prob_w['size']\n",
    "\n",
    "# Adjusting the index\n",
    "prob_w.index = [str(x) for x in prob_w.index] \n",
    "\n",
    "# Ploting the results \n",
    "plt.figure(figsize=(10, 6))\n",
    "plt.bar(\n",
    "    prob_w.index, \n",
    "    prob_w['prob_of_win_CT'],\n",
    "    edgecolor='black'\n",
    ")\n",
    "plt.title(\"Probability of CT winning\")\n",
    "plt.ylabel(\"Probability\")\n",
    "plt.xlabel(\"Difference between scores in favor of CT\")\n",
    "plt.axhline(y=0.5, color='r', linestyle='--')\n",
    "plt.show()"
   ]
  },
  {
   "cell_type": "markdown",
   "metadata": {},
   "source": [
    "There is a relationship between the matches won by CT and the probability of winning the current match: the bigger the difference between the match score in favor of CT, the higher the chances of winning. "
   ]
  },
  {
   "cell_type": "markdown",
   "metadata": {},
   "source": [
    "## Health, armor and money influence "
   ]
  },
  {
   "cell_type": "code",
<<<<<<< HEAD
   "execution_count": 13,
=======
   "execution_count": 315,
>>>>>>> main
   "metadata": {},
   "outputs": [
    {
     "data": {
      "image/png": "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",
      "text/plain": [
       "<Figure size 720x432 with 1 Axes>"
      ]
     },
     "metadata": {
      "needs_background": "light"
     },
     "output_type": "display_data"
    }
   ],
   "source": [
    "# Ploting the distributions of CT health share\n",
    "plt.figure(figsize=(10, 6))\n",
    "plt.hist(\n",
    "    d.loc[d['Y']==1, 'ct_health_share'].values, \n",
    "    alpha=0.5, \n",
    "    label='CT won match', \n",
    "    edgecolor='black',\n",
    "    bins=20\n",
    "    )\n",
    "plt.hist(\n",
    "    d.loc[d['Y']==0, 'ct_health_share'].values, \n",
    "    alpha=0.5, \n",
    "    label='CT won match', \n",
    "    edgecolor='black',\n",
    "    bins=20\n",
    "    )\n",
    "plt.legend()\n",
    "plt.title(\"Distribution of CT health share of total HP pool by match win event\")\n",
    "plt.ylabel(\"Number of matches\")\n",
    "plt.xlabel(\"Share of total HP pool\")\n",
    "plt.show()"
   ]
  },
  {
   "cell_type": "markdown",
   "metadata": {},
   "source": [
    "As our intuition suggested, the more total health is comprised of CT HP, the bigger the probability of winning. "
   ]
  },
  {
   "cell_type": "code",
<<<<<<< HEAD
   "execution_count": 14,
=======
   "execution_count": 316,
>>>>>>> main
   "metadata": {},
   "outputs": [
    {
     "data": {
      "image/png": "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",
      "text/plain": [
       "<Figure size 720x432 with 1 Axes>"
      ]
     },
     "metadata": {
      "needs_background": "light"
     },
     "output_type": "display_data"
    }
   ],
   "source": [
    "plt.figure(figsize=(10, 6))\n",
    "sns.kdeplot(\n",
    "    d.loc[d['Y']==1, 'ct_armor_per_player'].values,\n",
    "    shade=True,\n",
    "    linewidth=2,\n",
    "    label = 'CT won match'\n",
    "    )\n",
    "sns.kdeplot(\n",
    "    d.loc[d['Y']==0, 'ct_armor_per_player'].values,\n",
    "    shade=True,\n",
    "    linewidth=2,\n",
    "    label = 'CT lost match'\n",
    "    )\n",
    "plt.legend()\n",
    "plt.title(\"Distribution of CT armor per player by match win event\")\n",
    "plt.ylabel(\"Share of matches\")\n",
    "plt.xlabel(\"Armor per player\")\n",
    "plt.show()"
   ]
  },
  {
   "cell_type": "markdown",
   "metadata": {},
   "source": [
    "The density of CT winning a match is \"bigger\" the more there is armor per player. "
   ]
  },
  {
   "cell_type": "code",
<<<<<<< HEAD
   "execution_count": 15,
=======
   "execution_count": 317,
>>>>>>> main
   "metadata": {},
   "outputs": [
    {
     "data": {
      "image/png": "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",
      "text/plain": [
       "<Figure size 720x432 with 1 Axes>"
      ]
     },
     "metadata": {
      "needs_background": "light"
     },
     "output_type": "display_data"
    }
   ],
   "source": [
    "plt.figure(figsize=(10, 6))\n",
    "plt.hist(\n",
    "    d.loc[d['Y']==1, 'ct_money_share'].values, \n",
    "    alpha=0.5, \n",
    "    label='CT won match', \n",
    "    edgecolor='black',\n",
    "    bins=20\n",
    "    )\n",
    "plt.hist(\n",
    "    d.loc[d['Y']==0, 'ct_money_share'].values, \n",
    "    alpha=0.5, \n",
    "    label='CT won match', \n",
    "    edgecolor='black',\n",
    "    bins=20\n",
    "    )\n",
    "plt.legend()\n",
    "plt.title(\"Distribution of all money owned by CT by match win event\")\n",
    "plt.ylabel(\"Number of matches\")\n",
    "plt.xlabel(\"Share of total money owned\")\n",
    "plt.show()"
   ]
  },
  {
   "cell_type": "markdown",
   "metadata": {},
   "source": [
    "As with the health case, having more of the total economy in the game helps positively to win a match. "
   ]
  },
  {
   "cell_type": "markdown",
   "metadata": {},
   "source": [
    "## Difference of players alive \n"
   ]
  },
  {
   "cell_type": "code",
<<<<<<< HEAD
   "execution_count": 16,
=======
   "execution_count": 318,
>>>>>>> main
   "metadata": {},
   "outputs": [
    {
     "data": {
      "image/png": "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",
      "text/plain": [
       "<Figure size 864x504 with 1 Axes>"
      ]
     },
     "metadata": {
      "needs_background": "light"
     },
     "output_type": "display_data"
    }
   ],
   "source": [
    "# Calculating the probability of winning when a bomb is planted\n",
    "prob_w = d.groupby(['ct_players_alive_diff'])['Y'].agg(['sum', 'size'])\n",
    "prob_w['prob_of_win_CT'] = prob_w['sum'] / prob_w['size']\n",
    "\n",
    "# Adding a custom index \n",
    "#prob_w.index = ['bomb not planted', 'bomb planted']\n",
    "\n",
    "# Ploting the results \n",
    "plt.figure(figsize=(12, 7))\n",
    "plt.bar(\n",
    "    prob_w.index, \n",
    "    prob_w['prob_of_win_CT'],\n",
    "    edgecolor='black'\n",
    ")\n",
    "plt.title(\"Probability of CT winning\")\n",
    "plt.ylabel(\"Probability\")\n",
    "plt.xlabel(\"Alive CT players minus alive T players\")\n",
    "plt.axhline(y=0.5, color='r', linestyle='--')\n",
    "plt.show()"
   ]
  },
  {
   "cell_type": "markdown",
   "metadata": {},
   "source": [
    "Even having one player advantage in a CSGO match leads to huge increases in probability of winning. "
   ]
  },
  {
   "cell_type": "markdown",
   "metadata": {},
   "source": [
    "## Defusal kit necesity "
   ]
  },
  {
   "cell_type": "markdown",
   "metadata": {},
   "source": [
    "If a bomb is planted in the game, the only way to defuse it is with a difusal kit. "
   ]
  },
  {
   "cell_type": "code",
<<<<<<< HEAD
   "execution_count": 17,
=======
   "execution_count": 319,
>>>>>>> main
   "metadata": {},
   "outputs": [
    {
     "data": {
      "image/png": "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",
      "text/plain": [
       "<Figure size 432x288 with 1 Axes>"
      ]
     },
     "metadata": {
      "needs_background": "light"
     },
     "output_type": "display_data"
    }
   ],
   "source": [
    "# Calculating the probability of winning when a bomb is planted\n",
    "prob_w = d.groupby(['ct_defuse_kit_present'])['Y'].agg(['sum', 'size'])\n",
    "prob_w['prob_of_win_CT'] = prob_w['sum'] / prob_w['size']\n",
    "\n",
    "# Adding a custom index \n",
    "prob_w.index = ['Defuse kit not present', 'Defuse kit present']\n",
    "\n",
    "# Ploting the results \n",
    "plt.bar(\n",
    "    prob_w.index, \n",
    "    prob_w['prob_of_win_CT'],\n",
    "    edgecolor='black'\n",
    ")\n",
    "plt.title(\"Probability of CT winning\")\n",
    "plt.ylabel(\"Probability\")\n",
    "plt.show()"
   ]
  },
  {
   "cell_type": "code",
<<<<<<< HEAD
   "execution_count": 18,
=======
   "execution_count": 320,
>>>>>>> main
   "metadata": {},
   "outputs": [
    {
     "data": {
      "text/html": [
       "<div>\n",
       "<style scoped>\n",
       "    .dataframe tbody tr th:only-of-type {\n",
       "        vertical-align: middle;\n",
       "    }\n",
       "\n",
       "    .dataframe tbody tr th {\n",
       "        vertical-align: top;\n",
       "    }\n",
       "\n",
       "    .dataframe thead th {\n",
       "        text-align: right;\n",
       "    }\n",
       "</style>\n",
       "<table border=\"1\" class=\"dataframe\">\n",
       "  <thead>\n",
       "    <tr style=\"text-align: right;\">\n",
       "      <th></th>\n",
       "      <th>sum</th>\n",
       "      <th>size</th>\n",
       "      <th>prob_of_win_CT</th>\n",
       "    </tr>\n",
       "  </thead>\n",
       "  <tbody>\n",
       "    <tr>\n",
       "      <th>Defuse kit not present</th>\n",
       "      <td>12418</td>\n",
       "      <td>42095</td>\n",
       "      <td>0.294999</td>\n",
       "    </tr>\n",
       "    <tr>\n",
       "      <th>Defuse kit present</th>\n",
       "      <td>47586</td>\n",
       "      <td>80315</td>\n",
       "      <td>0.592492</td>\n",
       "    </tr>\n",
       "  </tbody>\n",
       "</table>\n",
       "</div>"
      ],
      "text/plain": [
       "                          sum   size  prob_of_win_CT\n",
       "Defuse kit not present  12418  42095        0.294999\n",
       "Defuse kit present      47586  80315        0.592492"
      ]
     },
<<<<<<< HEAD
     "execution_count": 18,
=======
     "execution_count": 320,
>>>>>>> main
     "metadata": {},
     "output_type": "execute_result"
    }
   ],
   "source": [
    "prob_w "
   ]
  },
  {
   "cell_type": "markdown",
   "metadata": {},
   "source": [
    "Having a defusal kit in a team really proves to be beneficial!"
   ]
  },
  {
   "cell_type": "markdown",
   "metadata": {},
   "source": [
    "# Creating the train, validation and test sets "
   ]
  },
  {
   "cell_type": "markdown",
   "metadata": {},
   "source": [
    "## Feature list "
   ]
  },
  {
   "cell_type": "markdown",
   "metadata": {},
   "source": [
    "After the feature engineering steps and EDA we can define the final feature list which we will use in our models: "
   ]
  },
  {
   "cell_type": "code",
<<<<<<< HEAD
   "execution_count": 19,
=======
   "execution_count": 321,
>>>>>>> main
   "metadata": {},
   "outputs": [],
   "source": [
    "# Initial list \n",
    "features = [\n",
    "    'bomb_planted',\n",
    "    'ct_health_share',\n",
    "    'ct_armor_per_player',\n",
    "    'ct_money_share',\n",
    "    'ct_players_alive_diff',\n",
    "    'ct_defuse_kit_present'\n",
    "]"
   ]
  },
  {
   "cell_type": "markdown",
   "metadata": {},
   "source": [
    "**NOTE:** some of the features will be left out because of iterative inspection of model results and EDA."
   ]
  },
  {
   "cell_type": "code",
<<<<<<< HEAD
   "execution_count": 20,
=======
   "execution_count": 322,
>>>>>>> main
   "metadata": {},
   "outputs": [],
   "source": [
    "# Creating dummy vars for the map feature\n",
    "map_df = pd.get_dummies(d['map'])\n",
    "\n",
    "# Map feature names \n",
    "map_features = map_df.columns.values.tolist()\n",
    "\n",
    "# Concatenating the map_df to original dataframe \n",
    "d = pd.concat([d, map_df], axis=1)\n",
    "\n",
    "# Adding the map features to the original feature list \n",
    "#features += map_features"
   ]
  },
  {
   "cell_type": "code",
<<<<<<< HEAD
   "execution_count": 21,
=======
   "execution_count": 323,
>>>>>>> main
   "metadata": {},
   "outputs": [],
   "source": [
    "# Creating dummy vars for the team_score_diff features\n",
    "score_df = pd.get_dummies(d['team_score_diff'])\n",
    "\n",
    "# Score feature names \n",
    "score_df.columns = [f\"team_score_diff_in_{str(x)}\" for x in score_df.columns]\n",
    "score_features = score_df.columns.values.tolist()\n",
    "\n",
    "# Concatenating the map_df to original dataframe \n",
    "d = pd.concat([d, score_df], axis=1)\n",
    "\n",
    "# Adding the map features to the original feature list \n",
    "#features += score_features"
   ]
  },
  {
   "cell_type": "code",
<<<<<<< HEAD
   "execution_count": 22,
=======
   "execution_count": 324,
>>>>>>> main
   "metadata": {},
   "outputs": [
    {
     "name": "stdout",
     "output_type": "stream",
     "text": [
      "Final feature list: \n",
      " \n",
      " ['bomb_planted', 'ct_health_share', 'ct_armor_per_player', 'ct_money_share', 'ct_players_alive_diff', 'ct_defuse_kit_present'] \n",
      " \n",
      " Number of features: 6\n"
     ]
    }
   ],
   "source": [
    "print(f\"\"\"Final feature list: \\n \\n {features} \\n \\n Number of features: {len(features)}\"\"\")"
   ]
  },
  {
   "cell_type": "markdown",
   "metadata": {},
   "source": [
    "## Spliting the original dataset"
   ]
  },
  {
   "cell_type": "markdown",
   "metadata": {},
   "source": [
    "We will use 80% of the data to train the model, 10% for validating our model and search for hyper parameters and 10% of the data will be reserved for the test set. \n",
    "\n",
    "For reproducibility, we will set a random seed of **123**."
   ]
  },
  {
   "cell_type": "code",
<<<<<<< HEAD
   "execution_count": 23,
=======
   "execution_count": 325,
>>>>>>> main
   "metadata": {},
   "outputs": [],
   "source": [
    "# Setting the seed \n",
    "seed = 123\n",
    "\n",
    "# Subseting the dataframe to the features needed + the target variable \n",
    "d = d[features + ['Y']]\n",
    "\n",
    "# Dropping missing values \n",
    "d.dropna(inplace=True)\n",
    "\n",
    "# Reseting the indexz \n",
    "d.reset_index(inplace=True, drop=True)\n",
    "\n",
    "# Spliting to train and test sets \n",
    "train, test = train_test_split(d, test_size=0.2, random_state=seed)\n",
    "\n",
    "# Further spliting the test to test and validation sets \n",
    "test, val = train_test_split(test, test_size=0.5, random_state=seed)"
   ]
  },
  {
   "cell_type": "code",
<<<<<<< HEAD
   "execution_count": 24,
=======
   "execution_count": 326,
>>>>>>> main
   "metadata": {},
   "outputs": [
    {
     "name": "stdout",
     "output_type": "stream",
     "text": [
      "Total number of rows of the dataset: 122409\n",
      "Rows in the train set: 97927\n",
      "Rows in the validation set: 12241\n",
      "Rows in the test set: 12241\n"
     ]
    }
   ],
   "source": [
    "print(f\"Total number of rows of the dataset: {d.shape[0]}\")\n",
    "print(f\"Rows in the train set: {train.shape[0]}\")\n",
    "print(f\"Rows in the validation set: {val.shape[0]}\")\n",
    "print(f\"Rows in the test set: {test.shape[0]}\")"
   ]
  },
  {
   "cell_type": "markdown",
   "metadata": {},
   "source": [
    "## Creating the X and Y matrices "
   ]
  },
  {
   "cell_type": "code",
<<<<<<< HEAD
   "execution_count": 25,
=======
   "execution_count": 327,
>>>>>>> main
   "metadata": {},
   "outputs": [
    {
     "name": "stdout",
     "output_type": "stream",
     "text": [
      "Share of CT wins in training: 0.4889969058584456\n",
      "Share of CT wins in validation: 0.4956294420390491\n",
      "Share of CT wins in testing: 0.4943223592843722\n"
     ]
    }
   ],
   "source": [
    "# Final matrices for training and validating models \n",
    "train_X, train_Y = train[features], train['Y']\n",
    "val_X, val_Y = val[features], val['Y']\n",
    "test_X, test_Y = test[features], test['Y']\n",
    "\n",
    "# Printing the stats about the distribution of Ys \n",
    "print(f\"Share of CT wins in training: {np.sum(train_Y) / len(train_Y)}\")\n",
    "print(f\"Share of CT wins in validation: {np.sum(val_Y) / len(val_Y)}\")\n",
    "print(f\"Share of CT wins in testing: {np.sum(test_Y) / len(test_Y)}\")"
   ]
  },
  {
   "cell_type": "markdown",
   "metadata": {},
   "source": [
    "# ML model creation "
   ]
  },
  {
   "cell_type": "markdown",
   "metadata": {},
   "source": [
    "## Logistic Regression model "
   ]
  },
  {
   "cell_type": "markdown",
   "metadata": {},
   "source": [
    "Logistic regression is used when we want to model the probability: \n",
    "\n",
    "$$P(\\mathbb{Y}|\\mathbb{X})$$\n",
    "\n",
    "The above probability literaly reads as \"the probability of $\\mathbb{Y}$ given $\\mathbb{X}$\". In other words, how do the features in $\\mathbb{X}$ influence the event of $\\mathbb{Y}$? \n",
    "\n",
    "The full equation for the probability which we will be trying to fit to the given data is: \n",
    "\n",
    "$$ P(\\mathbb{Y}|\\mathbb{X}) = \\dfrac{1}{1 + e^{-\\mathbb{X} \\beta }}$$\n",
    "\n",
    "Where \n",
    "\n",
    "$\\mathbb{X}$ - a feature matrix of $n$ observations and $p$ features.  \n",
    "\n",
    "$\\beta$ - a vector of dimensions $p$ x 1.  \n",
    "\n",
    "In other words, we get a coefficient for each feature in the $\\mathbb{X}$ matrix. \n",
    "\n",
    "What is very helpful in logistic regression is that a negative coefficient for a given feature means that increasing the feature $x_{i}$ will lower the probability of a CT win. If a coefficient is positive, then increasing the $x_{i}$ value increases the probability of a CT win. \n",
    "\n",
    "This simple fact helps us in some quick sanity checks - the logic of the EDA analysis should hold in respect to coefficient values and signs."
   ]
  },
  {
   "cell_type": "markdown",
   "metadata": {},
   "source": [
    "## Fitting logistic regression "
   ]
  },
  {
   "cell_type": "markdown",
   "metadata": {},
   "source": [
    "### Hyper parameter tuning"
   ]
  },
  {
   "cell_type": "markdown",
   "metadata": {},
   "source": [
    "We will try and find a combination of best hyper parameters from a given grid of parameters using the validation set. \n",
    "\n",
    "The full list of logistic regression HPs can be found here: https://scikit-learn.org/stable/modules/generated/sklearn.linear_model.LogisticRegression.html?highlight=logistic%20regression#sklearn.linear_model.LogisticRegression"
   ]
  },
  {
   "cell_type": "code",
<<<<<<< HEAD
   "execution_count": 26,
=======
   "execution_count": 328,
>>>>>>> main
   "metadata": {},
   "outputs": [],
   "source": [
    "# Defining a list of hyperparameters \n",
    "hp_dict = {\n",
    "    'C': [0.1, 0.5, 1, 1.5, 2], \n",
    "    'max_iter': [1000], \n",
    "    'fit_intercept': [True]\n",
    "}\n",
    "\n",
    "# Creating the hp grid \n",
    "hp_grid = ParameterGrid(hp_dict)"
   ]
  },
  {
   "cell_type": "code",
<<<<<<< HEAD
   "execution_count": 27,
=======
   "execution_count": 329,
>>>>>>> main
   "metadata": {},
   "outputs": [],
   "source": [
    "# Placeholders for the iteration\n",
    "auc_val_best = 0 \n",
    "best_hp = {}\n",
    "results = pd.DataFrame({})\n",
    "\n",
    "# Iterating through all the parameters and evaluating the results \n",
    "for i, hp in enumerate(hp_grid): \n",
    "    # Initiating the empty model/classifier \n",
    "    clf = LogisticRegression(**hp)\n",
    "\n",
    "    # Fitting on data \n",
    "    clf.fit(train_X, train_Y)\n",
    "\n",
    "    # Predicting on the validation set \n",
    "    yhat_val = [x[1] for x in clf.predict_proba(val_X)]\n",
    "\n",
    "    # Calculating the AUC metric \n",
    "    auc_val = roc_auc_score(val_Y, yhat_val)\n",
    "\n",
    "    # Adding to the results frame \n",
    "    hp_results = pd.DataFrame(hp, index=[i])\n",
    "    hp_results['auc'] = auc_val\n",
    "    results = results.append(hp_results)\n",
    "\n",
    "    # Checking if this is the highest auc \n",
    "    if auc_val > auc_val_best:\n",
    "        auc_val_best = auc_val \n",
    "        best_hp = hp \n",
    "\n",
    "# Sorting by the AUC score \n",
    "results.sort_values('auc', ascending=False, inplace=True)"
   ]
  },
  {
   "cell_type": "code",
<<<<<<< HEAD
   "execution_count": 28,
=======
   "execution_count": 330,
>>>>>>> main
   "metadata": {},
   "outputs": [
    {
     "name": "stdout",
     "output_type": "stream",
     "text": [
      "     C  fit_intercept  max_iter       auc\n",
      "4  2.0           True      1000  0.788922\n",
      "2  1.0           True      1000  0.788920\n",
      "3  1.5           True      1000  0.788912\n",
      "1  0.5           True      1000  0.788872\n",
      "0  0.1           True      1000  0.788719\n"
     ]
    }
   ],
   "source": [
    "# Printing out the results frame \n",
    "print(results)"
   ]
  },
  {
   "cell_type": "code",
<<<<<<< HEAD
   "execution_count": 29,
=======
   "execution_count": 338,
>>>>>>> main
   "metadata": {},
   "outputs": [
    {
     "name": "stdout",
     "output_type": "stream",
     "text": [
<<<<<<< HEAD
      "Best hp: {'C': 2, 'fit_intercept': True, 'max_iter': 1000}\n"
=======
      "Best hp: {'eval_metric': 'logloss', 'max_depth': 6, 'n_estimators': 90, 'use_label_encoder': False}\n"
>>>>>>> main
     ]
    }
   ],
   "source": [
    "# Printing out the best hyper parameter dictionary\n",
    "print(f\"Best hp: {best_hp}\")                                               "
   ]
  },
  {
   "cell_type": "markdown",
   "metadata": {},
   "source": [
    "### Testing the results on the test set "
   ]
  },
  {
   "cell_type": "markdown",
   "metadata": {},
   "source": [
    "Now that we have the best parameters according to the validation set, we can checkout the performance on the test set. \n",
    "\n",
    "The test set should be used as the final performance evaluation before deciding whether the model is sufficient or not. "
   ]
  },
  {
   "cell_type": "code",
<<<<<<< HEAD
   "execution_count": 30,
=======
   "execution_count": 332,
>>>>>>> main
   "metadata": {},
   "outputs": [
    {
     "name": "stdout",
     "output_type": "stream",
     "text": [
      "The AUC score on the test set: 0.7952810908035602\n",
      "Test precision: 0.6953240603728914\n",
      "Test recall: 0.7765658568831598\n"
     ]
    }
   ],
   "source": [
    "# Creating the \"best model\"\n",
    "clf = LogisticRegression(**best_hp)\n",
    "clf.fit(train_X, train_Y)\n",
    "\n",
    "# Predicting on the test set \n",
    "yhat_test = [x[1] for x in clf.predict_proba(test_X)]\n",
    "\n",
    "# Getting the auc score \n",
    "test_auc = roc_auc_score(test_Y, yhat_test)\n",
    "\n",
    "# Creating the binary responses \n",
    "yhat_test_binary = [1 if x > 0.5 else 0 for x in yhat_test]\n",
    "\n",
    "# Calculating the precision and recall \n",
    "precision = precision_score(test_Y, yhat_test_binary)\n",
    "recall = recall_score(test_Y, yhat_test_binary)\n",
    "\n",
    "# Printing the results \n",
    "print(f\"The AUC score on the test set: {test_auc}\")\n",
    "print(f\"Test precision: {precision}\")\n",
    "print(f\"Test recall: {recall}\")"
   ]
  },
  {
   "cell_type": "markdown",
   "metadata": {},
   "source": [
    "### Logistic regression coefficients "
   ]
  },
  {
   "cell_type": "code",
<<<<<<< HEAD
   "execution_count": 31,
=======
   "execution_count": 333,
>>>>>>> main
   "metadata": {},
   "outputs": [
    {
     "name": "stdout",
     "output_type": "stream",
     "text": [
      "                 feature  coefficient\n",
      "6              intercept    -3.604126\n",
      "0           bomb_planted    -1.539118\n",
      "2    ct_armor_per_player     0.008895\n",
      "3         ct_money_share     0.512499\n",
      "5  ct_defuse_kit_present     0.711730\n",
      "4  ct_players_alive_diff     0.879417\n",
      "1        ct_health_share     4.448159\n"
     ]
    }
   ],
   "source": [
    "# Creating the coefficient frame \n",
    "coef_frame = pd.DataFrame({\n",
    "    'feature': clf.feature_names_in_.tolist() + ['intercept'],\n",
    "    'coefficient': clf.coef_[0].tolist() + [clf.intercept_[0]]\n",
    "    })\n",
    "\n",
    "# Sorting by coefficient value \n",
    "coef_frame.sort_values('coefficient', inplace=True)\n",
    "\n",
    "# Printing the coef frame \n",
    "print(coef_frame)"
   ]
  },
  {
   "cell_type": "code",
<<<<<<< HEAD
   "execution_count": 32,
=======
   "execution_count": 334,
>>>>>>> main
   "metadata": {},
   "outputs": [
    {
     "data": {
      "image/png": "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",
      "text/plain": [
       "<Figure size 720x504 with 1 Axes>"
      ]
     },
     "metadata": {
      "needs_background": "light"
     },
     "output_type": "display_data"
    }
   ],
   "source": [
    "plt.figure(figsize=(10, 7))\n",
    "plt.barh(coef_frame['feature'], coef_frame['coefficient'], edgecolor='black')\n",
    "plt.xlabel('Coefficient value')\n",
    "plt.ylabel('Feature')\n",
    "plt.title(\"Logistic regression coefficients\")\n",
    "plt.show()"
   ]
  },
  {
   "cell_type": "markdown",
   "metadata": {},
   "source": [
    "As we can see, all the coefficient values have the same logic as in the EDA phase. This proves that the feature engineering we have done and the model fitting phase was correct. "
   ]
  },
  {
   "cell_type": "markdown",
   "metadata": {},
   "source": [
    "## Xgboost model"
   ]
  },
  {
   "cell_type": "markdown",
   "metadata": {},
   "source": [
    "Xgboost stands for extreme gradient boosting. It is not as interpratable as logistic regression but is much more flexible and in practise has proven time and time again that it gives better results than logistic regression. "
   ]
  },
  {
   "cell_type": "markdown",
   "metadata": {},
   "source": [
    "### Hyperparameter tuning for xgboost"
   ]
  },
  {
   "cell_type": "code",
<<<<<<< HEAD
   "execution_count": 33,
=======
   "execution_count": 340,
>>>>>>> main
   "metadata": {},
   "outputs": [],
   "source": [
    "# Defining a list of hyperparameters \n",
    "hp_dict = {\n",
    "    'n_estimators': [60, 90, 120], \n",
    "    'max_depth': [4, 6, 8], \n",
    "    'eval_metric': ['logloss'],\n",
    "    'use_label_encoder': [False]\n",
    "}\n",
    "\n",
    "# Creating the hp grid \n",
    "hp_grid = ParameterGrid(hp_dict)"
   ]
  },
  {
   "cell_type": "code",
<<<<<<< HEAD
   "execution_count": 34,
=======
   "execution_count": 341,
>>>>>>> main
   "metadata": {},
   "outputs": [],
   "source": [
    "# Placeholders for the iteration\n",
    "auc_val_best = 0 \n",
    "best_hp = {}\n",
    "results = pd.DataFrame({})\n",
    "\n",
    "# Iterating through all the parameters and evaluating the results \n",
    "for i, hp in enumerate(hp_grid): \n",
    "    # Initiating the empty model/classifier \n",
    "    clf = xgb.XGBClassifier(**hp)\n",
    "\n",
    "    # Fitting on data \n",
    "    clf.fit(train_X, train_Y)\n",
    "\n",
    "    # Predicting on the validation set \n",
    "    yhat_val = [x[1] for x in clf.predict_proba(val_X)]\n",
    "\n",
    "    # Calculating the AUC metric \n",
    "    auc_val = roc_auc_score(val_Y, yhat_val)\n",
    "\n",
    "    # Adding to the results frame \n",
    "    hp_results = pd.DataFrame(hp, index=[i])\n",
    "    hp_results['auc'] = auc_val\n",
    "    results = results.append(hp_results)\n",
    "\n",
    "    # Checking if this is the highest auc \n",
    "    if auc_val > auc_val_best:\n",
    "        auc_val_best = auc_val \n",
    "        best_hp = hp \n",
    "\n",
    "# Sorting by the AUC score \n",
    "results.sort_values('auc', ascending=False, inplace=True)"
   ]
  },
  {
   "cell_type": "code",
<<<<<<< HEAD
   "execution_count": 35,
=======
   "execution_count": 342,
>>>>>>> main
   "metadata": {},
   "outputs": [
    {
     "name": "stdout",
     "output_type": "stream",
     "text": [
      "  eval_metric  max_depth  n_estimators  use_label_encoder       auc\n",
      "8     logloss          8           120              False  0.843803\n",
      "7     logloss          8            90              False  0.839812\n",
      "6     logloss          8            60              False  0.833837\n",
      "5     logloss          6           120              False  0.833023\n",
      "4     logloss          6            90              False  0.830661\n",
      "3     logloss          6            60              False  0.827736\n",
      "2     logloss          4           120              False  0.825173\n",
      "1     logloss          4            90              False  0.824007\n",
      "0     logloss          4            60              False  0.821917\n"
     ]
    }
   ],
   "source": [
    "# Printing out the results frame \n",
    "print(results)"
   ]
  },
  {
   "cell_type": "code",
<<<<<<< HEAD
   "execution_count": 36,
=======
   "execution_count": 343,
>>>>>>> main
   "metadata": {},
   "outputs": [
    {
     "name": "stdout",
     "output_type": "stream",
     "text": [
      "Best hp: {'eval_metric': 'logloss', 'max_depth': 8, 'n_estimators': 120, 'use_label_encoder': False}\n"
     ]
    }
   ],
   "source": [
    "# Printing out the best hyper parameter dictionary\n",
    "print(f\"Best hp: {best_hp}\")"
   ]
  },
  {
   "cell_type": "markdown",
   "metadata": {},
   "source": [
    "### Results on the test set "
   ]
  },
  {
   "cell_type": "code",
<<<<<<< HEAD
   "execution_count": 37,
=======
   "execution_count": 345,
>>>>>>> main
   "metadata": {},
   "outputs": [
    {
     "name": "stdout",
     "output_type": "stream",
     "text": [
      "The AUC score on the test set: 0.8500900397242714\n",
      "Test precision: 0.7262025868333091\n",
      "Test recall: 0.8258139150553627\n"
     ]
    }
   ],
   "source": [
    "# Creating the \"best model\"\n",
    "clf = xgb.XGBClassifier(**best_hp)\n",
    "clf.fit(train_X, train_Y)\n",
    "\n",
    "# Predicting on the test set \n",
    "yhat_test = [x[1] for x in clf.predict_proba(test_X)]\n",
    "\n",
    "# Getting the auc score \n",
    "test_auc = roc_auc_score(test_Y, yhat_test)\n",
    "\n",
    "# Creating the binary responses \n",
    "yhat_test_binary = [1 if x > 0.5 else 0 for x in yhat_test]\n",
    "\n",
    "# Calculating the precision and recall \n",
    "precision = precision_score(test_Y, yhat_test_binary)\n",
    "recall = recall_score(test_Y, yhat_test_binary)\n",
    "\n",
    "# Printing the results \n",
    "print(f\"The AUC score on the test set: {test_auc}\")\n",
    "print(f\"Test precision: {precision}\")\n",
    "print(f\"Test recall: {recall}\")"
   ]
  },
  {
   "cell_type": "markdown",
   "metadata": {},
   "source": [
    "All the metrics, both in the validation set and test set, are better for xgboost. Thus, we will save the model and use it for later. "
   ]
  },
  {
   "cell_type": "code",
<<<<<<< HEAD
   "execution_count": 47,
=======
   "execution_count": 347,
>>>>>>> main
   "metadata": {},
   "outputs": [],
   "source": [
    "\n",
<<<<<<< HEAD
    "# Creating a directory to save the model objects \n",
    "_dir_name = os.path.join(\"..\", \"ml_models\")\n",
    "if not os.path.exists(_dir_name):\n",
    "    os.mkdir(_dir_name)\n",
    "\n",
    "_model_path = os.path.join(_dir_name, \"ml-model.pkl\")\n",
    "\n",
    "# Saving the model \n",
    "pickle.dump(clf, open(_model_path, \"wb\"))\n",
    "\n",
    "# Saving the features for future use \n",
    "_feature_path = os.path.join(_dir_name, \"ml-features.json\")\n",
    "with open(_feature_path, 'w') as f:\n",
    "    json.dump(train_X.dtypes.astype(str).to_dict(), f)"
=======
    "# Saving the model \n",
    "pickle.dump(clf, open(\"xgboost-model.pkl\", \"wb\"))\n"
>>>>>>> main
   ]
  },
  {
   "cell_type": "markdown",
   "metadata": {},
   "source": [
    "# Job well done. Right? "
   ]
  },
  {
   "cell_type": "markdown",
   "metadata": {},
   "source": [
    "So we have done our analysis, did a bunch of feature engineering, compared the baseline model to a more powerful one and saved the best model to a file. Alot of data scientists would pat themselves on the back and call it a day. But a true data engineer would ask the following questions:\n",
    "\n",
<<<<<<< HEAD
    "* How will anybody reproduce these results in the future?\n",
=======
    "* How will reproduce these results in the future?\n",
>>>>>>> main
    "* How can my colleagues use this model? \n",
    "* How can the business clients use this model? \n",
    "* How to add new features to the model, if everyone is already using it? \n",
    "* How to know, how many times and what kind of inputs were given to the created model? \n",
    "\n",
<<<<<<< HEAD
    "And much more. "
=======
    "And much more. \n",
    "\n",
    "In the next chapters of this book, I will start diving deep into the main subject - how to serve machine learning models to the clients. "
>>>>>>> main
   ]
  }
 ],
 "metadata": {
  "interpreter": {
   "hash": "702d029752c7c667e866081f4be82ec9765259a2e8484bced05e549319c2e426"
  },
  "kernelspec": {
   "display_name": "Python 3.8.10 64-bit ('api_book': venv)",
   "name": "python3"
  },
  "language_info": {
   "codemirror_mode": {
    "name": "ipython",
    "version": 3
   },
   "file_extension": ".py",
   "mimetype": "text/x-python",
   "name": "python",
   "nbconvert_exporter": "python",
   "pygments_lexer": "ipython3",
   "version": "3.8.10"
  }
 },
 "nbformat": 4,
 "nbformat_minor": 5
}
