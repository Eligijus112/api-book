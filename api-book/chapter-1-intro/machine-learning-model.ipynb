{
 "cells": [
  {
   "cell_type": "markdown",
   "id": "7cbe7cd6",
   "metadata": {},
   "source": [
    "# Creating machine learning models "
   ]
  },
  {
   "cell_type": "markdown",
   "metadata": {},
   "source": [
    "## High level ML project managment"
   ]
  },
  {
   "cell_type": "markdown",
   "metadata": {},
   "source": [
    "The need and the steps taken when creating a machine learning model usually falls into the following steps: \n",
    "\n",
    "![ml-flow](media/ml-flow.png)\n",
    "\n",
    "* The business first needs to define the problem and the potential value that a solution will bring. \n",
    "* The second step is to transfer the business problem into a machine learning problem. \n",
    "* The third step is to run alot of experiments: try out many ML algorithms, do feature engineering, debate with your colleagues and present the results. \n",
    "* The final step is to decide which model to use and start thinking about deployment. \n",
    "\n",
    "The deployment part historicaly is not the part of an ML practioner but this is changing rapidly. \n",
    "\n",
    "If any problem is to big to overcome in a given step, then a team should go a step back and rethink the previous step. "
   ]
  },
  {
   "cell_type": "markdown",
   "metadata": {},
   "source": [
    "## Business problem "
   ]
  },
  {
   "cell_type": "markdown",
   "id": "3e98a35d",
   "metadata": {},
   "source": [
    "![CSGO-logo](media/csgo-logo.jpeg)"
   ]
  },
  {
   "cell_type": "markdown",
   "id": "cc5c4b82",
   "metadata": {},
   "source": [
    "Imagine that we are working in a huge analytics company and our new task is to model the probability of Counter Terrorist (**CT** for short) team winning a Counter Strike: Global Offensive (**CSGO** for short) game.\n",
    "\n",
    "The rules of the game are simple: there are two teams, named terrorists and counter-terrorists, each consisting of 5 players. At the start of the round each player buys weapons, armor and other equipment and the objective is to win the match.\n",
    "\n",
    "To read more about the game visit the official website: https://blog.counter-strike.net/index.php/about/\n",
    "\n",
    "This esport is very popular and our analytics company is trying to break into the gaming market with a very accurate model which will be shown on TV, on gaming streams and other places. "
   ]
  },
  {
   "cell_type": "markdown",
   "id": "284b0fc9",
   "metadata": {},
   "source": [
    "## Rules of the game "
   ]
  },
  {
   "cell_type": "markdown",
   "id": "9909d3dc",
   "metadata": {},
   "source": [
    "The ultimate victory of a CSGO match is when a team, either CT or T, earn **16 points**. A point is earn when a match is won. \n",
    "\n",
    "Match winning criteria: \n",
    "\n",
    "* A given team eliminates all 5 players of the oposite team. \n",
    "* If the terrorists have planted the bomb, then the winning criteria for a CT team is to defuse the bomb and for the T team to win the match the bomb needs to explode.\n",
    "\n",
    "The maximum number of seconds in a match is **175.00**.\n",
    "\n",
    "There are 5 CT and 5 T players on match start. Each of them have **100 hit points (HP)** and can buy up to **100 armor** and a helmet.\n",
    "\n",
    "Players earn in game dollars during a match which can be spent on weapons, grenades, armor and other accesories. "
   ]
  },
  {
   "cell_type": "markdown",
   "id": "3fa8ab92",
   "metadata": {},
   "source": [
    "## Machine learning problem "
   ]
  },
  {
   "cell_type": "markdown",
   "id": "2d832de0",
   "metadata": {},
   "source": [
    "After the business problem is defined and the rules of the game are clear, we now need to convert the business problem into a machine learning problem. "
   ]
  },
  {
   "cell_type": "markdown",
   "id": "6dd2b932",
   "metadata": {},
   "source": [
    "If we define: \n",
    "\n",
    "$$ \\mathbb{Y}_{i} = \\{0, 1\\}, \\forall i = 1, ..., n$$ \n",
    "\n",
    "$$ \\mathbb{X}_{i} \\in R^{p}, \\forall i = 1, ..., n$$\n",
    "\n",
    "Where\n",
    "\n",
    "$i$ - observation i. \n",
    "\n",
    "$n$ - total number of observations.\n",
    "\n",
    "$p$ - number of features.\n",
    "\n",
    "Then we are trying to create a model for the probability to observe $\\mathbb{Y}=1$ event given $\\mathbb{X}$:\n",
    "\n",
    "$$P(\\mathbb{Y}=1|\\mathbb{X}) \\in (0, 1)$$\n",
    "\n",
    "$\\mathbb{Y} = 1$ means that the CT team have won and the $\\mathbb{Y} = 0$ means that CT team have lost.\n",
    "\n",
    "The function $f$ that links $\\mathbb{X}$ to $\\mathbb{Y}$ is the machine learning model which are trying to build:\n",
    "\n",
    "$$ f: \\mathbb{X} \\rightarrow \\mathbb{Y} $$"
   ]
  },
  {
   "cell_type": "markdown",
   "id": "151fe321",
   "metadata": {},
   "source": [
    "Because we are trying to predict an observation falling into one of two classes (CT winning or losing) the machine learning model $f$ can be called a *binary classifier*. "
   ]
  },
  {
   "cell_type": "markdown",
   "id": "5ac1f913",
   "metadata": {},
   "source": [
    "# Python package imports "
   ]
  },
  {
   "cell_type": "markdown",
   "id": "0c33b92f",
   "metadata": {},
   "source": [
    "The first thing that any developer or a ML practioner does is load up packages which are installed into his/hers machine. "
   ]
  },
  {
   "cell_type": "code",
   "execution_count": 206,
   "id": "7e6349cd",
   "metadata": {},
   "outputs": [],
   "source": [
    "# Data reading \n",
    "import pandas as pd \n",
    "\n",
    "# Main modeling class\n",
    "import xgboost as xgb \n",
    "\n",
    "# Data spliting \n",
    "from sklearn.model_selection import train_test_split\n",
    "\n",
    "# Plotting library\n",
    "import matplotlib.pyplot as plt\n",
    "import seaborn as sns \n",
    "\n",
    "# Array math \n",
    "import numpy as np\n",
    "\n",
    "# Modeling frameworks \n",
    "from sklearn.linear_model import LogisticRegression \n",
    "import xgboost as xgb \n",
    "\n",
    "# Accuracy metrics \n",
    "from sklearn.metrics import roc_auc_score, precision_score, recall_score, roc_curve\n",
    "\n",
    "# Hp parameter search \n",
    "from sklearn.model_selection import ParameterGrid\n",
    "\n",
    "# Model saving \n",
    "import pickle\n",
    "\n",
    "# Operating system functionalities\n",
    "import os \n",
    "\n",
    "# JSON saving and loading \n",
    "import json\n",
    "\n",
    "# Iteration tracking \n",
    "from tqdm import tqdm"
   ]
  },
  {
   "cell_type": "markdown",
   "id": "e57cd9e0",
   "metadata": {},
   "source": [
    "# Reading data "
   ]
  },
  {
   "cell_type": "markdown",
   "id": "3ac59d72",
   "metadata": {},
   "source": [
    "Finding, cleaning and labelling data is ussually a long and painfull process. This is not the main emphasis of this book so lets imagine that we have already spent months in creating the beautifull dataset which we will read.\n",
    "\n",
    "The original dataset can be found here: https://www.kaggle.com/christianlillelund/csgo-round-winner-classification"
   ]
  },
  {
   "cell_type": "code",
   "execution_count": 207,
   "id": "9edef211",
   "metadata": {},
   "outputs": [
    {
     "name": "stdout",
     "output_type": "stream",
     "text": [
      "Number of observations: 122410\n",
      "Number of features: 97\n"
     ]
    }
   ],
   "source": [
    "# Using pandas to read a csv file \n",
    "d = pd.read_csv(\"data/data.csv\")\n",
    "\n",
    "# Printing the shape of data \n",
    "print(f\"Number of observations: {d.shape[0]}\")\n",
    "print(f\"Number of features: {d.shape[1]}\")"
   ]
  },
  {
   "cell_type": "code",
   "execution_count": 208,
   "id": "1ea75f6e",
   "metadata": {},
   "outputs": [
    {
     "data": {
      "text/plain": [
       "array(['time_left', 'ct_score', 't_score', 'map', 'bomb_planted',\n",
       "       'ct_health', 't_health', 'ct_armor', 't_armor', 'ct_money',\n",
       "       't_money', 'ct_helmets', 't_helmets', 'ct_defuse_kits',\n",
       "       'ct_players_alive', 't_players_alive', 'ct_weapon_ak47',\n",
       "       't_weapon_ak47', 'ct_weapon_aug', 't_weapon_aug', 'ct_weapon_awp',\n",
       "       't_weapon_awp', 'ct_weapon_bizon', 't_weapon_bizon',\n",
       "       'ct_weapon_cz75auto', 't_weapon_cz75auto', 'ct_weapon_elite',\n",
       "       't_weapon_elite', 'ct_weapon_famas', 't_weapon_famas',\n",
       "       'ct_weapon_g3sg1', 't_weapon_g3sg1', 'ct_weapon_galilar',\n",
       "       't_weapon_galilar', 'ct_weapon_glock', 't_weapon_glock',\n",
       "       'ct_weapon_m249', 't_weapon_m249', 'ct_weapon_m4a1s',\n",
       "       't_weapon_m4a1s', 'ct_weapon_m4a4', 't_weapon_m4a4',\n",
       "       'ct_weapon_mac10', 't_weapon_mac10', 'ct_weapon_mag7',\n",
       "       't_weapon_mag7', 'ct_weapon_mp5sd', 't_weapon_mp5sd',\n",
       "       'ct_weapon_mp7', 't_weapon_mp7', 'ct_weapon_mp9', 't_weapon_mp9',\n",
       "       'ct_weapon_negev', 't_weapon_negev', 'ct_weapon_nova',\n",
       "       't_weapon_nova', 'ct_weapon_p90', 't_weapon_p90',\n",
       "       'ct_weapon_r8revolver', 't_weapon_r8revolver',\n",
       "       'ct_weapon_sawedoff', 't_weapon_sawedoff', 'ct_weapon_scar20',\n",
       "       't_weapon_scar20', 'ct_weapon_sg553', 't_weapon_sg553',\n",
       "       'ct_weapon_ssg08', 't_weapon_ssg08', 'ct_weapon_ump45',\n",
       "       't_weapon_ump45', 'ct_weapon_xm1014', 't_weapon_xm1014',\n",
       "       'ct_weapon_deagle', 't_weapon_deagle', 'ct_weapon_fiveseven',\n",
       "       't_weapon_fiveseven', 'ct_weapon_usps', 't_weapon_usps',\n",
       "       'ct_weapon_p250', 't_weapon_p250', 'ct_weapon_p2000',\n",
       "       't_weapon_p2000', 'ct_weapon_tec9', 't_weapon_tec9',\n",
       "       'ct_grenade_hegrenade', 't_grenade_hegrenade',\n",
       "       'ct_grenade_flashbang', 't_grenade_flashbang',\n",
       "       'ct_grenade_smokegrenade', 't_grenade_smokegrenade',\n",
       "       'ct_grenade_incendiarygrenade', 't_grenade_incendiarygrenade',\n",
       "       'ct_grenade_molotovgrenade', 't_grenade_molotovgrenade',\n",
       "       'ct_grenade_decoygrenade', 't_grenade_decoygrenade',\n",
       "       'round_winner'], dtype=object)"
      ]
     },
     "execution_count": 208,
     "metadata": {},
     "output_type": "execute_result"
    }
   ],
   "source": [
    "# Getting the feature names \n",
    "d.columns.values"
   ]
  },
  {
   "cell_type": "code",
   "execution_count": 209,
   "id": "236244fe",
   "metadata": {},
   "outputs": [
    {
     "name": "stdout",
     "output_type": "stream",
     "text": [
      "   time_left  ct_score  t_score       map  bomb_planted  ct_health  t_health  \\\n",
      "0     175.00       0.0      0.0  de_dust2         False      500.0     500.0   \n",
      "1     156.03       0.0      0.0  de_dust2         False      500.0     500.0   \n",
      "2      96.03       0.0      0.0  de_dust2         False      391.0     400.0   \n",
      "3      76.03       0.0      0.0  de_dust2         False      391.0     400.0   \n",
      "4     174.97       1.0      0.0  de_dust2         False      500.0     500.0   \n",
      "\n",
      "   ct_armor  t_armor  ct_money  ...  t_grenade_flashbang  \\\n",
      "0       0.0      0.0    4000.0  ...                  0.0   \n",
      "1     400.0    300.0     600.0  ...                  0.0   \n",
      "2     294.0    200.0     750.0  ...                  0.0   \n",
      "3     294.0    200.0     750.0  ...                  0.0   \n",
      "4     192.0      0.0   18350.0  ...                  0.0   \n",
      "\n",
      "   ct_grenade_smokegrenade  t_grenade_smokegrenade  \\\n",
      "0                      0.0                     0.0   \n",
      "1                      0.0                     2.0   \n",
      "2                      0.0                     2.0   \n",
      "3                      0.0                     0.0   \n",
      "4                      0.0                     0.0   \n",
      "\n",
      "   ct_grenade_incendiarygrenade  t_grenade_incendiarygrenade  \\\n",
      "0                           0.0                          0.0   \n",
      "1                           0.0                          0.0   \n",
      "2                           0.0                          0.0   \n",
      "3                           0.0                          0.0   \n",
      "4                           0.0                          0.0   \n",
      "\n",
      "   ct_grenade_molotovgrenade  t_grenade_molotovgrenade  \\\n",
      "0                        0.0                       0.0   \n",
      "1                        0.0                       0.0   \n",
      "2                        0.0                       0.0   \n",
      "3                        0.0                       0.0   \n",
      "4                        0.0                       0.0   \n",
      "\n",
      "   ct_grenade_decoygrenade  t_grenade_decoygrenade  round_winner  \n",
      "0                      0.0                     0.0            CT  \n",
      "1                      0.0                     0.0            CT  \n",
      "2                      0.0                     0.0            CT  \n",
      "3                      0.0                     0.0            CT  \n",
      "4                      0.0                     0.0            CT  \n",
      "\n",
      "[5 rows x 97 columns]\n"
     ]
    }
   ],
   "source": [
    "# Displaying a snippet of data\n",
    "print(d.head())"
   ]
  },
  {
   "cell_type": "markdown",
   "id": "24b67385",
   "metadata": {},
   "source": [
    "A short description about the data from the kaggle source: \n",
    "    \n",
    "*The dataset consists of round snapshots from about 700 demos from high level tournament play in 2019 and 2020. Warmup rounds and restarts have been filtered, and for the remaining live rounds a round snapshot has been recorded every 20 seconds until the round is decided. Following its initial publication, It has been pre-processed and flattened to improve readability and make it easier for algorithms to process. The total number of snapshots is 122411. **Snapshots are i.i.d and should be treated as individual data points**, not as part of a match.*"
   ]
  },
  {
   "cell_type": "markdown",
   "id": "8e5b5203",
   "metadata": {},
   "source": [
    "The feature that will be used for the creation of $\\mathbb{Y}$ variable is **round_winner**. If CT have won, then the value of $\\mathbb{Y}$ will be 1 and 0 othervise."
   ]
  },
  {
   "cell_type": "code",
   "execution_count": 210,
   "id": "9e81786c",
   "metadata": {},
   "outputs": [
    {
     "data": {
      "image/png": "[encoded data removed]",
      "text/plain": [
       "<Figure size 432x288 with 1 Axes>"
      ]
     },
     "metadata": {
      "needs_background": "light"
     },
     "output_type": "display_data"
    }
   ],
   "source": [
    "# Creating the Y variable \n",
    "d['Y'] = [1 if x == 'CT' else 0 for x in d['round_winner']]\n",
    "\n",
    "# Inspecting the distribution of the classes\n",
    "distribution = d.groupby('Y', as_index=False).size()\n",
    "distribution['Y'] = distribution['Y'].astype(str)\n",
    "distribution['share'] = distribution['size'] / distribution['size'].sum()\n",
    "plt.bar(\n",
    "    distribution['Y'], \n",
    "    distribution['share'],\n",
    "    edgecolor='black'\n",
    ")\n",
    "plt.title(\"Share of binary responses in data\")\n",
    "plt.ylabel(\"Share in data\")\n",
    "plt.xlabel(\"Response value\")\n",
    "plt.show()"
   ]
  },
  {
   "cell_type": "markdown",
   "metadata": {},
   "source": [
    "The classes are almost perfectly balanced."
   ]
  },
  {
   "cell_type": "markdown",
   "metadata": {},
   "source": [
    "## Dropping inconsistancies"
   ]
  },
  {
   "cell_type": "code",
   "execution_count": 211,
   "metadata": {},
   "outputs": [],
   "source": [
    "d = d[(d['t_players_alive']<=5) & (d['ct_players_alive']<=5)].copy()"
   ]
  },
  {
   "cell_type": "markdown",
   "id": "c4ff5d31",
   "metadata": {},
   "source": [
    "# Feature engineering "
   ]
  },
  {
   "cell_type": "markdown",
   "id": "f911d052",
   "metadata": {},
   "source": [
    "Feature engineering is the process of using domain knowledge to create additional features from the raw features in data. Alot of experimentation time is spent here and not all the features created end up improving the model. Nevertheless, if we create atlest one new feature from the given list of features which improves the performance of our classifier then we have added imense value to the original dataset without investing into new data collection.\n",
    "\n",
    "The AI expert Andrew Ng has proposed that the current ML industry should move from the model centric approach to the data centric approach {cite}`data_centric`:\n",
    "\n",
    "*\"If 80 percent of our work is data preparation, then ensuring data quality is the important work of a machine learning team.\"*\n",
    "\n",
    "Andrew Ng urges to shift the focus from trying out new models while fixing a dataset and instead fix a model and then engineer new features, label new data points and do other data related experiments. \n",
    "\n",
    "Regardless of which school of thought wins out, developing new features is paramount in either case.\n"
   ]
  },
  {
   "cell_type": "code",
   "execution_count": 212,
   "id": "3d9f03c4",
   "metadata": {},
   "outputs": [],
   "source": [
    "# Boolean for the planting of the bomb event \n",
    "d['bomb_planted'] = [1 if x else 0 for x in d['bomb_planted']]\n",
    "\n",
    "# The differences between the team scores \n",
    "d['team_score_diff'] = d['ct_score'] - d['t_score']\n",
    "\n",
    "# Putting the team_score_diff into buckets \n",
    "cut_bins_score = [-15, -5, 0, 5, 15]\n",
    "d['team_score_diff'] = pd.cut(d['team_score_diff'], bins=cut_bins_score)\n",
    "\n",
    "# Calculating the share of remaining health of CT\n",
    "d['ct_health_share'] = d['ct_health'] / (d['t_health'] + d['ct_health'])\n",
    "\n",
    "# Calculating the armor share \n",
    "d['ct_armor_per_player'] = d['ct_armor'] / d['ct_players_alive']\n",
    "\n",
    "# Total money share owned by CT\n",
    "d['ct_money_share'] = d['ct_money'] / (d['t_money'] + d['ct_money'])\n",
    "\n",
    "# Difference between alive CT players and T players \n",
    "d['ct_players_alive_diff'] = d['ct_players_alive'] - d['t_players_alive']\n",
    "\n",
    "# Is there a defuse kit in CT team?\n",
    "d['ct_defuse_kit_present'] = [1 if x > 0 else 0 for x in d['ct_defuse_kits']]"
   ]
  },
  {
   "cell_type": "markdown",
   "id": "ff40ad80",
   "metadata": {},
   "source": [
    "# Explanatory Data Analysis "
   ]
  },
  {
   "cell_type": "markdown",
   "id": "7db5301b",
   "metadata": {},
   "source": [
    "## Bomb planting event "
   ]
  },
  {
   "cell_type": "code",
   "execution_count": 213,
   "id": "a90afa4a",
   "metadata": {},
   "outputs": [
    {
     "data": {
      "image/png": "[encoded data removed]",
      "text/plain": [
       "<Figure size 432x288 with 1 Axes>"
      ]
     },
     "metadata": {
      "needs_background": "light"
     },
     "output_type": "display_data"
    }
   ],
   "source": [
    "# Calculating the probability of winning when a bomb is planted\n",
    "prob_w = d.groupby(['bomb_planted'])['Y'].agg(['sum', 'size'])\n",
    "prob_w['prob_of_win_CT'] = prob_w['sum'] / prob_w['size']\n",
    "\n",
    "# Adding a custom index \n",
    "prob_w.index = ['bomb not planted', 'bomb planted']\n",
    "\n",
    "# Ploting the results \n",
    "plt.bar(\n",
    "    prob_w.index, \n",
    "    prob_w['prob_of_win_CT'],\n",
    "    edgecolor='black'\n",
    ")\n",
    "plt.title(\"Probability of CT winning\")\n",
    "plt.ylabel(\"Probability\")\n",
    "plt.show()"
   ]
  },
  {
   "cell_type": "code",
   "execution_count": 214,
   "id": "5faf4b2f",
   "metadata": {},
   "outputs": [
    {
     "name": "stdout",
     "output_type": "stream",
     "text": [
      "                    sum    size  prob_of_win_CT\n",
      "bomb not planted  56904  108725        0.523375\n",
      "bomb planted       3100   13684        0.226542\n"
     ]
    }
   ],
   "source": [
    "print(prob_w)"
   ]
  },
  {
   "cell_type": "markdown",
   "id": "d20f990f",
   "metadata": {},
   "source": [
    "As we can see, if a bomb is planted, the odds of winning for a CT squad is more than two times lower than if the bomb is not planted: **0.52** and **0.22** respectively. "
   ]
  },
  {
   "cell_type": "markdown",
   "id": "c9eab249",
   "metadata": {},
   "source": [
    "## Maps "
   ]
  },
  {
   "cell_type": "code",
   "execution_count": 215,
   "id": "6fa82038",
   "metadata": {},
   "outputs": [
    {
     "data": {
      "image/png": "[encoded data removed]",
      "text/plain": [
       "<Figure size 864x504 with 1 Axes>"
      ]
     },
     "metadata": {
      "needs_background": "light"
     },
     "output_type": "display_data"
    }
   ],
   "source": [
    "# Calculating the probability of winning when a bomb is planted\n",
    "prob_w = d.groupby(['map'])['Y'].agg(['sum', 'size'])\n",
    "prob_w['prob_of_win_CT'] = prob_w['sum'] / prob_w['size']\n",
    "\n",
    "# Ploting the results \n",
    "plt.figure(figsize=(12, 7))\n",
    "plt.bar(\n",
    "    prob_w.index, \n",
    "    prob_w['prob_of_win_CT'],\n",
    "    edgecolor='black'\n",
    ")\n",
    "plt.title(\"Probability of CT winning\")\n",
    "plt.ylabel(\"Probability\")\n",
    "plt.axhline(y=0.5, color='r', linestyle='--')\n",
    "plt.show()"
   ]
  },
  {
   "cell_type": "code",
   "execution_count": 216,
   "id": "3319c35c",
   "metadata": {},
   "outputs": [
    {
     "name": "stdout",
     "output_type": "stream",
     "text": [
      "               sum   size  prob_of_win_CT\n",
      "map                                      \n",
      "de_cache       103    145        0.710345\n",
      "de_dust2     10158  22144        0.458725\n",
      "de_inferno   10810  23811        0.453992\n",
      "de_mirage     9144  18576        0.492248\n",
      "de_nuke      10214  19025        0.536873\n",
      "de_overpass   7026  14081        0.498970\n",
      "de_train      7310  13491        0.541843\n",
      "de_vertigo    5239  11136        0.470456\n"
     ]
    }
   ],
   "source": [
    "print(prob_w)"
   ]
  },
  {
   "cell_type": "markdown",
   "id": "98cc62d0",
   "metadata": {},
   "source": [
    "The map **de_cache** seems to be a clear outlier in the dataset: the CTs are winning in this map more than 70% of the maches. "
   ]
  },
  {
   "cell_type": "markdown",
   "id": "43dbd30f",
   "metadata": {},
   "source": [
    "## Tilting "
   ]
  },
  {
   "cell_type": "markdown",
   "metadata": {},
   "source": [
    "The definition of tilting in esports is ***state of mental or emotional confusion or frustration***. We can measure that by the influence of the current score of matches in favor of CTs to the probablity of winning. "
   ]
  },
  {
   "cell_type": "code",
   "execution_count": 217,
   "metadata": {},
   "outputs": [
    {
     "data": {
      "image/png": "[encoded data removed]",
      "text/plain": [
       "<Figure size 720x432 with 1 Axes>"
      ]
     },
     "metadata": {
      "needs_background": "light"
     },
     "output_type": "display_data"
    }
   ],
   "source": [
    "# Calculating the probability of winning when a bomb is planted\n",
    "prob_w = d.groupby(['team_score_diff'])['Y'].agg(['sum', 'size'])\n",
    "prob_w['prob_of_win_CT'] = prob_w['sum'] / prob_w['size']\n",
    "\n",
    "# Adjusting the index\n",
    "prob_w.index = [str(x) for x in prob_w.index] \n",
    "\n",
    "# Ploting the results \n",
    "plt.figure(figsize=(10, 6))\n",
    "plt.bar(\n",
    "    prob_w.index, \n",
    "    prob_w['prob_of_win_CT'],\n",
    "    edgecolor='black'\n",
    ")\n",
    "plt.title(\"Probability of CT winning\")\n",
    "plt.ylabel(\"Probability\")\n",
    "plt.xlabel(\"Difference between scores in favor of CT\")\n",
    "plt.axhline(y=0.5, color='r', linestyle='--')\n",
    "plt.show()"
   ]
  },
  {
   "cell_type": "markdown",
   "metadata": {},
   "source": [
    "There is a relationship between the matches won by CT and the probability of winning the current match: the bigger the difference between the match score in favor of CT, the higher the chances of winning. "
   ]
  },
  {
   "cell_type": "markdown",
   "metadata": {},
   "source": [
    "## Health, armor and money influence "
   ]
  },
  {
   "cell_type": "code",
   "execution_count": 218,
   "metadata": {},
   "outputs": [
    {
     "data": {
      "image/png": "[encoded data removed]",
      "text/plain": [
       "<Figure size 720x432 with 1 Axes>"
      ]
     },
     "metadata": {
      "needs_background": "light"
     },
     "output_type": "display_data"
    }
   ],
   "source": [
    "# Ploting the distributions of CT health share\n",
    "plt.figure(figsize=(10, 6))\n",
    "plt.hist(\n",
    "    d.loc[d['Y']==1, 'ct_health_share'].values, \n",
    "    alpha=0.5, \n",
    "    label='CT won match', \n",
    "    edgecolor='black',\n",
    "    bins=20\n",
    "    )\n",
    "plt.hist(\n",
    "    d.loc[d['Y']==0, 'ct_health_share'].values, \n",
    "    alpha=0.5, \n",
    "    label='CT won match', \n",
    "    edgecolor='black',\n",
    "    bins=20\n",
    "    )\n",
    "plt.legend()\n",
    "plt.title(\"Distribution of CT health share of total HP pool by match win event\")\n",
    "plt.ylabel(\"Number of matches\")\n",
    "plt.xlabel(\"Share of total HP pool\")\n",
    "plt.show()"
   ]
  },
  {
   "cell_type": "markdown",
   "metadata": {},
   "source": [
    "As our intuition suggested, the more total health is comprised of CT HP, the bigger the probability of winning. "
   ]
  },
  {
   "cell_type": "code",
   "execution_count": 219,
   "metadata": {},
   "outputs": [
    {
     "data": {
      "image/png": "[encoded data removed]",
      "text/plain": [
       "<Figure size 720x432 with 1 Axes>"
      ]
     },
     "metadata": {
      "needs_background": "light"
     },
     "output_type": "display_data"
    }
   ],
   "source": [
    "plt.figure(figsize=(10, 6))\n",
    "sns.kdeplot(\n",
    "    d.loc[d['Y']==1, 'ct_armor_per_player'].values,\n",
    "    shade=True,\n",
    "    linewidth=2,\n",
    "    label = 'CT won match'\n",
    "    )\n",
    "sns.kdeplot(\n",
    "    d.loc[d['Y']==0, 'ct_armor_per_player'].values,\n",
    "    shade=True,\n",
    "    linewidth=2,\n",
    "    label = 'CT lost match'\n",
    "    )\n",
    "plt.legend()\n",
    "plt.title(\"Distribution of CT armor per player by match win event\")\n",
    "plt.ylabel(\"Share of matches\")\n",
    "plt.xlabel(\"Armor per player\")\n",
    "plt.show()"
   ]
  },
  {
   "cell_type": "markdown",
   "metadata": {},
   "source": [
    "The density of CT winning a match is \"bigger\" the more there is armor per player. "
   ]
  },
  {
   "cell_type": "code",
   "execution_count": 220,
   "metadata": {},
   "outputs": [
    {
     "data": {
      "image/png": "[encoded data removed]",
      "text/plain": [
       "<Figure size 720x432 with 1 Axes>"
      ]
     },
     "metadata": {
      "needs_background": "light"
     },
     "output_type": "display_data"
    }
   ],
   "source": [
    "plt.figure(figsize=(10, 6))\n",
    "plt.hist(\n",
    "    d.loc[d['Y']==1, 'ct_money_share'].values, \n",
    "    alpha=0.5, \n",
    "    label='CT won match', \n",
    "    edgecolor='black',\n",
    "    bins=20\n",
    "    )\n",
    "plt.hist(\n",
    "    d.loc[d['Y']==0, 'ct_money_share'].values, \n",
    "    alpha=0.5, \n",
    "    label='CT lost match', \n",
    "    edgecolor='black',\n",
    "    bins=20\n",
    "    )\n",
    "plt.legend()\n",
    "plt.title(\"Distribution of all money owned by CT by match win event\")\n",
    "plt.ylabel(\"Number of matches\")\n",
    "plt.xlabel(\"Share of total money owned\")\n",
    "plt.show()"
   ]
  },
  {
   "cell_type": "markdown",
   "metadata": {},
   "source": [
    "As with the health case, having more of the total economy in the game helps positively to win a match. "
   ]
  },
  {
   "cell_type": "markdown",
   "metadata": {},
   "source": [
    "## Impact of alive players"
   ]
  },
  {
   "cell_type": "code",
   "execution_count": 221,
   "metadata": {},
   "outputs": [
    {
     "data": {
      "image/png": "[encoded data removed]",
      "text/plain": [
       "<Figure size 576x576 with 2 Axes>"
      ]
     },
     "metadata": {
      "needs_background": "light"
     },
     "output_type": "display_data"
    }
   ],
   "source": [
    "# Calculating the probability of winning when a bomb is planted\n",
    "prob_w = d.groupby(['ct_players_alive', 't_players_alive'], as_index=False)['Y'].agg(['sum', 'size'])\n",
    "prob_w['prob_of_win_CT'] = prob_w['sum'] / prob_w['size']\n",
    "\n",
    "# Droping the obvious cases of CT=0 and T=0\n",
    "prob_w = prob_w[[False if x[0]==0.0 or x[1]==0.0 else True for x in prob_w.index]]\n",
    "\n",
    "# Creating a dataframe for a heatmap \n",
    "heatmap_df = pd.DataFrame({\n",
    "    'ct_players_alive': prob_w.index.get_level_values(0),\n",
    "    't_players_alive': prob_w.index.get_level_values(1),\n",
    "    'p': prob_w['prob_of_win_CT']\n",
    "})\n",
    "heatmap_df = heatmap_df.pivot(index='ct_players_alive', columns='t_players_alive', values='p')\n",
    "\n",
    "# Drawing the heatmap \n",
    "plt.figure(figsize=(8, 8))\n",
    "sns.heatmap(heatmap_df, linewidths=.5, cmap=\"YlGnBu\")\n",
    "plt.title(\"Heatmap of probability to win vs alive players\")\n",
    "plt.show()"
   ]
  },
  {
   "cell_type": "markdown",
   "metadata": {},
   "source": [
    "Even having one player advantage in a CSGO match leads to huge increases in probability of winning. The highest probability to win is where there are alot of alive CT players and not much alive T players."
   ]
  },
  {
   "cell_type": "markdown",
   "metadata": {},
   "source": [
    "## Defusal kit necesity "
   ]
  },
  {
   "cell_type": "markdown",
   "metadata": {},
   "source": [
    "If a bomb is planted in the game, the only way to defuse it is with a difusal kit. "
   ]
  },
  {
   "cell_type": "code",
   "execution_count": 222,
   "metadata": {},
   "outputs": [
    {
     "data": {
      "image/png": "[encoded data removed]",
      "text/plain": [
       "<Figure size 432x288 with 1 Axes>"
      ]
     },
     "metadata": {
      "needs_background": "light"
     },
     "output_type": "display_data"
    }
   ],
   "source": [
    "# Calculating the probability of winning when a bomb is planted\n",
    "prob_w = d.groupby(['ct_defuse_kit_present'])['Y'].agg(['sum', 'size'])\n",
    "prob_w['prob_of_win_CT'] = prob_w['sum'] / prob_w['size']\n",
    "\n",
    "# Adding a custom index \n",
    "prob_w.index = ['Defuse kit not present', 'Defuse kit present']\n",
    "\n",
    "# Ploting the results \n",
    "plt.bar(\n",
    "    prob_w.index, \n",
    "    prob_w['prob_of_win_CT'],\n",
    "    edgecolor='black'\n",
    ")\n",
    "plt.title(\"Probability of CT winning\")\n",
    "plt.ylabel(\"Probability\")\n",
    "plt.show()"
   ]
  },
  {
   "cell_type": "code",
   "execution_count": 223,
   "metadata": {},
   "outputs": [
    {
     "data": {
      "text/html": [
       "<div>\n",
       "<style scoped>\n",
       "    .dataframe tbody tr th:only-of-type {\n",
       "        vertical-align: middle;\n",
       "    }\n",
       "\n",
       "    .dataframe tbody tr th {\n",
       "        vertical-align: top;\n",
       "    }\n",
       "\n",
       "    .dataframe thead th {\n",
       "        text-align: right;\n",
       "    }\n",
       "</style>\n",
       "<table border=\"1\" class=\"dataframe\">\n",
       "  <thead>\n",
       "    <tr style=\"text-align: right;\">\n",
       "      <th></th>\n",
       "      <th>sum</th>\n",
       "      <th>size</th>\n",
       "      <th>prob_of_win_CT</th>\n",
       "    </tr>\n",
       "  </thead>\n",
       "  <tbody>\n",
       "    <tr>\n",
       "      <th>Defuse kit not present</th>\n",
       "      <td>12418</td>\n",
       "      <td>42094</td>\n",
       "      <td>0.295006</td>\n",
       "    </tr>\n",
       "    <tr>\n",
       "      <th>Defuse kit present</th>\n",
       "      <td>47586</td>\n",
       "      <td>80315</td>\n",
       "      <td>0.592492</td>\n",
       "    </tr>\n",
       "  </tbody>\n",
       "</table>\n",
       "</div>"
      ],
      "text/plain": [
       "                          sum   size  prob_of_win_CT\n",
       "Defuse kit not present  12418  42094        0.295006\n",
       "Defuse kit present      47586  80315        0.592492"
      ]
     },
     "execution_count": 223,
     "metadata": {},
     "output_type": "execute_result"
    }
   ],
   "source": [
    "prob_w "
   ]
  },
  {
   "cell_type": "markdown",
   "metadata": {},
   "source": [
    "Having a defusal kit in a team really proves to be beneficial!"
   ]
  },
  {
   "cell_type": "markdown",
   "metadata": {},
   "source": [
    "# Creating the train, validation and test sets "
   ]
  },
  {
   "cell_type": "markdown",
   "metadata": {},
   "source": [
    "## Feature list "
   ]
  },
  {
   "cell_type": "markdown",
   "metadata": {},
   "source": [
    "After the feature engineering steps and EDA we can define the final feature list which we will use in our models: "
   ]
  },
  {
   "cell_type": "code",
   "execution_count": 224,
   "metadata": {},
   "outputs": [],
   "source": [
    "# Initial list \n",
    "features = [\n",
    "    'bomb_planted',\n",
    "    'ct_health_share',\n",
    "    'ct_money_share',\n",
    "    'ct_players_alive',\n",
    "    't_players_alive',\n",
    "    'ct_defuse_kit_present',\n",
    "    'ct_helmets',\n",
    "    't_helmets'\n",
    "]"
   ]
  },
  {
   "cell_type": "markdown",
   "metadata": {},
   "source": [
    "**NOTE:** some of the features will be left out because of iterative inspection of model results and EDA."
   ]
  },
  {
   "cell_type": "code",
   "execution_count": 225,
   "metadata": {},
   "outputs": [],
   "source": [
    "# Creating dummy vars for the map feature\n",
    "map_df = pd.get_dummies(d['map'])\n",
    "\n",
    "# Map feature names \n",
    "map_features = map_df.columns.values.tolist()\n",
    "\n",
    "# Concatenating the map_df to original dataframe \n",
    "d = pd.concat([d, map_df], axis=1)\n",
    "\n",
    "# Adding the map features to the original feature list \n",
    "#features += map_features"
   ]
  },
  {
   "cell_type": "code",
   "execution_count": 226,
   "metadata": {},
   "outputs": [],
   "source": [
    "# Creating dummy vars for the team_score_diff features\n",
    "score_df = pd.get_dummies(d['team_score_diff'])\n",
    "\n",
    "# Score feature names \n",
    "score_df.columns = [f\"team_score_diff_in_{str(x)}\" for x in score_df.columns]\n",
    "score_features = score_df.columns.values.tolist()\n",
    "\n",
    "# Concatenating the map_df to original dataframe \n",
    "d = pd.concat([d, score_df], axis=1)\n",
    "\n",
    "# Adding the map features to the original feature list \n",
    "#features += score_features"
   ]
  },
  {
   "cell_type": "code",
   "execution_count": 227,
   "metadata": {},
   "outputs": [
    {
     "name": "stdout",
     "output_type": "stream",
     "text": [
      "Final feature list: \n",
      " \n",
      " ['bomb_planted', 'ct_health_share', 'ct_money_share', 'ct_players_alive', 't_players_alive', 'ct_defuse_kit_present', 'ct_helmets', 't_helmets'] \n",
      " \n",
      " Number of features: 8\n"
     ]
    }
   ],
   "source": [
    "print(f\"\"\"Final feature list: \\n \\n {features} \\n \\n Number of features: {len(features)}\"\"\")"
   ]
  },
  {
   "cell_type": "markdown",
   "metadata": {},
   "source": [
    "## Spliting the original dataset"
   ]
  },
  {
   "cell_type": "markdown",
   "metadata": {},
   "source": [
    "We will use 80% of the data to train the model, 10% for validating our model and search for hyper parameters and 10% of the data will be reserved for the test set. \n",
    "\n",
    "For reproducibility, we will set a random seed of **123**."
   ]
  },
  {
   "cell_type": "code",
   "execution_count": 228,
   "metadata": {},
   "outputs": [],
   "source": [
    "# Setting the seed \n",
    "seed = 123\n",
    "\n",
    "# Subseting the dataframe to the features needed + the target variable \n",
    "dsubset = d[features + ['Y']].copy()\n",
    "\n",
    "# Dropping missing values \n",
    "dsubset.dropna(inplace=True)\n",
    "\n",
    "# Reseting the indexz \n",
    "dsubset.reset_index(inplace=True, drop=True)\n",
    "\n",
    "# Spliting to train and test sets \n",
    "train, test = train_test_split(dsubset, test_size=0.2, random_state=seed)\n",
    "\n",
    "# Further spliting the test to test and validation sets \n",
    "test, val = train_test_split(test, test_size=0.5, random_state=seed)"
   ]
  },
  {
   "cell_type": "code",
   "execution_count": 229,
   "metadata": {},
   "outputs": [
    {
     "name": "stdout",
     "output_type": "stream",
     "text": [
      "Total number of rows of the dataset: 122409\n",
      "Rows in the train set: 97926\n",
      "Rows in the validation set: 12241\n",
      "Rows in the test set: 12241\n"
     ]
    }
   ],
   "source": [
    "print(f\"Total number of rows of the dataset: {d.shape[0]}\")\n",
    "print(f\"Rows in the train set: {train.shape[0]}\")\n",
    "print(f\"Rows in the validation set: {val.shape[0]}\")\n",
    "print(f\"Rows in the test set: {test.shape[0]}\")"
   ]
  },
  {
   "cell_type": "markdown",
   "metadata": {},
   "source": [
    "## Creating the X and Y matrices "
   ]
  },
  {
   "cell_type": "code",
   "execution_count": 230,
   "metadata": {},
   "outputs": [
    {
     "name": "stdout",
     "output_type": "stream",
     "text": [
      "Share of CT wins in training: 0.4892367706227151\n",
      "Share of CT wins in validation: 0.494812515317376\n",
      "Share of CT wins in testing: 0.4932603545461972\n"
     ]
    }
   ],
   "source": [
    "# Final matrices for training and validating models \n",
    "train_X, train_Y = train[features], train['Y']\n",
    "val_X, val_Y = val[features], val['Y']\n",
    "test_X, test_Y = test[features], test['Y']\n",
    "\n",
    "# Printing the stats about the distribution of Ys \n",
    "print(f\"Share of CT wins in training: {np.sum(train_Y) / len(train_Y)}\")\n",
    "print(f\"Share of CT wins in validation: {np.sum(val_Y) / len(val_Y)}\")\n",
    "print(f\"Share of CT wins in testing: {np.sum(test_Y) / len(test_Y)}\")"
   ]
  },
  {
   "cell_type": "markdown",
   "metadata": {},
   "source": [
    "# ML model creation "
   ]
  },
  {
   "cell_type": "markdown",
   "metadata": {},
   "source": [
    "## Performance metric for a binary classifier"
   ]
  },
  {
   "cell_type": "markdown",
   "metadata": {},
   "source": [
    "As was stated in the introduction of this book, when creating an ML model we need to have a performance metric to see how the model is performing and to measure how it improves over time. \n",
    "\n",
    "One of the most popular choice is the **area under the curve (AUC)** metric. The metric calculates the plot bellow the **receiver operating curve (ROC)**. \n",
    "\n",
    "The ROC curve plots the true positive (TP) and the false positive (FP) rates using different tresholds. "
   ]
  },
  {
   "cell_type": "markdown",
   "metadata": {},
   "source": [
    "## Logistic Regression model "
   ]
  },
  {
   "cell_type": "markdown",
   "metadata": {},
   "source": [
    "Logistic regression {cite}`100_page_ml` is used when we want to model the probability: \n",
    "\n",
    "$$P(\\mathbb{Y}|\\mathbb{X})$$\n",
    "\n",
    "The above probability reads as \"the probability of $\\mathbb{Y}$ given $\\mathbb{X}$\". In other words, how do the features in $\\mathbb{X}$ influence the event of $\\mathbb{Y}$? \n",
    "\n",
    "The full equation for the probability which we will be trying to fit to the given data is: \n",
    "\n",
    "$$ P(\\mathbb{Y}|\\mathbb{X}) = \\dfrac{1}{1 + e^{-\\mathbb{X} \\beta }}$$\n",
    "\n",
    "Where \n",
    "\n",
    "$\\mathbb{X}$ - a feature matrix of $n$ observations and $p$ features.  \n",
    "\n",
    "$\\beta$ - a vector of dimensions $p$ x 1.  \n",
    "\n",
    "In other words, we get a coefficient for each feature in the $\\mathbb{X}$ matrix. \n",
    "\n",
    "What is very helpful in logistic regression is that a negative coefficient for a given feature means that increasing the feature $x_{i}$ will lower the probability of a CT win. If a coefficient is positive, then increasing the $x_{i}$ value increases the probability of a CT win. \n",
    "\n",
    "This simple fact helps us in some quick sanity checks - the logic of the EDA analysis should hold in respect to coefficient values and signs."
   ]
  },
  {
   "cell_type": "markdown",
   "metadata": {},
   "source": [
    "### Fitting logistic regression "
   ]
  },
  {
   "cell_type": "markdown",
   "metadata": {},
   "source": [
    "#### Hyper parameter tuning"
   ]
  },
  {
   "cell_type": "markdown",
   "metadata": {},
   "source": [
    "We will try and find a combination of best hyper parameters from a given grid of parameters using the validation set. \n",
    "\n",
    "The full list of logistic regression HPs can be found here: https://scikit-learn.org/stable/modules/generated/sklearn.linear_model.LogisticRegression.html?highlight=logistic%20regression#sklearn.linear_model.LogisticRegression"
   ]
  },
  {
   "cell_type": "code",
   "execution_count": 231,
   "metadata": {},
   "outputs": [],
   "source": [
    "# Defining a list of hyperparameters \n",
    "hp_dict = {\n",
    "    'C': [0.1, 0.5, 1, 1.5, 2], \n",
    "    'max_iter': [1000], \n",
    "    'fit_intercept': [True],\n",
    "    'solver': ['liblinear'],\n",
    "    'penalty': ['l1', 'l2']\n",
    "}\n",
    "\n",
    "# Creating the hp grid \n",
    "hp_grid = ParameterGrid(hp_dict)"
   ]
  },
  {
   "cell_type": "code",
   "execution_count": 232,
   "metadata": {},
   "outputs": [
    {
     "name": "stderr",
     "output_type": "stream",
     "text": [
      "100%|██████████| 10/10 [00:08<00:00,  1.28it/s]\n"
     ]
    }
   ],
   "source": [
    "# Placeholders for the iteration\n",
    "auc_val_best = 0 \n",
    "best_hp = {}\n",
    "results = pd.DataFrame({})\n",
    "\n",
    "# Iterating through all the parameters and evaluating the results \n",
    "for i, hp in enumerate(tqdm(hp_grid)): \n",
    "    # Initiating the empty model/classifier \n",
    "    clf = LogisticRegression(**hp)\n",
    "\n",
    "    # Fitting on data \n",
    "    clf.fit(train_X, train_Y)\n",
    "\n",
    "    # Predicting on the validation set \n",
    "    yhat_val = [x[1] for x in clf.predict_proba(val_X)]\n",
    "\n",
    "    # Calculating the AUC metric \n",
    "    auc_val = roc_auc_score(val_Y, yhat_val)\n",
    "\n",
    "    # Adding to the results frame \n",
    "    hp_results = pd.DataFrame(hp, index=[i])\n",
    "    hp_results['auc'] = auc_val\n",
    "    results = results.append(hp_results)\n",
    "\n",
    "    # Checking if this is the highest auc \n",
    "    if auc_val > auc_val_best:\n",
    "        auc_val_best = auc_val \n",
    "        best_hp = hp \n",
    "\n",
    "# Sorting by the AUC score \n",
    "results.sort_values('auc', ascending=False, inplace=True)"
   ]
  },
  {
   "cell_type": "code",
   "execution_count": 233,
   "metadata": {},
   "outputs": [
    {
     "name": "stdout",
     "output_type": "stream",
     "text": [
      "     C  fit_intercept  max_iter penalty     solver       auc\n",
      "6  1.5           True      1000      l1  liblinear  0.826498\n",
      "8  2.0           True      1000      l1  liblinear  0.826498\n",
      "2  0.5           True      1000      l1  liblinear  0.826496\n",
      "4  1.0           True      1000      l1  liblinear  0.826494\n",
      "9  2.0           True      1000      l2  liblinear  0.826492\n",
      "7  1.5           True      1000      l2  liblinear  0.826489\n",
      "5  1.0           True      1000      l2  liblinear  0.826483\n",
      "0  0.1           True      1000      l1  liblinear  0.826458\n",
      "3  0.5           True      1000      l2  liblinear  0.826447\n",
      "1  0.1           True      1000      l2  liblinear  0.826288\n"
     ]
    }
   ],
   "source": [
    "# Printing out the results frame \n",
    "print(results)"
   ]
  },
  {
   "cell_type": "code",
   "execution_count": 234,
   "metadata": {},
   "outputs": [
    {
     "name": "stdout",
     "output_type": "stream",
     "text": [
      "Best hp: {'C': 1.5, 'fit_intercept': True, 'max_iter': 1000, 'penalty': 'l1', 'solver': 'liblinear'}\n"
     ]
    }
   ],
   "source": [
    "# Printing out the best hyper parameter dictionary\n",
    "print(f\"Best hp: {best_hp}\")                                               "
   ]
  },
  {
   "cell_type": "markdown",
   "metadata": {},
   "source": [
    "#### Testing the results on the test set "
   ]
  },
  {
   "cell_type": "markdown",
   "metadata": {},
   "source": [
    "Now that we have the best parameters according to the validation set, we can checkout the performance on the test set. \n",
    "\n",
    "The test set should be used as the final performance evaluation before deciding whether the model is sufficient or not. "
   ]
  },
  {
   "cell_type": "code",
   "execution_count": 235,
   "metadata": {},
   "outputs": [
    {
     "name": "stdout",
     "output_type": "stream",
     "text": [
      "The AUC score on the test set: 0.8308107708624035\n",
      "Test precision: 0.7376387487386479\n",
      "Test recall: 0.7263994700231865\n"
     ]
    }
   ],
   "source": [
    "# Creating the \"best model\"\n",
    "clf = LogisticRegression(**best_hp)\n",
    "clf.fit(train_X, train_Y)\n",
    "\n",
    "# Predicting on the test set \n",
    "yhat_test = [x[1] for x in clf.predict_proba(test_X)]\n",
    "\n",
    "# Getting the auc score \n",
    "test_auc = roc_auc_score(test_Y, yhat_test)\n",
    "\n",
    "# Creating the binary responses \n",
    "yhat_test_binary = [1 if x > 0.5 else 0 for x in yhat_test]\n",
    "\n",
    "# Calculating the precision and recall \n",
    "precision = precision_score(test_Y, yhat_test_binary)\n",
    "recall = recall_score(test_Y, yhat_test_binary)\n",
    "\n",
    "# Printing the results \n",
    "print(f\"The AUC score on the test set: {test_auc}\")\n",
    "print(f\"Test precision: {precision}\")\n",
    "print(f\"Test recall: {recall}\")"
   ]
  },
  {
   "cell_type": "code",
   "execution_count": 236,
   "metadata": {},
   "outputs": [
    {
     "data": {
      "image/png": "[encoded data removed]",
      "text/plain": [
       "<Figure size 648x504 with 1 Axes>"
      ]
     },
     "metadata": {
      "needs_background": "light"
     },
     "output_type": "display_data"
    }
   ],
   "source": [
    "# Calculating the false positive rate and true positive rate for all the tresholds\n",
    "fpr_logistic, tpr_logistic, _ = roc_curve(test_Y, yhat_test)\n",
    "\n",
    "# Plot the roc curve for the model\n",
    "plt.figure(figsize=(9, 7))\n",
    "plt.plot(fpr_logistic, tpr_logistic, marker='.', label='Logistic')\n",
    "plt.plot([0, 1], [0, 1], color = 'black', linewidth = 1, linestyle='--', label='Random guessing')\n",
    "\n",
    "plt.xlabel('False Positive Rate')\n",
    "plt.ylabel('True Positive Rate')\n",
    "\n",
    "plt.legend()\n",
    "plt.show()"
   ]
  },
  {
   "cell_type": "markdown",
   "metadata": {},
   "source": [
    "### Logistic regression coefficients "
   ]
  },
  {
   "cell_type": "code",
   "execution_count": 237,
   "metadata": {},
   "outputs": [
    {
     "name": "stdout",
     "output_type": "stream",
     "text": [
      "                 feature  coefficient\n",
      "8              intercept    -3.139730\n",
      "0           bomb_planted    -1.282128\n",
      "4        t_players_alive    -0.623329\n",
      "2         ct_money_share    -0.442730\n",
      "7              t_helmets    -0.343522\n",
      "6             ct_helmets     0.320390\n",
      "5  ct_defuse_kit_present     0.603071\n",
      "3       ct_players_alive     0.742137\n",
      "1        ct_health_share     5.366432\n"
     ]
    }
   ],
   "source": [
    "# Creating the coefficient frame \n",
    "coef_frame = pd.DataFrame({\n",
    "    'feature': clf.feature_names_in_.tolist() + ['intercept'],\n",
    "    'coefficient': clf.coef_[0].tolist() + [clf.intercept_[0]]\n",
    "    })\n",
    "\n",
    "# Sorting by coefficient value \n",
    "coef_frame.sort_values('coefficient', inplace=True)\n",
    "\n",
    "# Printing the coef frame \n",
    "print(coef_frame)"
   ]
  },
  {
   "cell_type": "code",
   "execution_count": 238,
   "metadata": {},
   "outputs": [
    {
     "data": {
      "image/png": "[encoded data removed]",
      "text/plain": [
       "<Figure size 720x504 with 1 Axes>"
      ]
     },
     "metadata": {
      "needs_background": "light"
     },
     "output_type": "display_data"
    }
   ],
   "source": [
    "plt.figure(figsize=(10, 7))\n",
    "plt.barh(coef_frame['feature'], coef_frame['coefficient'], edgecolor='black')\n",
    "plt.xlabel('Coefficient value')\n",
    "plt.ylabel('Feature')\n",
    "plt.title(\"Logistic regression coefficients\")\n",
    "plt.show()"
   ]
  },
  {
   "cell_type": "markdown",
   "metadata": {},
   "source": [
    "As we can see, all the coefficient values have the same logic as in the EDA phase. This proves that the feature engineering we have done and the model fitting phase was correct. "
   ]
  },
  {
   "cell_type": "markdown",
   "metadata": {},
   "source": [
    "## Xgboost model"
   ]
  },
  {
   "cell_type": "markdown",
   "metadata": {},
   "source": [
    "Xgboost stands for extreme gradient boosting. It is not as interpratable as logistic regression but is much more flexible and in practise has proven time and time again that it gives better results than logistic regression. "
   ]
  },
  {
   "cell_type": "markdown",
   "metadata": {},
   "source": [
    "### Hyperparameter tuning for xgboost"
   ]
  },
  {
   "cell_type": "code",
   "execution_count": 239,
   "metadata": {},
   "outputs": [],
   "source": [
    "# Defining a list of hyperparameters \n",
    "hp_dict = {\n",
    "    'n_estimators': [60, 90, 120], \n",
    "    'max_depth': [4, 6, 8], \n",
    "    'eval_metric': ['logloss'],\n",
    "    'use_label_encoder': [False]\n",
    "}\n",
    "\n",
    "# Creating the hp grid \n",
    "hp_grid = ParameterGrid(hp_dict)"
   ]
  },
  {
   "cell_type": "code",
   "execution_count": 240,
   "metadata": {},
   "outputs": [
    {
     "name": "stderr",
     "output_type": "stream",
     "text": [
      "100%|██████████| 9/9 [00:24<00:00,  3.99s/it]\n"
     ]
    }
   ],
   "source": [
    "# Placeholders for the iteration\n",
    "auc_val_best = 0 \n",
    "best_hp = {}\n",
    "results = pd.DataFrame({})\n",
    "\n",
    "# Iterating through all the parameters and evaluating the results \n",
    "for i, hp in enumerate(tqdm(hp_grid)): \n",
    "    # Initiating the empty model/classifier \n",
    "    clf = xgb.XGBClassifier(**hp)\n",
    "\n",
    "    # Fitting on data \n",
    "    clf.fit(train_X, train_Y)\n",
    "\n",
    "    # Predicting on the validation set \n",
    "    yhat_val = [x[1] for x in clf.predict_proba(val_X)]\n",
    "\n",
    "    # Calculating the AUC metric \n",
    "    auc_val = roc_auc_score(val_Y, yhat_val)\n",
    "\n",
    "    # Adding to the results frame \n",
    "    hp_results = pd.DataFrame(hp, index=[i])\n",
    "    hp_results['auc'] = auc_val\n",
    "    results = results.append(hp_results)\n",
    "\n",
    "    # Checking if this is the highest auc \n",
    "    if auc_val > auc_val_best:\n",
    "        auc_val_best = auc_val \n",
    "        best_hp = hp \n",
    "\n",
    "# Sorting by the AUC score \n",
    "results.sort_values('auc', ascending=False, inplace=True)"
   ]
  },
  {
   "cell_type": "code",
   "execution_count": 241,
   "metadata": {},
   "outputs": [
    {
     "name": "stdout",
     "output_type": "stream",
     "text": [
      "  eval_metric  max_depth  n_estimators  use_label_encoder       auc\n",
      "8     logloss          8           120              False  0.866778\n",
      "7     logloss          8            90              False  0.864262\n",
      "6     logloss          8            60              False  0.860825\n",
      "5     logloss          6           120              False  0.859318\n",
      "4     logloss          6            90              False  0.857546\n",
      "3     logloss          6            60              False  0.853335\n",
      "2     logloss          4           120              False  0.851151\n",
      "1     logloss          4            90              False  0.849896\n",
      "0     logloss          4            60              False  0.849032\n"
     ]
    }
   ],
   "source": [
    "# Printing out the results frame \n",
    "print(results)"
   ]
  },
  {
   "cell_type": "code",
   "execution_count": 242,
   "metadata": {},
   "outputs": [
    {
     "name": "stdout",
     "output_type": "stream",
     "text": [
      "Best hp: {'eval_metric': 'logloss', 'max_depth': 8, 'n_estimators': 120, 'use_label_encoder': False}\n"
     ]
    }
   ],
   "source": [
    "# Printing out the best hyper parameter dictionary\n",
    "print(f\"Best hp: {best_hp}\")"
   ]
  },
  {
   "cell_type": "markdown",
   "metadata": {},
   "source": [
    "### Results on the test set "
   ]
  },
  {
   "cell_type": "code",
   "execution_count": 243,
   "metadata": {},
   "outputs": [
    {
     "name": "stdout",
     "output_type": "stream",
     "text": [
      "The AUC score on the test set: 0.87170615442837\n",
      "Test precision: 0.7496192506853487\n",
      "Test recall: 0.8151705862868499\n"
     ]
    }
   ],
   "source": [
    "# Creating the \"best model\"\n",
    "clf = xgb.XGBClassifier(**best_hp)\n",
    "clf.fit(train_X, train_Y)\n",
    "\n",
    "# Predicting on the test set \n",
    "yhat_test = [x[1] for x in clf.predict_proba(test_X)]\n",
    "\n",
    "# Getting the auc score \n",
    "test_auc = roc_auc_score(test_Y, yhat_test)\n",
    "\n",
    "# Creating the binary responses \n",
    "yhat_test_binary = [1 if x > 0.5 else 0 for x in yhat_test]\n",
    "\n",
    "# Calculating the precision and recall \n",
    "precision = precision_score(test_Y, yhat_test_binary)\n",
    "recall = recall_score(test_Y, yhat_test_binary)\n",
    "\n",
    "# Printing the results \n",
    "print(f\"The AUC score on the test set: {test_auc}\")\n",
    "print(f\"Test precision: {precision}\")\n",
    "print(f\"Test recall: {recall}\")"
   ]
  },
  {
   "cell_type": "code",
   "execution_count": 244,
   "metadata": {},
   "outputs": [
    {
     "data": {
      "image/png": "[encoded data removed]",
      "text/plain": [
       "<Figure size 648x504 with 1 Axes>"
      ]
     },
     "metadata": {
      "needs_background": "light"
     },
     "output_type": "display_data"
    }
   ],
   "source": [
    "# Calculating the false positive rate and true positive rate for all the tresholds\n",
    "fpr_xgb, tpr_xgb, _ = roc_curve(test_Y, yhat_test)\n",
    "\n",
    "# Plot the roc curve for the model\n",
    "plt.figure(figsize=(9, 7))\n",
    "plt.plot(fpr_logistic, tpr_logistic, marker='.', label='Logistic')\n",
    "plt.plot(fpr_xgb, tpr_xgb, marker='.', label='Xgboost')\n",
    "plt.plot([0, 1], [0, 1], color = 'black', linewidth = 1, linestyle='--', label='Random guessing')\n",
    "\n",
    "plt.xlabel('False Positive Rate')\n",
    "plt.ylabel('True Positive Rate')\n",
    "\n",
    "plt.legend()\n",
    "plt.show()"
   ]
  },
  {
   "cell_type": "markdown",
   "metadata": {},
   "source": [
    "All the metrics, both in the validation set and test set, are better for xgboost. Thus, we will save the model and use it for later. "
   ]
  },
  {
   "cell_type": "code",
   "execution_count": 193,
   "metadata": {},
   "outputs": [],
   "source": [
    "\n",
    "# Creating a directory to save the model objects \n",
    "_dir_name = os.path.join(\"..\", \"ml_models\")\n",
    "if not os.path.exists(_dir_name):\n",
    "    os.mkdir(_dir_name)\n",
    "\n",
    "_model_path = os.path.join(_dir_name, \"ml-model.pkl\")\n",
    "\n",
    "# Saving the model \n",
    "pickle.dump(clf, open(_model_path, \"wb\"))\n",
    "\n",
    "# Saving the features for future use \n",
    "_feature_path = os.path.join(_dir_name, \"ml-features.json\")\n",
    "with open(_feature_path, 'w') as f:\n",
    "    json.dump(train_X.dtypes.astype(str).to_dict(), f)"
   ]
  },
  {
   "cell_type": "markdown",
   "metadata": {},
   "source": [
    "# Job well done. Right? "
   ]
  },
  {
   "cell_type": "markdown",
   "metadata": {},
   "source": [
    "So we have done our analysis, did a bunch of feature engineering, compared the baseline model to a more powerful one and saved the best model to a file. Alot of data scientists would pat themselves on the back and call it a day. But a true data engineer would ask the following questions:\n",
    "\n",
    "* How will anybody reproduce these results in the future?\n",
    "* How can my colleagues use this model? \n",
    "* How can the business clients use this model? \n",
    "* How to add new features to the model, if everyone is already using it? \n",
    "* How to know, how many times and what kind of inputs were given to the created model? \n",
    "\n",
    "And much more. "
   ]
  }
 ],
 "metadata": {
  "interpreter": {
   "hash": "702d029752c7c667e866081f4be82ec9765259a2e8484bced05e549319c2e426"
  },
  "kernelspec": {
   "display_name": "Python 3.8.10 64-bit ('api_book': venv)",
   "name": "python3"
  },
  "language_info": {
   "codemirror_mode": {
    "name": "ipython",
    "version": 3
   },
   "file_extension": ".py",
   "mimetype": "text/x-python",
   "name": "python",
   "nbconvert_exporter": "python",
   "pygments_lexer": "ipython3",
   "version": "3.8.10"
  }
 },
 "nbformat": 4,
 "nbformat_minor": 5
}
