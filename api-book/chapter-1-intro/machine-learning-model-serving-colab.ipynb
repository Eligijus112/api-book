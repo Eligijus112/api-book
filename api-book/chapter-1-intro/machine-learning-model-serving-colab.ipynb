{
 "cells": [
  {
   "cell_type": "markdown",
   "metadata": {},
   "source": [
    "# Simulating the ML model serving "
   ]
  },
  {
   "cell_type": "markdown",
   "metadata": {},
   "source": [
    "This notebook is used to simulate the serving of the ML model with an interactive input. "
   ]
  },
  {
   "cell_type": "markdown",
   "metadata": {},
   "source": [
    "# Python packages "
   ]
  },
  {
   "cell_type": "code",
   "execution_count": 1,
   "metadata": {},
   "outputs": [],
   "source": [
    "# Json reading \n",
    "import json \n",
    "\n",
    "# Pickle reading \n",
    "import pickle\n",
    "\n",
    "# Operating system functionality \n",
    "import os \n",
    "\n",
    "# Input simulation \n",
    "from ipywidgets import interactive, widgets, interact\n",
    "from IPython.display import display\n",
    "\n",
    "# Data wrangling \n",
    "import pandas as pd "
   ]
  },
  {
   "cell_type": "markdown",
   "metadata": {},
   "source": [
    "# Reading the necesary objects "
   ]
  },
  {
   "cell_type": "code",
   "execution_count": 2,
   "metadata": {},
   "outputs": [
    {
     "name": "stdout",
     "output_type": "stream",
     "text": [
      "{'bomb_planted': 'int64', 'ct_health_share': 'float64', 'ct_players_alive': 'float64', 't_players_alive': 'float64', 'ct_defuse_kit_present': 'int64', 'ct_helmets': 'float64', 't_helmets': 'float64'}\n"
     ]
    }
   ],
   "source": [
    "# Saving the path to the ML folder \n",
    "_ml_folder = os.path.join(\"..\", 'ml_models')\n",
    "_ml_model_path = os.path.join(_ml_folder, \"ml-model-lr.pkl\")\n",
    "_ml_features_path = os.path.join(_ml_folder, \"ml-features.json\")\n",
    "\n",
    "# Reading the model object \n",
    "model = pickle.load(open(_ml_model_path, 'rb'))\n",
    "features = json.load(open(_ml_features_path, 'rb'))\n",
    "\n",
    "# Printing out the features \n",
    "print(features)"
   ]
  },
  {
   "cell_type": "code",
   "execution_count": 4,
   "metadata": {},
   "outputs": [],
   "source": [
    "# Defining the input preparation function \n",
    "def prepare_input(raw_input_dict: dict, features: dict) -> pd.DataFrame:\n",
    "    \"\"\"\n",
    "    Function that accepts the raw input dictionary and the features dictionary and returns a pandas dataframe with the input prepared for the model.\n",
    "    \"\"\"\n",
    "    # Extracting the key names \n",
    "    feature_names = list(raw_input_dict.keys())\n",
    "    original_feature_names = list(features.keys())\n",
    "\n",
    "    # Ensuring that all the keys present in **features** are in **raw_input_dict**\n",
    "    missing_features = set(original_feature_names) - set(feature_names)\n",
    "    if len(missing_features): \n",
    "        return print(f\"Missing features in input: {missing_features}\")\n",
    "\n",
    "    # Iterating and preprocesing \n",
    "    prepared_features = {}\n",
    "    for feature in feature_names:\n",
    "        # Extracting the type of the feature \n",
    "        feature_type = features.get(feature) \n",
    "\n",
    "        # Converting to that type \n",
    "        feature_value = raw_input_dict.get(feature)\n",
    "        \n",
    "        if feature_type == \"float64\":\n",
    "            feature_value = float(feature_value) \n",
    "        \n",
    "        if feature_type == \"int64\":\n",
    "            feature_value = int(feature_value)\n",
    "\n",
    "        # Saving to the prepared features dictionary\n",
    "        prepared_features[feature] = feature_value \n",
    "    \n",
    "    # Creating a dataframe from the prepared features \n",
    "    df = pd.DataFrame(prepared_features, index=[0])\n",
    "\n",
    "    # Ensuring that the names are in the exact order \n",
    "    df = df[original_feature_names]\n",
    "\n",
    "    # Returning the dataframe \n",
    "    return df \n"
   ]
  },
  {
   "cell_type": "markdown",
   "metadata": {},
   "source": [
    "# Interactive serving "
   ]
  },
  {
   "cell_type": "markdown",
   "metadata": {},
   "source": [
    "## Defining the input widgets"
   ]
  },
  {
   "cell_type": "code",
   "execution_count": 8,
   "metadata": {},
   "outputs": [],
   "source": [
    "# Boolean for bomb planting event \n",
    "bomb_planted_widget = widgets.Checkbox(\n",
    "    value=False,\n",
    "    description='Has the bomb been planted?',\n",
    "    disabled=False\n",
    ")\n",
    "\n",
    "# Boolean for the presence of the difusal kit\n",
    "ct_defuse_kit_present_widget = widgets.Checkbox(\n",
    "    value=False,\n",
    "    description='Is there a difusal kit present in CT team?',\n",
    "    disabled=False\n",
    ")\n",
    "\n",
    "# CT health share of total; the range is (0, 1.0)\n",
    "ct_health_share_widget = widgets.FloatSlider(value=0.5, min=0.0, max=1.0, step=0.05, description='CT health share of total')\n",
    "\n",
    "# Count of CT and T players which are alive\n",
    "ct_players_alive_widget = widgets.Dropdown(\n",
    "    options=list(range(0, 6, 1)),\n",
    "    value=3,\n",
    "    description='The number of alive CT players',\n",
    "    disabled=False,\n",
    ")\n",
    "\n",
    "t_players_alive_widget = widgets.Dropdown(\n",
    "    options=list(range(0, 6, 1)),\n",
    "    value=3,\n",
    "    description='The number of alive T players',\n",
    "    disabled=False,\n",
    ")\n",
    "\n",
    "# Number of helmets in a team \n",
    "ct_helmets_widget = widgets.Dropdown(\n",
    "    options=list(range(0, 6, 1)),\n",
    "    value=3,\n",
    "    description='CT helmets',\n",
    "    disabled=False,\n",
    ")\n",
    "\n",
    "t_helmets_widget = widgets.Dropdown(\n",
    "    options=list(range(0, 6, 1)),\n",
    "    value=3,\n",
    "    description='T helmets',\n",
    "    disabled=False,\n",
    ")\n"
   ]
  },
  {
   "cell_type": "markdown",
   "metadata": {},
   "source": [
    "## Simulation function"
   ]
  },
  {
   "cell_type": "code",
   "execution_count": 9,
   "metadata": {},
   "outputs": [],
   "source": [
    "def get_prob(\n",
    "    bomb_planted, \n",
    "    ct_defuse_kit_present,\n",
    "    ct_health_share,\n",
    "    ct_players_alive,\n",
    "    t_players_alive,\n",
    "    ct_helmets, \n",
    "    t_helmets\n",
    "    ):\n",
    "    \"\"\"\n",
    "    Interactive session to experiment with the created ML model \n",
    "    \"\"\"\n",
    "    # Creating the raw input dictionary \n",
    "    raw_input = {\n",
    "        \"bomb_planted\": bomb_planted,\n",
    "        \"ct_defuse_kit_present\": ct_defuse_kit_present,\n",
    "        \"ct_health_share\": ct_health_share, \n",
    "        \"ct_players_alive\": ct_players_alive,\n",
    "        \"t_players_alive\": t_players_alive,\n",
    "        \"ct_helmets\": ct_helmets,\n",
    "        \"t_helmets\": t_helmets\n",
    "    }\n",
    "\n",
    "    # Preparing the input for the model feature importance plot xgboost\n",
    "    raw_input_df = prepare_input(raw_input, features)\n",
    "\n",
    "    # Getting the probabilities \n",
    "    p = model.predict_proba(raw_input_df)[0]\n",
    "    p_win = round(p[1], 3)\n",
    "\n",
    "    # Returning the probabilities \n",
    "    print(f\"Probability of CT winning: {p_win}\")"
   ]
  },
  {
   "cell_type": "markdown",
   "metadata": {},
   "source": [
    "## Simulation application "
   ]
  },
  {
   "cell_type": "code",
   "execution_count": 10,
   "metadata": {},
   "outputs": [
    {
     "data": {
      "application/vnd.jupyter.widget-view+json": {
       "model_id": "00de763eb228400185036b6ccc4197dc",
       "version_major": 2,
       "version_minor": 0
      },
      "text/plain": [
       "interactive(children=(Checkbox(value=False, description='Has the bomb been planted?'), Checkbox(value=False, d…"
      ]
     },
     "metadata": {},
     "output_type": "display_data"
    }
   ],
   "source": [
    "# Making the interactive session \n",
    "prob_widget = interactive(\n",
    "    get_prob, \n",
    "    bomb_planted=bomb_planted_widget, \n",
    "    ct_defuse_kit_present=ct_defuse_kit_present_widget,\n",
    "    ct_health_share=ct_health_share_widget,\n",
    "    ct_players_alive=ct_players_alive_widget,\n",
    "    t_players_alive=t_players_alive_widget,\n",
    "    ct_helmets=ct_helmets_widget,\n",
    "    t_helmets=t_helmets_widget,\n",
    ")\n",
    "\n",
    "# Displaying the widget \n",
    "prob_widget"
   ]
  }
 ],
 "metadata": {
  "interpreter": {
   "hash": "702d029752c7c667e866081f4be82ec9765259a2e8484bced05e549319c2e426"
  },
  "kernelspec": {
   "display_name": "Python 3.8.10 64-bit ('api_book': venv)",
   "name": "python3"
  },
  "language_info": {
   "codemirror_mode": {
    "name": "ipython",
    "version": 3
   },
   "file_extension": ".py",
   "mimetype": "text/x-python",
   "name": "python",
   "nbconvert_exporter": "python",
   "pygments_lexer": "ipython3",
   "version": "3.8.10"
  },
  "orig_nbformat": 4
 },
 "nbformat": 4,
 "nbformat_minor": 2
}
